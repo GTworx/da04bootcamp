{
 "cells": [
  {
   "cell_type": "markdown",
   "id": "c63c515d",
   "metadata": {},
   "source": [
    "# Python Ilk Ders\n",
    "## Temel Kodlar\n",
    "\n",
    "* Listeler"
   ]
  },
  {
   "cell_type": "markdown",
   "id": "303859c8",
   "metadata": {},
   "source": [
    "# Hi All\n",
    "\n",
    " * We are learning Python with Jupyter Notebook"
   ]
  },
  {
   "cell_type": "markdown",
   "id": "ff854672",
   "metadata": {},
   "source": [
    "### SECTION : INTRO"
   ]
  },
  {
   "cell_type": "code",
   "execution_count": 2,
   "id": "0e2d1f3b",
   "metadata": {},
   "outputs": [
    {
     "data": {
      "text/plain": [
       "6"
      ]
     },
     "execution_count": 2,
     "metadata": {},
     "output_type": "execute_result"
    }
   ],
   "source": [
    "# The first code\n",
    "\n",
    "3+3 "
   ]
  },
  {
   "cell_type": "code",
   "execution_count": 3,
   "id": "ba9c3e98",
   "metadata": {},
   "outputs": [
    {
     "data": {
      "text/plain": [
       "1.3333333333333333"
      ]
     },
     "execution_count": 3,
     "metadata": {},
     "output_type": "execute_result"
    }
   ],
   "source": [
    "4/3"
   ]
  },
  {
   "cell_type": "code",
   "execution_count": 4,
   "id": "2c36f349",
   "metadata": {},
   "outputs": [
    {
     "data": {
      "text/plain": [
       "str"
      ]
     },
     "execution_count": 4,
     "metadata": {},
     "output_type": "execute_result"
    }
   ],
   "source": [
    "type(\"miuul\")"
   ]
  },
  {
   "cell_type": "code",
   "execution_count": 5,
   "id": "a472128d",
   "metadata": {},
   "outputs": [
    {
     "data": {
      "text/plain": [
       "float"
      ]
     },
     "execution_count": 5,
     "metadata": {},
     "output_type": "execute_result"
    }
   ],
   "source": [
    "type(4/3)"
   ]
  },
  {
   "cell_type": "code",
   "execution_count": 6,
   "id": "dcc250db",
   "metadata": {},
   "outputs": [],
   "source": [
    "f = 6"
   ]
  },
  {
   "cell_type": "code",
   "execution_count": 7,
   "id": "a33b4ba4",
   "metadata": {},
   "outputs": [
    {
     "data": {
      "text/plain": [
       "6"
      ]
     },
     "execution_count": 7,
     "metadata": {},
     "output_type": "execute_result"
    }
   ],
   "source": [
    "f"
   ]
  },
  {
   "cell_type": "code",
   "execution_count": 8,
   "id": "d0b97186",
   "metadata": {},
   "outputs": [
    {
     "data": {
      "text/plain": [
       "int"
      ]
     },
     "execution_count": 8,
     "metadata": {},
     "output_type": "execute_result"
    }
   ],
   "source": [
    "type(f)"
   ]
  },
  {
   "cell_type": "code",
   "execution_count": 9,
   "id": "de78969d",
   "metadata": {},
   "outputs": [
    {
     "data": {
      "text/plain": [
       "1.3333333333333333"
      ]
     },
     "execution_count": 9,
     "metadata": {},
     "output_type": "execute_result"
    }
   ],
   "source": [
    "# Step by step\n",
    "\n",
    "4/3"
   ]
  },
  {
   "cell_type": "code",
   "execution_count": 10,
   "id": "721fb3c5",
   "metadata": {},
   "outputs": [
    {
     "data": {
      "text/plain": [
       "3.2"
      ]
     },
     "execution_count": 10,
     "metadata": {},
     "output_type": "execute_result"
    }
   ],
   "source": [
    "# Value\n",
    "\n",
    "3.2"
   ]
  },
  {
   "cell_type": "code",
   "execution_count": 11,
   "id": "899b2ee8",
   "metadata": {},
   "outputs": [
    {
     "data": {
      "text/plain": [
       "str"
      ]
     },
     "execution_count": 11,
     "metadata": {},
     "output_type": "execute_result"
    }
   ],
   "source": [
    "# Invalid  Variable\n",
    "\n",
    "type(\"chrhrhshshthth\")"
   ]
  },
  {
   "cell_type": "code",
   "execution_count": 12,
   "id": "2c1fade2",
   "metadata": {},
   "outputs": [
    {
     "data": {
      "text/plain": [
       "'a'"
      ]
     },
     "execution_count": 12,
     "metadata": {},
     "output_type": "execute_result"
    }
   ],
   "source": [
    "'a'"
   ]
  },
  {
   "cell_type": "code",
   "execution_count": 13,
   "id": "1bddbd77",
   "metadata": {},
   "outputs": [
    {
     "data": {
      "text/plain": [
       "3"
      ]
     },
     "execution_count": 13,
     "metadata": {},
     "output_type": "execute_result"
    }
   ],
   "source": [
    "# Variable\n",
    "\n",
    "a=3\n",
    "\n",
    "a"
   ]
  },
  {
   "cell_type": "code",
   "execution_count": 14,
   "id": "7c162dad",
   "metadata": {},
   "outputs": [
    {
     "data": {
      "text/plain": [
       "90"
      ]
     },
     "execution_count": 14,
     "metadata": {},
     "output_type": "execute_result"
    }
   ],
   "source": [
    "9*10"
   ]
  },
  {
   "cell_type": "code",
   "execution_count": 15,
   "id": "1f588e88",
   "metadata": {},
   "outputs": [
    {
     "ename": "NameError",
     "evalue": "name 'b' is not defined",
     "output_type": "error",
     "traceback": [
      "\u001b[1;31m---------------------------------------------------------------------------\u001b[0m",
      "\u001b[1;31mNameError\u001b[0m                                 Traceback (most recent call last)",
      "Cell \u001b[1;32mIn[15], line 1\u001b[0m\n\u001b[1;32m----> 1\u001b[0m a\u001b[38;5;241m*\u001b[39m\u001b[43mb\u001b[49m\n",
      "\u001b[1;31mNameError\u001b[0m: name 'b' is not defined"
     ]
    }
   ],
   "source": [
    "a*b"
   ]
  },
  {
   "cell_type": "code",
   "execution_count": 16,
   "id": "db91a115",
   "metadata": {},
   "outputs": [],
   "source": [
    "# BASE..."
   ]
  },
  {
   "cell_type": "code",
   "execution_count": 17,
   "id": "b401ee6b",
   "metadata": {},
   "outputs": [],
   "source": [
    "a = 9\n",
    "\n",
    "b = 10"
   ]
  },
  {
   "cell_type": "code",
   "execution_count": 18,
   "id": "6a9529d1",
   "metadata": {},
   "outputs": [
    {
     "data": {
      "text/plain": [
       "90"
      ]
     },
     "execution_count": 18,
     "metadata": {},
     "output_type": "execute_result"
    }
   ],
   "source": [
    "a * b"
   ]
  },
  {
   "cell_type": "code",
   "execution_count": 19,
   "id": "12a77d22",
   "metadata": {},
   "outputs": [
    {
     "data": {
      "text/plain": [
       "19"
      ]
     },
     "execution_count": 19,
     "metadata": {},
     "output_type": "execute_result"
    }
   ],
   "source": [
    "a + b"
   ]
  },
  {
   "cell_type": "code",
   "execution_count": 20,
   "id": "61ede759",
   "metadata": {},
   "outputs": [
    {
     "ename": "NameError",
     "evalue": "name 'c' is not defined",
     "output_type": "error",
     "traceback": [
      "\u001b[1;31m---------------------------------------------------------------------------\u001b[0m",
      "\u001b[1;31mNameError\u001b[0m                                 Traceback (most recent call last)",
      "Cell \u001b[1;32mIn[20], line 1\u001b[0m\n\u001b[1;32m----> 1\u001b[0m \u001b[43mc\u001b[49m\u001b[38;5;241m+\u001b[39md\n",
      "\u001b[1;31mNameError\u001b[0m: name 'c' is not defined"
     ]
    }
   ],
   "source": [
    "c+d"
   ]
  },
  {
   "cell_type": "code",
   "execution_count": 21,
   "id": "5f277cd9",
   "metadata": {},
   "outputs": [
    {
     "data": {
      "text/plain": [
       "'Python'"
      ]
     },
     "execution_count": 21,
     "metadata": {},
     "output_type": "execute_result"
    }
   ],
   "source": [
    "\"Python\""
   ]
  },
  {
   "cell_type": "code",
   "execution_count": 22,
   "id": "af6170af",
   "metadata": {},
   "outputs": [],
   "source": [
    "a= 3\n",
    "b = \"DA Bootcamp\""
   ]
  },
  {
   "cell_type": "code",
   "execution_count": 23,
   "id": "81710485",
   "metadata": {},
   "outputs": [
    {
     "data": {
      "text/plain": [
       "'DA BootcampDA BootcampDA Bootcamp'"
      ]
     },
     "execution_count": 23,
     "metadata": {},
     "output_type": "execute_result"
    }
   ],
   "source": [
    "a*b"
   ]
  },
  {
   "cell_type": "code",
   "execution_count": 24,
   "id": "796963f6",
   "metadata": {},
   "outputs": [
    {
     "data": {
      "text/plain": [
       "'DA BOOTCAMP'"
      ]
     },
     "execution_count": 24,
     "metadata": {},
     "output_type": "execute_result"
    }
   ],
   "source": [
    "b.upper()"
   ]
  },
  {
   "cell_type": "code",
   "execution_count": 25,
   "id": "e150e7ae",
   "metadata": {},
   "outputs": [
    {
     "data": {
      "text/plain": [
       "2"
      ]
     },
     "execution_count": 25,
     "metadata": {},
     "output_type": "execute_result"
    }
   ],
   "source": [
    "b.upper().lower().count(\"a\")"
   ]
  },
  {
   "cell_type": "code",
   "execution_count": 26,
   "id": "5757f13f",
   "metadata": {},
   "outputs": [
    {
     "data": {
      "text/plain": [
       "'da bootcamp'"
      ]
     },
     "execution_count": 26,
     "metadata": {},
     "output_type": "execute_result"
    }
   ],
   "source": [
    "b.lower()"
   ]
  },
  {
   "cell_type": "code",
   "execution_count": 27,
   "id": "748104a6",
   "metadata": {},
   "outputs": [
    {
     "data": {
      "text/plain": [
       "'DA Bootcamp'"
      ]
     },
     "execution_count": 27,
     "metadata": {},
     "output_type": "execute_result"
    }
   ],
   "source": [
    "b"
   ]
  },
  {
   "cell_type": "code",
   "execution_count": 28,
   "id": "ab7626c2",
   "metadata": {},
   "outputs": [
    {
     "data": {
      "text/plain": [
       "False"
      ]
     },
     "execution_count": 28,
     "metadata": {},
     "output_type": "execute_result"
    }
   ],
   "source": [
    "b.islower()"
   ]
  },
  {
   "cell_type": "code",
   "execution_count": 29,
   "id": "b4625a97",
   "metadata": {},
   "outputs": [
    {
     "data": {
      "text/plain": [
       "False"
      ]
     },
     "execution_count": 29,
     "metadata": {},
     "output_type": "execute_result"
    }
   ],
   "source": [
    "b.islower()   #nokta koyup tab yapiyorum"
   ]
  },
  {
   "cell_type": "code",
   "execution_count": 30,
   "id": "3a11887a",
   "metadata": {},
   "outputs": [
    {
     "data": {
      "text/plain": [
       "True"
      ]
     },
     "execution_count": 30,
     "metadata": {},
     "output_type": "execute_result"
    }
   ],
   "source": [
    "b.lower().islower()"
   ]
  },
  {
   "cell_type": "code",
   "execution_count": 31,
   "id": "be07c218",
   "metadata": {},
   "outputs": [
    {
     "data": {
      "text/plain": [
       "str"
      ]
     },
     "execution_count": 31,
     "metadata": {},
     "output_type": "execute_result"
    }
   ],
   "source": [
    "type(\"Python\")"
   ]
  },
  {
   "cell_type": "code",
   "execution_count": 32,
   "id": "ef3ae674",
   "metadata": {},
   "outputs": [
    {
     "data": {
      "text/plain": [
       "'PYTHON'"
      ]
     },
     "execution_count": 32,
     "metadata": {},
     "output_type": "execute_result"
    }
   ],
   "source": [
    "\"Python\".upper()"
   ]
  },
  {
   "cell_type": "code",
   "execution_count": 33,
   "id": "51fadbd7",
   "metadata": {},
   "outputs": [
    {
     "data": {
      "text/plain": [
       "6"
      ]
     },
     "execution_count": 33,
     "metadata": {},
     "output_type": "execute_result"
    }
   ],
   "source": [
    "len(\"Python\")"
   ]
  },
  {
   "cell_type": "code",
   "execution_count": 34,
   "id": "9d2f7799",
   "metadata": {},
   "outputs": [
    {
     "name": "stdout",
     "output_type": "stream",
     "text": [
      "En sevdigim sayi\n"
     ]
    }
   ],
   "source": [
    "print(\"En sevdigim sayi\" )"
   ]
  },
  {
   "cell_type": "code",
   "execution_count": 35,
   "id": "e6dc1db0",
   "metadata": {},
   "outputs": [
    {
     "name": "stdout",
     "output_type": "stream",
     "text": [
      "En sevdigim sayi :  3\n"
     ]
    }
   ],
   "source": [
    "print(\"En sevdigim sayi : \",3)"
   ]
  },
  {
   "cell_type": "code",
   "execution_count": 36,
   "id": "8520c360",
   "metadata": {},
   "outputs": [],
   "source": [
    "c = 9*10"
   ]
  },
  {
   "cell_type": "code",
   "execution_count": 37,
   "id": "084b0ee2",
   "metadata": {},
   "outputs": [
    {
     "name": "stdout",
     "output_type": "stream",
     "text": [
      "En sevdigim sayi :  90\n"
     ]
    }
   ],
   "source": [
    "print(\"En sevdigim sayi : \",c)"
   ]
  },
  {
   "cell_type": "code",
   "execution_count": 38,
   "id": "f11f5bc3",
   "metadata": {},
   "outputs": [
    {
     "data": {
      "text/plain": [
       "True"
      ]
     },
     "execution_count": 38,
     "metadata": {},
     "output_type": "execute_result"
    }
   ],
   "source": [
    "True"
   ]
  },
  {
   "cell_type": "code",
   "execution_count": 39,
   "id": "683c0ba1",
   "metadata": {},
   "outputs": [
    {
     "data": {
      "text/plain": [
       "2"
      ]
     },
     "execution_count": 39,
     "metadata": {},
     "output_type": "execute_result"
    }
   ],
   "source": [
    "True + True"
   ]
  },
  {
   "cell_type": "code",
   "execution_count": 40,
   "id": "c097245f",
   "metadata": {},
   "outputs": [
    {
     "data": {
      "text/plain": [
       "1"
      ]
     },
     "execution_count": 40,
     "metadata": {},
     "output_type": "execute_result"
    }
   ],
   "source": [
    "True+False"
   ]
  },
  {
   "cell_type": "code",
   "execution_count": 41,
   "id": "8bd8e84d",
   "metadata": {},
   "outputs": [],
   "source": [
    "# a = [3,4,5,6,7,-2,5] => [False,False,False,False,False,True,False] "
   ]
  },
  {
   "cell_type": "code",
   "execution_count": 42,
   "id": "e7f66e3a",
   "metadata": {},
   "outputs": [
    {
     "data": {
      "text/plain": [
       "1"
      ]
     },
     "execution_count": 42,
     "metadata": {},
     "output_type": "execute_result"
    }
   ],
   "source": [
    "False+False+False+False+False+True+False"
   ]
  },
  {
   "cell_type": "code",
   "execution_count": 43,
   "id": "83624fd5",
   "metadata": {},
   "outputs": [],
   "source": [
    "# DATA >>> Bos hucren var mi...>>> Boslara True, Dolulara False \n",
    "# df.isnull().sum()"
   ]
  },
  {
   "cell_type": "code",
   "execution_count": 44,
   "id": "82c9ee75",
   "metadata": {},
   "outputs": [
    {
     "data": {
      "text/plain": [
       "2"
      ]
     },
     "execution_count": 44,
     "metadata": {},
     "output_type": "execute_result"
    }
   ],
   "source": [
    "True+True"
   ]
  },
  {
   "cell_type": "code",
   "execution_count": 45,
   "id": "813da16e",
   "metadata": {},
   "outputs": [
    {
     "data": {
      "text/plain": [
       "1"
      ]
     },
     "execution_count": 45,
     "metadata": {},
     "output_type": "execute_result"
    }
   ],
   "source": [
    "True+False"
   ]
  },
  {
   "cell_type": "code",
   "execution_count": 46,
   "id": "d8384397",
   "metadata": {},
   "outputs": [
    {
     "data": {
      "text/plain": [
       "0"
      ]
     },
     "execution_count": 46,
     "metadata": {},
     "output_type": "execute_result"
    }
   ],
   "source": [
    "False+False"
   ]
  },
  {
   "cell_type": "code",
   "execution_count": 47,
   "id": "7ce9f170",
   "metadata": {},
   "outputs": [
    {
     "data": {
      "text/plain": [
       "0"
      ]
     },
     "execution_count": 47,
     "metadata": {},
     "output_type": "execute_result"
    }
   ],
   "source": [
    "True-True"
   ]
  },
  {
   "cell_type": "code",
   "execution_count": 48,
   "id": "c9cfb202",
   "metadata": {},
   "outputs": [],
   "source": [
    "info = \"Assignments Operations\""
   ]
  },
  {
   "cell_type": "code",
   "execution_count": 49,
   "id": "d69caf6a",
   "metadata": {},
   "outputs": [
    {
     "data": {
      "text/plain": [
       "str"
      ]
     },
     "execution_count": 49,
     "metadata": {},
     "output_type": "execute_result"
    }
   ],
   "source": [
    "type(info)"
   ]
  },
  {
   "cell_type": "code",
   "execution_count": 69,
   "id": "1c65a34f",
   "metadata": {},
   "outputs": [
    {
     "data": {
      "text/plain": [
       "'Assignments operations'"
      ]
     },
     "execution_count": 69,
     "metadata": {},
     "output_type": "execute_result"
    }
   ],
   "source": [
    "info.capitalize()"
   ]
  },
  {
   "cell_type": "code",
   "execution_count": 50,
   "id": "89d79b0b",
   "metadata": {},
   "outputs": [
    {
     "data": {
      "text/plain": [
       "'Assignments Operations'"
      ]
     },
     "execution_count": 50,
     "metadata": {},
     "output_type": "execute_result"
    }
   ],
   "source": [
    "info.title()"
   ]
  },
  {
   "cell_type": "code",
   "execution_count": 51,
   "id": "8a2e49c8",
   "metadata": {},
   "outputs": [
    {
     "data": {
      "text/plain": [
       "3"
      ]
     },
     "execution_count": 51,
     "metadata": {},
     "output_type": "execute_result"
    }
   ],
   "source": [
    "info.find(\"i\") # soft dursun... \n",
    "#Assignments Operations\n",
    "#0,1,2,3"
   ]
  },
  {
   "cell_type": "code",
   "execution_count": 52,
   "id": "48cbe87d",
   "metadata": {},
   "outputs": [
    {
     "data": {
      "text/plain": [
       "['Assi', 'nments Operations']"
      ]
     },
     "execution_count": 52,
     "metadata": {},
     "output_type": "execute_result"
    }
   ],
   "source": [
    "info.split(\"g\")"
   ]
  },
  {
   "cell_type": "code",
   "execution_count": 53,
   "id": "0a878757",
   "metadata": {},
   "outputs": [
    {
     "data": {
      "text/plain": [
       "0"
      ]
     },
     "execution_count": 53,
     "metadata": {},
     "output_type": "execute_result"
    }
   ],
   "source": [
    "info.count(\"w\")"
   ]
  },
  {
   "cell_type": "code",
   "execution_count": 54,
   "id": "cb9d1fed",
   "metadata": {},
   "outputs": [
    {
     "data": {
      "text/plain": [
       "True"
      ]
     },
     "execution_count": 54,
     "metadata": {},
     "output_type": "execute_result"
    }
   ],
   "source": [
    "info.endswith(\"s\")"
   ]
  },
  {
   "cell_type": "code",
   "execution_count": 55,
   "id": "6899857c",
   "metadata": {},
   "outputs": [
    {
     "data": {
      "text/plain": [
       "4"
      ]
     },
     "execution_count": 55,
     "metadata": {},
     "output_type": "execute_result"
    }
   ],
   "source": [
    "info.count(\"s\")"
   ]
  },
  {
   "cell_type": "code",
   "execution_count": 56,
   "id": "21ffd683",
   "metadata": {},
   "outputs": [
    {
     "data": {
      "text/plain": [
       "'assignments operations'"
      ]
     },
     "execution_count": 56,
     "metadata": {},
     "output_type": "execute_result"
    }
   ],
   "source": [
    "info.lower()"
   ]
  },
  {
   "cell_type": "code",
   "execution_count": 57,
   "id": "4531c2ee",
   "metadata": {},
   "outputs": [
    {
     "data": {
      "text/plain": [
       "'Assignments Operations'"
      ]
     },
     "execution_count": 57,
     "metadata": {},
     "output_type": "execute_result"
    }
   ],
   "source": [
    "info"
   ]
  },
  {
   "cell_type": "code",
   "execution_count": 58,
   "id": "5b45c3ca",
   "metadata": {},
   "outputs": [],
   "source": [
    "info = info.upper()"
   ]
  },
  {
   "cell_type": "code",
   "execution_count": 59,
   "id": "a4b15d2e",
   "metadata": {},
   "outputs": [
    {
     "data": {
      "text/plain": [
       "'ASSIGNMENTS OPERATIONS'"
      ]
     },
     "execution_count": 59,
     "metadata": {},
     "output_type": "execute_result"
    }
   ],
   "source": [
    "info"
   ]
  },
  {
   "cell_type": "code",
   "execution_count": 60,
   "id": "925d1d42",
   "metadata": {},
   "outputs": [
    {
     "data": {
      "text/plain": [
       "'assignments operations'"
      ]
     },
     "execution_count": 60,
     "metadata": {},
     "output_type": "execute_result"
    }
   ],
   "source": [
    "info.lower()"
   ]
  },
  {
   "cell_type": "code",
   "execution_count": 61,
   "id": "281a4edd",
   "metadata": {},
   "outputs": [
    {
     "data": {
      "text/plain": [
       "'assignments|operations'"
      ]
     },
     "execution_count": 61,
     "metadata": {},
     "output_type": "execute_result"
    }
   ],
   "source": [
    "info.lower().replace(\" \",\"|\")"
   ]
  },
  {
   "cell_type": "code",
   "execution_count": 62,
   "id": "9c264342",
   "metadata": {},
   "outputs": [],
   "source": [
    "info.lower().replace(\" \",\"|\").split(\"|\").append(3)"
   ]
  },
  {
   "cell_type": "code",
   "execution_count": 63,
   "id": "6d5f6272",
   "metadata": {},
   "outputs": [
    {
     "data": {
      "text/plain": [
       "['assignments', 'operations']"
      ]
     },
     "execution_count": 63,
     "metadata": {},
     "output_type": "execute_result"
    }
   ],
   "source": [
    "info.lower().replace(\" \",\"|\").split(\"|\")"
   ]
  },
  {
   "cell_type": "code",
   "execution_count": 64,
   "id": "86c0255c",
   "metadata": {},
   "outputs": [],
   "source": [
    "listem = info.lower().replace(\" \",\"|\").split(\"|\") #.append(3)"
   ]
  },
  {
   "cell_type": "code",
   "execution_count": 65,
   "id": "31a452e9",
   "metadata": {},
   "outputs": [
    {
     "data": {
      "text/plain": [
       "['assignments', 'operations']"
      ]
     },
     "execution_count": 65,
     "metadata": {},
     "output_type": "execute_result"
    }
   ],
   "source": [
    "listem"
   ]
  },
  {
   "cell_type": "code",
   "execution_count": 66,
   "id": "9a3aa671",
   "metadata": {},
   "outputs": [],
   "source": [
    "listem = info.lower().replace(\" \",\"|\").split(\"|\")"
   ]
  },
  {
   "cell_type": "code",
   "execution_count": 67,
   "id": "eafc20e9",
   "metadata": {},
   "outputs": [],
   "source": [
    "listem.append(3)"
   ]
  },
  {
   "cell_type": "code",
   "execution_count": 68,
   "id": "8982f7c8",
   "metadata": {},
   "outputs": [
    {
     "data": {
      "text/plain": [
       "['assignments', 'operations', 3]"
      ]
     },
     "execution_count": 68,
     "metadata": {},
     "output_type": "execute_result"
    }
   ],
   "source": [
    "listem"
   ]
  },
  {
   "cell_type": "code",
   "execution_count": 69,
   "id": "b8b50d4d",
   "metadata": {},
   "outputs": [],
   "source": [
    "#listem.insert() tekrar... :)"
   ]
  },
  {
   "cell_type": "code",
   "execution_count": 70,
   "id": "50ada5ff",
   "metadata": {},
   "outputs": [
    {
     "data": {
      "text/plain": [
       "'ASSIGNMENTS-OPERATIONS'"
      ]
     },
     "execution_count": 70,
     "metadata": {},
     "output_type": "execute_result"
    }
   ],
   "source": [
    "info.replace(\" \",\"-\")"
   ]
  },
  {
   "cell_type": "code",
   "execution_count": 71,
   "id": "abf9c6b8",
   "metadata": {},
   "outputs": [
    {
     "data": {
      "text/plain": [
       "'ASSIGNMENTS OPERATIONS'"
      ]
     },
     "execution_count": 71,
     "metadata": {},
     "output_type": "execute_result"
    }
   ],
   "source": [
    "info"
   ]
  },
  {
   "cell_type": "code",
   "execution_count": 72,
   "id": "9e559cc8",
   "metadata": {},
   "outputs": [
    {
     "data": {
      "text/plain": [
       "'ASSIGNMENTS=OPERATIONS'"
      ]
     },
     "execution_count": 72,
     "metadata": {},
     "output_type": "execute_result"
    }
   ],
   "source": [
    "info.replace(\" \", \"=\")"
   ]
  },
  {
   "cell_type": "code",
   "execution_count": 73,
   "id": "b8fd0c0b",
   "metadata": {},
   "outputs": [],
   "source": [
    "info = info.replace(\" \", \"=\")"
   ]
  },
  {
   "cell_type": "code",
   "execution_count": 74,
   "id": "b5277bf9",
   "metadata": {},
   "outputs": [
    {
     "data": {
      "text/plain": [
       "'ASSIGNMENTS=OPERATIONS'"
      ]
     },
     "execution_count": 74,
     "metadata": {},
     "output_type": "execute_result"
    }
   ],
   "source": [
    "info"
   ]
  },
  {
   "cell_type": "code",
   "execution_count": 75,
   "id": "4f03136c",
   "metadata": {},
   "outputs": [
    {
     "data": {
      "text/plain": [
       "'ASSIGNMENTS=OPERATIONS'"
      ]
     },
     "execution_count": 75,
     "metadata": {},
     "output_type": "execute_result"
    }
   ],
   "source": [
    "info.upper()"
   ]
  },
  {
   "cell_type": "code",
   "execution_count": 76,
   "id": "c5c92087",
   "metadata": {},
   "outputs": [
    {
     "data": {
      "text/plain": [
       "'ASSIGNMENTS:OPERATIONS'"
      ]
     },
     "execution_count": 76,
     "metadata": {},
     "output_type": "execute_result"
    }
   ],
   "source": [
    "info.replace(\"=\", \":\")"
   ]
  },
  {
   "cell_type": "code",
   "execution_count": 77,
   "id": "0921230e",
   "metadata": {},
   "outputs": [],
   "source": [
    "info = info.upper()"
   ]
  },
  {
   "cell_type": "code",
   "execution_count": 78,
   "id": "da2774c0",
   "metadata": {},
   "outputs": [
    {
     "data": {
      "text/plain": [
       "'ASSIGNMENTS=OPERATIONS'"
      ]
     },
     "execution_count": 78,
     "metadata": {},
     "output_type": "execute_result"
    }
   ],
   "source": [
    "info.replace(\" \", \"=\")"
   ]
  },
  {
   "cell_type": "code",
   "execution_count": 79,
   "id": "406f9113",
   "metadata": {},
   "outputs": [
    {
     "data": {
      "text/plain": [
       "False"
      ]
     },
     "execution_count": 79,
     "metadata": {},
     "output_type": "execute_result"
    }
   ],
   "source": [
    "info.replace(\" \",\"|\").lower().isupper()"
   ]
  },
  {
   "cell_type": "code",
   "execution_count": 80,
   "id": "1e6a04d3",
   "metadata": {},
   "outputs": [
    {
     "data": {
      "text/plain": [
       "'ASSIGNMENTS=OPERATIONS'"
      ]
     },
     "execution_count": 80,
     "metadata": {},
     "output_type": "execute_result"
    }
   ],
   "source": [
    "info.upper().replace(\" \", \"=\")"
   ]
  },
  {
   "cell_type": "markdown",
   "id": "2bdc1ea3",
   "metadata": {},
   "source": [
    "## SECTION : DATA TYPES"
   ]
  },
  {
   "cell_type": "code",
   "execution_count": 1,
   "id": "f65ba204",
   "metadata": {},
   "outputs": [
    {
     "data": {
      "text/plain": [
       "int"
      ]
     },
     "execution_count": 1,
     "metadata": {},
     "output_type": "execute_result"
    }
   ],
   "source": [
    "# Data Types & Integer\n",
    "\n",
    "x = 18\n",
    "type(x)"
   ]
  },
  {
   "cell_type": "code",
   "execution_count": 2,
   "id": "4ca6aba1",
   "metadata": {},
   "outputs": [
    {
     "data": {
      "text/plain": [
       "float"
      ]
     },
     "execution_count": 2,
     "metadata": {},
     "output_type": "execute_result"
    }
   ],
   "source": [
    "# Data Types & Integer\n",
    "\n",
    "y = 4.2\n",
    "type(y)"
   ]
  },
  {
   "cell_type": "code",
   "execution_count": 3,
   "id": "36f47122",
   "metadata": {},
   "outputs": [
    {
     "data": {
      "text/plain": [
       "str"
      ]
     },
     "execution_count": 3,
     "metadata": {},
     "output_type": "execute_result"
    }
   ],
   "source": [
    "# Data Types & String\n",
    "\n",
    "a = \"Hello miuul\"\n",
    "type(a)"
   ]
  },
  {
   "cell_type": "code",
   "execution_count": 4,
   "id": "9105c58c",
   "metadata": {},
   "outputs": [
    {
     "data": {
      "text/plain": [
       "False"
      ]
     },
     "execution_count": 4,
     "metadata": {},
     "output_type": "execute_result"
    }
   ],
   "source": [
    "a.isupper()"
   ]
  },
  {
   "cell_type": "code",
   "execution_count": 5,
   "id": "173c68f9",
   "metadata": {},
   "outputs": [
    {
     "data": {
      "text/plain": [
       "bool"
      ]
     },
     "execution_count": 5,
     "metadata": {},
     "output_type": "execute_result"
    }
   ],
   "source": [
    "type(a.isupper())"
   ]
  },
  {
   "cell_type": "markdown",
   "id": "58ee4a51",
   "metadata": {},
   "source": [
    "### LIST"
   ]
  },
  {
   "cell_type": "code",
   "execution_count": 6,
   "id": "4baaf903",
   "metadata": {},
   "outputs": [],
   "source": [
    "# LISTE >> ARRAY >> DATA FRAME\n",
    "\n",
    "\n",
    "a =[3,5]"
   ]
  },
  {
   "cell_type": "code",
   "execution_count": 7,
   "id": "aa22ac86",
   "metadata": {},
   "outputs": [],
   "source": [
    "listem = [2,3,11,\"1\",\"q\",True]"
   ]
  },
  {
   "cell_type": "code",
   "execution_count": 8,
   "id": "bbec5521",
   "metadata": {},
   "outputs": [
    {
     "data": {
      "text/plain": [
       "[2, 3, 11, '1', 'q', True]"
      ]
     },
     "execution_count": 8,
     "metadata": {},
     "output_type": "execute_result"
    }
   ],
   "source": [
    "listem"
   ]
  },
  {
   "cell_type": "code",
   "execution_count": 9,
   "id": "00145a6c",
   "metadata": {},
   "outputs": [],
   "source": [
    "listem = [2,3,11,\"1\",\"q\",True,[1,1]]"
   ]
  },
  {
   "cell_type": "code",
   "execution_count": 10,
   "id": "7bb1547f",
   "metadata": {},
   "outputs": [
    {
     "data": {
      "text/plain": [
       "[1, 1]"
      ]
     },
     "execution_count": 10,
     "metadata": {},
     "output_type": "execute_result"
    }
   ],
   "source": [
    "listem[6]"
   ]
  },
  {
   "cell_type": "code",
   "execution_count": 11,
   "id": "f4e7e228",
   "metadata": {},
   "outputs": [
    {
     "data": {
      "text/plain": [
       "1"
      ]
     },
     "execution_count": 11,
     "metadata": {},
     "output_type": "execute_result"
    }
   ],
   "source": [
    "listem[6][0]"
   ]
  },
  {
   "cell_type": "code",
   "execution_count": 12,
   "id": "1129e6b2",
   "metadata": {},
   "outputs": [
    {
     "data": {
      "text/plain": [
       "list"
      ]
     },
     "execution_count": 12,
     "metadata": {},
     "output_type": "execute_result"
    }
   ],
   "source": [
    "type(listem)"
   ]
  },
  {
   "cell_type": "code",
   "execution_count": 13,
   "id": "8aa84b48",
   "metadata": {},
   "outputs": [
    {
     "data": {
      "text/plain": [
       "2"
      ]
     },
     "execution_count": 13,
     "metadata": {},
     "output_type": "execute_result"
    }
   ],
   "source": [
    "listem[0]"
   ]
  },
  {
   "cell_type": "code",
   "execution_count": 14,
   "id": "875a3bb6",
   "metadata": {},
   "outputs": [
    {
     "data": {
      "text/plain": [
       "True"
      ]
     },
     "execution_count": 14,
     "metadata": {},
     "output_type": "execute_result"
    }
   ],
   "source": [
    "listem[5]"
   ]
  },
  {
   "cell_type": "code",
   "execution_count": 15,
   "id": "dbb90fc4",
   "metadata": {},
   "outputs": [],
   "source": [
    "listem.append(3)"
   ]
  },
  {
   "cell_type": "code",
   "execution_count": 16,
   "id": "d533bf87",
   "metadata": {},
   "outputs": [
    {
     "data": {
      "text/plain": [
       "[2, 3, 11, '1', 'q', True, [1, 1], 3]"
      ]
     },
     "execution_count": 16,
     "metadata": {},
     "output_type": "execute_result"
    }
   ],
   "source": [
    "listem"
   ]
  },
  {
   "cell_type": "code",
   "execution_count": 17,
   "id": "e550a145",
   "metadata": {},
   "outputs": [],
   "source": [
    "listem.insert(1,1)"
   ]
  },
  {
   "cell_type": "code",
   "execution_count": 18,
   "id": "20d2ee82",
   "metadata": {},
   "outputs": [
    {
     "data": {
      "text/plain": [
       "[2, 1, 3, 11, '1', 'q', True, [1, 1], 3]"
      ]
     },
     "execution_count": 18,
     "metadata": {},
     "output_type": "execute_result"
    }
   ],
   "source": [
    "listem"
   ]
  },
  {
   "cell_type": "code",
   "execution_count": 19,
   "id": "f52a731b",
   "metadata": {},
   "outputs": [],
   "source": [
    "listem.insert(1,\"a\")"
   ]
  },
  {
   "cell_type": "code",
   "execution_count": 20,
   "id": "bf6991d6",
   "metadata": {},
   "outputs": [
    {
     "data": {
      "text/plain": [
       "[2, 'a', 1, 3, 11, '1', 'q', True, [1, 1], 3]"
      ]
     },
     "execution_count": 20,
     "metadata": {},
     "output_type": "execute_result"
    }
   ],
   "source": [
    "listem"
   ]
  },
  {
   "cell_type": "code",
   "execution_count": 21,
   "id": "42631b17",
   "metadata": {},
   "outputs": [
    {
     "data": {
      "text/plain": [
       "10"
      ]
     },
     "execution_count": 21,
     "metadata": {},
     "output_type": "execute_result"
    }
   ],
   "source": [
    "len(listem)"
   ]
  },
  {
   "cell_type": "code",
   "execution_count": 22,
   "id": "6600f9b1",
   "metadata": {},
   "outputs": [
    {
     "data": {
      "text/plain": [
       "2"
      ]
     },
     "execution_count": 22,
     "metadata": {},
     "output_type": "execute_result"
    }
   ],
   "source": [
    "listem.index(1)"
   ]
  },
  {
   "cell_type": "code",
   "execution_count": 23,
   "id": "aa3a0f0b",
   "metadata": {},
   "outputs": [],
   "source": [
    "listem = [3,5,8,\"Python\",True,10]"
   ]
  },
  {
   "cell_type": "code",
   "execution_count": 24,
   "id": "0261be3c",
   "metadata": {},
   "outputs": [
    {
     "data": {
      "text/plain": [
       "[3, 5, 8, 'Python', True, 10]"
      ]
     },
     "execution_count": 24,
     "metadata": {},
     "output_type": "execute_result"
    }
   ],
   "source": [
    "listem"
   ]
  },
  {
   "cell_type": "code",
   "execution_count": 25,
   "id": "e8b12b45",
   "metadata": {},
   "outputs": [
    {
     "data": {
      "text/plain": [
       "10"
      ]
     },
     "execution_count": 25,
     "metadata": {},
     "output_type": "execute_result"
    }
   ],
   "source": [
    "listem[len(listem)-1]"
   ]
  },
  {
   "cell_type": "code",
   "execution_count": 26,
   "id": "855072d8",
   "metadata": {},
   "outputs": [
    {
     "data": {
      "text/plain": [
       "10"
      ]
     },
     "execution_count": 26,
     "metadata": {},
     "output_type": "execute_result"
    }
   ],
   "source": [
    "listem[-1]"
   ]
  },
  {
   "cell_type": "code",
   "execution_count": 27,
   "id": "1be0309a",
   "metadata": {},
   "outputs": [
    {
     "data": {
      "text/plain": [
       "[True, 10]"
      ]
     },
     "execution_count": 27,
     "metadata": {},
     "output_type": "execute_result"
    }
   ],
   "source": [
    "#[0,1,2,3,4,5]\n",
    "\n",
    "listem[4:6]"
   ]
  },
  {
   "cell_type": "code",
   "execution_count": 28,
   "id": "b47eb7de",
   "metadata": {},
   "outputs": [
    {
     "data": {
      "text/plain": [
       "6"
      ]
     },
     "execution_count": 28,
     "metadata": {},
     "output_type": "execute_result"
    }
   ],
   "source": [
    "len(listem)"
   ]
  },
  {
   "cell_type": "code",
   "execution_count": 29,
   "id": "a0853b3f",
   "metadata": {},
   "outputs": [
    {
     "data": {
      "text/plain": [
       "10"
      ]
     },
     "execution_count": 29,
     "metadata": {},
     "output_type": "execute_result"
    }
   ],
   "source": [
    "listem[len(listem)-1]"
   ]
  },
  {
   "cell_type": "code",
   "execution_count": 30,
   "id": "9c4c59e3",
   "metadata": {},
   "outputs": [
    {
     "data": {
      "text/plain": [
       "True"
      ]
     },
     "execution_count": 30,
     "metadata": {},
     "output_type": "execute_result"
    }
   ],
   "source": [
    "listem[-2]"
   ]
  },
  {
   "cell_type": "code",
   "execution_count": 31,
   "id": "004bb1fd",
   "metadata": {},
   "outputs": [
    {
     "data": {
      "text/plain": [
       "[3, 5, 8, 'Python', True, 10]"
      ]
     },
     "execution_count": 31,
     "metadata": {},
     "output_type": "execute_result"
    }
   ],
   "source": [
    "listem"
   ]
  },
  {
   "cell_type": "code",
   "execution_count": 32,
   "id": "3b77186d",
   "metadata": {},
   "outputs": [
    {
     "data": {
      "text/plain": [
       "[2, 1, 3, 11, '1', 'q']"
      ]
     },
     "execution_count": 32,
     "metadata": {},
     "output_type": "execute_result"
    }
   ],
   "source": [
    "[2, 1, 3, 11, '1', 'q']"
   ]
  },
  {
   "cell_type": "code",
   "execution_count": 33,
   "id": "59f5af8c",
   "metadata": {},
   "outputs": [
    {
     "data": {
      "text/plain": [
       "[2, 3.2, True, [3, 4, 5]]"
      ]
     },
     "execution_count": 33,
     "metadata": {},
     "output_type": "execute_result"
    }
   ],
   "source": [
    "[2,3.2,True,[3,4,5]]"
   ]
  },
  {
   "cell_type": "code",
   "execution_count": 34,
   "id": "9f6449e6",
   "metadata": {},
   "outputs": [
    {
     "data": {
      "text/plain": [
       "[2, 3.2, True, [3, 4, 5, [3, 4, 5]]]"
      ]
     },
     "execution_count": 34,
     "metadata": {},
     "output_type": "execute_result"
    }
   ],
   "source": [
    "[2,3.2,True,[3,4,5,[3,4,5]]]"
   ]
  },
  {
   "cell_type": "code",
   "execution_count": null,
   "id": "ec481afb",
   "metadata": {},
   "outputs": [],
   "source": [
    "t= [2,3.2,True,[3,4,5,[3,4,5]]] # ikinci dorde nasil gidilir"
   ]
  },
  {
   "cell_type": "code",
   "execution_count": 35,
   "id": "cff00ab6",
   "metadata": {},
   "outputs": [
    {
     "ename": "NameError",
     "evalue": "name 't' is not defined",
     "output_type": "error",
     "traceback": [
      "\u001b[1;31m---------------------------------------------------------------------------\u001b[0m",
      "\u001b[1;31mNameError\u001b[0m                                 Traceback (most recent call last)",
      "Cell \u001b[1;32mIn[35], line 1\u001b[0m\n\u001b[1;32m----> 1\u001b[0m \u001b[43mt\u001b[49m[\u001b[38;5;241m3\u001b[39m][\u001b[38;5;241m3\u001b[39m][\u001b[38;5;241m1\u001b[39m]\n",
      "\u001b[1;31mNameError\u001b[0m: name 't' is not defined"
     ]
    }
   ],
   "source": [
    "t[3][3][1]"
   ]
  },
  {
   "cell_type": "code",
   "execution_count": 36,
   "id": "6c6a07e4",
   "metadata": {},
   "outputs": [
    {
     "data": {
      "text/plain": [
       "[[2, 1, 2, 10, 11], [2, 1, 2, 10, 11], [2, 1, 2, 10, 11]]"
      ]
     },
     "execution_count": 36,
     "metadata": {},
     "output_type": "execute_result"
    }
   ],
   "source": [
    "q= [[2,1,2,10,11],[2,1,2,10,11],[2,1,2,10,11]]\n",
    "q"
   ]
  },
  {
   "cell_type": "code",
   "execution_count": 37,
   "id": "36ce42d8",
   "metadata": {},
   "outputs": [
    {
     "data": {
      "text/plain": [
       "11"
      ]
     },
     "execution_count": 37,
     "metadata": {},
     "output_type": "execute_result"
    }
   ],
   "source": [
    "q[2][-1]"
   ]
  },
  {
   "cell_type": "code",
   "execution_count": 38,
   "id": "23f1748a",
   "metadata": {},
   "outputs": [
    {
     "data": {
      "text/plain": [
       "[3, 5, 8, 'Python', True, 10]"
      ]
     },
     "execution_count": 38,
     "metadata": {},
     "output_type": "execute_result"
    }
   ],
   "source": [
    "listem"
   ]
  },
  {
   "cell_type": "code",
   "execution_count": 39,
   "id": "c904c257",
   "metadata": {},
   "outputs": [
    {
     "data": {
      "text/plain": [
       "[[2, 1, 2, 10, 11], [2, 1, 2, 10, 11], [2, 1, 2, 10, 11]]"
      ]
     },
     "execution_count": 39,
     "metadata": {},
     "output_type": "execute_result"
    }
   ],
   "source": [
    "#listem = [3,5,8,\"Python\",True,10]\n",
    "#array = [3,5,8,3,10]\n",
    "#array = [2,1,2,10,11]\n",
    "\n",
    "[[2,1,2,10,11],\n",
    " [2,1,2,10,11],\n",
    " [2,1,2,10,11]]\n",
    "\n",
    "\n",
    "\n",
    "#Liste>>>Array>>>DataFrame\n",
    "#Orj>>>Numpy>>>Pandas +++ Veri Manipulasyonu\n",
    "#Veri Gorsellestirme .. \n"
   ]
  },
  {
   "cell_type": "code",
   "execution_count": 40,
   "id": "d3c46c87",
   "metadata": {},
   "outputs": [],
   "source": [
    "my_list = [3,3,4, 'a',True]\n",
    "\n",
    "#[3,3,4, 'a',True]\n",
    "#0,1,2,3,4"
   ]
  },
  {
   "cell_type": "code",
   "execution_count": 41,
   "id": "aa270697",
   "metadata": {},
   "outputs": [
    {
     "data": {
      "text/plain": [
       "[3, 3, 4, 'a', True]"
      ]
     },
     "execution_count": 41,
     "metadata": {},
     "output_type": "execute_result"
    }
   ],
   "source": [
    "my_list"
   ]
  },
  {
   "cell_type": "code",
   "execution_count": 42,
   "id": "0dc311ed",
   "metadata": {},
   "outputs": [
    {
     "data": {
      "text/plain": [
       "5"
      ]
     },
     "execution_count": 42,
     "metadata": {},
     "output_type": "execute_result"
    }
   ],
   "source": [
    "len(my_list)"
   ]
  },
  {
   "cell_type": "code",
   "execution_count": 43,
   "id": "4227d230",
   "metadata": {},
   "outputs": [],
   "source": [
    "#[3, 3, 4, 'a', True]\n",
    "#[0, 1, 2,  3,   4]"
   ]
  },
  {
   "cell_type": "code",
   "execution_count": 44,
   "id": "370de069",
   "metadata": {},
   "outputs": [
    {
     "data": {
      "text/plain": [
       "'a'"
      ]
     },
     "execution_count": 44,
     "metadata": {},
     "output_type": "execute_result"
    }
   ],
   "source": [
    "my_list[3]"
   ]
  },
  {
   "cell_type": "code",
   "execution_count": 45,
   "id": "5e14a124",
   "metadata": {},
   "outputs": [],
   "source": [
    "veri = my_list[3]"
   ]
  },
  {
   "cell_type": "code",
   "execution_count": 46,
   "id": "61e4818a",
   "metadata": {},
   "outputs": [
    {
     "data": {
      "text/plain": [
       "'a'"
      ]
     },
     "execution_count": 46,
     "metadata": {},
     "output_type": "execute_result"
    }
   ],
   "source": [
    "veri # Listenin. 4. elemani"
   ]
  },
  {
   "cell_type": "code",
   "execution_count": 47,
   "id": "f19a4143",
   "metadata": {},
   "outputs": [],
   "source": [
    "my_list[3]='miuul'"
   ]
  },
  {
   "cell_type": "code",
   "execution_count": 48,
   "id": "75d2419c",
   "metadata": {},
   "outputs": [
    {
     "data": {
      "text/plain": [
       "[3, 3, 4, 'miuul', True]"
      ]
     },
     "execution_count": 48,
     "metadata": {},
     "output_type": "execute_result"
    }
   ],
   "source": [
    "my_list"
   ]
  },
  {
   "cell_type": "code",
   "execution_count": 49,
   "id": "72600099",
   "metadata": {},
   "outputs": [
    {
     "data": {
      "text/plain": [
       "4"
      ]
     },
     "execution_count": 49,
     "metadata": {},
     "output_type": "execute_result"
    }
   ],
   "source": [
    "my_list[2]  #2. indeks... 0,1,2,3..."
   ]
  },
  {
   "cell_type": "code",
   "execution_count": 50,
   "id": "28385efe",
   "metadata": {},
   "outputs": [
    {
     "data": {
      "text/plain": [
       "'miuul'"
      ]
     },
     "execution_count": 50,
     "metadata": {},
     "output_type": "execute_result"
    }
   ],
   "source": [
    "my_list[3]"
   ]
  },
  {
   "cell_type": "code",
   "execution_count": 51,
   "id": "5eb5e3ae",
   "metadata": {},
   "outputs": [
    {
     "data": {
      "text/plain": [
       "[4, 'miuul']"
      ]
     },
     "execution_count": 51,
     "metadata": {},
     "output_type": "execute_result"
    }
   ],
   "source": [
    "my_list[2:4]"
   ]
  },
  {
   "cell_type": "code",
   "execution_count": 52,
   "id": "da06b5df",
   "metadata": {},
   "outputs": [],
   "source": [
    "my_list[3]='miuul'"
   ]
  },
  {
   "cell_type": "code",
   "execution_count": 163,
   "id": "81b90d8d",
   "metadata": {},
   "outputs": [
    {
     "data": {
      "text/plain": [
       "[3, 3, 4, 'miuul', True]"
      ]
     },
     "execution_count": 163,
     "metadata": {},
     "output_type": "execute_result"
    }
   ],
   "source": [
    "my_list"
   ]
  },
  {
   "cell_type": "markdown",
   "id": "aa5f4ab6",
   "metadata": {},
   "source": [
    "### DICTIONARY"
   ]
  },
  {
   "cell_type": "code",
   "execution_count": 53,
   "id": "eea84310",
   "metadata": {},
   "outputs": [],
   "source": [
    "# sisteme>>> kitap >> book\n",
    "# key = kitap\n",
    "# value  = book\n",
    "# {key:value}\n",
    "# {\"Age\":38}"
   ]
  },
  {
   "cell_type": "code",
   "execution_count": 54,
   "id": "2d805d8d",
   "metadata": {},
   "outputs": [],
   "source": [
    "a = {\"Age\":38}"
   ]
  },
  {
   "cell_type": "code",
   "execution_count": 55,
   "id": "1055dc5e",
   "metadata": {},
   "outputs": [
    {
     "data": {
      "text/plain": [
       "{'Age': 38}"
      ]
     },
     "execution_count": 55,
     "metadata": {},
     "output_type": "execute_result"
    }
   ],
   "source": [
    "a"
   ]
  },
  {
   "cell_type": "code",
   "execution_count": 56,
   "id": "23dbd25d",
   "metadata": {},
   "outputs": [
    {
     "data": {
      "text/plain": [
       "dict_values([38])"
      ]
     },
     "execution_count": 56,
     "metadata": {},
     "output_type": "execute_result"
    }
   ],
   "source": [
    "a.values()"
   ]
  },
  {
   "cell_type": "code",
   "execution_count": 57,
   "id": "8f872ff3",
   "metadata": {},
   "outputs": [],
   "source": [
    "b = {\"Book\": \"Kitap\",\"Door\": \"Kapi\",\"Car\": \"Araba\",\"Pencil\": \"Kalem\"}"
   ]
  },
  {
   "cell_type": "code",
   "execution_count": 58,
   "id": "c16c99bb",
   "metadata": {},
   "outputs": [],
   "source": [
    "#{\"Isim\": \"Atilla\",\"Soyisim\": \"Yrd\",\"Yas\": 33,\"Adres\": {\"Sokak\":\"Cicek\",\"Kapi\":14}}"
   ]
  },
  {
   "cell_type": "code",
   "execution_count": null,
   "id": "401c5658",
   "metadata": {},
   "outputs": [],
   "source": [
    "#{\"Age\": [\"mean\",\"count\",\"sum\"]}"
   ]
  },
  {
   "cell_type": "code",
   "execution_count": 59,
   "id": "2129bab7",
   "metadata": {},
   "outputs": [],
   "source": [
    "my_dict = {\"Name\": \"Arda\",\"Age\": 40}"
   ]
  },
  {
   "cell_type": "code",
   "execution_count": 60,
   "id": "7ed1e401",
   "metadata": {},
   "outputs": [
    {
     "data": {
      "text/plain": [
       "{'Name': 'Arda', 'Age': 40}"
      ]
     },
     "execution_count": 60,
     "metadata": {},
     "output_type": "execute_result"
    }
   ],
   "source": [
    "my_dict "
   ]
  },
  {
   "cell_type": "code",
   "execution_count": 61,
   "id": "9a6cbe01",
   "metadata": {},
   "outputs": [
    {
     "data": {
      "text/plain": [
       "dict_keys(['Name', 'Age'])"
      ]
     },
     "execution_count": 61,
     "metadata": {},
     "output_type": "execute_result"
    }
   ],
   "source": [
    "my_dict.keys()"
   ]
  },
  {
   "cell_type": "code",
   "execution_count": 62,
   "id": "f403436e",
   "metadata": {},
   "outputs": [
    {
     "data": {
      "text/plain": [
       "dict_values(['Arda', 40])"
      ]
     },
     "execution_count": 62,
     "metadata": {},
     "output_type": "execute_result"
    }
   ],
   "source": [
    "my_dict.values()"
   ]
  },
  {
   "cell_type": "markdown",
   "id": "0a3dc1f5",
   "metadata": {},
   "source": [
    "## SECTION 3 : LIST is THE BEST"
   ]
  },
  {
   "cell_type": "code",
   "execution_count": null,
   "id": "921b7c8f",
   "metadata": {},
   "outputs": [],
   "source": [
    "# LIST  >> Array >> Data Frame"
   ]
  },
  {
   "cell_type": "code",
   "execution_count": null,
   "id": "25f32306",
   "metadata": {},
   "outputs": [],
   "source": [
    "# LIST  >> Array >> Data Frame\n",
    "\n",
    "# [\"a\",1,[2,3],True]\n",
    "# [2,3,4,7,10] # lineer cebir \n",
    "# [2,3,4,7,10] # data kolonu (Ismi) \n",
    "\n",
    "\n"
   ]
  },
  {
   "cell_type": "code",
   "execution_count": 63,
   "id": "19c444b5",
   "metadata": {},
   "outputs": [],
   "source": [
    "listem = [\"a\",1,[2,3],True,1,\"a\"]"
   ]
  },
  {
   "cell_type": "code",
   "execution_count": 64,
   "id": "458d6e04",
   "metadata": {},
   "outputs": [
    {
     "data": {
      "text/plain": [
       "['b', 1, [2, 3], True, 1, 'a']"
      ]
     },
     "execution_count": 64,
     "metadata": {},
     "output_type": "execute_result"
    }
   ],
   "source": [
    "listem[0] = \"b\"\n",
    "listem"
   ]
  },
  {
   "cell_type": "code",
   "execution_count": 65,
   "id": "30e6faf6",
   "metadata": {},
   "outputs": [],
   "source": [
    "yeniliste = [1,2,3,4,5]"
   ]
  },
  {
   "cell_type": "code",
   "execution_count": 66,
   "id": "a0a37080",
   "metadata": {},
   "outputs": [
    {
     "name": "stdout",
     "output_type": "stream",
     "text": [
      "2\n",
      "4\n",
      "6\n",
      "8\n",
      "10\n"
     ]
    }
   ],
   "source": [
    "for G in yeniliste:\n",
    "    print(G*2)"
   ]
  },
  {
   "cell_type": "code",
   "execution_count": 67,
   "id": "89ce73f8",
   "metadata": {},
   "outputs": [
    {
     "name": "stdout",
     "output_type": "stream",
     "text": [
      "1\n",
      "4\n",
      "9\n",
      "16\n",
      "25\n"
     ]
    }
   ],
   "source": [
    "for G in yeniliste:\n",
    "    print(G*G)"
   ]
  },
  {
   "cell_type": "code",
   "execution_count": 68,
   "id": "3058dbd1",
   "metadata": {},
   "outputs": [
    {
     "name": "stdout",
     "output_type": "stream",
     "text": [
      "1\n",
      "1\n",
      "--------\n",
      "2\n",
      "4\n",
      "--------\n",
      "3\n",
      "9\n",
      "--------\n",
      "4\n",
      "16\n",
      "--------\n",
      "5\n",
      "25\n",
      "--------\n"
     ]
    }
   ],
   "source": [
    "for G in yeniliste:\n",
    "    print(G)\n",
    "    print(G*G)\n",
    "    print(\"--------\")"
   ]
  },
  {
   "cell_type": "code",
   "execution_count": 69,
   "id": "6cc4405c",
   "metadata": {},
   "outputs": [],
   "source": [
    "viki = \"Albert Einstein (Almanca telaffuz Tüm zamanların en iyi fizikçilerinden kabul edilen Einstein, en çok görelilik teorisini geliştirmesiyle tanınır.\""
   ]
  },
  {
   "cell_type": "code",
   "execution_count": 70,
   "id": "5a657650",
   "metadata": {},
   "outputs": [
    {
     "data": {
      "text/plain": [
       "146"
      ]
     },
     "execution_count": 70,
     "metadata": {},
     "output_type": "execute_result"
    }
   ],
   "source": [
    "len(viki)"
   ]
  },
  {
   "cell_type": "code",
   "execution_count": 71,
   "id": "5db9ceaf",
   "metadata": {},
   "outputs": [],
   "source": [
    "viki_list = viki.split()"
   ]
  },
  {
   "cell_type": "code",
   "execution_count": 72,
   "id": "064b541e",
   "metadata": {},
   "outputs": [
    {
     "data": {
      "text/plain": [
       "['Albert',\n",
       " 'Einstein',\n",
       " '(Almanca',\n",
       " 'telaffuz',\n",
       " 'Tüm',\n",
       " 'zamanların',\n",
       " 'en',\n",
       " 'iyi',\n",
       " 'fizikçilerinden',\n",
       " 'kabul',\n",
       " 'edilen',\n",
       " 'Einstein,',\n",
       " 'en',\n",
       " 'çok',\n",
       " 'görelilik',\n",
       " 'teorisini',\n",
       " 'geliştirmesiyle',\n",
       " 'tanınır.']"
      ]
     },
     "execution_count": 72,
     "metadata": {},
     "output_type": "execute_result"
    }
   ],
   "source": [
    "viki_list"
   ]
  },
  {
   "cell_type": "code",
   "execution_count": 73,
   "id": "7f61f6b0",
   "metadata": {},
   "outputs": [
    {
     "name": "stdout",
     "output_type": "stream",
     "text": [
      "0\n",
      "0\n",
      "2\n",
      "1\n",
      "0\n",
      "3\n",
      "0\n",
      "0\n",
      "0\n",
      "1\n",
      "0\n",
      "0\n",
      "0\n",
      "0\n",
      "0\n",
      "0\n",
      "0\n",
      "1\n"
     ]
    }
   ],
   "source": [
    "for B in viki_list: \n",
    "    print(B.count(\"a\"))"
   ]
  },
  {
   "cell_type": "code",
   "execution_count": 74,
   "id": "dbcb60a6",
   "metadata": {},
   "outputs": [
    {
     "name": "stdout",
     "output_type": "stream",
     "text": [
      "ALBERT\n",
      "EINSTEIN\n",
      "(ALMANCA\n",
      "TELAFFUZ\n",
      "TÜM\n",
      "ZAMANLARIN\n",
      "EN\n",
      "IYI\n",
      "FIZIKÇILERINDEN\n",
      "KABUL\n",
      "EDILEN\n",
      "EINSTEIN,\n",
      "EN\n",
      "ÇOK\n",
      "GÖRELILIK\n",
      "TEORISINI\n",
      "GELIŞTIRMESIYLE\n",
      "TANINIR.\n"
     ]
    }
   ],
   "source": [
    "for B in viki_list: \n",
    "    print(B.upper())"
   ]
  },
  {
   "cell_type": "code",
   "execution_count": 75,
   "id": "9e80aab2",
   "metadata": {},
   "outputs": [
    {
     "name": "stdout",
     "output_type": "stream",
     "text": [
      "Albert , uzunlugu  6\n",
      "Einstein , uzunlugu  8\n",
      "(Almanca , uzunlugu  8\n",
      "telaffuz , uzunlugu  8\n",
      "Tüm , uzunlugu  3\n",
      "zamanların , uzunlugu  10\n",
      "en , uzunlugu  2\n",
      "iyi , uzunlugu  3\n",
      "fizikçilerinden , uzunlugu  15\n",
      "kabul , uzunlugu  5\n",
      "edilen , uzunlugu  6\n",
      "Einstein, , uzunlugu  9\n",
      "en , uzunlugu  2\n",
      "çok , uzunlugu  3\n",
      "görelilik , uzunlugu  9\n",
      "teorisini , uzunlugu  9\n",
      "geliştirmesiyle , uzunlugu  15\n",
      "tanınır. , uzunlugu  8\n"
     ]
    }
   ],
   "source": [
    "for u in viki_list:\n",
    "    print(u, \", uzunlugu \", len(u))"
   ]
  },
  {
   "cell_type": "code",
   "execution_count": 80,
   "id": "3ffd28f0",
   "metadata": {},
   "outputs": [
    {
     "name": "stdout",
     "output_type": "stream",
     "text": [
      "['A', 'bert']\n",
      "['Einstein']\n",
      "['(A', 'manca']\n",
      "['te', 'affuz']\n",
      "['Tüm']\n",
      "['zaman', 'arın']\n",
      "['en']\n",
      "['iyi']\n",
      "['fizikçi', 'erinden']\n",
      "['kabu', '']\n",
      "['edi', 'en']\n",
      "['Einstein,']\n",
      "['en']\n",
      "['çok']\n",
      "['göre', 'i', 'ik']\n",
      "['teorisini']\n",
      "['ge', 'iştirmesiy', 'e']\n",
      "['tanınır.']\n"
     ]
    }
   ],
   "source": [
    "for t in viki_list:\n",
    "    print(t.split(\"l\"))"
   ]
  },
  {
   "cell_type": "code",
   "execution_count": 81,
   "id": "bec49867",
   "metadata": {},
   "outputs": [
    {
     "name": "stdout",
     "output_type": "stream",
     "text": [
      "ALBERT : 6\n",
      "EINSTEIN : 8\n",
      "(ALMANCA : 8\n",
      "TELAFFUZ : 8\n",
      "TÜM : 3\n",
      "ZAMANLARIN : 10\n",
      "EN : 2\n",
      "IYI : 3\n",
      "FIZIKÇILERINDEN : 15\n",
      "KABUL : 5\n",
      "EDILEN : 6\n",
      "EINSTEIN, : 9\n",
      "EN : 2\n",
      "ÇOK : 3\n",
      "GÖRELILIK : 9\n",
      "TEORISINI : 9\n",
      "GELIŞTIRMESIYLE : 15\n",
      "TANINIR. : 8\n"
     ]
    }
   ],
   "source": [
    "for u in viki_list:\n",
    "    print(u.upper(),\":\",len(u))"
   ]
  },
  {
   "cell_type": "code",
   "execution_count": 82,
   "id": "4f26fc26",
   "metadata": {},
   "outputs": [
    {
     "data": {
      "text/plain": [
       "'Albert'"
      ]
     },
     "execution_count": 82,
     "metadata": {},
     "output_type": "execute_result"
    }
   ],
   "source": [
    "viki_list[0]"
   ]
  },
  {
   "cell_type": "code",
   "execution_count": 83,
   "id": "8c4ecff8",
   "metadata": {},
   "outputs": [
    {
     "data": {
      "text/plain": [
       "1"
      ]
     },
     "execution_count": 83,
     "metadata": {},
     "output_type": "execute_result"
    }
   ],
   "source": [
    "viki_list[0].count(\"e\")"
   ]
  },
  {
   "cell_type": "code",
   "execution_count": 84,
   "id": "3e8d2341",
   "metadata": {},
   "outputs": [
    {
     "data": {
      "text/plain": [
       "15"
      ]
     },
     "execution_count": 84,
     "metadata": {},
     "output_type": "execute_result"
    }
   ],
   "source": [
    "viki.count(\"e\")"
   ]
  },
  {
   "cell_type": "code",
   "execution_count": 85,
   "id": "923a77fe",
   "metadata": {},
   "outputs": [
    {
     "data": {
      "text/plain": [
       "'Albert Einstein (Almanca telaffuz Tüm zamanların en iyi fizikçilerinden kabul edilen Einstein, en çok görelilik teorisini geliştirmesiyle tanınır.'"
      ]
     },
     "execution_count": 85,
     "metadata": {},
     "output_type": "execute_result"
    }
   ],
   "source": [
    "viki"
   ]
  },
  {
   "cell_type": "markdown",
   "id": "cbe64e0e",
   "metadata": {},
   "source": [
    "## SECTION : FOR"
   ]
  },
  {
   "cell_type": "code",
   "execution_count": null,
   "id": "6edc816b",
   "metadata": {},
   "outputs": [],
   "source": [
    "# ben bir n'im.. listede gezerim. Her turda bir sayiyi tasirim"
   ]
  },
  {
   "cell_type": "code",
   "execution_count": 204,
   "id": "f5c11300",
   "metadata": {},
   "outputs": [
    {
     "name": "stdout",
     "output_type": "stream",
     "text": [
      "veri: 3\n",
      "karesi : 9\n",
      "...\n",
      "veri: 4\n",
      "karesi : 16\n",
      "...\n",
      "veri: 40\n",
      "karesi : 1600\n",
      "...\n"
     ]
    }
   ],
   "source": [
    "for num in [3,4,40]:\n",
    "    print(\"veri:\",num)\n",
    "    a = num*num\n",
    "    print(\"karesi :\",a)  \n",
    "    print(\"...\")"
   ]
  },
  {
   "cell_type": "code",
   "execution_count": 206,
   "id": "cc514e68",
   "metadata": {},
   "outputs": [
    {
     "name": "stdout",
     "output_type": "stream",
     "text": [
      "veri: 3\n",
      "karesi : 9\n",
      "veri: 4\n",
      "karesi : 16\n",
      "veri: 40\n",
      "karesi : 1600\n",
      "...\n"
     ]
    }
   ],
   "source": [
    "for num in [3,4,40]:\n",
    "    print(\"veri:\",num)\n",
    "    a = num*num\n",
    "    print(\"karesi :\",a)  \n",
    "\n",
    "print(\"...\")"
   ]
  },
  {
   "cell_type": "code",
   "execution_count": 208,
   "id": "334c1552",
   "metadata": {
    "scrolled": true
   },
   "outputs": [
    {
     "name": "stdout",
     "output_type": "stream",
     "text": [
      "3\n",
      "4\n",
      "40\n"
     ]
    }
   ],
   "source": [
    "for u in [3,4,40]:\n",
    "    print(u)"
   ]
  },
  {
   "cell_type": "code",
   "execution_count": 209,
   "id": "612e562a",
   "metadata": {},
   "outputs": [
    {
     "name": "stdout",
     "output_type": "stream",
     "text": [
      "9\n",
      "16\n",
      "1600\n"
     ]
    }
   ],
   "source": [
    "for a in [3,4,40]:\n",
    "    print(a*a)"
   ]
  },
  {
   "cell_type": "code",
   "execution_count": 210,
   "id": "214349da",
   "metadata": {},
   "outputs": [
    {
     "name": "stdout",
     "output_type": "stream",
     "text": [
      "3\n",
      "9\n",
      "----\n",
      "4\n",
      "16\n",
      "----\n",
      "40\n",
      "1600\n",
      "----\n"
     ]
    }
   ],
   "source": [
    "for u in [3,4,40]:\n",
    "    print(u)\n",
    "    a = u*u\n",
    "    print(a)\n",
    "    print(\"----\")"
   ]
  },
  {
   "cell_type": "code",
   "execution_count": 211,
   "id": "8313554a",
   "metadata": {},
   "outputs": [
    {
     "name": "stdout",
     "output_type": "stream",
     "text": [
      "4\n",
      "5\n",
      "41\n",
      "15\n"
     ]
    }
   ],
   "source": [
    "for a in [3,4,40,14]:\n",
    "    a = a+1\n",
    "    print(a)"
   ]
  },
  {
   "cell_type": "code",
   "execution_count": 212,
   "id": "bcf928de",
   "metadata": {},
   "outputs": [
    {
     "name": "stdout",
     "output_type": "stream",
     "text": [
      "AGE_cat\n",
      "GENDER_cat\n",
      "INCOME_cat\n",
      "CITY_cat\n"
     ]
    }
   ],
   "source": [
    "for u in [\"Age\",\"Gender\",\"Income\",\"City\"]:\n",
    "    a = u.upper() + \"_cat\"\n",
    "    print(a)"
   ]
  },
  {
   "cell_type": "code",
   "execution_count": 213,
   "id": "f16451e7",
   "metadata": {},
   "outputs": [
    {
     "data": {
      "text/plain": [
       "'CITY_cat'"
      ]
     },
     "execution_count": 213,
     "metadata": {},
     "output_type": "execute_result"
    }
   ],
   "source": [
    "a"
   ]
  },
  {
   "cell_type": "code",
   "execution_count": 214,
   "id": "f3ef0c7e",
   "metadata": {},
   "outputs": [
    {
     "name": "stdout",
     "output_type": "stream",
     "text": [
      "0\n",
      "3\n",
      "7\n"
     ]
    }
   ],
   "source": [
    "a=0\n",
    "\n",
    "for d in [3,4,40]:\n",
    "    print(a)\n",
    "    a = a + d\n"
   ]
  },
  {
   "cell_type": "code",
   "execution_count": 215,
   "id": "ee48f9e0",
   "metadata": {},
   "outputs": [
    {
     "name": "stdout",
     "output_type": "stream",
     "text": [
      "47\n"
     ]
    }
   ],
   "source": [
    "a=0\n",
    "\n",
    "for d in [3,4,40]:\n",
    "  a = a + d\n",
    "\n",
    "print(a)"
   ]
  },
  {
   "cell_type": "code",
   "execution_count": 216,
   "id": "8e0b53f7",
   "metadata": {},
   "outputs": [
    {
     "data": {
      "text/plain": [
       "range(0, 10)"
      ]
     },
     "execution_count": 216,
     "metadata": {},
     "output_type": "execute_result"
    }
   ],
   "source": [
    "range(0, 10)"
   ]
  },
  {
   "cell_type": "code",
   "execution_count": 217,
   "id": "dee104ec",
   "metadata": {},
   "outputs": [
    {
     "name": "stdout",
     "output_type": "stream",
     "text": [
      "0\n",
      "100\n",
      "400\n",
      "900\n",
      "1600\n",
      "2500\n",
      "3600\n",
      "4900\n",
      "6400\n",
      "8100\n"
     ]
    }
   ],
   "source": [
    "for u in range(0, 100,10):\n",
    "    print(u*u)"
   ]
  },
  {
   "cell_type": "code",
   "execution_count": 218,
   "id": "74e86185",
   "metadata": {},
   "outputs": [
    {
     "name": "stdout",
     "output_type": "stream",
     "text": [
      "miuulmiuul\n",
      "miuulmiuulmiuulmiuul\n",
      "miuulmiuulmiuulmiuulmiuulmiuulmiuulmiuul\n"
     ]
    }
   ],
   "source": [
    "a = \"miuul\"\n",
    "for u in range(0, 3):\n",
    "    a=a+a\n",
    "    print(a)"
   ]
  },
  {
   "cell_type": "code",
   "execution_count": 219,
   "id": "7690aa66",
   "metadata": {},
   "outputs": [
    {
     "name": "stdout",
     "output_type": "stream",
     "text": [
      "0\n",
      "2\n",
      "4\n",
      "6\n",
      "8\n"
     ]
    }
   ],
   "source": [
    "x = range(0, 10,2)\n",
    "\n",
    "for n in x:\n",
    "  print(n)"
   ]
  },
  {
   "cell_type": "code",
   "execution_count": 220,
   "id": "21da169b",
   "metadata": {},
   "outputs": [
    {
     "name": "stdout",
     "output_type": "stream",
     "text": [
      "su anda a: 0\n",
      "su anda n: 0\n",
      "---------\n",
      "su anda a: 3\n",
      "su anda a: 3\n",
      "su anda n: 2\n",
      "---------\n",
      "su anda a: 5\n",
      "su anda a: 5\n",
      "su anda n: 4\n",
      "---------\n",
      "su anda a: 7\n",
      "su anda a: 7\n",
      "su anda n: 6\n",
      "---------\n",
      "su anda a: 9\n",
      "su anda a: 9\n",
      "su anda n: 8\n",
      "---------\n",
      "su anda a: 11\n"
     ]
    }
   ],
   "source": [
    "x = range(0, 10,2)\n",
    "a=0\n",
    "for n in x:\n",
    "  print(\"su anda a:\", a)\n",
    "  print(\"su anda n:\", n)\n",
    "  print(\"---------\")\n",
    "  a =n+3\n",
    "  print(\"su anda a:\", a)\n"
   ]
  },
  {
   "cell_type": "code",
   "execution_count": 221,
   "id": "ea74caa2",
   "metadata": {},
   "outputs": [
    {
     "name": "stdout",
     "output_type": "stream",
     "text": [
      "0\n",
      "2\n",
      "4\n",
      "6\n",
      "8\n"
     ]
    }
   ],
   "source": [
    "x = range(0, 10,2)\n",
    "\n",
    "for n in x:\n",
    "  print(n)"
   ]
  },
  {
   "cell_type": "code",
   "execution_count": 222,
   "id": "14b90e2a",
   "metadata": {},
   "outputs": [
    {
     "name": "stdout",
     "output_type": "stream",
     "text": [
      "0\n",
      "5\n",
      "10\n"
     ]
    }
   ],
   "source": [
    "for u in range(0, 15,5):\n",
    "    print(u)"
   ]
  },
  {
   "cell_type": "code",
   "execution_count": 223,
   "id": "d42aa39c",
   "metadata": {},
   "outputs": [
    {
     "data": {
      "text/plain": [
       "[100]"
      ]
     },
     "execution_count": 223,
     "metadata": {},
     "output_type": "execute_result"
    }
   ],
   "source": [
    "listem = [100]\n",
    "listem"
   ]
  },
  {
   "cell_type": "code",
   "execution_count": 224,
   "id": "560bee9f",
   "metadata": {},
   "outputs": [],
   "source": [
    "listem.insert(1,200)"
   ]
  },
  {
   "cell_type": "code",
   "execution_count": 225,
   "id": "1595dc5e",
   "metadata": {},
   "outputs": [
    {
     "data": {
      "text/plain": [
       "[100, 200]"
      ]
     },
     "execution_count": 225,
     "metadata": {},
     "output_type": "execute_result"
    }
   ],
   "source": [
    "listem"
   ]
  },
  {
   "cell_type": "code",
   "execution_count": 226,
   "id": "5105ff66",
   "metadata": {},
   "outputs": [
    {
     "name": "stdout",
     "output_type": "stream",
     "text": [
      "[100, 100]\n",
      "[100, 105, 100]\n",
      "[100, 110, 105, 100]\n",
      "[100, 115, 110, 105, 100]\n",
      "[100, 120, 115, 110, 105, 100]\n",
      "[100, 125, 120, 115, 110, 105, 100]\n",
      "[100, 130, 125, 120, 115, 110, 105, 100]\n",
      "[100, 135, 130, 125, 120, 115, 110, 105, 100]\n",
      "[100, 140, 135, 130, 125, 120, 115, 110, 105, 100]\n",
      "[100, 145, 140, 135, 130, 125, 120, 115, 110, 105, 100]\n",
      "[100, 150, 145, 140, 135, 130, 125, 120, 115, 110, 105, 100]\n",
      "[100, 155, 150, 145, 140, 135, 130, 125, 120, 115, 110, 105, 100]\n",
      "[100, 160, 155, 150, 145, 140, 135, 130, 125, 120, 115, 110, 105, 100]\n",
      "[100, 165, 160, 155, 150, 145, 140, 135, 130, 125, 120, 115, 110, 105, 100]\n",
      "[100, 170, 165, 160, 155, 150, 145, 140, 135, 130, 125, 120, 115, 110, 105, 100]\n",
      "[100, 175, 170, 165, 160, 155, 150, 145, 140, 135, 130, 125, 120, 115, 110, 105, 100]\n",
      "[100, 180, 175, 170, 165, 160, 155, 150, 145, 140, 135, 130, 125, 120, 115, 110, 105, 100]\n",
      "[100, 185, 180, 175, 170, 165, 160, 155, 150, 145, 140, 135, 130, 125, 120, 115, 110, 105, 100]\n",
      "[100, 190, 185, 180, 175, 170, 165, 160, 155, 150, 145, 140, 135, 130, 125, 120, 115, 110, 105, 100]\n",
      "[100, 195, 190, 185, 180, 175, 170, 165, 160, 155, 150, 145, 140, 135, 130, 125, 120, 115, 110, 105, 100]\n"
     ]
    }
   ],
   "source": [
    "listem = [100]\n",
    "\n",
    "\n",
    "for u in range(0, 100,5):\n",
    "    listem.insert(1,listem[0]+u)\n",
    "    print(listem)"
   ]
  },
  {
   "cell_type": "markdown",
   "id": "6bdc57c7",
   "metadata": {},
   "source": [
    "# def - Benim Fonksiyonum"
   ]
  },
  {
   "cell_type": "code",
   "execution_count": 242,
   "id": "c6cc7cc3",
   "metadata": {},
   "outputs": [],
   "source": [
    "listem = \"miuul\""
   ]
  },
  {
   "cell_type": "code",
   "execution_count": 246,
   "id": "a5117d80",
   "metadata": {},
   "outputs": [
    {
     "data": {
      "text/plain": [
       "'MIUUL'"
      ]
     },
     "execution_count": 246,
     "metadata": {},
     "output_type": "execute_result"
    }
   ],
   "source": [
    "listem.upper()"
   ]
  },
  {
   "cell_type": "code",
   "execution_count": 247,
   "id": "7c788b2f",
   "metadata": {},
   "outputs": [
    {
     "name": "stdout",
     "output_type": "stream",
     "text": [
      "M\n",
      "I\n",
      "U\n",
      "U\n",
      "L\n"
     ]
    }
   ],
   "source": [
    "for m in listem:\n",
    "    print(m.upper())"
   ]
  },
  {
   "cell_type": "code",
   "execution_count": 248,
   "id": "8ca8ccac",
   "metadata": {},
   "outputs": [],
   "source": [
    "def kendifonksiyonum(listem):\n",
    "    for m in listem:\n",
    "        print(m.upper())"
   ]
  },
  {
   "cell_type": "code",
   "execution_count": 249,
   "id": "0c3122b8",
   "metadata": {},
   "outputs": [
    {
     "name": "stdout",
     "output_type": "stream",
     "text": [
      "M\n",
      "I\n",
      "U\n",
      "U\n",
      "L\n"
     ]
    }
   ],
   "source": [
    "kendifonksiyonum(\"miuul\")"
   ]
  },
  {
   "cell_type": "code",
   "execution_count": 250,
   "id": "5a071205",
   "metadata": {},
   "outputs": [
    {
     "name": "stdout",
     "output_type": "stream",
     "text": [
      "G\n",
      "I\n",
      "Z\n",
      "A\n",
      "Y\n"
     ]
    }
   ],
   "source": [
    "kendifonksiyonum(\"gizay\")"
   ]
  },
  {
   "cell_type": "code",
   "execution_count": 251,
   "id": "a8adf2c2",
   "metadata": {},
   "outputs": [
    {
     "name": "stdout",
     "output_type": "stream",
     "text": [
      "B\n",
      "O\n",
      "O\n",
      "T\n",
      "C\n",
      "A\n",
      "M\n",
      "P\n"
     ]
    }
   ],
   "source": [
    "kendifonksiyonum(\"bootcamp\")"
   ]
  },
  {
   "cell_type": "code",
   "execution_count": 252,
   "id": "2c5913ad",
   "metadata": {},
   "outputs": [
    {
     "data": {
      "text/plain": [
       "7"
      ]
     },
     "execution_count": 252,
     "metadata": {},
     "output_type": "execute_result"
    }
   ],
   "source": [
    "a = 3\n",
    "b = 4\n",
    "a+b"
   ]
  },
  {
   "cell_type": "code",
   "execution_count": 253,
   "id": "cac23043",
   "metadata": {},
   "outputs": [],
   "source": [
    "def halil():\n",
    "    a=3\n",
    "    b=4\n",
    "    print(a+b)"
   ]
  },
  {
   "cell_type": "code",
   "execution_count": 258,
   "id": "2680c75a",
   "metadata": {},
   "outputs": [
    {
     "name": "stdout",
     "output_type": "stream",
     "text": [
      "7\n"
     ]
    }
   ],
   "source": [
    "halil()"
   ]
  },
  {
   "cell_type": "code",
   "execution_count": 259,
   "id": "fac78b30",
   "metadata": {},
   "outputs": [],
   "source": [
    "def halil(a,b):\n",
    "    print(a+b)"
   ]
  },
  {
   "cell_type": "code",
   "execution_count": 262,
   "id": "2c963603",
   "metadata": {},
   "outputs": [
    {
     "name": "stdout",
     "output_type": "stream",
     "text": [
      "10\n"
     ]
    }
   ],
   "source": [
    "halil(6,4)"
   ]
  },
  {
   "cell_type": "code",
   "execution_count": 263,
   "id": "dab8391d",
   "metadata": {},
   "outputs": [
    {
     "name": "stdout",
     "output_type": "stream",
     "text": [
      "7\n"
     ]
    }
   ],
   "source": [
    "halil(3,4)"
   ]
  },
  {
   "cell_type": "code",
   "execution_count": 264,
   "id": "d9d449bc",
   "metadata": {},
   "outputs": [],
   "source": [
    "def toplama(a,b):\n",
    "    c=a+b\n",
    "    print(c)"
   ]
  },
  {
   "cell_type": "code",
   "execution_count": 265,
   "id": "c4141b80",
   "metadata": {},
   "outputs": [
    {
     "name": "stdout",
     "output_type": "stream",
     "text": [
      "6\n"
     ]
    }
   ],
   "source": [
    "toplama(2,4)"
   ]
  },
  {
   "cell_type": "code",
   "execution_count": 266,
   "id": "70599470",
   "metadata": {},
   "outputs": [],
   "source": [
    "def umut(f,l,k):\n",
    "    x = range(f, l,k)\n",
    "    for n in x:\n",
    "        print(n) "
   ]
  },
  {
   "cell_type": "code",
   "execution_count": 268,
   "id": "c685358b",
   "metadata": {},
   "outputs": [],
   "source": [
    "# umut(3,100,4)"
   ]
  },
  {
   "cell_type": "code",
   "execution_count": 269,
   "id": "4d629354",
   "metadata": {},
   "outputs": [],
   "source": [
    "def for_ogreniyorum(a,b,c): # def ile for_ogreniyorum adında bir fonksiyon tanımlıyorum. Fonksiyon 3 parametreli.\n",
    "    x = range(a, b,c) # 3 parametre rangre fonsiyonunun verileri için gerekli. range' i x e atıyorum\n",
    "    for n in x:       # for döngüsü ile x range'i içindeki bilgilerde dolaşıyorum ve \n",
    "        print(n*n)    # her bir bilginin karesini alıp yazdırıyorum"
   ]
  },
  {
   "cell_type": "code",
   "execution_count": 270,
   "id": "c518bd9f",
   "metadata": {},
   "outputs": [
    {
     "name": "stdout",
     "output_type": "stream",
     "text": [
      "4\n",
      "36\n",
      "100\n",
      "196\n",
      "324\n",
      "484\n",
      "676\n",
      "900\n",
      "1156\n",
      "1444\n"
     ]
    }
   ],
   "source": [
    "for_ogreniyorum(2,40,4)"
   ]
  },
  {
   "cell_type": "code",
   "execution_count": 271,
   "id": "9723a93e",
   "metadata": {},
   "outputs": [
    {
     "name": "stdout",
     "output_type": "stream",
     "text": [
      "1\n",
      "25\n",
      "81\n",
      "169\n",
      "289\n",
      "441\n",
      "625\n",
      "841\n"
     ]
    }
   ],
   "source": [
    "for_ogreniyorum(1,30,4)"
   ]
  },
  {
   "cell_type": "code",
   "execution_count": 272,
   "id": "4aef3d8f",
   "metadata": {},
   "outputs": [
    {
     "name": "stdout",
     "output_type": "stream",
     "text": [
      "16\n",
      "49\n",
      "100\n",
      "169\n",
      "256\n",
      "361\n",
      "484\n",
      "625\n",
      "784\n",
      "961\n",
      "1156\n",
      "1369\n",
      "1600\n",
      "1849\n",
      "2116\n",
      "2401\n",
      "2704\n"
     ]
    }
   ],
   "source": [
    "for_ogreniyorum(4,54,3)"
   ]
  },
  {
   "cell_type": "code",
   "execution_count": 274,
   "id": "38bcaffc",
   "metadata": {},
   "outputs": [
    {
     "name": "stdout",
     "output_type": "stream",
     "text": [
      "book\n"
     ]
    },
    {
     "data": {
      "text/plain": [
       "'bookbook'"
      ]
     },
     "execution_count": 274,
     "metadata": {},
     "output_type": "execute_result"
    }
   ],
   "source": [
    "a =input()*2\n",
    "a"
   ]
  },
  {
   "cell_type": "code",
   "execution_count": 275,
   "id": "c2e9e226",
   "metadata": {},
   "outputs": [],
   "source": [
    "def sum_function():\n",
    "    \n",
    "\n",
    "    print(\"The first number : \")\n",
    "    \n",
    "    num1 = int(input())\n",
    "    \n",
    "    print(\"The second number : \")\n",
    "    \n",
    "    num2 = int(input())\n",
    "    \n",
    "    print(\"Total: \",num1 + num2)\n",
    "    "
   ]
  },
  {
   "cell_type": "code",
   "execution_count": 276,
   "id": "25f415c0",
   "metadata": {},
   "outputs": [
    {
     "name": "stdout",
     "output_type": "stream",
     "text": [
      "The first number : \n",
      "3\n",
      "The second number : \n",
      "4\n",
      "Total:  7\n"
     ]
    }
   ],
   "source": [
    "sum_function()"
   ]
  },
  {
   "cell_type": "code",
   "execution_count": null,
   "id": "9f38bb6f",
   "metadata": {},
   "outputs": [],
   "source": [
    "#Liste>>>Array>>>DataFrame\n",
    "#Orj>>>Numpy>>>Pandas +++ Veri Manipulasyonu\n",
    "#Veri Gorsellestirme .. "
   ]
  },
  {
   "cell_type": "code",
   "execution_count": 277,
   "id": "72ba593f",
   "metadata": {},
   "outputs": [],
   "source": [
    "a = [10,20]\n",
    "b = [22,23]"
   ]
  },
  {
   "cell_type": "code",
   "execution_count": 278,
   "id": "5ce4c475",
   "metadata": {},
   "outputs": [],
   "source": [
    "c = a+b"
   ]
  },
  {
   "cell_type": "code",
   "execution_count": 279,
   "id": "da544549",
   "metadata": {},
   "outputs": [
    {
     "data": {
      "text/plain": [
       "[10, 20, 22, 23]"
      ]
     },
     "execution_count": 279,
     "metadata": {},
     "output_type": "execute_result"
    }
   ],
   "source": [
    "c"
   ]
  },
  {
   "cell_type": "markdown",
   "id": "9b5c3d07",
   "metadata": {},
   "source": [
    "## Ödev..\n",
    "\n",
    "* Notebooku baştan sona RUN edin\n",
    "\n",
    "* İstediğiniz 10 tane satıra o satırda olan işlemi comment olarak yazın\n",
    "\n",
    "* a = [10,20,30,40] ve b = [22,23,24,25] iki listeyi toplayıp c = [32,43,54,65] olușturun, for, append() kullanınız"
   ]
  },
  {
   "cell_type": "code",
   "execution_count": 281,
   "id": "e2b30ff8",
   "metadata": {},
   "outputs": [
    {
     "data": {
      "text/plain": [
       "[10, 20, 30, 40, 22, 23, 24, 25]"
      ]
     },
     "execution_count": 281,
     "metadata": {},
     "output_type": "execute_result"
    }
   ],
   "source": [
    "a = [10,20,30,40]\n",
    "b = [22,23,24,25]\n",
    "a+b"
   ]
  }
 ],
 "metadata": {
  "kernelspec": {
   "display_name": "Python 3 (ipykernel)",
   "language": "python",
   "name": "python3"
  },
  "language_info": {
   "codemirror_mode": {
    "name": "ipython",
    "version": 3
   },
   "file_extension": ".py",
   "mimetype": "text/x-python",
   "name": "python",
   "nbconvert_exporter": "python",
   "pygments_lexer": "ipython3",
   "version": "3.11.4"
  }
 },
 "nbformat": 4,
 "nbformat_minor": 5
}
