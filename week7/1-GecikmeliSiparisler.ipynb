{
    "metadata": {
        "kernelspec": {
            "name": "SQL",
            "display_name": "SQL",
            "language": "sql"
        },
        "language_info": {
            "name": "sql",
            "version": ""
        }
    },
    "nbformat_minor": 2,
    "nbformat": 4,
    "cells": [
        {
            "cell_type": "markdown",
            "source": [
                "1\\. \"Geciken Urunler\" ortalama kaç gün geciktiğini bulan sorguyu yazınız."
            ],
            "metadata": {
                "azdata_cell_guid": "24c4adcf-d335-462e-b85a-5f34dbd7445e"
            },
            "attachments": {}
        },
        {
            "cell_type": "code",
            "source": [
                "SELECT \r\n",
                "OrderID,\r\n",
                "DATEDIFF(DAY,ShippedDate,RequiredDate) AS GecikmeSüresi\r\n",
                "FROM \r\n",
                "Orders\r\n",
                "WHERE \r\n",
                "DATEDIFF(DAY,ShippedDate,RequiredDate) > 0\r\n",
                ""
            ],
            "metadata": {
                "azdata_cell_guid": "48d4f8bd-3fd3-4c5a-81d6-f07e00bca210",
                "language": "sql"
            },
            "outputs": [
                {
                    "output_type": "display_data",
                    "data": {
                        "text/html": "(769 rows affected)"
                    },
                    "metadata": {}
                },
                {
                    "output_type": "display_data",
                    "data": {
                        "text/html": "Total execution time: 00:00:00.075"
                    },
                    "metadata": {}
                },
                {
                    "output_type": "execute_result",
                    "metadata": {},
                    "execution_count": 1,
                    "data": {
                        "application/vnd.dataresource+json": {
                            "schema": {
                                "fields": [
                                    {
                                        "name": "OrderID"
                                    },
                                    {
                                        "name": "GecikmeSüresi"
                                    }
                                ]
                            },
                            "data": [
                                {
                                    "OrderID": "10248",
                                    "GecikmeSüresi": "16"
                                },
                                {
                                    "OrderID": "10249",
                                    "GecikmeSüresi": "37"
                                },
                                {
                                    "OrderID": "10250",
                                    "GecikmeSüresi": "24"
                                },
                                {
                                    "OrderID": "10251",
                                    "GecikmeSüresi": "21"
                                },
                                {
                                    "OrderID": "10252",
                                    "GecikmeSüresi": "26"
                                },
                                {
                                    "OrderID": "10253",
                                    "GecikmeSüresi": "8"
                                },
                                {
                                    "OrderID": "10254",
                                    "GecikmeSüresi": "16"
                                },
                                {
                                    "OrderID": "10255",
                                    "GecikmeSüresi": "25"
                                },
                                {
                                    "OrderID": "10256",
                                    "GecikmeSüresi": "26"
                                },
                                {
                                    "OrderID": "10257",
                                    "GecikmeSüresi": "22"
                                },
                                {
                                    "OrderID": "10258",
                                    "GecikmeSüresi": "22"
                                },
                                {
                                    "OrderID": "10259",
                                    "GecikmeSüresi": "21"
                                },
                                {
                                    "OrderID": "10260",
                                    "GecikmeSüresi": "18"
                                },
                                {
                                    "OrderID": "10261",
                                    "GecikmeSüresi": "17"
                                },
                                {
                                    "OrderID": "10262",
                                    "GecikmeSüresi": "25"
                                },
                                {
                                    "OrderID": "10263",
                                    "GecikmeSüresi": "20"
                                },
                                {
                                    "OrderID": "10265",
                                    "GecikmeSüresi": "10"
                                },
                                {
                                    "OrderID": "10266",
                                    "GecikmeSüresi": "37"
                                },
                                {
                                    "OrderID": "10267",
                                    "GecikmeSüresi": "20"
                                },
                                {
                                    "OrderID": "10268",
                                    "GecikmeSüresi": "25"
                                },
                                {
                                    "OrderID": "10269",
                                    "GecikmeSüresi": "5"
                                },
                                {
                                    "OrderID": "10270",
                                    "GecikmeSüresi": "27"
                                },
                                {
                                    "OrderID": "10272",
                                    "GecikmeSüresi": "24"
                                },
                                {
                                    "OrderID": "10273",
                                    "GecikmeSüresi": "21"
                                },
                                {
                                    "OrderID": "10274",
                                    "GecikmeSüresi": "18"
                                },
                                {
                                    "OrderID": "10275",
                                    "GecikmeSüresi": "26"
                                },
                                {
                                    "OrderID": "10276",
                                    "GecikmeSüresi": "8"
                                },
                                {
                                    "OrderID": "10277",
                                    "GecikmeSüresi": "24"
                                },
                                {
                                    "OrderID": "10278",
                                    "GecikmeSüresi": "24"
                                },
                                {
                                    "OrderID": "10279",
                                    "GecikmeSüresi": "25"
                                },
                                {
                                    "OrderID": "10281",
                                    "GecikmeSüresi": "7"
                                },
                                {
                                    "OrderID": "10282",
                                    "GecikmeSüresi": "22"
                                },
                                {
                                    "OrderID": "10283",
                                    "GecikmeSüresi": "21"
                                },
                                {
                                    "OrderID": "10284",
                                    "GecikmeSüresi": "20"
                                },
                                {
                                    "OrderID": "10285",
                                    "GecikmeSüresi": "22"
                                },
                                {
                                    "OrderID": "10286",
                                    "GecikmeSüresi": "19"
                                },
                                {
                                    "OrderID": "10287",
                                    "GecikmeSüresi": "22"
                                },
                                {
                                    "OrderID": "10288",
                                    "GecikmeSüresi": "17"
                                },
                                {
                                    "OrderID": "10289",
                                    "GecikmeSüresi": "26"
                                },
                                {
                                    "OrderID": "10290",
                                    "GecikmeSüresi": "21"
                                },
                                {
                                    "OrderID": "10291",
                                    "GecikmeSüresi": "20"
                                },
                                {
                                    "OrderID": "10292",
                                    "GecikmeSüresi": "23"
                                },
                                {
                                    "OrderID": "10293",
                                    "GecikmeSüresi": "15"
                                },
                                {
                                    "OrderID": "10294",
                                    "GecikmeSüresi": "22"
                                },
                                {
                                    "OrderID": "10295",
                                    "GecikmeSüresi": "20"
                                },
                                {
                                    "OrderID": "10296",
                                    "GecikmeSüresi": "20"
                                },
                                {
                                    "OrderID": "10297",
                                    "GecikmeSüresi": "36"
                                },
                                {
                                    "OrderID": "10298",
                                    "GecikmeSüresi": "22"
                                },
                                {
                                    "OrderID": "10299",
                                    "GecikmeSüresi": "21"
                                },
                                {
                                    "OrderID": "10300",
                                    "GecikmeSüresi": "19"
                                },
                                {
                                    "OrderID": "10301",
                                    "GecikmeSüresi": "20"
                                },
                                {
                                    "OrderID": "10303",
                                    "GecikmeSüresi": "21"
                                },
                                {
                                    "OrderID": "10304",
                                    "GecikmeSüresi": "23"
                                },
                                {
                                    "OrderID": "10305",
                                    "GecikmeSüresi": "2"
                                },
                                {
                                    "OrderID": "10306",
                                    "GecikmeSüresi": "21"
                                },
                                {
                                    "OrderID": "10307",
                                    "GecikmeSüresi": "20"
                                },
                                {
                                    "OrderID": "10308",
                                    "GecikmeSüresi": "22"
                                },
                                {
                                    "OrderID": "10310",
                                    "GecikmeSüresi": "21"
                                },
                                {
                                    "OrderID": "10311",
                                    "GecikmeSüresi": "8"
                                },
                                {
                                    "OrderID": "10312",
                                    "GecikmeSüresi": "18"
                                },
                                {
                                    "OrderID": "10313",
                                    "GecikmeSüresi": "18"
                                },
                                {
                                    "OrderID": "10314",
                                    "GecikmeSüresi": "19"
                                },
                                {
                                    "OrderID": "10315",
                                    "GecikmeSüresi": "21"
                                },
                                {
                                    "OrderID": "10316",
                                    "GecikmeSüresi": "17"
                                },
                                {
                                    "OrderID": "10317",
                                    "GecikmeSüresi": "18"
                                },
                                {
                                    "OrderID": "10318",
                                    "GecikmeSüresi": "25"
                                },
                                {
                                    "OrderID": "10319",
                                    "GecikmeSüresi": "19"
                                },
                                {
                                    "OrderID": "10321",
                                    "GecikmeSüresi": "20"
                                },
                                {
                                    "OrderID": "10322",
                                    "GecikmeSüresi": "9"
                                },
                                {
                                    "OrderID": "10323",
                                    "GecikmeSüresi": "21"
                                },
                                {
                                    "OrderID": "10324",
                                    "GecikmeSüresi": "26"
                                },
                                {
                                    "OrderID": "10325",
                                    "GecikmeSüresi": "9"
                                },
                                {
                                    "OrderID": "10326",
                                    "GecikmeSüresi": "24"
                                },
                                {
                                    "OrderID": "10327",
                                    "GecikmeSüresi": "25"
                                },
                                {
                                    "OrderID": "10328",
                                    "GecikmeSüresi": "25"
                                },
                                {
                                    "OrderID": "10329",
                                    "GecikmeSüresi": "34"
                                },
                                {
                                    "OrderID": "10330",
                                    "GecikmeSüresi": "16"
                                },
                                {
                                    "OrderID": "10331",
                                    "GecikmeSüresi": "37"
                                },
                                {
                                    "OrderID": "10332",
                                    "GecikmeSüresi": "38"
                                },
                                {
                                    "OrderID": "10333",
                                    "GecikmeSüresi": "21"
                                },
                                {
                                    "OrderID": "10334",
                                    "GecikmeSüresi": "21"
                                },
                                {
                                    "OrderID": "10335",
                                    "GecikmeSüresi": "26"
                                },
                                {
                                    "OrderID": "10336",
                                    "GecikmeSüresi": "26"
                                },
                                {
                                    "OrderID": "10337",
                                    "GecikmeSüresi": "23"
                                },
                                {
                                    "OrderID": "10338",
                                    "GecikmeSüresi": "24"
                                },
                                {
                                    "OrderID": "10339",
                                    "GecikmeSüresi": "21"
                                },
                                {
                                    "OrderID": "10340",
                                    "GecikmeSüresi": "18"
                                },
                                {
                                    "OrderID": "10341",
                                    "GecikmeSüresi": "21"
                                },
                                {
                                    "OrderID": "10342",
                                    "GecikmeSüresi": "9"
                                },
                                {
                                    "OrderID": "10343",
                                    "GecikmeSüresi": "22"
                                },
                                {
                                    "OrderID": "10344",
                                    "GecikmeSüresi": "24"
                                },
                                {
                                    "OrderID": "10345",
                                    "GecikmeSüresi": "21"
                                },
                                {
                                    "OrderID": "10346",
                                    "GecikmeSüresi": "39"
                                },
                                {
                                    "OrderID": "10347",
                                    "GecikmeSüresi": "26"
                                },
                                {
                                    "OrderID": "10348",
                                    "GecikmeSüresi": "20"
                                },
                                {
                                    "OrderID": "10349",
                                    "GecikmeSüresi": "21"
                                },
                                {
                                    "OrderID": "10350",
                                    "GecikmeSüresi": "6"
                                },
                                {
                                    "OrderID": "10351",
                                    "GecikmeSüresi": "19"
                                },
                                {
                                    "OrderID": "10352",
                                    "GecikmeSüresi": "8"
                                },
                                {
                                    "OrderID": "10353",
                                    "GecikmeSüresi": "16"
                                },
                                {
                                    "OrderID": "10354",
                                    "GecikmeSüresi": "22"
                                },
                                {
                                    "OrderID": "10355",
                                    "GecikmeSüresi": "23"
                                },
                                {
                                    "OrderID": "10356",
                                    "GecikmeSüresi": "19"
                                },
                                {
                                    "OrderID": "10357",
                                    "GecikmeSüresi": "15"
                                },
                                {
                                    "OrderID": "10358",
                                    "GecikmeSüresi": "21"
                                },
                                {
                                    "OrderID": "10359",
                                    "GecikmeSüresi": "23"
                                },
                                {
                                    "OrderID": "10360",
                                    "GecikmeSüresi": "18"
                                },
                                {
                                    "OrderID": "10361",
                                    "GecikmeSüresi": "17"
                                },
                                {
                                    "OrderID": "10362",
                                    "GecikmeSüresi": "25"
                                },
                                {
                                    "OrderID": "10363",
                                    "GecikmeSüresi": "20"
                                },
                                {
                                    "OrderID": "10364",
                                    "GecikmeSüresi": "34"
                                },
                                {
                                    "OrderID": "10365",
                                    "GecikmeSüresi": "23"
                                },
                                {
                                    "OrderID": "10366",
                                    "GecikmeSüresi": "10"
                                },
                                {
                                    "OrderID": "10367",
                                    "GecikmeSüresi": "24"
                                },
                                {
                                    "OrderID": "10368",
                                    "GecikmeSüresi": "25"
                                },
                                {
                                    "OrderID": "10369",
                                    "GecikmeSüresi": "21"
                                },
                                {
                                    "OrderID": "10370",
                                    "GecikmeSüresi": "4"
                                },
                                {
                                    "OrderID": "10371",
                                    "GecikmeSüresi": "7"
                                },
                                {
                                    "OrderID": "10372",
                                    "GecikmeSüresi": "23"
                                },
                                {
                                    "OrderID": "10373",
                                    "GecikmeSüresi": "22"
                                },
                                {
                                    "OrderID": "10374",
                                    "GecikmeSüresi": "24"
                                },
                                {
                                    "OrderID": "10375",
                                    "GecikmeSüresi": "25"
                                },
                                {
                                    "OrderID": "10376",
                                    "GecikmeSüresi": "24"
                                },
                                {
                                    "OrderID": "10377",
                                    "GecikmeSüresi": "24"
                                },
                                {
                                    "OrderID": "10378",
                                    "GecikmeSüresi": "19"
                                },
                                {
                                    "OrderID": "10379",
                                    "GecikmeSüresi": "26"
                                },
                                {
                                    "OrderID": "10381",
                                    "GecikmeSüresi": "27"
                                },
                                {
                                    "OrderID": "10382",
                                    "GecikmeSüresi": "25"
                                },
                                {
                                    "OrderID": "10383",
                                    "GecikmeSüresi": "26"
                                },
                                {
                                    "OrderID": "10384",
                                    "GecikmeSüresi": "24"
                                },
                                {
                                    "OrderID": "10385",
                                    "GecikmeSüresi": "22"
                                },
                                {
                                    "OrderID": "10386",
                                    "GecikmeSüresi": "7"
                                },
                                {
                                    "OrderID": "10387",
                                    "GecikmeSüresi": "26"
                                },
                                {
                                    "OrderID": "10388",
                                    "GecikmeSüresi": "27"
                                },
                                {
                                    "OrderID": "10389",
                                    "GecikmeSüresi": "24"
                                },
                                {
                                    "OrderID": "10390",
                                    "GecikmeSüresi": "25"
                                },
                                {
                                    "OrderID": "10391",
                                    "GecikmeSüresi": "20"
                                },
                                {
                                    "OrderID": "10392",
                                    "GecikmeSüresi": "20"
                                },
                                {
                                    "OrderID": "10393",
                                    "GecikmeSüresi": "19"
                                },
                                {
                                    "OrderID": "10394",
                                    "GecikmeSüresi": "19"
                                },
                                {
                                    "OrderID": "10395",
                                    "GecikmeSüresi": "20"
                                },
                                {
                                    "OrderID": "10396",
                                    "GecikmeSüresi": "4"
                                },
                                {
                                    "OrderID": "10397",
                                    "GecikmeSüresi": "22"
                                },
                                {
                                    "OrderID": "10398",
                                    "GecikmeSüresi": "18"
                                },
                                {
                                    "OrderID": "10399",
                                    "GecikmeSüresi": "6"
                                },
                                {
                                    "OrderID": "10400",
                                    "GecikmeSüresi": "13"
                                },
                                {
                                    "OrderID": "10401",
                                    "GecikmeSüresi": "19"
                                },
                                {
                                    "OrderID": "10402",
                                    "GecikmeSüresi": "34"
                                },
                                {
                                    "OrderID": "10403",
                                    "GecikmeSüresi": "22"
                                },
                                {
                                    "OrderID": "10404",
                                    "GecikmeSüresi": "23"
                                },
                                {
                                    "OrderID": "10405",
                                    "GecikmeSüresi": "12"
                                },
                                {
                                    "OrderID": "10406",
                                    "GecikmeSüresi": "36"
                                },
                                {
                                    "OrderID": "10407",
                                    "GecikmeSüresi": "5"
                                },
                                {
                                    "OrderID": "10408",
                                    "GecikmeSüresi": "22"
                                },
                                {
                                    "OrderID": "10409",
                                    "GecikmeSüresi": "23"
                                },
                                {
                                    "OrderID": "10410",
                                    "GecikmeSüresi": "23"
                                },
                                {
                                    "OrderID": "10411",
                                    "GecikmeSüresi": "17"
                                },
                                {
                                    "OrderID": "10412",
                                    "GecikmeSüresi": "26"
                                },
                                {
                                    "OrderID": "10413",
                                    "GecikmeSüresi": "26"
                                },
                                {
                                    "OrderID": "10414",
                                    "GecikmeSüresi": "25"
                                },
                                {
                                    "OrderID": "10415",
                                    "GecikmeSüresi": "19"
                                },
                                {
                                    "OrderID": "10416",
                                    "GecikmeSüresi": "17"
                                },
                                {
                                    "OrderID": "10417",
                                    "GecikmeSüresi": "16"
                                },
                                {
                                    "OrderID": "10418",
                                    "GecikmeSüresi": "21"
                                },
                                {
                                    "OrderID": "10419",
                                    "GecikmeSüresi": "18"
                                },
                                {
                                    "OrderID": "10420",
                                    "GecikmeSüresi": "22"
                                },
                                {
                                    "OrderID": "10421",
                                    "GecikmeSüresi": "36"
                                },
                                {
                                    "OrderID": "10422",
                                    "GecikmeSüresi": "19"
                                },
                                {
                                    "OrderID": "10424",
                                    "GecikmeSüresi": "24"
                                },
                                {
                                    "OrderID": "10425",
                                    "GecikmeSüresi": "7"
                                },
                                {
                                    "OrderID": "10426",
                                    "GecikmeSüresi": "18"
                                },
                                {
                                    "OrderID": "10428",
                                    "GecikmeSüresi": "21"
                                },
                                {
                                    "OrderID": "10429",
                                    "GecikmeSüresi": "33"
                                },
                                {
                                    "OrderID": "10430",
                                    "GecikmeSüresi": "10"
                                },
                                {
                                    "OrderID": "10431",
                                    "GecikmeSüresi": "6"
                                },
                                {
                                    "OrderID": "10432",
                                    "GecikmeSüresi": "7"
                                },
                                {
                                    "OrderID": "10434",
                                    "GecikmeSüresi": "18"
                                },
                                {
                                    "OrderID": "10435",
                                    "GecikmeSüresi": "39"
                                },
                                {
                                    "OrderID": "10436",
                                    "GecikmeSüresi": "22"
                                },
                                {
                                    "OrderID": "10437",
                                    "GecikmeSüresi": "21"
                                },
                                {
                                    "OrderID": "10438",
                                    "GecikmeSüresi": "20"
                                },
                                {
                                    "OrderID": "10439",
                                    "GecikmeSüresi": "25"
                                },
                                {
                                    "OrderID": "10440",
                                    "GecikmeSüresi": "10"
                                },
                                {
                                    "OrderID": "10441",
                                    "GecikmeSüresi": "10"
                                },
                                {
                                    "OrderID": "10442",
                                    "GecikmeSüresi": "21"
                                },
                                {
                                    "OrderID": "10443",
                                    "GecikmeSüresi": "26"
                                },
                                {
                                    "OrderID": "10444",
                                    "GecikmeSüresi": "19"
                                },
                                {
                                    "OrderID": "10445",
                                    "GecikmeSüresi": "21"
                                },
                                {
                                    "OrderID": "10446",
                                    "GecikmeSüresi": "23"
                                },
                                {
                                    "OrderID": "10447",
                                    "GecikmeSüresi": "7"
                                },
                                {
                                    "OrderID": "10448",
                                    "GecikmeSüresi": "21"
                                },
                                {
                                    "OrderID": "10449",
                                    "GecikmeSüresi": "19"
                                },
                                {
                                    "OrderID": "10450",
                                    "GecikmeSüresi": "8"
                                },
                                {
                                    "OrderID": "10452",
                                    "GecikmeSüresi": "22"
                                },
                                {
                                    "OrderID": "10453",
                                    "GecikmeSüresi": "23"
                                },
                                {
                                    "OrderID": "10454",
                                    "GecikmeSüresi": "24"
                                },
                                {
                                    "OrderID": "10455",
                                    "GecikmeSüresi": "35"
                                },
                                {
                                    "OrderID": "10456",
                                    "GecikmeSüresi": "39"
                                },
                                {
                                    "OrderID": "10457",
                                    "GecikmeSüresi": "22"
                                },
                                {
                                    "OrderID": "10458",
                                    "GecikmeSüresi": "22"
                                },
                                {
                                    "OrderID": "10459",
                                    "GecikmeSüresi": "27"
                                },
                                {
                                    "OrderID": "10460",
                                    "GecikmeSüresi": "25"
                                },
                                {
                                    "OrderID": "10461",
                                    "GecikmeSüresi": "23"
                                },
                                {
                                    "OrderID": "10462",
                                    "GecikmeSüresi": "13"
                                },
                                {
                                    "OrderID": "10463",
                                    "GecikmeSüresi": "26"
                                },
                                {
                                    "OrderID": "10464",
                                    "GecikmeSüresi": "18"
                                },
                                {
                                    "OrderID": "10465",
                                    "GecikmeSüresi": "19"
                                },
                                {
                                    "OrderID": "10466",
                                    "GecikmeSüresi": "21"
                                },
                                {
                                    "OrderID": "10467",
                                    "GecikmeSüresi": "23"
                                },
                                {
                                    "OrderID": "10468",
                                    "GecikmeSüresi": "23"
                                },
                                {
                                    "OrderID": "10469",
                                    "GecikmeSüresi": "24"
                                },
                                {
                                    "OrderID": "10470",
                                    "GecikmeSüresi": "25"
                                },
                                {
                                    "OrderID": "10471",
                                    "GecikmeSüresi": "21"
                                },
                                {
                                    "OrderID": "10472",
                                    "GecikmeSüresi": "21"
                                },
                                {
                                    "OrderID": "10473",
                                    "GecikmeSüresi": "6"
                                },
                                {
                                    "OrderID": "10474",
                                    "GecikmeSüresi": "20"
                                },
                                {
                                    "OrderID": "10475",
                                    "GecikmeSüresi": "7"
                                },
                                {
                                    "OrderID": "10476",
                                    "GecikmeSüresi": "21"
                                },
                                {
                                    "OrderID": "10477",
                                    "GecikmeSüresi": "20"
                                },
                                {
                                    "OrderID": "10478",
                                    "GecikmeSüresi": "6"
                                },
                                {
                                    "OrderID": "10479",
                                    "GecikmeSüresi": "26"
                                },
                                {
                                    "OrderID": "10480",
                                    "GecikmeSüresi": "24"
                                },
                                {
                                    "OrderID": "10481",
                                    "GecikmeSüresi": "23"
                                },
                                {
                                    "OrderID": "10482",
                                    "GecikmeSüresi": "8"
                                },
                                {
                                    "OrderID": "10484",
                                    "GecikmeSüresi": "20"
                                },
                                {
                                    "OrderID": "10485",
                                    "GecikmeSüresi": "8"
                                },
                                {
                                    "OrderID": "10486",
                                    "GecikmeSüresi": "21"
                                },
                                {
                                    "OrderID": "10487",
                                    "GecikmeSüresi": "26"
                                },
                                {
                                    "OrderID": "10488",
                                    "GecikmeSüresi": "22"
                                },
                                {
                                    "OrderID": "10489",
                                    "GecikmeSüresi": "16"
                                },
                                {
                                    "OrderID": "10490",
                                    "GecikmeSüresi": "25"
                                },
                                {
                                    "OrderID": "10491",
                                    "GecikmeSüresi": "20"
                                },
                                {
                                    "OrderID": "10492",
                                    "GecikmeSüresi": "18"
                                },
                                {
                                    "OrderID": "10493",
                                    "GecikmeSüresi": "20"
                                },
                                {
                                    "OrderID": "10494",
                                    "GecikmeSüresi": "21"
                                },
                                {
                                    "OrderID": "10495",
                                    "GecikmeSüresi": "20"
                                },
                                {
                                    "OrderID": "10496",
                                    "GecikmeSüresi": "25"
                                },
                                {
                                    "OrderID": "10497",
                                    "GecikmeSüresi": "25"
                                },
                                {
                                    "OrderID": "10498",
                                    "GecikmeSüresi": "24"
                                },
                                {
                                    "OrderID": "10499",
                                    "GecikmeSüresi": "20"
                                },
                                {
                                    "OrderID": "10500",
                                    "GecikmeSüresi": "20"
                                },
                                {
                                    "OrderID": "10501",
                                    "GecikmeSüresi": "21"
                                },
                                {
                                    "OrderID": "10502",
                                    "GecikmeSüresi": "9"
                                },
                                {
                                    "OrderID": "10503",
                                    "GecikmeSüresi": "23"
                                },
                                {
                                    "OrderID": "10504",
                                    "GecikmeSüresi": "21"
                                },
                                {
                                    "OrderID": "10505",
                                    "GecikmeSüresi": "21"
                                },
                                {
                                    "OrderID": "10506",
                                    "GecikmeSüresi": "11"
                                },
                                {
                                    "OrderID": "10507",
                                    "GecikmeSüresi": "21"
                                },
                                {
                                    "OrderID": "10508",
                                    "GecikmeSüresi": "1"
                                },
                                {
                                    "OrderID": "10509",
                                    "GecikmeSüresi": "16"
                                },
                                {
                                    "OrderID": "10510",
                                    "GecikmeSüresi": "18"
                                },
                                {
                                    "OrderID": "10511",
                                    "GecikmeSüresi": "25"
                                },
                                {
                                    "OrderID": "10512",
                                    "GecikmeSüresi": "25"
                                },
                                {
                                    "OrderID": "10513",
                                    "GecikmeSüresi": "36"
                                },
                                {
                                    "OrderID": "10514",
                                    "GecikmeSüresi": "4"
                                },
                                {
                                    "OrderID": "10516",
                                    "GecikmeSüresi": "21"
                                },
                                {
                                    "OrderID": "10517",
                                    "GecikmeSüresi": "23"
                                },
                                {
                                    "OrderID": "10518",
                                    "GecikmeSüresi": "4"
                                },
                                {
                                    "OrderID": "10519",
                                    "GecikmeSüresi": "25"
                                },
                                {
                                    "OrderID": "10520",
                                    "GecikmeSüresi": "26"
                                },
                                {
                                    "OrderID": "10521",
                                    "GecikmeSüresi": "25"
                                },
                                {
                                    "OrderID": "10522",
                                    "GecikmeSüresi": "22"
                                },
                                {
                                    "OrderID": "10524",
                                    "GecikmeSüresi": "22"
                                },
                                {
                                    "OrderID": "10525",
                                    "GecikmeSüresi": "7"
                                },
                                {
                                    "OrderID": "10526",
                                    "GecikmeSüresi": "18"
                                },
                                {
                                    "OrderID": "10527",
                                    "GecikmeSüresi": "26"
                                },
                                {
                                    "OrderID": "10528",
                                    "GecikmeSüresi": "11"
                                },
                                {
                                    "OrderID": "10529",
                                    "GecikmeSüresi": "26"
                                },
                                {
                                    "OrderID": "10530",
                                    "GecikmeSüresi": "24"
                                },
                                {
                                    "OrderID": "10531",
                                    "GecikmeSüresi": "17"
                                },
                                {
                                    "OrderID": "10532",
                                    "GecikmeSüresi": "25"
                                },
                                {
                                    "OrderID": "10533",
                                    "GecikmeSüresi": "18"
                                },
                                {
                                    "OrderID": "10534",
                                    "GecikmeSüresi": "26"
                                },
                                {
                                    "OrderID": "10535",
                                    "GecikmeSüresi": "20"
                                },
                                {
                                    "OrderID": "10536",
                                    "GecikmeSüresi": "5"
                                },
                                {
                                    "OrderID": "10537",
                                    "GecikmeSüresi": "9"
                                },
                                {
                                    "OrderID": "10538",
                                    "GecikmeSüresi": "27"
                                },
                                {
                                    "OrderID": "10539",
                                    "GecikmeSüresi": "21"
                                },
                                {
                                    "OrderID": "10540",
                                    "GecikmeSüresi": "3"
                                },
                                {
                                    "OrderID": "10541",
                                    "GecikmeSüresi": "18"
                                },
                                {
                                    "OrderID": "10542",
                                    "GecikmeSüresi": "22"
                                },
                                {
                                    "OrderID": "10543",
                                    "GecikmeSüresi": "26"
                                },
                                {
                                    "OrderID": "10544",
                                    "GecikmeSüresi": "19"
                                },
                                {
                                    "OrderID": "10546",
                                    "GecikmeSüresi": "24"
                                },
                                {
                                    "OrderID": "10547",
                                    "GecikmeSüresi": "18"
                                },
                                {
                                    "OrderID": "10548",
                                    "GecikmeSüresi": "21"
                                },
                                {
                                    "OrderID": "10549",
                                    "GecikmeSüresi": "11"
                                },
                                {
                                    "OrderID": "10550",
                                    "GecikmeSüresi": "19"
                                },
                                {
                                    "OrderID": "10551",
                                    "GecikmeSüresi": "33"
                                },
                                {
                                    "OrderID": "10552",
                                    "GecikmeSüresi": "21"
                                },
                                {
                                    "OrderID": "10553",
                                    "GecikmeSüresi": "24"
                                },
                                {
                                    "OrderID": "10554",
                                    "GecikmeSüresi": "22"
                                },
                                {
                                    "OrderID": "10555",
                                    "GecikmeSüresi": "26"
                                },
                                {
                                    "OrderID": "10556",
                                    "GecikmeSüresi": "32"
                                },
                                {
                                    "OrderID": "10557",
                                    "GecikmeSüresi": "11"
                                },
                                {
                                    "OrderID": "10558",
                                    "GecikmeSüresi": "22"
                                },
                                {
                                    "OrderID": "10559",
                                    "GecikmeSüresi": "20"
                                },
                                {
                                    "OrderID": "10560",
                                    "GecikmeSüresi": "25"
                                },
                                {
                                    "OrderID": "10561",
                                    "GecikmeSüresi": "25"
                                },
                                {
                                    "OrderID": "10562",
                                    "GecikmeSüresi": "25"
                                },
                                {
                                    "OrderID": "10563",
                                    "GecikmeSüresi": "28"
                                },
                                {
                                    "OrderID": "10564",
                                    "GecikmeSüresi": "22"
                                },
                                {
                                    "OrderID": "10565",
                                    "GecikmeSüresi": "21"
                                },
                                {
                                    "OrderID": "10566",
                                    "GecikmeSüresi": "22"
                                },
                                {
                                    "OrderID": "10567",
                                    "GecikmeSüresi": "23"
                                },
                                {
                                    "OrderID": "10568",
                                    "GecikmeSüresi": "2"
                                },
                                {
                                    "OrderID": "10569",
                                    "GecikmeSüresi": "3"
                                },
                                {
                                    "OrderID": "10570",
                                    "GecikmeSüresi": "26"
                                },
                                {
                                    "OrderID": "10571",
                                    "GecikmeSüresi": "25"
                                },
                                {
                                    "OrderID": "10572",
                                    "GecikmeSüresi": "21"
                                },
                                {
                                    "OrderID": "10573",
                                    "GecikmeSüresi": "27"
                                },
                                {
                                    "OrderID": "10574",
                                    "GecikmeSüresi": "17"
                                },
                                {
                                    "OrderID": "10575",
                                    "GecikmeSüresi": "4"
                                },
                                {
                                    "OrderID": "10576",
                                    "GecikmeSüresi": "7"
                                },
                                {
                                    "OrderID": "10577",
                                    "GecikmeSüresi": "35"
                                },
                                {
                                    "OrderID": "10579",
                                    "GecikmeSüresi": "19"
                                },
                                {
                                    "OrderID": "10580",
                                    "GecikmeSüresi": "23"
                                },
                                {
                                    "OrderID": "10581",
                                    "GecikmeSüresi": "22"
                                },
                                {
                                    "OrderID": "10582",
                                    "GecikmeSüresi": "11"
                                },
                                {
                                    "OrderID": "10583",
                                    "GecikmeSüresi": "24"
                                },
                                {
                                    "OrderID": "10584",
                                    "GecikmeSüresi": "24"
                                },
                                {
                                    "OrderID": "10585",
                                    "GecikmeSüresi": "19"
                                },
                                {
                                    "OrderID": "10586",
                                    "GecikmeSüresi": "21"
                                },
                                {
                                    "OrderID": "10587",
                                    "GecikmeSüresi": "21"
                                },
                                {
                                    "OrderID": "10588",
                                    "GecikmeSüresi": "21"
                                },
                                {
                                    "OrderID": "10589",
                                    "GecikmeSüresi": "18"
                                },
                                {
                                    "OrderID": "10590",
                                    "GecikmeSüresi": "21"
                                },
                                {
                                    "OrderID": "10591",
                                    "GecikmeSüresi": "5"
                                },
                                {
                                    "OrderID": "10592",
                                    "GecikmeSüresi": "20"
                                },
                                {
                                    "OrderID": "10594",
                                    "GecikmeSüresi": "21"
                                },
                                {
                                    "OrderID": "10595",
                                    "GecikmeSüresi": "24"
                                },
                                {
                                    "OrderID": "10597",
                                    "GecikmeSüresi": "21"
                                },
                                {
                                    "OrderID": "10598",
                                    "GecikmeSüresi": "24"
                                },
                                {
                                    "OrderID": "10599",
                                    "GecikmeSüresi": "36"
                                },
                                {
                                    "OrderID": "10600",
                                    "GecikmeSüresi": "23"
                                },
                                {
                                    "OrderID": "10601",
                                    "GecikmeSüresi": "36"
                                },
                                {
                                    "OrderID": "10602",
                                    "GecikmeSüresi": "23"
                                },
                                {
                                    "OrderID": "10603",
                                    "GecikmeSüresi": "7"
                                },
                                {
                                    "OrderID": "10604",
                                    "GecikmeSüresi": "17"
                                },
                                {
                                    "OrderID": "10605",
                                    "GecikmeSüresi": "20"
                                },
                                {
                                    "OrderID": "10606",
                                    "GecikmeSüresi": "19"
                                },
                                {
                                    "OrderID": "10607",
                                    "GecikmeSüresi": "25"
                                },
                                {
                                    "OrderID": "10608",
                                    "GecikmeSüresi": "19"
                                },
                                {
                                    "OrderID": "10609",
                                    "GecikmeSüresi": "22"
                                },
                                {
                                    "OrderID": "10610",
                                    "GecikmeSüresi": "16"
                                },
                                {
                                    "OrderID": "10611",
                                    "GecikmeSüresi": "21"
                                },
                                {
                                    "OrderID": "10612",
                                    "GecikmeSüresi": "24"
                                },
                                {
                                    "OrderID": "10613",
                                    "GecikmeSüresi": "25"
                                },
                                {
                                    "OrderID": "10614",
                                    "GecikmeSüresi": "25"
                                },
                                {
                                    "OrderID": "10615",
                                    "GecikmeSüresi": "21"
                                },
                                {
                                    "OrderID": "10616",
                                    "GecikmeSüresi": "23"
                                },
                                {
                                    "OrderID": "10617",
                                    "GecikmeSüresi": "24"
                                },
                                {
                                    "OrderID": "10618",
                                    "GecikmeSüresi": "35"
                                },
                                {
                                    "OrderID": "10619",
                                    "GecikmeSüresi": "25"
                                },
                                {
                                    "OrderID": "10620",
                                    "GecikmeSüresi": "19"
                                },
                                {
                                    "OrderID": "10621",
                                    "GecikmeSüresi": "22"
                                },
                                {
                                    "OrderID": "10622",
                                    "GecikmeSüresi": "23"
                                },
                                {
                                    "OrderID": "10623",
                                    "GecikmeSüresi": "23"
                                },
                                {
                                    "OrderID": "10624",
                                    "GecikmeSüresi": "16"
                                },
                                {
                                    "OrderID": "10625",
                                    "GecikmeSüresi": "22"
                                },
                                {
                                    "OrderID": "10626",
                                    "GecikmeSüresi": "19"
                                },
                                {
                                    "OrderID": "10627",
                                    "GecikmeSüresi": "32"
                                },
                                {
                                    "OrderID": "10628",
                                    "GecikmeSüresi": "20"
                                },
                                {
                                    "OrderID": "10629",
                                    "GecikmeSüresi": "20"
                                },
                                {
                                    "OrderID": "10630",
                                    "GecikmeSüresi": "22"
                                },
                                {
                                    "OrderID": "10631",
                                    "GecikmeSüresi": "27"
                                },
                                {
                                    "OrderID": "10632",
                                    "GecikmeSüresi": "23"
                                },
                                {
                                    "OrderID": "10633",
                                    "GecikmeSüresi": "25"
                                },
                                {
                                    "OrderID": "10634",
                                    "GecikmeSüresi": "22"
                                },
                                {
                                    "OrderID": "10635",
                                    "GecikmeSüresi": "25"
                                },
                                {
                                    "OrderID": "10636",
                                    "GecikmeSüresi": "21"
                                },
                                {
                                    "OrderID": "10637",
                                    "GecikmeSüresi": "21"
                                },
                                {
                                    "OrderID": "10638",
                                    "GecikmeSüresi": "16"
                                },
                                {
                                    "OrderID": "10639",
                                    "GecikmeSüresi": "21"
                                },
                                {
                                    "OrderID": "10640",
                                    "GecikmeSüresi": "21"
                                },
                                {
                                    "OrderID": "10641",
                                    "GecikmeSüresi": "24"
                                },
                                {
                                    "OrderID": "10642",
                                    "GecikmeSüresi": "14"
                                },
                                {
                                    "OrderID": "10643",
                                    "GecikmeSüresi": "20"
                                },
                                {
                                    "OrderID": "10644",
                                    "GecikmeSüresi": "21"
                                },
                                {
                                    "OrderID": "10645",
                                    "GecikmeSüresi": "21"
                                },
                                {
                                    "OrderID": "10646",
                                    "GecikmeSüresi": "35"
                                },
                                {
                                    "OrderID": "10647",
                                    "GecikmeSüresi": "7"
                                },
                                {
                                    "OrderID": "10648",
                                    "GecikmeSüresi": "30"
                                },
                                {
                                    "OrderID": "10649",
                                    "GecikmeSüresi": "27"
                                },
                                {
                                    "OrderID": "10650",
                                    "GecikmeSüresi": "23"
                                },
                                {
                                    "OrderID": "10651",
                                    "GecikmeSüresi": "18"
                                },
                                {
                                    "OrderID": "10652",
                                    "GecikmeSüresi": "21"
                                },
                                {
                                    "OrderID": "10653",
                                    "GecikmeSüresi": "11"
                                },
                                {
                                    "OrderID": "10654",
                                    "GecikmeSüresi": "19"
                                },
                                {
                                    "OrderID": "10655",
                                    "GecikmeSüresi": "20"
                                },
                                {
                                    "OrderID": "10656",
                                    "GecikmeSüresi": "22"
                                },
                                {
                                    "OrderID": "10657",
                                    "GecikmeSüresi": "17"
                                },
                                {
                                    "OrderID": "10658",
                                    "GecikmeSüresi": "25"
                                },
                                {
                                    "OrderID": "10659",
                                    "GecikmeSüresi": "23"
                                },
                                {
                                    "OrderID": "10661",
                                    "GecikmeSüresi": "22"
                                },
                                {
                                    "OrderID": "10662",
                                    "GecikmeSüresi": "19"
                                },
                                {
                                    "OrderID": "10664",
                                    "GecikmeSüresi": "19"
                                },
                                {
                                    "OrderID": "10665",
                                    "GecikmeSüresi": "22"
                                },
                                {
                                    "OrderID": "10666",
                                    "GecikmeSüresi": "18"
                                },
                                {
                                    "OrderID": "10667",
                                    "GecikmeSüresi": "21"
                                },
                                {
                                    "OrderID": "10668",
                                    "GecikmeSüresi": "20"
                                },
                                {
                                    "OrderID": "10669",
                                    "GecikmeSüresi": "21"
                                },
                                {
                                    "OrderID": "10670",
                                    "GecikmeSüresi": "26"
                                },
                                {
                                    "OrderID": "10671",
                                    "GecikmeSüresi": "21"
                                },
                                {
                                    "OrderID": "10672",
                                    "GecikmeSüresi": "5"
                                },
                                {
                                    "OrderID": "10673",
                                    "GecikmeSüresi": "27"
                                },
                                {
                                    "OrderID": "10674",
                                    "GecikmeSüresi": "16"
                                },
                                {
                                    "OrderID": "10675",
                                    "GecikmeSüresi": "24"
                                },
                                {
                                    "OrderID": "10676",
                                    "GecikmeSüresi": "21"
                                },
                                {
                                    "OrderID": "10677",
                                    "GecikmeSüresi": "24"
                                },
                                {
                                    "OrderID": "10678",
                                    "GecikmeSüresi": "5"
                                },
                                {
                                    "OrderID": "10679",
                                    "GecikmeSüresi": "21"
                                },
                                {
                                    "OrderID": "10680",
                                    "GecikmeSüresi": "26"
                                },
                                {
                                    "OrderID": "10681",
                                    "GecikmeSüresi": "23"
                                },
                                {
                                    "OrderID": "10682",
                                    "GecikmeSüresi": "22"
                                },
                                {
                                    "OrderID": "10683",
                                    "GecikmeSüresi": "23"
                                },
                                {
                                    "OrderID": "10684",
                                    "GecikmeSüresi": "24"
                                },
                                {
                                    "OrderID": "10685",
                                    "GecikmeSüresi": "10"
                                },
                                {
                                    "OrderID": "10686",
                                    "GecikmeSüresi": "20"
                                },
                                {
                                    "OrderID": "10688",
                                    "GecikmeSüresi": "8"
                                },
                                {
                                    "OrderID": "10689",
                                    "GecikmeSüresi": "22"
                                },
                                {
                                    "OrderID": "10690",
                                    "GecikmeSüresi": "27"
                                },
                                {
                                    "OrderID": "10691",
                                    "GecikmeSüresi": "23"
                                },
                                {
                                    "OrderID": "10692",
                                    "GecikmeSüresi": "18"
                                },
                                {
                                    "OrderID": "10693",
                                    "GecikmeSüresi": "10"
                                },
                                {
                                    "OrderID": "10694",
                                    "GecikmeSüresi": "25"
                                },
                                {
                                    "OrderID": "10695",
                                    "GecikmeSüresi": "35"
                                },
                                {
                                    "OrderID": "10696",
                                    "GecikmeSüresi": "36"
                                },
                                {
                                    "OrderID": "10697",
                                    "GecikmeSüresi": "22"
                                },
                                {
                                    "OrderID": "10698",
                                    "GecikmeSüresi": "20"
                                },
                                {
                                    "OrderID": "10699",
                                    "GecikmeSüresi": "24"
                                },
                                {
                                    "OrderID": "10700",
                                    "GecikmeSüresi": "22"
                                },
                                {
                                    "OrderID": "10701",
                                    "GecikmeSüresi": "12"
                                },
                                {
                                    "OrderID": "10702",
                                    "GecikmeSüresi": "34"
                                },
                                {
                                    "OrderID": "10703",
                                    "GecikmeSüresi": "22"
                                },
                                {
                                    "OrderID": "10704",
                                    "GecikmeSüresi": "4"
                                },
                                {
                                    "OrderID": "10706",
                                    "GecikmeSüresi": "23"
                                },
                                {
                                    "OrderID": "10707",
                                    "GecikmeSüresi": "7"
                                },
                                {
                                    "OrderID": "10708",
                                    "GecikmeSüresi": "23"
                                },
                                {
                                    "OrderID": "10710",
                                    "GecikmeSüresi": "25"
                                },
                                {
                                    "OrderID": "10711",
                                    "GecikmeSüresi": "34"
                                },
                                {
                                    "OrderID": "10712",
                                    "GecikmeSüresi": "18"
                                },
                                {
                                    "OrderID": "10713",
                                    "GecikmeSüresi": "26"
                                },
                                {
                                    "OrderID": "10714",
                                    "GecikmeSüresi": "23"
                                },
                                {
                                    "OrderID": "10715",
                                    "GecikmeSüresi": "8"
                                },
                                {
                                    "OrderID": "10716",
                                    "GecikmeSüresi": "25"
                                },
                                {
                                    "OrderID": "10717",
                                    "GecikmeSüresi": "23"
                                },
                                {
                                    "OrderID": "10718",
                                    "GecikmeSüresi": "26"
                                },
                                {
                                    "OrderID": "10719",
                                    "GecikmeSüresi": "19"
                                },
                                {
                                    "OrderID": "10720",
                                    "GecikmeSüresi": "6"
                                },
                                {
                                    "OrderID": "10721",
                                    "GecikmeSüresi": "26"
                                },
                                {
                                    "OrderID": "10722",
                                    "GecikmeSüresi": "36"
                                },
                                {
                                    "OrderID": "10723",
                                    "GecikmeSüresi": "2"
                                },
                                {
                                    "OrderID": "10724",
                                    "GecikmeSüresi": "36"
                                },
                                {
                                    "OrderID": "10725",
                                    "GecikmeSüresi": "23"
                                },
                                {
                                    "OrderID": "10728",
                                    "GecikmeSüresi": "21"
                                },
                                {
                                    "OrderID": "10729",
                                    "GecikmeSüresi": "32"
                                },
                                {
                                    "OrderID": "10730",
                                    "GecikmeSüresi": "19"
                                },
                                {
                                    "OrderID": "10731",
                                    "GecikmeSüresi": "20"
                                },
                                {
                                    "OrderID": "10732",
                                    "GecikmeSüresi": "27"
                                },
                                {
                                    "OrderID": "10733",
                                    "GecikmeSüresi": "25"
                                },
                                {
                                    "OrderID": "10734",
                                    "GecikmeSüresi": "23"
                                },
                                {
                                    "OrderID": "10735",
                                    "GecikmeSüresi": "17"
                                },
                                {
                                    "OrderID": "10736",
                                    "GecikmeSüresi": "18"
                                },
                                {
                                    "OrderID": "10737",
                                    "GecikmeSüresi": "21"
                                },
                                {
                                    "OrderID": "10738",
                                    "GecikmeSüresi": "22"
                                },
                                {
                                    "OrderID": "10739",
                                    "GecikmeSüresi": "23"
                                },
                                {
                                    "OrderID": "10740",
                                    "GecikmeSüresi": "16"
                                },
                                {
                                    "OrderID": "10741",
                                    "GecikmeSüresi": "10"
                                },
                                {
                                    "OrderID": "10742",
                                    "GecikmeSüresi": "24"
                                },
                                {
                                    "OrderID": "10743",
                                    "GecikmeSüresi": "24"
                                },
                                {
                                    "OrderID": "10744",
                                    "GecikmeSüresi": "21"
                                },
                                {
                                    "OrderID": "10745",
                                    "GecikmeSüresi": "19"
                                },
                                {
                                    "OrderID": "10746",
                                    "GecikmeSüresi": "26"
                                },
                                {
                                    "OrderID": "10747",
                                    "GecikmeSüresi": "21"
                                },
                                {
                                    "OrderID": "10748",
                                    "GecikmeSüresi": "20"
                                },
                                {
                                    "OrderID": "10750",
                                    "GecikmeSüresi": "25"
                                },
                                {
                                    "OrderID": "10751",
                                    "GecikmeSüresi": "19"
                                },
                                {
                                    "OrderID": "10752",
                                    "GecikmeSüresi": "24"
                                },
                                {
                                    "OrderID": "10753",
                                    "GecikmeSüresi": "26"
                                },
                                {
                                    "OrderID": "10754",
                                    "GecikmeSüresi": "26"
                                },
                                {
                                    "OrderID": "10755",
                                    "GecikmeSüresi": "26"
                                },
                                {
                                    "OrderID": "10756",
                                    "GecikmeSüresi": "23"
                                },
                                {
                                    "OrderID": "10757",
                                    "GecikmeSüresi": "10"
                                },
                                {
                                    "OrderID": "10758",
                                    "GecikmeSüresi": "22"
                                },
                                {
                                    "OrderID": "10759",
                                    "GecikmeSüresi": "14"
                                },
                                {
                                    "OrderID": "10760",
                                    "GecikmeSüresi": "19"
                                },
                                {
                                    "OrderID": "10761",
                                    "GecikmeSüresi": "22"
                                },
                                {
                                    "OrderID": "10762",
                                    "GecikmeSüresi": "21"
                                },
                                {
                                    "OrderID": "10763",
                                    "GecikmeSüresi": "23"
                                },
                                {
                                    "OrderID": "10764",
                                    "GecikmeSüresi": "23"
                                },
                                {
                                    "OrderID": "10765",
                                    "GecikmeSüresi": "23"
                                },
                                {
                                    "OrderID": "10766",
                                    "GecikmeSüresi": "24"
                                },
                                {
                                    "OrderID": "10767",
                                    "GecikmeSüresi": "18"
                                },
                                {
                                    "OrderID": "10768",
                                    "GecikmeSüresi": "21"
                                },
                                {
                                    "OrderID": "10769",
                                    "GecikmeSüresi": "24"
                                },
                                {
                                    "OrderID": "10770",
                                    "GecikmeSüresi": "20"
                                },
                                {
                                    "OrderID": "10771",
                                    "GecikmeSüresi": "5"
                                },
                                {
                                    "OrderID": "10772",
                                    "GecikmeSüresi": "19"
                                },
                                {
                                    "OrderID": "10773",
                                    "GecikmeSüresi": "23"
                                },
                                {
                                    "OrderID": "10774",
                                    "GecikmeSüresi": "13"
                                },
                                {
                                    "OrderID": "10775",
                                    "GecikmeSüresi": "14"
                                },
                                {
                                    "OrderID": "10776",
                                    "GecikmeSüresi": "25"
                                },
                                {
                                    "OrderID": "10778",
                                    "GecikmeSüresi": "20"
                                },
                                {
                                    "OrderID": "10780",
                                    "GecikmeSüresi": "5"
                                },
                                {
                                    "OrderID": "10781",
                                    "GecikmeSüresi": "26"
                                },
                                {
                                    "OrderID": "10782",
                                    "GecikmeSüresi": "23"
                                },
                                {
                                    "OrderID": "10783",
                                    "GecikmeSüresi": "27"
                                },
                                {
                                    "OrderID": "10784",
                                    "GecikmeSüresi": "24"
                                },
                                {
                                    "OrderID": "10785",
                                    "GecikmeSüresi": "22"
                                },
                                {
                                    "OrderID": "10786",
                                    "GecikmeSüresi": "24"
                                },
                                {
                                    "OrderID": "10787",
                                    "GecikmeSüresi": "7"
                                },
                                {
                                    "OrderID": "10789",
                                    "GecikmeSüresi": "19"
                                },
                                {
                                    "OrderID": "10790",
                                    "GecikmeSüresi": "24"
                                },
                                {
                                    "OrderID": "10791",
                                    "GecikmeSüresi": "19"
                                },
                                {
                                    "OrderID": "10792",
                                    "GecikmeSüresi": "20"
                                },
                                {
                                    "OrderID": "10793",
                                    "GecikmeSüresi": "13"
                                },
                                {
                                    "OrderID": "10794",
                                    "GecikmeSüresi": "19"
                                },
                                {
                                    "OrderID": "10795",
                                    "GecikmeSüresi": "1"
                                },
                                {
                                    "OrderID": "10796",
                                    "GecikmeSüresi": "8"
                                },
                                {
                                    "OrderID": "10797",
                                    "GecikmeSüresi": "17"
                                },
                                {
                                    "OrderID": "10798",
                                    "GecikmeSüresi": "18"
                                },
                                {
                                    "OrderID": "10799",
                                    "GecikmeSüresi": "32"
                                },
                                {
                                    "OrderID": "10800",
                                    "GecikmeSüresi": "18"
                                },
                                {
                                    "OrderID": "10801",
                                    "GecikmeSüresi": "26"
                                },
                                {
                                    "OrderID": "10802",
                                    "GecikmeSüresi": "24"
                                },
                                {
                                    "OrderID": "10803",
                                    "GecikmeSüresi": "21"
                                },
                                {
                                    "OrderID": "10804",
                                    "GecikmeSüresi": "20"
                                },
                                {
                                    "OrderID": "10805",
                                    "GecikmeSüresi": "18"
                                },
                                {
                                    "OrderID": "10806",
                                    "GecikmeSüresi": "23"
                                },
                                {
                                    "OrderID": "10808",
                                    "GecikmeSüresi": "20"
                                },
                                {
                                    "OrderID": "10809",
                                    "GecikmeSüresi": "22"
                                },
                                {
                                    "OrderID": "10810",
                                    "GecikmeSüresi": "22"
                                },
                                {
                                    "OrderID": "10811",
                                    "GecikmeSüresi": "22"
                                },
                                {
                                    "OrderID": "10812",
                                    "GecikmeSüresi": "18"
                                },
                                {
                                    "OrderID": "10813",
                                    "GecikmeSüresi": "24"
                                },
                                {
                                    "OrderID": "10814",
                                    "GecikmeSüresi": "19"
                                },
                                {
                                    "OrderID": "10815",
                                    "GecikmeSüresi": "19"
                                },
                                {
                                    "OrderID": "10817",
                                    "GecikmeSüresi": "7"
                                },
                                {
                                    "OrderID": "10818",
                                    "GecikmeSüresi": "23"
                                },
                                {
                                    "OrderID": "10819",
                                    "GecikmeSüresi": "19"
                                },
                                {
                                    "OrderID": "10820",
                                    "GecikmeSüresi": "22"
                                },
                                {
                                    "OrderID": "10821",
                                    "GecikmeSüresi": "21"
                                },
                                {
                                    "OrderID": "10822",
                                    "GecikmeSüresi": "20"
                                },
                                {
                                    "OrderID": "10823",
                                    "GecikmeSüresi": "24"
                                },
                                {
                                    "OrderID": "10824",
                                    "GecikmeSüresi": "7"
                                },
                                {
                                    "OrderID": "10825",
                                    "GecikmeSüresi": "23"
                                },
                                {
                                    "OrderID": "10826",
                                    "GecikmeSüresi": "3"
                                },
                                {
                                    "OrderID": "10829",
                                    "GecikmeSüresi": "18"
                                },
                                {
                                    "OrderID": "10830",
                                    "GecikmeSüresi": "34"
                                },
                                {
                                    "OrderID": "10831",
                                    "GecikmeSüresi": "19"
                                },
                                {
                                    "OrderID": "10832",
                                    "GecikmeSüresi": "23"
                                },
                                {
                                    "OrderID": "10833",
                                    "GecikmeSüresi": "20"
                                },
                                {
                                    "OrderID": "10834",
                                    "GecikmeSüresi": "24"
                                },
                                {
                                    "OrderID": "10835",
                                    "GecikmeSüresi": "22"
                                },
                                {
                                    "OrderID": "10836",
                                    "GecikmeSüresi": "23"
                                },
                                {
                                    "OrderID": "10837",
                                    "GecikmeSüresi": "21"
                                },
                                {
                                    "OrderID": "10838",
                                    "GecikmeSüresi": "24"
                                },
                                {
                                    "OrderID": "10839",
                                    "GecikmeSüresi": "25"
                                },
                                {
                                    "OrderID": "10840",
                                    "GecikmeSüresi": "14"
                                },
                                {
                                    "OrderID": "10841",
                                    "GecikmeSüresi": "19"
                                },
                                {
                                    "OrderID": "10842",
                                    "GecikmeSüresi": "19"
                                },
                                {
                                    "OrderID": "10843",
                                    "GecikmeSüresi": "23"
                                },
                                {
                                    "OrderID": "10844",
                                    "GecikmeSüresi": "23"
                                },
                                {
                                    "OrderID": "10845",
                                    "GecikmeSüresi": "5"
                                },
                                {
                                    "OrderID": "10846",
                                    "GecikmeSüresi": "41"
                                },
                                {
                                    "OrderID": "10848",
                                    "GecikmeSüresi": "22"
                                },
                                {
                                    "OrderID": "10849",
                                    "GecikmeSüresi": "21"
                                },
                                {
                                    "OrderID": "10850",
                                    "GecikmeSüresi": "35"
                                },
                                {
                                    "OrderID": "10851",
                                    "GecikmeSüresi": "21"
                                },
                                {
                                    "OrderID": "10852",
                                    "GecikmeSüresi": "10"
                                },
                                {
                                    "OrderID": "10853",
                                    "GecikmeSüresi": "21"
                                },
                                {
                                    "OrderID": "10854",
                                    "GecikmeSüresi": "19"
                                },
                                {
                                    "OrderID": "10855",
                                    "GecikmeSüresi": "20"
                                },
                                {
                                    "OrderID": "10856",
                                    "GecikmeSüresi": "15"
                                },
                                {
                                    "OrderID": "10857",
                                    "GecikmeSüresi": "19"
                                },
                                {
                                    "OrderID": "10858",
                                    "GecikmeSüresi": "23"
                                },
                                {
                                    "OrderID": "10859",
                                    "GecikmeSüresi": "24"
                                },
                                {
                                    "OrderID": "10860",
                                    "GecikmeSüresi": "22"
                                },
                                {
                                    "OrderID": "10861",
                                    "GecikmeSüresi": "10"
                                },
                                {
                                    "OrderID": "10862",
                                    "GecikmeSüresi": "39"
                                },
                                {
                                    "OrderID": "10863",
                                    "GecikmeSüresi": "13"
                                },
                                {
                                    "OrderID": "10864",
                                    "GecikmeSüresi": "21"
                                },
                                {
                                    "OrderID": "10865",
                                    "GecikmeSüresi": "4"
                                },
                                {
                                    "OrderID": "10866",
                                    "GecikmeSüresi": "19"
                                },
                                {
                                    "OrderID": "10867",
                                    "GecikmeSüresi": "34"
                                },
                                {
                                    "OrderID": "10868",
                                    "GecikmeSüresi": "9"
                                },
                                {
                                    "OrderID": "10869",
                                    "GecikmeSüresi": "23"
                                },
                                {
                                    "OrderID": "10870",
                                    "GecikmeSüresi": "19"
                                },
                                {
                                    "OrderID": "10871",
                                    "GecikmeSüresi": "23"
                                },
                                {
                                    "OrderID": "10872",
                                    "GecikmeSüresi": "24"
                                },
                                {
                                    "OrderID": "10873",
                                    "GecikmeSüresi": "25"
                                },
                                {
                                    "OrderID": "10874",
                                    "GecikmeSüresi": "23"
                                },
                                {
                                    "OrderID": "10875",
                                    "GecikmeSüresi": "3"
                                },
                                {
                                    "OrderID": "10876",
                                    "GecikmeSüresi": "25"
                                },
                                {
                                    "OrderID": "10877",
                                    "GecikmeSüresi": "18"
                                },
                                {
                                    "OrderID": "10878",
                                    "GecikmeSüresi": "26"
                                },
                                {
                                    "OrderID": "10879",
                                    "GecikmeSüresi": "26"
                                },
                                {
                                    "OrderID": "10880",
                                    "GecikmeSüresi": "34"
                                },
                                {
                                    "OrderID": "10881",
                                    "GecikmeSüresi": "21"
                                },
                                {
                                    "OrderID": "10882",
                                    "GecikmeSüresi": "19"
                                },
                                {
                                    "OrderID": "10883",
                                    "GecikmeSüresi": "20"
                                },
                                {
                                    "OrderID": "10884",
                                    "GecikmeSüresi": "27"
                                },
                                {
                                    "OrderID": "10885",
                                    "GecikmeSüresi": "22"
                                },
                                {
                                    "OrderID": "10886",
                                    "GecikmeSüresi": "11"
                                },
                                {
                                    "OrderID": "10887",
                                    "GecikmeSüresi": "25"
                                },
                                {
                                    "OrderID": "10888",
                                    "GecikmeSüresi": "21"
                                },
                                {
                                    "OrderID": "10889",
                                    "GecikmeSüresi": "21"
                                },
                                {
                                    "OrderID": "10890",
                                    "GecikmeSüresi": "26"
                                },
                                {
                                    "OrderID": "10891",
                                    "GecikmeSüresi": "26"
                                },
                                {
                                    "OrderID": "10892",
                                    "GecikmeSüresi": "26"
                                },
                                {
                                    "OrderID": "10893",
                                    "GecikmeSüresi": "26"
                                },
                                {
                                    "OrderID": "10894",
                                    "GecikmeSüresi": "26"
                                },
                                {
                                    "OrderID": "10895",
                                    "GecikmeSüresi": "23"
                                },
                                {
                                    "OrderID": "10896",
                                    "GecikmeSüresi": "20"
                                },
                                {
                                    "OrderID": "10897",
                                    "GecikmeSüresi": "22"
                                },
                                {
                                    "OrderID": "10898",
                                    "GecikmeSüresi": "14"
                                },
                                {
                                    "OrderID": "10899",
                                    "GecikmeSüresi": "22"
                                },
                                {
                                    "OrderID": "10900",
                                    "GecikmeSüresi": "16"
                                },
                                {
                                    "OrderID": "10901",
                                    "GecikmeSüresi": "25"
                                },
                                {
                                    "OrderID": "10902",
                                    "GecikmeSüresi": "20"
                                },
                                {
                                    "OrderID": "10903",
                                    "GecikmeSüresi": "20"
                                },
                                {
                                    "OrderID": "10904",
                                    "GecikmeSüresi": "25"
                                },
                                {
                                    "OrderID": "10905",
                                    "GecikmeSüresi": "18"
                                },
                                {
                                    "OrderID": "10906",
                                    "GecikmeSüresi": "8"
                                },
                                {
                                    "OrderID": "10907",
                                    "GecikmeSüresi": "26"
                                },
                                {
                                    "OrderID": "10908",
                                    "GecikmeSüresi": "20"
                                },
                                {
                                    "OrderID": "10909",
                                    "GecikmeSüresi": "16"
                                },
                                {
                                    "OrderID": "10910",
                                    "GecikmeSüresi": "22"
                                },
                                {
                                    "OrderID": "10911",
                                    "GecikmeSüresi": "21"
                                },
                                {
                                    "OrderID": "10912",
                                    "GecikmeSüresi": "8"
                                },
                                {
                                    "OrderID": "10913",
                                    "GecikmeSüresi": "22"
                                },
                                {
                                    "OrderID": "10914",
                                    "GecikmeSüresi": "25"
                                },
                                {
                                    "OrderID": "10915",
                                    "GecikmeSüresi": "25"
                                },
                                {
                                    "OrderID": "10916",
                                    "GecikmeSüresi": "18"
                                },
                                {
                                    "OrderID": "10917",
                                    "GecikmeSüresi": "19"
                                },
                                {
                                    "OrderID": "10918",
                                    "GecikmeSüresi": "19"
                                },
                                {
                                    "OrderID": "10919",
                                    "GecikmeSüresi": "26"
                                },
                                {
                                    "OrderID": "10920",
                                    "GecikmeSüresi": "22"
                                },
                                {
                                    "OrderID": "10921",
                                    "GecikmeSüresi": "36"
                                },
                                {
                                    "OrderID": "10922",
                                    "GecikmeSüresi": "26"
                                },
                                {
                                    "OrderID": "10923",
                                    "GecikmeSüresi": "32"
                                },
                                {
                                    "OrderID": "10925",
                                    "GecikmeSüresi": "19"
                                },
                                {
                                    "OrderID": "10926",
                                    "GecikmeSüresi": "21"
                                },
                                {
                                    "OrderID": "10928",
                                    "GecikmeSüresi": "15"
                                },
                                {
                                    "OrderID": "10929",
                                    "GecikmeSüresi": "21"
                                },
                                {
                                    "OrderID": "10930",
                                    "GecikmeSüresi": "30"
                                },
                                {
                                    "OrderID": "10931",
                                    "GecikmeSüresi": "1"
                                },
                                {
                                    "OrderID": "10932",
                                    "GecikmeSüresi": "10"
                                },
                                {
                                    "OrderID": "10933",
                                    "GecikmeSüresi": "18"
                                },
                                {
                                    "OrderID": "10934",
                                    "GecikmeSüresi": "25"
                                },
                                {
                                    "OrderID": "10935",
                                    "GecikmeSüresi": "19"
                                },
                                {
                                    "OrderID": "10936",
                                    "GecikmeSüresi": "19"
                                },
                                {
                                    "OrderID": "10937",
                                    "GecikmeSüresi": "11"
                                },
                                {
                                    "OrderID": "10938",
                                    "GecikmeSüresi": "22"
                                },
                                {
                                    "OrderID": "10939",
                                    "GecikmeSüresi": "25"
                                },
                                {
                                    "OrderID": "10940",
                                    "GecikmeSüresi": "16"
                                },
                                {
                                    "OrderID": "10941",
                                    "GecikmeSüresi": "19"
                                },
                                {
                                    "OrderID": "10942",
                                    "GecikmeSüresi": "21"
                                },
                                {
                                    "OrderID": "10943",
                                    "GecikmeSüresi": "20"
                                },
                                {
                                    "OrderID": "10944",
                                    "GecikmeSüresi": "13"
                                },
                                {
                                    "OrderID": "10945",
                                    "GecikmeSüresi": "22"
                                },
                                {
                                    "OrderID": "10946",
                                    "GecikmeSüresi": "21"
                                },
                                {
                                    "OrderID": "10947",
                                    "GecikmeSüresi": "25"
                                },
                                {
                                    "OrderID": "10948",
                                    "GecikmeSüresi": "22"
                                },
                                {
                                    "OrderID": "10949",
                                    "GecikmeSüresi": "24"
                                },
                                {
                                    "OrderID": "10950",
                                    "GecikmeSüresi": "21"
                                },
                                {
                                    "OrderID": "10951",
                                    "GecikmeSüresi": "20"
                                },
                                {
                                    "OrderID": "10952",
                                    "GecikmeSüresi": "34"
                                },
                                {
                                    "OrderID": "10953",
                                    "GecikmeSüresi": "5"
                                },
                                {
                                    "OrderID": "10954",
                                    "GecikmeSüresi": "39"
                                },
                                {
                                    "OrderID": "10955",
                                    "GecikmeSüresi": "25"
                                },
                                {
                                    "OrderID": "10956",
                                    "GecikmeSüresi": "39"
                                },
                                {
                                    "OrderID": "10957",
                                    "GecikmeSüresi": "19"
                                },
                                {
                                    "OrderID": "10958",
                                    "GecikmeSüresi": "19"
                                },
                                {
                                    "OrderID": "10959",
                                    "GecikmeSüresi": "37"
                                },
                                {
                                    "OrderID": "10961",
                                    "GecikmeSüresi": "17"
                                },
                                {
                                    "OrderID": "10962",
                                    "GecikmeSüresi": "24"
                                },
                                {
                                    "OrderID": "10963",
                                    "GecikmeSüresi": "21"
                                },
                                {
                                    "OrderID": "10964",
                                    "GecikmeSüresi": "24"
                                },
                                {
                                    "OrderID": "10965",
                                    "GecikmeSüresi": "18"
                                },
                                {
                                    "OrderID": "10966",
                                    "GecikmeSüresi": "9"
                                },
                                {
                                    "OrderID": "10967",
                                    "GecikmeSüresi": "18"
                                },
                                {
                                    "OrderID": "10968",
                                    "GecikmeSüresi": "19"
                                },
                                {
                                    "OrderID": "10969",
                                    "GecikmeSüresi": "21"
                                },
                                {
                                    "OrderID": "10971",
                                    "GecikmeSüresi": "19"
                                },
                                {
                                    "OrderID": "10972",
                                    "GecikmeSüresi": "26"
                                },
                                {
                                    "OrderID": "10973",
                                    "GecikmeSüresi": "25"
                                },
                                {
                                    "OrderID": "10974",
                                    "GecikmeSüresi": "5"
                                },
                                {
                                    "OrderID": "10975",
                                    "GecikmeSüresi": "26"
                                },
                                {
                                    "OrderID": "10976",
                                    "GecikmeSüresi": "33"
                                },
                                {
                                    "OrderID": "10977",
                                    "GecikmeSüresi": "13"
                                },
                                {
                                    "OrderID": "10979",
                                    "GecikmeSüresi": "23"
                                },
                                {
                                    "OrderID": "10980",
                                    "GecikmeSüresi": "21"
                                },
                                {
                                    "OrderID": "10981",
                                    "GecikmeSüresi": "22"
                                },
                                {
                                    "OrderID": "10982",
                                    "GecikmeSüresi": "16"
                                },
                                {
                                    "OrderID": "10983",
                                    "GecikmeSüresi": "18"
                                },
                                {
                                    "OrderID": "10984",
                                    "GecikmeSüresi": "24"
                                },
                                {
                                    "OrderID": "10985",
                                    "GecikmeSüresi": "25"
                                },
                                {
                                    "OrderID": "10986",
                                    "GecikmeSüresi": "6"
                                },
                                {
                                    "OrderID": "10987",
                                    "GecikmeSüresi": "22"
                                },
                                {
                                    "OrderID": "10988",
                                    "GecikmeSüresi": "18"
                                },
                                {
                                    "OrderID": "10989",
                                    "GecikmeSüresi": "26"
                                },
                                {
                                    "OrderID": "10990",
                                    "GecikmeSüresi": "36"
                                },
                                {
                                    "OrderID": "10991",
                                    "GecikmeSüresi": "22"
                                },
                                {
                                    "OrderID": "10992",
                                    "GecikmeSüresi": "26"
                                },
                                {
                                    "OrderID": "10993",
                                    "GecikmeSüresi": "19"
                                },
                                {
                                    "OrderID": "10994",
                                    "GecikmeSüresi": "7"
                                },
                                {
                                    "OrderID": "10995",
                                    "GecikmeSüresi": "24"
                                },
                                {
                                    "OrderID": "10996",
                                    "GecikmeSüresi": "20"
                                },
                                {
                                    "OrderID": "10997",
                                    "GecikmeSüresi": "32"
                                },
                                {
                                    "OrderID": "10999",
                                    "GecikmeSüresi": "21"
                                },
                                {
                                    "OrderID": "11000",
                                    "GecikmeSüresi": "20"
                                },
                                {
                                    "OrderID": "11001",
                                    "GecikmeSüresi": "20"
                                },
                                {
                                    "OrderID": "11002",
                                    "GecikmeSüresi": "18"
                                },
                                {
                                    "OrderID": "11003",
                                    "GecikmeSüresi": "26"
                                },
                                {
                                    "OrderID": "11004",
                                    "GecikmeSüresi": "15"
                                },
                                {
                                    "OrderID": "11005",
                                    "GecikmeSüresi": "25"
                                },
                                {
                                    "OrderID": "11006",
                                    "GecikmeSüresi": "20"
                                },
                                {
                                    "OrderID": "11007",
                                    "GecikmeSüresi": "23"
                                },
                                {
                                    "OrderID": "11009",
                                    "GecikmeSüresi": "26"
                                },
                                {
                                    "OrderID": "11010",
                                    "GecikmeSüresi": "16"
                                },
                                {
                                    "OrderID": "11011",
                                    "GecikmeSüresi": "24"
                                },
                                {
                                    "OrderID": "11012",
                                    "GecikmeSüresi": "6"
                                },
                                {
                                    "OrderID": "11013",
                                    "GecikmeSüresi": "27"
                                },
                                {
                                    "OrderID": "11014",
                                    "GecikmeSüresi": "23"
                                },
                                {
                                    "OrderID": "11015",
                                    "GecikmeSüresi": "4"
                                },
                                {
                                    "OrderID": "11016",
                                    "GecikmeSüresi": "25"
                                },
                                {
                                    "OrderID": "11017",
                                    "GecikmeSüresi": "21"
                                },
                                {
                                    "OrderID": "11018",
                                    "GecikmeSüresi": "25"
                                },
                                {
                                    "OrderID": "11020",
                                    "GecikmeSüresi": "26"
                                },
                                {
                                    "OrderID": "11021",
                                    "GecikmeSüresi": "21"
                                },
                                {
                                    "OrderID": "11022",
                                    "GecikmeSüresi": "8"
                                },
                                {
                                    "OrderID": "11023",
                                    "GecikmeSüresi": "4"
                                },
                                {
                                    "OrderID": "11024",
                                    "GecikmeSüresi": "23"
                                },
                                {
                                    "OrderID": "11025",
                                    "GecikmeSüresi": "19"
                                },
                                {
                                    "OrderID": "11026",
                                    "GecikmeSüresi": "15"
                                },
                                {
                                    "OrderID": "11027",
                                    "GecikmeSüresi": "24"
                                },
                                {
                                    "OrderID": "11028",
                                    "GecikmeSüresi": "22"
                                },
                                {
                                    "OrderID": "11029",
                                    "GecikmeSüresi": "17"
                                },
                                {
                                    "OrderID": "11030",
                                    "GecikmeSüresi": "18"
                                },
                                {
                                    "OrderID": "11031",
                                    "GecikmeSüresi": "21"
                                },
                                {
                                    "OrderID": "11032",
                                    "GecikmeSüresi": "22"
                                },
                                {
                                    "OrderID": "11033",
                                    "GecikmeSüresi": "22"
                                },
                                {
                                    "OrderID": "11034",
                                    "GecikmeSüresi": "35"
                                },
                                {
                                    "OrderID": "11035",
                                    "GecikmeSüresi": "24"
                                },
                                {
                                    "OrderID": "11036",
                                    "GecikmeSüresi": "26"
                                },
                                {
                                    "OrderID": "11037",
                                    "GecikmeSüresi": "22"
                                },
                                {
                                    "OrderID": "11038",
                                    "GecikmeSüresi": "19"
                                },
                                {
                                    "OrderID": "11041",
                                    "GecikmeSüresi": "22"
                                },
                                {
                                    "OrderID": "11042",
                                    "GecikmeSüresi": "5"
                                },
                                {
                                    "OrderID": "11043",
                                    "GecikmeSüresi": "21"
                                },
                                {
                                    "OrderID": "11044",
                                    "GecikmeSüresi": "20"
                                },
                                {
                                    "OrderID": "11046",
                                    "GecikmeSüresi": "27"
                                },
                                {
                                    "OrderID": "11047",
                                    "GecikmeSüresi": "21"
                                },
                                {
                                    "OrderID": "11048",
                                    "GecikmeSüresi": "22"
                                },
                                {
                                    "OrderID": "11049",
                                    "GecikmeSüresi": "18"
                                },
                                {
                                    "OrderID": "11050",
                                    "GecikmeSüresi": "20"
                                },
                                {
                                    "OrderID": "11052",
                                    "GecikmeSüresi": "24"
                                },
                                {
                                    "OrderID": "11053",
                                    "GecikmeSüresi": "26"
                                },
                                {
                                    "OrderID": "11055",
                                    "GecikmeSüresi": "21"
                                },
                                {
                                    "OrderID": "11056",
                                    "GecikmeSüresi": "11"
                                },
                                {
                                    "OrderID": "11057",
                                    "GecikmeSüresi": "26"
                                },
                                {
                                    "OrderID": "11060",
                                    "GecikmeSüresi": "24"
                                },
                                {
                                    "OrderID": "11063",
                                    "GecikmeSüresi": "22"
                                },
                                {
                                    "OrderID": "11064",
                                    "GecikmeSüresi": "25"
                                },
                                {
                                    "OrderID": "11066",
                                    "GecikmeSüresi": "25"
                                },
                                {
                                    "OrderID": "11067",
                                    "GecikmeSüresi": "12"
                                },
                                {
                                    "OrderID": "11069",
                                    "GecikmeSüresi": "26"
                                }
                            ]
                        },
                        "text/html": [
                            "<table>",
                            "<tr><th>OrderID</th><th>GecikmeSüresi</th></tr>",
                            "<tr><td>10248</td><td>16</td></tr>",
                            "<tr><td>10249</td><td>37</td></tr>",
                            "<tr><td>10250</td><td>24</td></tr>",
                            "<tr><td>10251</td><td>21</td></tr>",
                            "<tr><td>10252</td><td>26</td></tr>",
                            "<tr><td>10253</td><td>8</td></tr>",
                            "<tr><td>10254</td><td>16</td></tr>",
                            "<tr><td>10255</td><td>25</td></tr>",
                            "<tr><td>10256</td><td>26</td></tr>",
                            "<tr><td>10257</td><td>22</td></tr>",
                            "<tr><td>10258</td><td>22</td></tr>",
                            "<tr><td>10259</td><td>21</td></tr>",
                            "<tr><td>10260</td><td>18</td></tr>",
                            "<tr><td>10261</td><td>17</td></tr>",
                            "<tr><td>10262</td><td>25</td></tr>",
                            "<tr><td>10263</td><td>20</td></tr>",
                            "<tr><td>10265</td><td>10</td></tr>",
                            "<tr><td>10266</td><td>37</td></tr>",
                            "<tr><td>10267</td><td>20</td></tr>",
                            "<tr><td>10268</td><td>25</td></tr>",
                            "<tr><td>10269</td><td>5</td></tr>",
                            "<tr><td>10270</td><td>27</td></tr>",
                            "<tr><td>10272</td><td>24</td></tr>",
                            "<tr><td>10273</td><td>21</td></tr>",
                            "<tr><td>10274</td><td>18</td></tr>",
                            "<tr><td>10275</td><td>26</td></tr>",
                            "<tr><td>10276</td><td>8</td></tr>",
                            "<tr><td>10277</td><td>24</td></tr>",
                            "<tr><td>10278</td><td>24</td></tr>",
                            "<tr><td>10279</td><td>25</td></tr>",
                            "<tr><td>10281</td><td>7</td></tr>",
                            "<tr><td>10282</td><td>22</td></tr>",
                            "<tr><td>10283</td><td>21</td></tr>",
                            "<tr><td>10284</td><td>20</td></tr>",
                            "<tr><td>10285</td><td>22</td></tr>",
                            "<tr><td>10286</td><td>19</td></tr>",
                            "<tr><td>10287</td><td>22</td></tr>",
                            "<tr><td>10288</td><td>17</td></tr>",
                            "<tr><td>10289</td><td>26</td></tr>",
                            "<tr><td>10290</td><td>21</td></tr>",
                            "<tr><td>10291</td><td>20</td></tr>",
                            "<tr><td>10292</td><td>23</td></tr>",
                            "<tr><td>10293</td><td>15</td></tr>",
                            "<tr><td>10294</td><td>22</td></tr>",
                            "<tr><td>10295</td><td>20</td></tr>",
                            "<tr><td>10296</td><td>20</td></tr>",
                            "<tr><td>10297</td><td>36</td></tr>",
                            "<tr><td>10298</td><td>22</td></tr>",
                            "<tr><td>10299</td><td>21</td></tr>",
                            "<tr><td>10300</td><td>19</td></tr>",
                            "<tr><td>10301</td><td>20</td></tr>",
                            "<tr><td>10303</td><td>21</td></tr>",
                            "<tr><td>10304</td><td>23</td></tr>",
                            "<tr><td>10305</td><td>2</td></tr>",
                            "<tr><td>10306</td><td>21</td></tr>",
                            "<tr><td>10307</td><td>20</td></tr>",
                            "<tr><td>10308</td><td>22</td></tr>",
                            "<tr><td>10310</td><td>21</td></tr>",
                            "<tr><td>10311</td><td>8</td></tr>",
                            "<tr><td>10312</td><td>18</td></tr>",
                            "<tr><td>10313</td><td>18</td></tr>",
                            "<tr><td>10314</td><td>19</td></tr>",
                            "<tr><td>10315</td><td>21</td></tr>",
                            "<tr><td>10316</td><td>17</td></tr>",
                            "<tr><td>10317</td><td>18</td></tr>",
                            "<tr><td>10318</td><td>25</td></tr>",
                            "<tr><td>10319</td><td>19</td></tr>",
                            "<tr><td>10321</td><td>20</td></tr>",
                            "<tr><td>10322</td><td>9</td></tr>",
                            "<tr><td>10323</td><td>21</td></tr>",
                            "<tr><td>10324</td><td>26</td></tr>",
                            "<tr><td>10325</td><td>9</td></tr>",
                            "<tr><td>10326</td><td>24</td></tr>",
                            "<tr><td>10327</td><td>25</td></tr>",
                            "<tr><td>10328</td><td>25</td></tr>",
                            "<tr><td>10329</td><td>34</td></tr>",
                            "<tr><td>10330</td><td>16</td></tr>",
                            "<tr><td>10331</td><td>37</td></tr>",
                            "<tr><td>10332</td><td>38</td></tr>",
                            "<tr><td>10333</td><td>21</td></tr>",
                            "<tr><td>10334</td><td>21</td></tr>",
                            "<tr><td>10335</td><td>26</td></tr>",
                            "<tr><td>10336</td><td>26</td></tr>",
                            "<tr><td>10337</td><td>23</td></tr>",
                            "<tr><td>10338</td><td>24</td></tr>",
                            "<tr><td>10339</td><td>21</td></tr>",
                            "<tr><td>10340</td><td>18</td></tr>",
                            "<tr><td>10341</td><td>21</td></tr>",
                            "<tr><td>10342</td><td>9</td></tr>",
                            "<tr><td>10343</td><td>22</td></tr>",
                            "<tr><td>10344</td><td>24</td></tr>",
                            "<tr><td>10345</td><td>21</td></tr>",
                            "<tr><td>10346</td><td>39</td></tr>",
                            "<tr><td>10347</td><td>26</td></tr>",
                            "<tr><td>10348</td><td>20</td></tr>",
                            "<tr><td>10349</td><td>21</td></tr>",
                            "<tr><td>10350</td><td>6</td></tr>",
                            "<tr><td>10351</td><td>19</td></tr>",
                            "<tr><td>10352</td><td>8</td></tr>",
                            "<tr><td>10353</td><td>16</td></tr>",
                            "<tr><td>10354</td><td>22</td></tr>",
                            "<tr><td>10355</td><td>23</td></tr>",
                            "<tr><td>10356</td><td>19</td></tr>",
                            "<tr><td>10357</td><td>15</td></tr>",
                            "<tr><td>10358</td><td>21</td></tr>",
                            "<tr><td>10359</td><td>23</td></tr>",
                            "<tr><td>10360</td><td>18</td></tr>",
                            "<tr><td>10361</td><td>17</td></tr>",
                            "<tr><td>10362</td><td>25</td></tr>",
                            "<tr><td>10363</td><td>20</td></tr>",
                            "<tr><td>10364</td><td>34</td></tr>",
                            "<tr><td>10365</td><td>23</td></tr>",
                            "<tr><td>10366</td><td>10</td></tr>",
                            "<tr><td>10367</td><td>24</td></tr>",
                            "<tr><td>10368</td><td>25</td></tr>",
                            "<tr><td>10369</td><td>21</td></tr>",
                            "<tr><td>10370</td><td>4</td></tr>",
                            "<tr><td>10371</td><td>7</td></tr>",
                            "<tr><td>10372</td><td>23</td></tr>",
                            "<tr><td>10373</td><td>22</td></tr>",
                            "<tr><td>10374</td><td>24</td></tr>",
                            "<tr><td>10375</td><td>25</td></tr>",
                            "<tr><td>10376</td><td>24</td></tr>",
                            "<tr><td>10377</td><td>24</td></tr>",
                            "<tr><td>10378</td><td>19</td></tr>",
                            "<tr><td>10379</td><td>26</td></tr>",
                            "<tr><td>10381</td><td>27</td></tr>",
                            "<tr><td>10382</td><td>25</td></tr>",
                            "<tr><td>10383</td><td>26</td></tr>",
                            "<tr><td>10384</td><td>24</td></tr>",
                            "<tr><td>10385</td><td>22</td></tr>",
                            "<tr><td>10386</td><td>7</td></tr>",
                            "<tr><td>10387</td><td>26</td></tr>",
                            "<tr><td>10388</td><td>27</td></tr>",
                            "<tr><td>10389</td><td>24</td></tr>",
                            "<tr><td>10390</td><td>25</td></tr>",
                            "<tr><td>10391</td><td>20</td></tr>",
                            "<tr><td>10392</td><td>20</td></tr>",
                            "<tr><td>10393</td><td>19</td></tr>",
                            "<tr><td>10394</td><td>19</td></tr>",
                            "<tr><td>10395</td><td>20</td></tr>",
                            "<tr><td>10396</td><td>4</td></tr>",
                            "<tr><td>10397</td><td>22</td></tr>",
                            "<tr><td>10398</td><td>18</td></tr>",
                            "<tr><td>10399</td><td>6</td></tr>",
                            "<tr><td>10400</td><td>13</td></tr>",
                            "<tr><td>10401</td><td>19</td></tr>",
                            "<tr><td>10402</td><td>34</td></tr>",
                            "<tr><td>10403</td><td>22</td></tr>",
                            "<tr><td>10404</td><td>23</td></tr>",
                            "<tr><td>10405</td><td>12</td></tr>",
                            "<tr><td>10406</td><td>36</td></tr>",
                            "<tr><td>10407</td><td>5</td></tr>",
                            "<tr><td>10408</td><td>22</td></tr>",
                            "<tr><td>10409</td><td>23</td></tr>",
                            "<tr><td>10410</td><td>23</td></tr>",
                            "<tr><td>10411</td><td>17</td></tr>",
                            "<tr><td>10412</td><td>26</td></tr>",
                            "<tr><td>10413</td><td>26</td></tr>",
                            "<tr><td>10414</td><td>25</td></tr>",
                            "<tr><td>10415</td><td>19</td></tr>",
                            "<tr><td>10416</td><td>17</td></tr>",
                            "<tr><td>10417</td><td>16</td></tr>",
                            "<tr><td>10418</td><td>21</td></tr>",
                            "<tr><td>10419</td><td>18</td></tr>",
                            "<tr><td>10420</td><td>22</td></tr>",
                            "<tr><td>10421</td><td>36</td></tr>",
                            "<tr><td>10422</td><td>19</td></tr>",
                            "<tr><td>10424</td><td>24</td></tr>",
                            "<tr><td>10425</td><td>7</td></tr>",
                            "<tr><td>10426</td><td>18</td></tr>",
                            "<tr><td>10428</td><td>21</td></tr>",
                            "<tr><td>10429</td><td>33</td></tr>",
                            "<tr><td>10430</td><td>10</td></tr>",
                            "<tr><td>10431</td><td>6</td></tr>",
                            "<tr><td>10432</td><td>7</td></tr>",
                            "<tr><td>10434</td><td>18</td></tr>",
                            "<tr><td>10435</td><td>39</td></tr>",
                            "<tr><td>10436</td><td>22</td></tr>",
                            "<tr><td>10437</td><td>21</td></tr>",
                            "<tr><td>10438</td><td>20</td></tr>",
                            "<tr><td>10439</td><td>25</td></tr>",
                            "<tr><td>10440</td><td>10</td></tr>",
                            "<tr><td>10441</td><td>10</td></tr>",
                            "<tr><td>10442</td><td>21</td></tr>",
                            "<tr><td>10443</td><td>26</td></tr>",
                            "<tr><td>10444</td><td>19</td></tr>",
                            "<tr><td>10445</td><td>21</td></tr>",
                            "<tr><td>10446</td><td>23</td></tr>",
                            "<tr><td>10447</td><td>7</td></tr>",
                            "<tr><td>10448</td><td>21</td></tr>",
                            "<tr><td>10449</td><td>19</td></tr>",
                            "<tr><td>10450</td><td>8</td></tr>",
                            "<tr><td>10452</td><td>22</td></tr>",
                            "<tr><td>10453</td><td>23</td></tr>",
                            "<tr><td>10454</td><td>24</td></tr>",
                            "<tr><td>10455</td><td>35</td></tr>",
                            "<tr><td>10456</td><td>39</td></tr>",
                            "<tr><td>10457</td><td>22</td></tr>",
                            "<tr><td>10458</td><td>22</td></tr>",
                            "<tr><td>10459</td><td>27</td></tr>",
                            "<tr><td>10460</td><td>25</td></tr>",
                            "<tr><td>10461</td><td>23</td></tr>",
                            "<tr><td>10462</td><td>13</td></tr>",
                            "<tr><td>10463</td><td>26</td></tr>",
                            "<tr><td>10464</td><td>18</td></tr>",
                            "<tr><td>10465</td><td>19</td></tr>",
                            "<tr><td>10466</td><td>21</td></tr>",
                            "<tr><td>10467</td><td>23</td></tr>",
                            "<tr><td>10468</td><td>23</td></tr>",
                            "<tr><td>10469</td><td>24</td></tr>",
                            "<tr><td>10470</td><td>25</td></tr>",
                            "<tr><td>10471</td><td>21</td></tr>",
                            "<tr><td>10472</td><td>21</td></tr>",
                            "<tr><td>10473</td><td>6</td></tr>",
                            "<tr><td>10474</td><td>20</td></tr>",
                            "<tr><td>10475</td><td>7</td></tr>",
                            "<tr><td>10476</td><td>21</td></tr>",
                            "<tr><td>10477</td><td>20</td></tr>",
                            "<tr><td>10478</td><td>6</td></tr>",
                            "<tr><td>10479</td><td>26</td></tr>",
                            "<tr><td>10480</td><td>24</td></tr>",
                            "<tr><td>10481</td><td>23</td></tr>",
                            "<tr><td>10482</td><td>8</td></tr>",
                            "<tr><td>10484</td><td>20</td></tr>",
                            "<tr><td>10485</td><td>8</td></tr>",
                            "<tr><td>10486</td><td>21</td></tr>",
                            "<tr><td>10487</td><td>26</td></tr>",
                            "<tr><td>10488</td><td>22</td></tr>",
                            "<tr><td>10489</td><td>16</td></tr>",
                            "<tr><td>10490</td><td>25</td></tr>",
                            "<tr><td>10491</td><td>20</td></tr>",
                            "<tr><td>10492</td><td>18</td></tr>",
                            "<tr><td>10493</td><td>20</td></tr>",
                            "<tr><td>10494</td><td>21</td></tr>",
                            "<tr><td>10495</td><td>20</td></tr>",
                            "<tr><td>10496</td><td>25</td></tr>",
                            "<tr><td>10497</td><td>25</td></tr>",
                            "<tr><td>10498</td><td>24</td></tr>",
                            "<tr><td>10499</td><td>20</td></tr>",
                            "<tr><td>10500</td><td>20</td></tr>",
                            "<tr><td>10501</td><td>21</td></tr>",
                            "<tr><td>10502</td><td>9</td></tr>",
                            "<tr><td>10503</td><td>23</td></tr>",
                            "<tr><td>10504</td><td>21</td></tr>",
                            "<tr><td>10505</td><td>21</td></tr>",
                            "<tr><td>10506</td><td>11</td></tr>",
                            "<tr><td>10507</td><td>21</td></tr>",
                            "<tr><td>10508</td><td>1</td></tr>",
                            "<tr><td>10509</td><td>16</td></tr>",
                            "<tr><td>10510</td><td>18</td></tr>",
                            "<tr><td>10511</td><td>25</td></tr>",
                            "<tr><td>10512</td><td>25</td></tr>",
                            "<tr><td>10513</td><td>36</td></tr>",
                            "<tr><td>10514</td><td>4</td></tr>",
                            "<tr><td>10516</td><td>21</td></tr>",
                            "<tr><td>10517</td><td>23</td></tr>",
                            "<tr><td>10518</td><td>4</td></tr>",
                            "<tr><td>10519</td><td>25</td></tr>",
                            "<tr><td>10520</td><td>26</td></tr>",
                            "<tr><td>10521</td><td>25</td></tr>",
                            "<tr><td>10522</td><td>22</td></tr>",
                            "<tr><td>10524</td><td>22</td></tr>",
                            "<tr><td>10525</td><td>7</td></tr>",
                            "<tr><td>10526</td><td>18</td></tr>",
                            "<tr><td>10527</td><td>26</td></tr>",
                            "<tr><td>10528</td><td>11</td></tr>",
                            "<tr><td>10529</td><td>26</td></tr>",
                            "<tr><td>10530</td><td>24</td></tr>",
                            "<tr><td>10531</td><td>17</td></tr>",
                            "<tr><td>10532</td><td>25</td></tr>",
                            "<tr><td>10533</td><td>18</td></tr>",
                            "<tr><td>10534</td><td>26</td></tr>",
                            "<tr><td>10535</td><td>20</td></tr>",
                            "<tr><td>10536</td><td>5</td></tr>",
                            "<tr><td>10537</td><td>9</td></tr>",
                            "<tr><td>10538</td><td>27</td></tr>",
                            "<tr><td>10539</td><td>21</td></tr>",
                            "<tr><td>10540</td><td>3</td></tr>",
                            "<tr><td>10541</td><td>18</td></tr>",
                            "<tr><td>10542</td><td>22</td></tr>",
                            "<tr><td>10543</td><td>26</td></tr>",
                            "<tr><td>10544</td><td>19</td></tr>",
                            "<tr><td>10546</td><td>24</td></tr>",
                            "<tr><td>10547</td><td>18</td></tr>",
                            "<tr><td>10548</td><td>21</td></tr>",
                            "<tr><td>10549</td><td>11</td></tr>",
                            "<tr><td>10550</td><td>19</td></tr>",
                            "<tr><td>10551</td><td>33</td></tr>",
                            "<tr><td>10552</td><td>21</td></tr>",
                            "<tr><td>10553</td><td>24</td></tr>",
                            "<tr><td>10554</td><td>22</td></tr>",
                            "<tr><td>10555</td><td>26</td></tr>",
                            "<tr><td>10556</td><td>32</td></tr>",
                            "<tr><td>10557</td><td>11</td></tr>",
                            "<tr><td>10558</td><td>22</td></tr>",
                            "<tr><td>10559</td><td>20</td></tr>",
                            "<tr><td>10560</td><td>25</td></tr>",
                            "<tr><td>10561</td><td>25</td></tr>",
                            "<tr><td>10562</td><td>25</td></tr>",
                            "<tr><td>10563</td><td>28</td></tr>",
                            "<tr><td>10564</td><td>22</td></tr>",
                            "<tr><td>10565</td><td>21</td></tr>",
                            "<tr><td>10566</td><td>22</td></tr>",
                            "<tr><td>10567</td><td>23</td></tr>",
                            "<tr><td>10568</td><td>2</td></tr>",
                            "<tr><td>10569</td><td>3</td></tr>",
                            "<tr><td>10570</td><td>26</td></tr>",
                            "<tr><td>10571</td><td>25</td></tr>",
                            "<tr><td>10572</td><td>21</td></tr>",
                            "<tr><td>10573</td><td>27</td></tr>",
                            "<tr><td>10574</td><td>17</td></tr>",
                            "<tr><td>10575</td><td>4</td></tr>",
                            "<tr><td>10576</td><td>7</td></tr>",
                            "<tr><td>10577</td><td>35</td></tr>",
                            "<tr><td>10579</td><td>19</td></tr>",
                            "<tr><td>10580</td><td>23</td></tr>",
                            "<tr><td>10581</td><td>22</td></tr>",
                            "<tr><td>10582</td><td>11</td></tr>",
                            "<tr><td>10583</td><td>24</td></tr>",
                            "<tr><td>10584</td><td>24</td></tr>",
                            "<tr><td>10585</td><td>19</td></tr>",
                            "<tr><td>10586</td><td>21</td></tr>",
                            "<tr><td>10587</td><td>21</td></tr>",
                            "<tr><td>10588</td><td>21</td></tr>",
                            "<tr><td>10589</td><td>18</td></tr>",
                            "<tr><td>10590</td><td>21</td></tr>",
                            "<tr><td>10591</td><td>5</td></tr>",
                            "<tr><td>10592</td><td>20</td></tr>",
                            "<tr><td>10594</td><td>21</td></tr>",
                            "<tr><td>10595</td><td>24</td></tr>",
                            "<tr><td>10597</td><td>21</td></tr>",
                            "<tr><td>10598</td><td>24</td></tr>",
                            "<tr><td>10599</td><td>36</td></tr>",
                            "<tr><td>10600</td><td>23</td></tr>",
                            "<tr><td>10601</td><td>36</td></tr>",
                            "<tr><td>10602</td><td>23</td></tr>",
                            "<tr><td>10603</td><td>7</td></tr>",
                            "<tr><td>10604</td><td>17</td></tr>",
                            "<tr><td>10605</td><td>20</td></tr>",
                            "<tr><td>10606</td><td>19</td></tr>",
                            "<tr><td>10607</td><td>25</td></tr>",
                            "<tr><td>10608</td><td>19</td></tr>",
                            "<tr><td>10609</td><td>22</td></tr>",
                            "<tr><td>10610</td><td>16</td></tr>",
                            "<tr><td>10611</td><td>21</td></tr>",
                            "<tr><td>10612</td><td>24</td></tr>",
                            "<tr><td>10613</td><td>25</td></tr>",
                            "<tr><td>10614</td><td>25</td></tr>",
                            "<tr><td>10615</td><td>21</td></tr>",
                            "<tr><td>10616</td><td>23</td></tr>",
                            "<tr><td>10617</td><td>24</td></tr>",
                            "<tr><td>10618</td><td>35</td></tr>",
                            "<tr><td>10619</td><td>25</td></tr>",
                            "<tr><td>10620</td><td>19</td></tr>",
                            "<tr><td>10621</td><td>22</td></tr>",
                            "<tr><td>10622</td><td>23</td></tr>",
                            "<tr><td>10623</td><td>23</td></tr>",
                            "<tr><td>10624</td><td>16</td></tr>",
                            "<tr><td>10625</td><td>22</td></tr>",
                            "<tr><td>10626</td><td>19</td></tr>",
                            "<tr><td>10627</td><td>32</td></tr>",
                            "<tr><td>10628</td><td>20</td></tr>",
                            "<tr><td>10629</td><td>20</td></tr>",
                            "<tr><td>10630</td><td>22</td></tr>",
                            "<tr><td>10631</td><td>27</td></tr>",
                            "<tr><td>10632</td><td>23</td></tr>",
                            "<tr><td>10633</td><td>25</td></tr>",
                            "<tr><td>10634</td><td>22</td></tr>",
                            "<tr><td>10635</td><td>25</td></tr>",
                            "<tr><td>10636</td><td>21</td></tr>",
                            "<tr><td>10637</td><td>21</td></tr>",
                            "<tr><td>10638</td><td>16</td></tr>",
                            "<tr><td>10639</td><td>21</td></tr>",
                            "<tr><td>10640</td><td>21</td></tr>",
                            "<tr><td>10641</td><td>24</td></tr>",
                            "<tr><td>10642</td><td>14</td></tr>",
                            "<tr><td>10643</td><td>20</td></tr>",
                            "<tr><td>10644</td><td>21</td></tr>",
                            "<tr><td>10645</td><td>21</td></tr>",
                            "<tr><td>10646</td><td>35</td></tr>",
                            "<tr><td>10647</td><td>7</td></tr>",
                            "<tr><td>10648</td><td>30</td></tr>",
                            "<tr><td>10649</td><td>27</td></tr>",
                            "<tr><td>10650</td><td>23</td></tr>",
                            "<tr><td>10651</td><td>18</td></tr>",
                            "<tr><td>10652</td><td>21</td></tr>",
                            "<tr><td>10653</td><td>11</td></tr>",
                            "<tr><td>10654</td><td>19</td></tr>",
                            "<tr><td>10655</td><td>20</td></tr>",
                            "<tr><td>10656</td><td>22</td></tr>",
                            "<tr><td>10657</td><td>17</td></tr>",
                            "<tr><td>10658</td><td>25</td></tr>",
                            "<tr><td>10659</td><td>23</td></tr>",
                            "<tr><td>10661</td><td>22</td></tr>",
                            "<tr><td>10662</td><td>19</td></tr>",
                            "<tr><td>10664</td><td>19</td></tr>",
                            "<tr><td>10665</td><td>22</td></tr>",
                            "<tr><td>10666</td><td>18</td></tr>",
                            "<tr><td>10667</td><td>21</td></tr>",
                            "<tr><td>10668</td><td>20</td></tr>",
                            "<tr><td>10669</td><td>21</td></tr>",
                            "<tr><td>10670</td><td>26</td></tr>",
                            "<tr><td>10671</td><td>21</td></tr>",
                            "<tr><td>10672</td><td>5</td></tr>",
                            "<tr><td>10673</td><td>27</td></tr>",
                            "<tr><td>10674</td><td>16</td></tr>",
                            "<tr><td>10675</td><td>24</td></tr>",
                            "<tr><td>10676</td><td>21</td></tr>",
                            "<tr><td>10677</td><td>24</td></tr>",
                            "<tr><td>10678</td><td>5</td></tr>",
                            "<tr><td>10679</td><td>21</td></tr>",
                            "<tr><td>10680</td><td>26</td></tr>",
                            "<tr><td>10681</td><td>23</td></tr>",
                            "<tr><td>10682</td><td>22</td></tr>",
                            "<tr><td>10683</td><td>23</td></tr>",
                            "<tr><td>10684</td><td>24</td></tr>",
                            "<tr><td>10685</td><td>10</td></tr>",
                            "<tr><td>10686</td><td>20</td></tr>",
                            "<tr><td>10688</td><td>8</td></tr>",
                            "<tr><td>10689</td><td>22</td></tr>",
                            "<tr><td>10690</td><td>27</td></tr>",
                            "<tr><td>10691</td><td>23</td></tr>",
                            "<tr><td>10692</td><td>18</td></tr>",
                            "<tr><td>10693</td><td>10</td></tr>",
                            "<tr><td>10694</td><td>25</td></tr>",
                            "<tr><td>10695</td><td>35</td></tr>",
                            "<tr><td>10696</td><td>36</td></tr>",
                            "<tr><td>10697</td><td>22</td></tr>",
                            "<tr><td>10698</td><td>20</td></tr>",
                            "<tr><td>10699</td><td>24</td></tr>",
                            "<tr><td>10700</td><td>22</td></tr>",
                            "<tr><td>10701</td><td>12</td></tr>",
                            "<tr><td>10702</td><td>34</td></tr>",
                            "<tr><td>10703</td><td>22</td></tr>",
                            "<tr><td>10704</td><td>4</td></tr>",
                            "<tr><td>10706</td><td>23</td></tr>",
                            "<tr><td>10707</td><td>7</td></tr>",
                            "<tr><td>10708</td><td>23</td></tr>",
                            "<tr><td>10710</td><td>25</td></tr>",
                            "<tr><td>10711</td><td>34</td></tr>",
                            "<tr><td>10712</td><td>18</td></tr>",
                            "<tr><td>10713</td><td>26</td></tr>",
                            "<tr><td>10714</td><td>23</td></tr>",
                            "<tr><td>10715</td><td>8</td></tr>",
                            "<tr><td>10716</td><td>25</td></tr>",
                            "<tr><td>10717</td><td>23</td></tr>",
                            "<tr><td>10718</td><td>26</td></tr>",
                            "<tr><td>10719</td><td>19</td></tr>",
                            "<tr><td>10720</td><td>6</td></tr>",
                            "<tr><td>10721</td><td>26</td></tr>",
                            "<tr><td>10722</td><td>36</td></tr>",
                            "<tr><td>10723</td><td>2</td></tr>",
                            "<tr><td>10724</td><td>36</td></tr>",
                            "<tr><td>10725</td><td>23</td></tr>",
                            "<tr><td>10728</td><td>21</td></tr>",
                            "<tr><td>10729</td><td>32</td></tr>",
                            "<tr><td>10730</td><td>19</td></tr>",
                            "<tr><td>10731</td><td>20</td></tr>",
                            "<tr><td>10732</td><td>27</td></tr>",
                            "<tr><td>10733</td><td>25</td></tr>",
                            "<tr><td>10734</td><td>23</td></tr>",
                            "<tr><td>10735</td><td>17</td></tr>",
                            "<tr><td>10736</td><td>18</td></tr>",
                            "<tr><td>10737</td><td>21</td></tr>",
                            "<tr><td>10738</td><td>22</td></tr>",
                            "<tr><td>10739</td><td>23</td></tr>",
                            "<tr><td>10740</td><td>16</td></tr>",
                            "<tr><td>10741</td><td>10</td></tr>",
                            "<tr><td>10742</td><td>24</td></tr>",
                            "<tr><td>10743</td><td>24</td></tr>",
                            "<tr><td>10744</td><td>21</td></tr>",
                            "<tr><td>10745</td><td>19</td></tr>",
                            "<tr><td>10746</td><td>26</td></tr>",
                            "<tr><td>10747</td><td>21</td></tr>",
                            "<tr><td>10748</td><td>20</td></tr>",
                            "<tr><td>10750</td><td>25</td></tr>",
                            "<tr><td>10751</td><td>19</td></tr>",
                            "<tr><td>10752</td><td>24</td></tr>",
                            "<tr><td>10753</td><td>26</td></tr>",
                            "<tr><td>10754</td><td>26</td></tr>",
                            "<tr><td>10755</td><td>26</td></tr>",
                            "<tr><td>10756</td><td>23</td></tr>",
                            "<tr><td>10757</td><td>10</td></tr>",
                            "<tr><td>10758</td><td>22</td></tr>",
                            "<tr><td>10759</td><td>14</td></tr>",
                            "<tr><td>10760</td><td>19</td></tr>",
                            "<tr><td>10761</td><td>22</td></tr>",
                            "<tr><td>10762</td><td>21</td></tr>",
                            "<tr><td>10763</td><td>23</td></tr>",
                            "<tr><td>10764</td><td>23</td></tr>",
                            "<tr><td>10765</td><td>23</td></tr>",
                            "<tr><td>10766</td><td>24</td></tr>",
                            "<tr><td>10767</td><td>18</td></tr>",
                            "<tr><td>10768</td><td>21</td></tr>",
                            "<tr><td>10769</td><td>24</td></tr>",
                            "<tr><td>10770</td><td>20</td></tr>",
                            "<tr><td>10771</td><td>5</td></tr>",
                            "<tr><td>10772</td><td>19</td></tr>",
                            "<tr><td>10773</td><td>23</td></tr>",
                            "<tr><td>10774</td><td>13</td></tr>",
                            "<tr><td>10775</td><td>14</td></tr>",
                            "<tr><td>10776</td><td>25</td></tr>",
                            "<tr><td>10778</td><td>20</td></tr>",
                            "<tr><td>10780</td><td>5</td></tr>",
                            "<tr><td>10781</td><td>26</td></tr>",
                            "<tr><td>10782</td><td>23</td></tr>",
                            "<tr><td>10783</td><td>27</td></tr>",
                            "<tr><td>10784</td><td>24</td></tr>",
                            "<tr><td>10785</td><td>22</td></tr>",
                            "<tr><td>10786</td><td>24</td></tr>",
                            "<tr><td>10787</td><td>7</td></tr>",
                            "<tr><td>10789</td><td>19</td></tr>",
                            "<tr><td>10790</td><td>24</td></tr>",
                            "<tr><td>10791</td><td>19</td></tr>",
                            "<tr><td>10792</td><td>20</td></tr>",
                            "<tr><td>10793</td><td>13</td></tr>",
                            "<tr><td>10794</td><td>19</td></tr>",
                            "<tr><td>10795</td><td>1</td></tr>",
                            "<tr><td>10796</td><td>8</td></tr>",
                            "<tr><td>10797</td><td>17</td></tr>",
                            "<tr><td>10798</td><td>18</td></tr>",
                            "<tr><td>10799</td><td>32</td></tr>",
                            "<tr><td>10800</td><td>18</td></tr>",
                            "<tr><td>10801</td><td>26</td></tr>",
                            "<tr><td>10802</td><td>24</td></tr>",
                            "<tr><td>10803</td><td>21</td></tr>",
                            "<tr><td>10804</td><td>20</td></tr>",
                            "<tr><td>10805</td><td>18</td></tr>",
                            "<tr><td>10806</td><td>23</td></tr>",
                            "<tr><td>10808</td><td>20</td></tr>",
                            "<tr><td>10809</td><td>22</td></tr>",
                            "<tr><td>10810</td><td>22</td></tr>",
                            "<tr><td>10811</td><td>22</td></tr>",
                            "<tr><td>10812</td><td>18</td></tr>",
                            "<tr><td>10813</td><td>24</td></tr>",
                            "<tr><td>10814</td><td>19</td></tr>",
                            "<tr><td>10815</td><td>19</td></tr>",
                            "<tr><td>10817</td><td>7</td></tr>",
                            "<tr><td>10818</td><td>23</td></tr>",
                            "<tr><td>10819</td><td>19</td></tr>",
                            "<tr><td>10820</td><td>22</td></tr>",
                            "<tr><td>10821</td><td>21</td></tr>",
                            "<tr><td>10822</td><td>20</td></tr>",
                            "<tr><td>10823</td><td>24</td></tr>",
                            "<tr><td>10824</td><td>7</td></tr>",
                            "<tr><td>10825</td><td>23</td></tr>",
                            "<tr><td>10826</td><td>3</td></tr>",
                            "<tr><td>10829</td><td>18</td></tr>",
                            "<tr><td>10830</td><td>34</td></tr>",
                            "<tr><td>10831</td><td>19</td></tr>",
                            "<tr><td>10832</td><td>23</td></tr>",
                            "<tr><td>10833</td><td>20</td></tr>",
                            "<tr><td>10834</td><td>24</td></tr>",
                            "<tr><td>10835</td><td>22</td></tr>",
                            "<tr><td>10836</td><td>23</td></tr>",
                            "<tr><td>10837</td><td>21</td></tr>",
                            "<tr><td>10838</td><td>24</td></tr>",
                            "<tr><td>10839</td><td>25</td></tr>",
                            "<tr><td>10840</td><td>14</td></tr>",
                            "<tr><td>10841</td><td>19</td></tr>",
                            "<tr><td>10842</td><td>19</td></tr>",
                            "<tr><td>10843</td><td>23</td></tr>",
                            "<tr><td>10844</td><td>23</td></tr>",
                            "<tr><td>10845</td><td>5</td></tr>",
                            "<tr><td>10846</td><td>41</td></tr>",
                            "<tr><td>10848</td><td>22</td></tr>",
                            "<tr><td>10849</td><td>21</td></tr>",
                            "<tr><td>10850</td><td>35</td></tr>",
                            "<tr><td>10851</td><td>21</td></tr>",
                            "<tr><td>10852</td><td>10</td></tr>",
                            "<tr><td>10853</td><td>21</td></tr>",
                            "<tr><td>10854</td><td>19</td></tr>",
                            "<tr><td>10855</td><td>20</td></tr>",
                            "<tr><td>10856</td><td>15</td></tr>",
                            "<tr><td>10857</td><td>19</td></tr>",
                            "<tr><td>10858</td><td>23</td></tr>",
                            "<tr><td>10859</td><td>24</td></tr>",
                            "<tr><td>10860</td><td>22</td></tr>",
                            "<tr><td>10861</td><td>10</td></tr>",
                            "<tr><td>10862</td><td>39</td></tr>",
                            "<tr><td>10863</td><td>13</td></tr>",
                            "<tr><td>10864</td><td>21</td></tr>",
                            "<tr><td>10865</td><td>4</td></tr>",
                            "<tr><td>10866</td><td>19</td></tr>",
                            "<tr><td>10867</td><td>34</td></tr>",
                            "<tr><td>10868</td><td>9</td></tr>",
                            "<tr><td>10869</td><td>23</td></tr>",
                            "<tr><td>10870</td><td>19</td></tr>",
                            "<tr><td>10871</td><td>23</td></tr>",
                            "<tr><td>10872</td><td>24</td></tr>",
                            "<tr><td>10873</td><td>25</td></tr>",
                            "<tr><td>10874</td><td>23</td></tr>",
                            "<tr><td>10875</td><td>3</td></tr>",
                            "<tr><td>10876</td><td>25</td></tr>",
                            "<tr><td>10877</td><td>18</td></tr>",
                            "<tr><td>10878</td><td>26</td></tr>",
                            "<tr><td>10879</td><td>26</td></tr>",
                            "<tr><td>10880</td><td>34</td></tr>",
                            "<tr><td>10881</td><td>21</td></tr>",
                            "<tr><td>10882</td><td>19</td></tr>",
                            "<tr><td>10883</td><td>20</td></tr>",
                            "<tr><td>10884</td><td>27</td></tr>",
                            "<tr><td>10885</td><td>22</td></tr>",
                            "<tr><td>10886</td><td>11</td></tr>",
                            "<tr><td>10887</td><td>25</td></tr>",
                            "<tr><td>10888</td><td>21</td></tr>",
                            "<tr><td>10889</td><td>21</td></tr>",
                            "<tr><td>10890</td><td>26</td></tr>",
                            "<tr><td>10891</td><td>26</td></tr>",
                            "<tr><td>10892</td><td>26</td></tr>",
                            "<tr><td>10893</td><td>26</td></tr>",
                            "<tr><td>10894</td><td>26</td></tr>",
                            "<tr><td>10895</td><td>23</td></tr>",
                            "<tr><td>10896</td><td>20</td></tr>",
                            "<tr><td>10897</td><td>22</td></tr>",
                            "<tr><td>10898</td><td>14</td></tr>",
                            "<tr><td>10899</td><td>22</td></tr>",
                            "<tr><td>10900</td><td>16</td></tr>",
                            "<tr><td>10901</td><td>25</td></tr>",
                            "<tr><td>10902</td><td>20</td></tr>",
                            "<tr><td>10903</td><td>20</td></tr>",
                            "<tr><td>10904</td><td>25</td></tr>",
                            "<tr><td>10905</td><td>18</td></tr>",
                            "<tr><td>10906</td><td>8</td></tr>",
                            "<tr><td>10907</td><td>26</td></tr>",
                            "<tr><td>10908</td><td>20</td></tr>",
                            "<tr><td>10909</td><td>16</td></tr>",
                            "<tr><td>10910</td><td>22</td></tr>",
                            "<tr><td>10911</td><td>21</td></tr>",
                            "<tr><td>10912</td><td>8</td></tr>",
                            "<tr><td>10913</td><td>22</td></tr>",
                            "<tr><td>10914</td><td>25</td></tr>",
                            "<tr><td>10915</td><td>25</td></tr>",
                            "<tr><td>10916</td><td>18</td></tr>",
                            "<tr><td>10917</td><td>19</td></tr>",
                            "<tr><td>10918</td><td>19</td></tr>",
                            "<tr><td>10919</td><td>26</td></tr>",
                            "<tr><td>10920</td><td>22</td></tr>",
                            "<tr><td>10921</td><td>36</td></tr>",
                            "<tr><td>10922</td><td>26</td></tr>",
                            "<tr><td>10923</td><td>32</td></tr>",
                            "<tr><td>10925</td><td>19</td></tr>",
                            "<tr><td>10926</td><td>21</td></tr>",
                            "<tr><td>10928</td><td>15</td></tr>",
                            "<tr><td>10929</td><td>21</td></tr>",
                            "<tr><td>10930</td><td>30</td></tr>",
                            "<tr><td>10931</td><td>1</td></tr>",
                            "<tr><td>10932</td><td>10</td></tr>",
                            "<tr><td>10933</td><td>18</td></tr>",
                            "<tr><td>10934</td><td>25</td></tr>",
                            "<tr><td>10935</td><td>19</td></tr>",
                            "<tr><td>10936</td><td>19</td></tr>",
                            "<tr><td>10937</td><td>11</td></tr>",
                            "<tr><td>10938</td><td>22</td></tr>",
                            "<tr><td>10939</td><td>25</td></tr>",
                            "<tr><td>10940</td><td>16</td></tr>",
                            "<tr><td>10941</td><td>19</td></tr>",
                            "<tr><td>10942</td><td>21</td></tr>",
                            "<tr><td>10943</td><td>20</td></tr>",
                            "<tr><td>10944</td><td>13</td></tr>",
                            "<tr><td>10945</td><td>22</td></tr>",
                            "<tr><td>10946</td><td>21</td></tr>",
                            "<tr><td>10947</td><td>25</td></tr>",
                            "<tr><td>10948</td><td>22</td></tr>",
                            "<tr><td>10949</td><td>24</td></tr>",
                            "<tr><td>10950</td><td>21</td></tr>",
                            "<tr><td>10951</td><td>20</td></tr>",
                            "<tr><td>10952</td><td>34</td></tr>",
                            "<tr><td>10953</td><td>5</td></tr>",
                            "<tr><td>10954</td><td>39</td></tr>",
                            "<tr><td>10955</td><td>25</td></tr>",
                            "<tr><td>10956</td><td>39</td></tr>",
                            "<tr><td>10957</td><td>19</td></tr>",
                            "<tr><td>10958</td><td>19</td></tr>",
                            "<tr><td>10959</td><td>37</td></tr>",
                            "<tr><td>10961</td><td>17</td></tr>",
                            "<tr><td>10962</td><td>24</td></tr>",
                            "<tr><td>10963</td><td>21</td></tr>",
                            "<tr><td>10964</td><td>24</td></tr>",
                            "<tr><td>10965</td><td>18</td></tr>",
                            "<tr><td>10966</td><td>9</td></tr>",
                            "<tr><td>10967</td><td>18</td></tr>",
                            "<tr><td>10968</td><td>19</td></tr>",
                            "<tr><td>10969</td><td>21</td></tr>",
                            "<tr><td>10971</td><td>19</td></tr>",
                            "<tr><td>10972</td><td>26</td></tr>",
                            "<tr><td>10973</td><td>25</td></tr>",
                            "<tr><td>10974</td><td>5</td></tr>",
                            "<tr><td>10975</td><td>26</td></tr>",
                            "<tr><td>10976</td><td>33</td></tr>",
                            "<tr><td>10977</td><td>13</td></tr>",
                            "<tr><td>10979</td><td>23</td></tr>",
                            "<tr><td>10980</td><td>21</td></tr>",
                            "<tr><td>10981</td><td>22</td></tr>",
                            "<tr><td>10982</td><td>16</td></tr>",
                            "<tr><td>10983</td><td>18</td></tr>",
                            "<tr><td>10984</td><td>24</td></tr>",
                            "<tr><td>10985</td><td>25</td></tr>",
                            "<tr><td>10986</td><td>6</td></tr>",
                            "<tr><td>10987</td><td>22</td></tr>",
                            "<tr><td>10988</td><td>18</td></tr>",
                            "<tr><td>10989</td><td>26</td></tr>",
                            "<tr><td>10990</td><td>36</td></tr>",
                            "<tr><td>10991</td><td>22</td></tr>",
                            "<tr><td>10992</td><td>26</td></tr>",
                            "<tr><td>10993</td><td>19</td></tr>",
                            "<tr><td>10994</td><td>7</td></tr>",
                            "<tr><td>10995</td><td>24</td></tr>",
                            "<tr><td>10996</td><td>20</td></tr>",
                            "<tr><td>10997</td><td>32</td></tr>",
                            "<tr><td>10999</td><td>21</td></tr>",
                            "<tr><td>11000</td><td>20</td></tr>",
                            "<tr><td>11001</td><td>20</td></tr>",
                            "<tr><td>11002</td><td>18</td></tr>",
                            "<tr><td>11003</td><td>26</td></tr>",
                            "<tr><td>11004</td><td>15</td></tr>",
                            "<tr><td>11005</td><td>25</td></tr>",
                            "<tr><td>11006</td><td>20</td></tr>",
                            "<tr><td>11007</td><td>23</td></tr>",
                            "<tr><td>11009</td><td>26</td></tr>",
                            "<tr><td>11010</td><td>16</td></tr>",
                            "<tr><td>11011</td><td>24</td></tr>",
                            "<tr><td>11012</td><td>6</td></tr>",
                            "<tr><td>11013</td><td>27</td></tr>",
                            "<tr><td>11014</td><td>23</td></tr>",
                            "<tr><td>11015</td><td>4</td></tr>",
                            "<tr><td>11016</td><td>25</td></tr>",
                            "<tr><td>11017</td><td>21</td></tr>",
                            "<tr><td>11018</td><td>25</td></tr>",
                            "<tr><td>11020</td><td>26</td></tr>",
                            "<tr><td>11021</td><td>21</td></tr>",
                            "<tr><td>11022</td><td>8</td></tr>",
                            "<tr><td>11023</td><td>4</td></tr>",
                            "<tr><td>11024</td><td>23</td></tr>",
                            "<tr><td>11025</td><td>19</td></tr>",
                            "<tr><td>11026</td><td>15</td></tr>",
                            "<tr><td>11027</td><td>24</td></tr>",
                            "<tr><td>11028</td><td>22</td></tr>",
                            "<tr><td>11029</td><td>17</td></tr>",
                            "<tr><td>11030</td><td>18</td></tr>",
                            "<tr><td>11031</td><td>21</td></tr>",
                            "<tr><td>11032</td><td>22</td></tr>",
                            "<tr><td>11033</td><td>22</td></tr>",
                            "<tr><td>11034</td><td>35</td></tr>",
                            "<tr><td>11035</td><td>24</td></tr>",
                            "<tr><td>11036</td><td>26</td></tr>",
                            "<tr><td>11037</td><td>22</td></tr>",
                            "<tr><td>11038</td><td>19</td></tr>",
                            "<tr><td>11041</td><td>22</td></tr>",
                            "<tr><td>11042</td><td>5</td></tr>",
                            "<tr><td>11043</td><td>21</td></tr>",
                            "<tr><td>11044</td><td>20</td></tr>",
                            "<tr><td>11046</td><td>27</td></tr>",
                            "<tr><td>11047</td><td>21</td></tr>",
                            "<tr><td>11048</td><td>22</td></tr>",
                            "<tr><td>11049</td><td>18</td></tr>",
                            "<tr><td>11050</td><td>20</td></tr>",
                            "<tr><td>11052</td><td>24</td></tr>",
                            "<tr><td>11053</td><td>26</td></tr>",
                            "<tr><td>11055</td><td>21</td></tr>",
                            "<tr><td>11056</td><td>11</td></tr>",
                            "<tr><td>11057</td><td>26</td></tr>",
                            "<tr><td>11060</td><td>24</td></tr>",
                            "<tr><td>11063</td><td>22</td></tr>",
                            "<tr><td>11064</td><td>25</td></tr>",
                            "<tr><td>11066</td><td>25</td></tr>",
                            "<tr><td>11067</td><td>12</td></tr>",
                            "<tr><td>11069</td><td>26</td></tr>",
                            "</table>"
                        ]
                    }
                }
            ],
            "execution_count": 1
        },
        {
            "cell_type": "code",
            "source": [
                "SELECT \r\n",
                "AVG(DATEDIFF(DAY,ShippedDate,RequiredDate)) AS OrtalamaGecikmeGun\r\n",
                "FROM \r\n",
                "Orders\r\n",
                "WHERE \r\n",
                "DATEDIFF(DAY,ShippedDate,RequiredDate) > 0\r\n",
                ""
            ],
            "metadata": {
                "language": "sql",
                "azdata_cell_guid": "c79d9137-9372-4d55-a0ec-8892294a7639"
            },
            "outputs": [
                {
                    "output_type": "display_data",
                    "data": {
                        "text/html": "(1 row affected)"
                    },
                    "metadata": {}
                },
                {
                    "output_type": "display_data",
                    "data": {
                        "text/html": "Total execution time: 00:00:00.067"
                    },
                    "metadata": {}
                },
                {
                    "output_type": "execute_result",
                    "metadata": {},
                    "execution_count": 2,
                    "data": {
                        "application/vnd.dataresource+json": {
                            "schema": {
                                "fields": [
                                    {
                                        "name": "OrtalamaGecikmeGun"
                                    }
                                ]
                            },
                            "data": [
                                {
                                    "OrtalamaGecikmeGun": "20"
                                }
                            ]
                        },
                        "text/html": [
                            "<table>",
                            "<tr><th>OrtalamaGecikmeGun</th></tr>",
                            "<tr><td>20</td></tr>",
                            "</table>"
                        ]
                    }
                }
            ],
            "execution_count": 2
        }
    ]
}