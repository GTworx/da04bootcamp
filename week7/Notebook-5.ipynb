{
    "metadata": {
        "kernelspec": {
            "name": "SQL",
            "display_name": "SQL",
            "language": "sql"
        },
        "language_info": {
            "name": "sql",
            "version": ""
        }
    },
    "nbformat_minor": 2,
    "nbformat": 4,
    "cells": [
        {
            "cell_type": "markdown",
            "source": [
                "5\\. Ülke bazında en fazla satın alınan ürünlerin Toplam Cirosu nu gösteren tabloyu oluşturacak sorguyu yazınız."
            ],
            "metadata": {
                "azdata_cell_guid": "9c21f148-be34-4421-a863-3daa2325f2b0"
            },
            "attachments": {}
        },
        {
            "cell_type": "code",
            "source": [
                "SELECT TOP 50 StockCode, Country, PxQ FROM\r\n",
                "(SELECT StockCode, Country, SUM(Price * Quantity) AS PxQ\r\n",
                "FROM retail_2010_2011\r\n",
                "GROUP BY StockCode, Country) AS PXQTABLE\r\n",
                "ORDER BY Country, PxQ DESC"
            ],
            "metadata": {
                "azdata_cell_guid": "b4d53228-25f0-47e4-93fc-a4a008047763",
                "language": "sql"
            },
            "outputs": [
                {
                    "output_type": "display_data",
                    "data": {
                        "text/html": "(50 rows affected)"
                    },
                    "metadata": {}
                },
                {
                    "output_type": "display_data",
                    "data": {
                        "text/html": "Total execution time: 00:00:00.406"
                    },
                    "metadata": {}
                },
                {
                    "output_type": "execute_result",
                    "metadata": {},
                    "execution_count": 2,
                    "data": {
                        "application/vnd.dataresource+json": {
                            "schema": {
                                "fields": [
                                    {
                                        "name": "StockCode"
                                    },
                                    {
                                        "name": "Country"
                                    },
                                    {
                                        "name": "PxQ"
                                    }
                                ]
                            },
                            "data": [
                                {
                                    "StockCode": "23084",
                                    "Country": "Australia",
                                    "PxQ": "3375.8400000000"
                                },
                                {
                                    "StockCode": "22722",
                                    "Country": "Australia",
                                    "PxQ": "2082.0000000000"
                                },
                                {
                                    "StockCode": "21731",
                                    "Country": "Australia",
                                    "PxQ": "1987.2000000000"
                                },
                                {
                                    "StockCode": "22720",
                                    "Country": "Australia",
                                    "PxQ": "1978.2500000000"
                                },
                                {
                                    "StockCode": "22423",
                                    "Country": "Australia",
                                    "PxQ": "1978.2000000000"
                                },
                                {
                                    "StockCode": "21915",
                                    "Country": "Australia",
                                    "PxQ": "1810.8000000000"
                                },
                                {
                                    "StockCode": "22630",
                                    "Country": "Australia",
                                    "PxQ": "1689.6000000000"
                                },
                                {
                                    "StockCode": "22492",
                                    "Country": "Australia",
                                    "PxQ": "1607.4000000000"
                                },
                                {
                                    "StockCode": "22629",
                                    "Country": "Australia",
                                    "PxQ": "1584.0000000000"
                                },
                                {
                                    "StockCode": "21217",
                                    "Country": "Australia",
                                    "PxQ": "1493.6500000000"
                                },
                                {
                                    "StockCode": "22619",
                                    "Country": "Australia",
                                    "PxQ": "1416.0000000000"
                                },
                                {
                                    "StockCode": "22751",
                                    "Country": "Australia",
                                    "PxQ": "1301.7600000000"
                                },
                                {
                                    "StockCode": "22940",
                                    "Country": "Australia",
                                    "PxQ": "1260.0000000000"
                                },
                                {
                                    "StockCode": "22969",
                                    "Country": "Australia",
                                    "PxQ": "1247.3000000000"
                                },
                                {
                                    "StockCode": "23245",
                                    "Country": "Australia",
                                    "PxQ": "1227.8000000000"
                                },
                                {
                                    "StockCode": "47566",
                                    "Country": "Australia",
                                    "PxQ": "1150.2500000000"
                                },
                                {
                                    "StockCode": "22139",
                                    "Country": "Australia",
                                    "PxQ": "1136.8500000000"
                                },
                                {
                                    "StockCode": "23240",
                                    "Country": "Australia",
                                    "PxQ": "1104.9000000000"
                                },
                                {
                                    "StockCode": "22960",
                                    "Country": "Australia",
                                    "PxQ": "1041.0000000000"
                                },
                                {
                                    "StockCode": "23314",
                                    "Country": "Australia",
                                    "PxQ": "1039.0000000000"
                                },
                                {
                                    "StockCode": "23243",
                                    "Country": "Australia",
                                    "PxQ": "1035.6000000000"
                                },
                                {
                                    "StockCode": "22326",
                                    "Country": "Australia",
                                    "PxQ": "979.2000000000"
                                },
                                {
                                    "StockCode": "23536",
                                    "Country": "Australia",
                                    "PxQ": "963.0000000000"
                                },
                                {
                                    "StockCode": "23526",
                                    "Country": "Australia",
                                    "PxQ": "963.0000000000"
                                },
                                {
                                    "StockCode": "23534",
                                    "Country": "Australia",
                                    "PxQ": "963.0000000000"
                                },
                                {
                                    "StockCode": "23535",
                                    "Country": "Australia",
                                    "PxQ": "963.0000000000"
                                },
                                {
                                    "StockCode": "22631",
                                    "Country": "Australia",
                                    "PxQ": "950.4000000000"
                                },
                                {
                                    "StockCode": "23328",
                                    "Country": "Australia",
                                    "PxQ": "939.9600000000"
                                },
                                {
                                    "StockCode": "23298",
                                    "Country": "Australia",
                                    "PxQ": "830.4000000000"
                                },
                                {
                                    "StockCode": "22620",
                                    "Country": "Australia",
                                    "PxQ": "826.2000000000"
                                },
                                {
                                    "StockCode": "21216",
                                    "Country": "Australia",
                                    "PxQ": "816.0000000000"
                                },
                                {
                                    "StockCode": "22749",
                                    "Country": "Australia",
                                    "PxQ": "813.6000000000"
                                },
                                {
                                    "StockCode": "22617",
                                    "Country": "Australia",
                                    "PxQ": "803.1000000000"
                                },
                                {
                                    "StockCode": "22654",
                                    "Country": "Australia",
                                    "PxQ": "792.0000000000"
                                },
                                {
                                    "StockCode": "22662",
                                    "Country": "Australia",
                                    "PxQ": "774.5000000000"
                                },
                                {
                                    "StockCode": "23194",
                                    "Country": "Australia",
                                    "PxQ": "766.8000000000"
                                },
                                {
                                    "StockCode": "22946",
                                    "Country": "Australia",
                                    "PxQ": "765.0000000000"
                                },
                                {
                                    "StockCode": "21914",
                                    "Country": "Australia",
                                    "PxQ": "763.2000000000"
                                },
                                {
                                    "StockCode": "22838",
                                    "Country": "Australia",
                                    "PxQ": "717.6000000000"
                                },
                                {
                                    "StockCode": "21843",
                                    "Country": "Australia",
                                    "PxQ": "716.4000000000"
                                },
                                {
                                    "StockCode": "23193",
                                    "Country": "Australia",
                                    "PxQ": "702.0000000000"
                                },
                                {
                                    "StockCode": "23177",
                                    "Country": "Australia",
                                    "PxQ": "702.0000000000"
                                },
                                {
                                    "StockCode": "23176",
                                    "Country": "Australia",
                                    "PxQ": "702.0000000000"
                                },
                                {
                                    "StockCode": "21218",
                                    "Country": "Australia",
                                    "PxQ": "702.0000000000"
                                },
                                {
                                    "StockCode": "23173",
                                    "Country": "Australia",
                                    "PxQ": "684.6000000000"
                                },
                                {
                                    "StockCode": "22382",
                                    "Country": "Australia",
                                    "PxQ": "662.5000000000"
                                },
                                {
                                    "StockCode": "21137",
                                    "Country": "Australia",
                                    "PxQ": "650.8800000000"
                                },
                                {
                                    "StockCode": "22750",
                                    "Country": "Australia",
                                    "PxQ": "650.8800000000"
                                },
                                {
                                    "StockCode": "23247",
                                    "Country": "Australia",
                                    "PxQ": "624.2400000000"
                                },
                                {
                                    "StockCode": "22968",
                                    "Country": "Australia",
                                    "PxQ": "612.0000000000"
                                }
                            ]
                        },
                        "text/html": [
                            "<table>",
                            "<tr><th>StockCode</th><th>Country</th><th>PxQ</th></tr>",
                            "<tr><td>23084</td><td>Australia</td><td>3375.8400000000</td></tr>",
                            "<tr><td>22722</td><td>Australia</td><td>2082.0000000000</td></tr>",
                            "<tr><td>21731</td><td>Australia</td><td>1987.2000000000</td></tr>",
                            "<tr><td>22720</td><td>Australia</td><td>1978.2500000000</td></tr>",
                            "<tr><td>22423</td><td>Australia</td><td>1978.2000000000</td></tr>",
                            "<tr><td>21915</td><td>Australia</td><td>1810.8000000000</td></tr>",
                            "<tr><td>22630</td><td>Australia</td><td>1689.6000000000</td></tr>",
                            "<tr><td>22492</td><td>Australia</td><td>1607.4000000000</td></tr>",
                            "<tr><td>22629</td><td>Australia</td><td>1584.0000000000</td></tr>",
                            "<tr><td>21217</td><td>Australia</td><td>1493.6500000000</td></tr>",
                            "<tr><td>22619</td><td>Australia</td><td>1416.0000000000</td></tr>",
                            "<tr><td>22751</td><td>Australia</td><td>1301.7600000000</td></tr>",
                            "<tr><td>22940</td><td>Australia</td><td>1260.0000000000</td></tr>",
                            "<tr><td>22969</td><td>Australia</td><td>1247.3000000000</td></tr>",
                            "<tr><td>23245</td><td>Australia</td><td>1227.8000000000</td></tr>",
                            "<tr><td>47566</td><td>Australia</td><td>1150.2500000000</td></tr>",
                            "<tr><td>22139</td><td>Australia</td><td>1136.8500000000</td></tr>",
                            "<tr><td>23240</td><td>Australia</td><td>1104.9000000000</td></tr>",
                            "<tr><td>22960</td><td>Australia</td><td>1041.0000000000</td></tr>",
                            "<tr><td>23314</td><td>Australia</td><td>1039.0000000000</td></tr>",
                            "<tr><td>23243</td><td>Australia</td><td>1035.6000000000</td></tr>",
                            "<tr><td>22326</td><td>Australia</td><td>979.2000000000</td></tr>",
                            "<tr><td>23536</td><td>Australia</td><td>963.0000000000</td></tr>",
                            "<tr><td>23526</td><td>Australia</td><td>963.0000000000</td></tr>",
                            "<tr><td>23534</td><td>Australia</td><td>963.0000000000</td></tr>",
                            "<tr><td>23535</td><td>Australia</td><td>963.0000000000</td></tr>",
                            "<tr><td>22631</td><td>Australia</td><td>950.4000000000</td></tr>",
                            "<tr><td>23328</td><td>Australia</td><td>939.9600000000</td></tr>",
                            "<tr><td>23298</td><td>Australia</td><td>830.4000000000</td></tr>",
                            "<tr><td>22620</td><td>Australia</td><td>826.2000000000</td></tr>",
                            "<tr><td>21216</td><td>Australia</td><td>816.0000000000</td></tr>",
                            "<tr><td>22749</td><td>Australia</td><td>813.6000000000</td></tr>",
                            "<tr><td>22617</td><td>Australia</td><td>803.1000000000</td></tr>",
                            "<tr><td>22654</td><td>Australia</td><td>792.0000000000</td></tr>",
                            "<tr><td>22662</td><td>Australia</td><td>774.5000000000</td></tr>",
                            "<tr><td>23194</td><td>Australia</td><td>766.8000000000</td></tr>",
                            "<tr><td>22946</td><td>Australia</td><td>765.0000000000</td></tr>",
                            "<tr><td>21914</td><td>Australia</td><td>763.2000000000</td></tr>",
                            "<tr><td>22838</td><td>Australia</td><td>717.6000000000</td></tr>",
                            "<tr><td>21843</td><td>Australia</td><td>716.4000000000</td></tr>",
                            "<tr><td>23193</td><td>Australia</td><td>702.0000000000</td></tr>",
                            "<tr><td>23177</td><td>Australia</td><td>702.0000000000</td></tr>",
                            "<tr><td>23176</td><td>Australia</td><td>702.0000000000</td></tr>",
                            "<tr><td>21218</td><td>Australia</td><td>702.0000000000</td></tr>",
                            "<tr><td>23173</td><td>Australia</td><td>684.6000000000</td></tr>",
                            "<tr><td>22382</td><td>Australia</td><td>662.5000000000</td></tr>",
                            "<tr><td>21137</td><td>Australia</td><td>650.8800000000</td></tr>",
                            "<tr><td>22750</td><td>Australia</td><td>650.8800000000</td></tr>",
                            "<tr><td>23247</td><td>Australia</td><td>624.2400000000</td></tr>",
                            "<tr><td>22968</td><td>Australia</td><td>612.0000000000</td></tr>",
                            "</table>"
                        ]
                    }
                }
            ],
            "execution_count": 2
        }
    ]
}