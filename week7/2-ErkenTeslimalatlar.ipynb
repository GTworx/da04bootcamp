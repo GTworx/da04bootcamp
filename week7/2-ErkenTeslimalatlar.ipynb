{
    "metadata": {
        "kernelspec": {
            "name": "SQL",
            "display_name": "SQL",
            "language": "sql"
        },
        "language_info": {
            "name": "sql",
            "version": ""
        }
    },
    "nbformat_minor": 2,
    "nbformat": 4,
    "cells": [
        {
            "cell_type": "markdown",
            "source": [
                "2\\. \"Erken Giden Urunler\" in ortalama kaç gün erken gittiğini bulan sorguyu yazınız."
            ],
            "metadata": {
                "azdata_cell_guid": "b2815cce-de65-456a-aed5-f7c3b67b8b41"
            },
            "attachments": {}
        },
        {
            "cell_type": "code",
            "source": [
                "SELECT \r\n",
                "OrderID,\r\n",
                "DATEDIFF(DAY, RequiredDate, ShippedDate) AS ErkenGün\r\n",
                "FROM \r\n",
                "Orders\r\n",
                "WHERE \r\n",
                "DATEDIFF(DAY,ShippedDate,RequiredDate) < 0\r\n",
                ""
            ],
            "metadata": {
                "azdata_cell_guid": "75313d4e-e752-46d7-9dd1-c82d0c829ce8",
                "language": "sql"
            },
            "outputs": [
                {
                    "output_type": "display_data",
                    "data": {
                        "text/html": "(37 rows affected)"
                    },
                    "metadata": {}
                },
                {
                    "output_type": "display_data",
                    "data": {
                        "text/html": "Total execution time: 00:00:00.068"
                    },
                    "metadata": {}
                },
                {
                    "output_type": "execute_result",
                    "metadata": {},
                    "execution_count": 2,
                    "data": {
                        "application/vnd.dataresource+json": {
                            "schema": {
                                "fields": [
                                    {
                                        "name": "OrderID"
                                    },
                                    {
                                        "name": "ErkenGün"
                                    }
                                ]
                            },
                            "data": [
                                {
                                    "OrderID": "10264",
                                    "ErkenGün": "2"
                                },
                                {
                                    "OrderID": "10271",
                                    "ErkenGün": "1"
                                },
                                {
                                    "OrderID": "10280",
                                    "ErkenGün": "1"
                                },
                                {
                                    "OrderID": "10302",
                                    "ErkenGün": "1"
                                },
                                {
                                    "OrderID": "10309",
                                    "ErkenGün": "6"
                                },
                                {
                                    "OrderID": "10320",
                                    "ErkenGün": "1"
                                },
                                {
                                    "OrderID": "10380",
                                    "ErkenGün": "7"
                                },
                                {
                                    "OrderID": "10423",
                                    "ErkenGün": "18"
                                },
                                {
                                    "OrderID": "10427",
                                    "ErkenGün": "7"
                                },
                                {
                                    "OrderID": "10433",
                                    "ErkenGün": "1"
                                },
                                {
                                    "OrderID": "10451",
                                    "ErkenGün": "7"
                                },
                                {
                                    "OrderID": "10483",
                                    "ErkenGün": "4"
                                },
                                {
                                    "OrderID": "10515",
                                    "ErkenGün": "16"
                                },
                                {
                                    "OrderID": "10523",
                                    "ErkenGün": "1"
                                },
                                {
                                    "OrderID": "10545",
                                    "ErkenGün": "7"
                                },
                                {
                                    "OrderID": "10578",
                                    "ErkenGün": "3"
                                },
                                {
                                    "OrderID": "10593",
                                    "ErkenGün": "7"
                                },
                                {
                                    "OrderID": "10596",
                                    "ErkenGün": "4"
                                },
                                {
                                    "OrderID": "10660",
                                    "ErkenGün": "9"
                                },
                                {
                                    "OrderID": "10663",
                                    "ErkenGün": "9"
                                },
                                {
                                    "OrderID": "10687",
                                    "ErkenGün": "2"
                                },
                                {
                                    "OrderID": "10705",
                                    "ErkenGün": "6"
                                },
                                {
                                    "OrderID": "10709",
                                    "ErkenGün": "6"
                                },
                                {
                                    "OrderID": "10726",
                                    "ErkenGün": "18"
                                },
                                {
                                    "OrderID": "10727",
                                    "ErkenGün": "4"
                                },
                                {
                                    "OrderID": "10749",
                                    "ErkenGün": "1"
                                },
                                {
                                    "OrderID": "10777",
                                    "ErkenGün": "23"
                                },
                                {
                                    "OrderID": "10779",
                                    "ErkenGün": "1"
                                },
                                {
                                    "OrderID": "10807",
                                    "ErkenGün": "2"
                                },
                                {
                                    "OrderID": "10816",
                                    "ErkenGün": "1"
                                },
                                {
                                    "OrderID": "10827",
                                    "ErkenGün": "11"
                                },
                                {
                                    "OrderID": "10828",
                                    "ErkenGün": "8"
                                },
                                {
                                    "OrderID": "10847",
                                    "ErkenGün": "5"
                                },
                                {
                                    "OrderID": "10924",
                                    "ErkenGün": "7"
                                },
                                {
                                    "OrderID": "10927",
                                    "ErkenGün": "6"
                                },
                                {
                                    "OrderID": "10960",
                                    "ErkenGün": "6"
                                },
                                {
                                    "OrderID": "10970",
                                    "ErkenGün": "17"
                                }
                            ]
                        },
                        "text/html": [
                            "<table>",
                            "<tr><th>OrderID</th><th>ErkenGün</th></tr>",
                            "<tr><td>10264</td><td>2</td></tr>",
                            "<tr><td>10271</td><td>1</td></tr>",
                            "<tr><td>10280</td><td>1</td></tr>",
                            "<tr><td>10302</td><td>1</td></tr>",
                            "<tr><td>10309</td><td>6</td></tr>",
                            "<tr><td>10320</td><td>1</td></tr>",
                            "<tr><td>10380</td><td>7</td></tr>",
                            "<tr><td>10423</td><td>18</td></tr>",
                            "<tr><td>10427</td><td>7</td></tr>",
                            "<tr><td>10433</td><td>1</td></tr>",
                            "<tr><td>10451</td><td>7</td></tr>",
                            "<tr><td>10483</td><td>4</td></tr>",
                            "<tr><td>10515</td><td>16</td></tr>",
                            "<tr><td>10523</td><td>1</td></tr>",
                            "<tr><td>10545</td><td>7</td></tr>",
                            "<tr><td>10578</td><td>3</td></tr>",
                            "<tr><td>10593</td><td>7</td></tr>",
                            "<tr><td>10596</td><td>4</td></tr>",
                            "<tr><td>10660</td><td>9</td></tr>",
                            "<tr><td>10663</td><td>9</td></tr>",
                            "<tr><td>10687</td><td>2</td></tr>",
                            "<tr><td>10705</td><td>6</td></tr>",
                            "<tr><td>10709</td><td>6</td></tr>",
                            "<tr><td>10726</td><td>18</td></tr>",
                            "<tr><td>10727</td><td>4</td></tr>",
                            "<tr><td>10749</td><td>1</td></tr>",
                            "<tr><td>10777</td><td>23</td></tr>",
                            "<tr><td>10779</td><td>1</td></tr>",
                            "<tr><td>10807</td><td>2</td></tr>",
                            "<tr><td>10816</td><td>1</td></tr>",
                            "<tr><td>10827</td><td>11</td></tr>",
                            "<tr><td>10828</td><td>8</td></tr>",
                            "<tr><td>10847</td><td>5</td></tr>",
                            "<tr><td>10924</td><td>7</td></tr>",
                            "<tr><td>10927</td><td>6</td></tr>",
                            "<tr><td>10960</td><td>6</td></tr>",
                            "<tr><td>10970</td><td>17</td></tr>",
                            "</table>"
                        ]
                    }
                }
            ],
            "execution_count": 2
        },
        {
            "cell_type": "code",
            "source": [
                "SELECT\r\n",
                "AVG(DATEDIFF(DAY, RequiredDate, ShippedDate)) AS OrtalamaErkenGün\r\n",
                "FROM \r\n",
                "Orders\r\n",
                "WHERE \r\n",
                "DATEDIFF(DAY,ShippedDate,RequiredDate) < 0\r\n",
                ""
            ],
            "metadata": {
                "language": "sql",
                "azdata_cell_guid": "5fd3af75-9203-452b-a227-39e3eabf9b80"
            },
            "outputs": [
                {
                    "output_type": "display_data",
                    "data": {
                        "text/html": "(1 row affected)"
                    },
                    "metadata": {}
                },
                {
                    "output_type": "display_data",
                    "data": {
                        "text/html": "Total execution time: 00:00:00.072"
                    },
                    "metadata": {}
                },
                {
                    "output_type": "execute_result",
                    "metadata": {},
                    "execution_count": 4,
                    "data": {
                        "application/vnd.dataresource+json": {
                            "schema": {
                                "fields": [
                                    {
                                        "name": "OrtalamaErkenGün"
                                    }
                                ]
                            },
                            "data": [
                                {
                                    "OrtalamaErkenGün": "6"
                                }
                            ]
                        },
                        "text/html": [
                            "<table>",
                            "<tr><th>OrtalamaErkenGün</th></tr>",
                            "<tr><td>6</td></tr>",
                            "</table>"
                        ]
                    }
                }
            ],
            "execution_count": 4
        }
    ]
}