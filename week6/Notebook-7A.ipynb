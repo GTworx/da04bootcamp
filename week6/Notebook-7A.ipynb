{
    "metadata": {
        "kernelspec": {
            "name": "SQL",
            "display_name": "SQL",
            "language": "sql"
        },
        "language_info": {
            "name": "sql",
            "version": ""
        }
    },
    "nbformat_minor": 2,
    "nbformat": 4,
    "cells": [
        {
            "cell_type": "markdown",
            "source": [
                "7.En son alışveriş yapılan kanal kırılımında alışveriş başına ortalama ciroyu hesaplayacak sorguyu yazınız."
            ],
            "metadata": {
                "azdata_cell_guid": "a18e07ea-0771-4280-8e7c-f15aaf5e45d8"
            },
            "attachments": {}
        },
        {
            "cell_type": "code",
            "source": [
                "SELECT\r\n",
                "    order_channel,\r\n",
                "    AVG(customer_value_total_ever_online) AS average_revenue_per_order\r\n",
                "FROM\r\n",
                "    FLO\r\n",
                "WHERE\r\n",
                "    last_order_date_online IS NOT NULL\r\n",
                "GROUP BY\r\n",
                "    order_channel;"
            ],
            "metadata": {
                "azdata_cell_guid": "94ee0d9e-ae19-4b1b-9c68-d5defe68a379",
                "language": "sql"
            },
            "outputs": [
                {
                    "output_type": "display_data",
                    "data": {
                        "text/html": "(4 rows affected)"
                    },
                    "metadata": {}
                },
                {
                    "output_type": "display_data",
                    "data": {
                        "text/html": "Total execution time: 00:00:00.070"
                    },
                    "metadata": {}
                },
                {
                    "output_type": "execute_result",
                    "execution_count": 1,
                    "data": {
                        "application/vnd.dataresource+json": {
                            "schema": {
                                "fields": [
                                    {
                                        "name": "order_channel"
                                    },
                                    {
                                        "name": "average_revenue_per_order"
                                    }
                                ]
                            },
                            "data": [
                                {
                                    "order_channel": "Ios App",
                                    "average_revenue_per_order": "56635,857394987645"
                                },
                                {
                                    "order_channel": "Android App",
                                    "average_revenue_per_order": "52221,20989994734"
                                },
                                {
                                    "order_channel": "Desktop",
                                    "average_revenue_per_order": "29182,538208409507"
                                },
                                {
                                    "order_channel": "Mobile",
                                    "average_revenue_per_order": "33329,94305612454"
                                }
                            ]
                        },
                        "text/html": "<table><tr><th>order_channel</th><th>average_revenue_per_order</th></tr><tr><td>Ios App</td><td>56635,857394987645</td></tr><tr><td>Android App</td><td>52221,20989994734</td></tr><tr><td>Desktop</td><td>29182,538208409507</td></tr><tr><td>Mobile</td><td>33329,94305612454</td></tr></table>"
                    },
                    "metadata": {}
                }
            ],
            "execution_count": 1
        }
    ]
}