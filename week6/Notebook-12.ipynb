{
    "metadata": {
        "kernelspec": {
            "name": "SQL",
            "display_name": "SQL",
            "language": "sql"
        },
        "language_info": {
            "name": "sql",
            "version": ""
        }
    },
    "nbformat_minor": 2,
    "nbformat": 4,
    "cells": [
        {
            "cell_type": "markdown",
            "source": [
                "12\\. FLO tablosundan alışveriş yapılan platforma ait sipariş kanalı ‘Mobile‘ olan, online ve offline alışveriş yapan <span style=\"color: var(--vscode-foreground);\">müşterilerin toplam cirolarını getiren sorguyu yazınız.</span>"
            ],
            "metadata": {
                "azdata_cell_guid": "ccc9baa3-5d6c-4a19-919c-0c328bb56bb2"
            },
            "attachments": {}
        },
        {
            "cell_type": "code",
            "source": [
                "SELECT\r\n",
                "    SUM(CASE WHEN order_channel = 'Online' THEN customer_value_total_ever_online ELSE 0 END) AS OnlineTotalRevenue,\r\n",
                "    SUM(CASE WHEN order_channel = 'Offline' THEN customer_value_total_ever_offline ELSE 0 END) AS OfflineTotalRevenue\r\n",
                "FROM\r\n",
                "    [dbo].[FLO]\r\n",
                "WHERE\r\n",
                "    order_channel = 'Mobile';\r\n",
                ""
            ],
            "metadata": {
                "azdata_cell_guid": "ed6bbddc-f5be-43da-acbc-8ec228a520d4",
                "language": "sql"
            },
            "outputs": [
                {
                    "output_type": "display_data",
                    "data": {
                        "text/html": "(1 row affected)"
                    },
                    "metadata": {}
                },
                {
                    "output_type": "display_data",
                    "data": {
                        "text/html": "Total execution time: 00:00:00.065"
                    },
                    "metadata": {}
                },
                {
                    "output_type": "execute_result",
                    "metadata": {},
                    "execution_count": 1,
                    "data": {
                        "application/vnd.dataresource+json": {
                            "schema": {
                                "fields": [
                                    {
                                        "name": "OnlineTotalRevenue"
                                    },
                                    {
                                        "name": "OfflineTotalRevenue"
                                    }
                                ]
                            },
                            "data": [
                                {
                                    "OnlineTotalRevenue": "0",
                                    "OfflineTotalRevenue": "0"
                                }
                            ]
                        },
                        "text/html": [
                            "<table>",
                            "<tr><th>OnlineTotalRevenue</th><th>OfflineTotalRevenue</th></tr>",
                            "<tr><td>0</td><td>0</td></tr>",
                            "</table>"
                        ]
                    }
                }
            ],
            "execution_count": 1
        }
    ]
}