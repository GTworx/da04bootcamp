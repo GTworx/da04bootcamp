{
    "metadata": {
        "kernelspec": {
            "name": "SQL",
            "display_name": "SQL",
            "language": "sql"
        },
        "language_info": {
            "name": "sql",
            "version": ""
        }
    },
    "nbformat_minor": 2,
    "nbformat": 4,
    "cells": [
        {
            "cell_type": "markdown",
            "source": [
                "18\\. First Order Date e göre yıl bazında müşteri sayısını getiren sorguyu yazınız."
            ],
            "metadata": {
                "azdata_cell_guid": "11fddebd-0212-4ff5-8e7b-1e8329de7f23"
            },
            "attachments": {}
        },
        {
            "cell_type": "code",
            "source": [
                "SELECT\r\n",
                "    YEAR(First_Order_Date) AS Order_Year,\r\n",
                "    COUNT(*) AS Customer_Count\r\n",
                "FROM\r\n",
                "    [dbo].[FLO]\r\n",
                "WHERE\r\n",
                "    First_Order_Date IS NOT NULL\r\n",
                "GROUP BY\r\n",
                "    YEAR(First_Order_Date)\r\n",
                "ORDER BY\r\n",
                "    Order_Year;\r\n",
                ""
            ],
            "metadata": {
                "azdata_cell_guid": "66f97e6b-b639-4104-addc-7408b651735d",
                "language": "sql"
            },
            "outputs": [
                {
                    "output_type": "display_data",
                    "data": {
                        "text/html": "(9 rows affected)"
                    },
                    "metadata": {}
                },
                {
                    "output_type": "display_data",
                    "data": {
                        "text/html": "Total execution time: 00:00:00.070"
                    },
                    "metadata": {}
                },
                {
                    "output_type": "execute_result",
                    "metadata": {},
                    "execution_count": 1,
                    "data": {
                        "application/vnd.dataresource+json": {
                            "schema": {
                                "fields": [
                                    {
                                        "name": "Order_Year"
                                    },
                                    {
                                        "name": "Customer_Count"
                                    }
                                ]
                            },
                            "data": [
                                {
                                    "Order_Year": "2013",
                                    "Customer_Count": "129"
                                },
                                {
                                    "Order_Year": "2014",
                                    "Customer_Count": "405"
                                },
                                {
                                    "Order_Year": "2015",
                                    "Customer_Count": "614"
                                },
                                {
                                    "Order_Year": "2016",
                                    "Customer_Count": "662"
                                },
                                {
                                    "Order_Year": "2017",
                                    "Customer_Count": "1160"
                                },
                                {
                                    "Order_Year": "2018",
                                    "Customer_Count": "1630"
                                },
                                {
                                    "Order_Year": "2019",
                                    "Customer_Count": "10352"
                                },
                                {
                                    "Order_Year": "2020",
                                    "Customer_Count": "4412"
                                },
                                {
                                    "Order_Year": "2021",
                                    "Customer_Count": "581"
                                }
                            ]
                        },
                        "text/html": [
                            "<table>",
                            "<tr><th>Order_Year</th><th>Customer_Count</th></tr>",
                            "<tr><td>2013</td><td>129</td></tr>",
                            "<tr><td>2014</td><td>405</td></tr>",
                            "<tr><td>2015</td><td>614</td></tr>",
                            "<tr><td>2016</td><td>662</td></tr>",
                            "<tr><td>2017</td><td>1160</td></tr>",
                            "<tr><td>2018</td><td>1630</td></tr>",
                            "<tr><td>2019</td><td>10352</td></tr>",
                            "<tr><td>2020</td><td>4412</td></tr>",
                            "<tr><td>2021</td><td>581</td></tr>",
                            "</table>"
                        ]
                    }
                }
            ],
            "execution_count": 1
        }
    ]
}