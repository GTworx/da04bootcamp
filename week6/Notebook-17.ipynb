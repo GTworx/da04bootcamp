{
    "metadata": {
        "kernelspec": {
            "name": "SQL",
            "display_name": "SQL",
            "language": "sql"
        },
        "language_info": {
            "name": "sql",
            "version": ""
        }
    },
    "nbformat_minor": 2,
    "nbformat": 4,
    "cells": [
        {
            "cell_type": "markdown",
            "source": [
                "17\\. En çok alışveriş yapan 50 kişinin ID’ sini getiren sorguyu yazınız."
            ],
            "metadata": {
                "azdata_cell_guid": "fa7c8941-2d54-4a61-a363-4c4d1cb2481d"
            },
            "attachments": {}
        },
        {
            "cell_type": "code",
            "source": [
                "SELECT TOP 50\r\n",
                "    CustomerID\r\n",
                "FROM\r\n",
                "    Orders\r\n",
                "GROUP BY\r\n",
                "    CustomerID\r\n",
                "ORDER BY\r\n",
                "    COUNT(*) DESC;\r\n",
                ""
            ],
            "metadata": {
                "azdata_cell_guid": "a913394f-9268-4a5f-9dc5-ac0fd45dd912",
                "language": "sql"
            },
            "outputs": [
                {
                    "output_type": "display_data",
                    "data": {
                        "text/html": "(50 rows affected)"
                    },
                    "metadata": {}
                },
                {
                    "output_type": "display_data",
                    "data": {
                        "text/html": "Total execution time: 00:00:00.050"
                    },
                    "metadata": {}
                },
                {
                    "output_type": "execute_result",
                    "metadata": {},
                    "execution_count": 1,
                    "data": {
                        "application/vnd.dataresource+json": {
                            "schema": {
                                "fields": [
                                    {
                                        "name": "CustomerID"
                                    }
                                ]
                            },
                            "data": [
                                {
                                    "CustomerID": "SAVEA"
                                },
                                {
                                    "CustomerID": "ERNSH"
                                },
                                {
                                    "CustomerID": "QUICK"
                                },
                                {
                                    "CustomerID": "FOLKO"
                                },
                                {
                                    "CustomerID": "HUNGO"
                                },
                                {
                                    "CustomerID": "HILAA"
                                },
                                {
                                    "CustomerID": "BERGS"
                                },
                                {
                                    "CustomerID": "RATTC"
                                },
                                {
                                    "CustomerID": "BONAP"
                                },
                                {
                                    "CustomerID": "LEHMS"
                                },
                                {
                                    "CustomerID": "FRANK"
                                },
                                {
                                    "CustomerID": "WARTH"
                                },
                                {
                                    "CustomerID": "LAMAI"
                                },
                                {
                                    "CustomerID": "KOENE"
                                },
                                {
                                    "CustomerID": "LILAS"
                                },
                                {
                                    "CustomerID": "HANAR"
                                },
                                {
                                    "CustomerID": "BOTTM"
                                },
                                {
                                    "CustomerID": "WHITC"
                                },
                                {
                                    "CustomerID": "AROUT"
                                },
                                {
                                    "CustomerID": "MEREP"
                                },
                                {
                                    "CustomerID": "QUEEN"
                                },
                                {
                                    "CustomerID": "LINOD"
                                },
                                {
                                    "CustomerID": "REGGC"
                                },
                                {
                                    "CustomerID": "SUPRD"
                                },
                                {
                                    "CustomerID": "GREAL"
                                },
                                {
                                    "CustomerID": "BLONP"
                                },
                                {
                                    "CustomerID": "RICAR"
                                },
                                {
                                    "CustomerID": "VAFFE"
                                },
                                {
                                    "CustomerID": "ISLAT"
                                },
                                {
                                    "CustomerID": "MAGAA"
                                },
                                {
                                    "CustomerID": "BSBEV"
                                },
                                {
                                    "CustomerID": "GODOS"
                                },
                                {
                                    "CustomerID": "OLDWO"
                                },
                                {
                                    "CustomerID": "OTTIK"
                                },
                                {
                                    "CustomerID": "PICCO"
                                },
                                {
                                    "CustomerID": "RICSU"
                                },
                                {
                                    "CustomerID": "TORTU"
                                },
                                {
                                    "CustomerID": "VICTE"
                                },
                                {
                                    "CustomerID": "WANDK"
                                },
                                {
                                    "CustomerID": "GOURL"
                                },
                                {
                                    "CustomerID": "QUEDE"
                                },
                                {
                                    "CustomerID": "SEVES"
                                },
                                {
                                    "CustomerID": "SPLIR"
                                },
                                {
                                    "CustomerID": "WELLI"
                                },
                                {
                                    "CustomerID": "CHOPS"
                                },
                                {
                                    "CustomerID": "FURIB"
                                },
                                {
                                    "CustomerID": "EASTC"
                                },
                                {
                                    "CustomerID": "LONEP"
                                },
                                {
                                    "CustomerID": "MAISD"
                                },
                                {
                                    "CustomerID": "FAMIA"
                                }
                            ]
                        },
                        "text/html": [
                            "<table>",
                            "<tr><th>CustomerID</th></tr>",
                            "<tr><td>SAVEA</td></tr>",
                            "<tr><td>ERNSH</td></tr>",
                            "<tr><td>QUICK</td></tr>",
                            "<tr><td>FOLKO</td></tr>",
                            "<tr><td>HUNGO</td></tr>",
                            "<tr><td>HILAA</td></tr>",
                            "<tr><td>BERGS</td></tr>",
                            "<tr><td>RATTC</td></tr>",
                            "<tr><td>BONAP</td></tr>",
                            "<tr><td>LEHMS</td></tr>",
                            "<tr><td>FRANK</td></tr>",
                            "<tr><td>WARTH</td></tr>",
                            "<tr><td>LAMAI</td></tr>",
                            "<tr><td>KOENE</td></tr>",
                            "<tr><td>LILAS</td></tr>",
                            "<tr><td>HANAR</td></tr>",
                            "<tr><td>BOTTM</td></tr>",
                            "<tr><td>WHITC</td></tr>",
                            "<tr><td>AROUT</td></tr>",
                            "<tr><td>MEREP</td></tr>",
                            "<tr><td>QUEEN</td></tr>",
                            "<tr><td>LINOD</td></tr>",
                            "<tr><td>REGGC</td></tr>",
                            "<tr><td>SUPRD</td></tr>",
                            "<tr><td>GREAL</td></tr>",
                            "<tr><td>BLONP</td></tr>",
                            "<tr><td>RICAR</td></tr>",
                            "<tr><td>VAFFE</td></tr>",
                            "<tr><td>ISLAT</td></tr>",
                            "<tr><td>MAGAA</td></tr>",
                            "<tr><td>BSBEV</td></tr>",
                            "<tr><td>GODOS</td></tr>",
                            "<tr><td>OLDWO</td></tr>",
                            "<tr><td>OTTIK</td></tr>",
                            "<tr><td>PICCO</td></tr>",
                            "<tr><td>RICSU</td></tr>",
                            "<tr><td>TORTU</td></tr>",
                            "<tr><td>VICTE</td></tr>",
                            "<tr><td>WANDK</td></tr>",
                            "<tr><td>GOURL</td></tr>",
                            "<tr><td>QUEDE</td></tr>",
                            "<tr><td>SEVES</td></tr>",
                            "<tr><td>SPLIR</td></tr>",
                            "<tr><td>WELLI</td></tr>",
                            "<tr><td>CHOPS</td></tr>",
                            "<tr><td>FURIB</td></tr>",
                            "<tr><td>EASTC</td></tr>",
                            "<tr><td>LONEP</td></tr>",
                            "<tr><td>MAISD</td></tr>",
                            "<tr><td>FAMIA</td></tr>",
                            "</table>"
                        ]
                    }
                }
            ],
            "execution_count": 1
        }
    ]
}