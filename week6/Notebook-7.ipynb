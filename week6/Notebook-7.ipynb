{
    "metadata": {
        "kernelspec": {
            "name": "SQL",
            "display_name": "SQL",
            "language": "sql"
        },
        "language_info": {
            "name": "sql",
            "version": ""
        }
    },
    "nbformat_minor": 2,
    "nbformat": 4,
    "cells": [
        {
            "cell_type": "markdown",
            "source": [
                "7.En son alışveriş yapılan kanal kırılımında alışveriş başına ortalama ciroyu hesaplayacak sorguyu yazınız."
            ],
            "metadata": {
                "azdata_cell_guid": "cdb3cb0a-6c02-4f08-9bf0-da66765f67a5"
            },
            "attachments": {}
        },
        {
            "cell_type": "code",
            "source": [
                "SELECT\r\n",
                "    od.OrderID,\r\n",
                "    SUM(od.UnitPrice * od.Quantity * (1 - od.Discount)) AS TotalRevenue,\r\n",
                "    o.CustomerID\r\n",
                "INTO #TempTable\r\n",
                "FROM\r\n",
                "    [Order Details] od\r\n",
                "INNER JOIN\r\n",
                "    Orders o ON od.OrderID = o.OrderID\r\n",
                "GROUP BY\r\n",
                "    od.OrderID, o.CustomerID;\r\n",
                "\r\n",
                "SELECT\r\n",
                "    o.CustomerID,\r\n",
                "    AVG(TotalRevenue) AS AverageRevenuePerOrder\r\n",
                "FROM\r\n",
                "    #TempTable t\r\n",
                "INNER JOIN\r\n",
                "    Orders o ON t.OrderID = o.OrderID\r\n",
                "GROUP BY\r\n",
                "    o.CustomerID;\r\n",
                "\r\n",
                "DROP TABLE #TempTable;"
            ],
            "metadata": {
                "azdata_cell_guid": "b06ff707-5471-4797-9ce6-4d00c654a4f7",
                "language": "sql"
            },
            "outputs": [
                {
                    "output_type": "display_data",
                    "data": {
                        "text/html": "(830 rows affected)"
                    },
                    "metadata": {}
                },
                {
                    "output_type": "display_data",
                    "data": {
                        "text/html": "(89 rows affected)"
                    },
                    "metadata": {}
                },
                {
                    "output_type": "display_data",
                    "data": {
                        "text/html": "Total execution time: 00:00:00.099"
                    },
                    "metadata": {}
                },
                {
                    "output_type": "execute_result",
                    "metadata": {},
                    "execution_count": 1,
                    "data": {
                        "application/vnd.dataresource+json": {
                            "schema": {
                                "fields": [
                                    {
                                        "name": "CustomerID"
                                    },
                                    {
                                        "name": "AverageRevenuePerOrder"
                                    }
                                ]
                            },
                            "data": [
                                {
                                    "CustomerID": "ALFKI",
                                    "AverageRevenuePerOrder": "712,1666663487753"
                                },
                                {
                                    "CustomerID": "ANATR",
                                    "AverageRevenuePerOrder": "350,73750019073486"
                                },
                                {
                                    "CustomerID": "ANTON",
                                    "AverageRevenuePerOrder": "1003,4253649030413"
                                },
                                {
                                    "CustomerID": "AROUT",
                                    "AverageRevenuePerOrder": "1030,0500007042517"
                                },
                                {
                                    "CustomerID": "BERGS",
                                    "AverageRevenuePerOrder": "1384,8654149373372"
                                },
                                {
                                    "CustomerID": "BLAUS",
                                    "AverageRevenuePerOrder": "462,82857186453685"
                                },
                                {
                                    "CustomerID": "BLONP",
                                    "AverageRevenuePerOrder": "1684,9163617220793"
                                },
                                {
                                    "CustomerID": "BOLID",
                                    "AverageRevenuePerOrder": "1410,9500325520833"
                                },
                                {
                                    "CustomerID": "BONAP",
                                    "AverageRevenuePerOrder": "1291,9560250674976"
                                },
                                {
                                    "CustomerID": "BOTTM",
                                    "AverageRevenuePerOrder": "1485,8285729544502"
                                },
                                {
                                    "CustomerID": "BSBEV",
                                    "AverageRevenuePerOrder": "608,9899990081788"
                                },
                                {
                                    "CustomerID": "CACTU",
                                    "AverageRevenuePerOrder": "302,46666463216144"
                                },
                                {
                                    "CustomerID": "CENTC",
                                    "AverageRevenuePerOrder": "100,79999923706055"
                                },
                                {
                                    "CustomerID": "CHOPS",
                                    "AverageRevenuePerOrder": "1543,6100015640259"
                                },
                                {
                                    "CustomerID": "COMMI",
                                    "AverageRevenuePerOrder": "762,15"
                                },
                                {
                                    "CustomerID": "CONSH",
                                    "AverageRevenuePerOrder": "573,0333344141642"
                                },
                                {
                                    "CustomerID": "DRACD",
                                    "AverageRevenuePerOrder": "627,2016690572103"
                                },
                                {
                                    "CustomerID": "DUMON",
                                    "AverageRevenuePerOrder": "403,97500228881836"
                                },
                                {
                                    "CustomerID": "EASTC",
                                    "AverageRevenuePerOrder": "1845,1293754577637"
                                },
                                {
                                    "CustomerID": "ERNSH",
                                    "AverageRevenuePerOrder": "3495,832623799642"
                                },
                                {
                                    "CustomerID": "FAMIA",
                                    "AverageRevenuePerOrder": "586,7928616659982"
                                },
                                {
                                    "CustomerID": "FOLIG",
                                    "AverageRevenuePerOrder": "2333,3800003051756"
                                },
                                {
                                    "CustomerID": "FOLKO",
                                    "AverageRevenuePerOrder": "1556,1875040154707"
                                },
                                {
                                    "CustomerID": "FRANK",
                                    "AverageRevenuePerOrder": "1777,1039591471354"
                                },
                                {
                                    "CustomerID": "FRANR",
                                    "AverageRevenuePerOrder": "1057,3866882324219"
                                },
                                {
                                    "CustomerID": "FRANS",
                                    "AverageRevenuePerOrder": "257,6166664759318"
                                },
                                {
                                    "CustomerID": "FURIB",
                                    "AverageRevenuePerOrder": "803,4278240203857"
                                },
                                {
                                    "CustomerID": "GALED",
                                    "AverageRevenuePerOrder": "167,33999938964843"
                                },
                                {
                                    "CustomerID": "GODOS",
                                    "AverageRevenuePerOrder": "1144,636001586914"
                                },
                                {
                                    "CustomerID": "GOURL",
                                    "AverageRevenuePerOrder": "934,9038891262478"
                                },
                                {
                                    "CustomerID": "GREAL",
                                    "AverageRevenuePerOrder": "1682,4954514936967"
                                },
                                {
                                    "CustomerID": "GROSR",
                                    "AverageRevenuePerOrder": "744,3499984741211"
                                },
                                {
                                    "CustomerID": "HANAR",
                                    "AverageRevenuePerOrder": "2345,812138693673"
                                },
                                {
                                    "CustomerID": "HILAA",
                                    "AverageRevenuePerOrder": "1264,9313326941597"
                                },
                                {
                                    "CustomerID": "HUNGC",
                                    "AverageRevenuePerOrder": "612,6400001525878"
                                },
                                {
                                    "CustomerID": "HUNGO",
                                    "AverageRevenuePerOrder": "2630,521315825613"
                                },
                                {
                                    "CustomerID": "ISLAT",
                                    "AverageRevenuePerOrder": "614,6299995422363"
                                },
                                {
                                    "CustomerID": "KOENE",
                                    "AverageRevenuePerOrder": "2207,7417131151474"
                                },
                                {
                                    "CustomerID": "LACOR",
                                    "AverageRevenuePerOrder": "498,0124988555908"
                                },
                                {
                                    "CustomerID": "LAMAI",
                                    "AverageRevenuePerOrder": "666,3000002588544"
                                },
                                {
                                    "CustomerID": "LAUGB",
                                    "AverageRevenuePerOrder": "174,16666666666666"
                                },
                                {
                                    "CustomerID": "LAZYK",
                                    "AverageRevenuePerOrder": "178,5"
                                },
                                {
                                    "CustomerID": "LEHMS",
                                    "AverageRevenuePerOrder": "1284,094000752767"
                                },
                                {
                                    "CustomerID": "LETSS",
                                    "AverageRevenuePerOrder": "769,11811876297"
                                },
                                {
                                    "CustomerID": "LILAS",
                                    "AverageRevenuePerOrder": "1148,3285707746234"
                                },
                                {
                                    "CustomerID": "LINOD",
                                    "AverageRevenuePerOrder": "1373,0470854441326"
                                },
                                {
                                    "CustomerID": "LONEP",
                                    "AverageRevenuePerOrder": "532,3250017166138"
                                },
                                {
                                    "CustomerID": "MAGAA",
                                    "AverageRevenuePerOrder": "717,6215002059937"
                                },
                                {
                                    "CustomerID": "MAISD",
                                    "AverageRevenuePerOrder": "1390,8678577968053"
                                },
                                {
                                    "CustomerID": "MEREP",
                                    "AverageRevenuePerOrder": "2220,9377153836763"
                                },
                                {
                                    "CustomerID": "MORGK",
                                    "AverageRevenuePerOrder": "1008,4399963378906"
                                },
                                {
                                    "CustomerID": "NORTS",
                                    "AverageRevenuePerOrder": "216,33333333333334"
                                },
                                {
                                    "CustomerID": "OCEAN",
                                    "AverageRevenuePerOrder": "692,0399993896484"
                                },
                                {
                                    "CustomerID": "OLDWO",
                                    "AverageRevenuePerOrder": "1517,7462493896485"
                                },
                                {
                                    "CustomerID": "OTTIK",
                                    "AverageRevenuePerOrder": "1249,6199989318848"
                                },
                                {
                                    "CustomerID": "PERIC",
                                    "AverageRevenuePerOrder": "707,0333379109701"
                                },
                                {
                                    "CustomerID": "PICCO",
                                    "AverageRevenuePerOrder": "2312,886003112793"
                                },
                                {
                                    "CustomerID": "PRINI",
                                    "AverageRevenuePerOrder": "1008,9880126953125"
                                },
                                {
                                    "CustomerID": "QUEDE",
                                    "AverageRevenuePerOrder": "740,5344414181179"
                                },
                                {
                                    "CustomerID": "QUEEN",
                                    "AverageRevenuePerOrder": "1978,2690397409292"
                                },
                                {
                                    "CustomerID": "QUICK",
                                    "AverageRevenuePerOrder": "3938,4751777648926"
                                },
                                {
                                    "CustomerID": "RANCH",
                                    "AverageRevenuePerOrder": "568,8199981689453"
                                },
                                {
                                    "CustomerID": "RATTC",
                                    "AverageRevenuePerOrder": "2838,7666851679483"
                                },
                                {
                                    "CustomerID": "REGGC",
                                    "AverageRevenuePerOrder": "587,3533253669739"
                                },
                                {
                                    "CustomerID": "RICAR",
                                    "AverageRevenuePerOrder": "1131,8909107555044"
                                },
                                {
                                    "CustomerID": "RICSU",
                                    "AverageRevenuePerOrder": "1934,3778890609742"
                                },
                                {
                                    "CustomerID": "ROMEY",
                                    "AverageRevenuePerOrder": "293,45799922943115"
                                },
                                {
                                    "CustomerID": "SANTG",
                                    "AverageRevenuePerOrder": "955,858333269755"
                                },
                                {
                                    "CustomerID": "SAVEA",
                                    "AverageRevenuePerOrder": "3366,5145135694934"
                                },
                                {
                                    "CustomerID": "SEVES",
                                    "AverageRevenuePerOrder": "1801,702784644233"
                                },
                                {
                                    "CustomerID": "SIMOB",
                                    "AverageRevenuePerOrder": "2402,44250365666"
                                },
                                {
                                    "CustomerID": "SPECD",
                                    "AverageRevenuePerOrder": "605,8374996185303"
                                },
                                {
                                    "CustomerID": "SPLIR",
                                    "AverageRevenuePerOrder": "1271,2922219170464"
                                },
                                {
                                    "CustomerID": "SUPRD",
                                    "AverageRevenuePerOrder": "2007,3983313242595"
                                },
                                {
                                    "CustomerID": "THEBI",
                                    "AverageRevenuePerOrder": "840,25"
                                },
                                {
                                    "CustomerID": "THECR",
                                    "AverageRevenuePerOrder": "649,0799967447916"
                                },
                                {
                                    "CustomerID": "TOMSP",
                                    "AverageRevenuePerOrder": "796,3566640218099"
                                },
                                {
                                    "CustomerID": "TORTU",
                                    "AverageRevenuePerOrder": "1081,215004348755"
                                },
                                {
                                    "CustomerID": "TRADH",
                                    "AverageRevenuePerOrder": "1141,777328491211"
                                },
                                {
                                    "CustomerID": "TRAIH",
                                    "AverageRevenuePerOrder": "523,733331044515"
                                },
                                {
                                    "CustomerID": "VAFFE",
                                    "AverageRevenuePerOrder": "1440,356801813299"
                                },
                                {
                                    "CustomerID": "VICTE",
                                    "AverageRevenuePerOrder": "918,2429990768433"
                                },
                                {
                                    "CustomerID": "VINET",
                                    "AverageRevenuePerOrder": "296,00000152587893"
                                },
                                {
                                    "CustomerID": "WANDK",
                                    "AverageRevenuePerOrder": "958,8425003051758"
                                },
                                {
                                    "CustomerID": "WARTH",
                                    "AverageRevenuePerOrder": "1043,2468376159668"
                                },
                                {
                                    "CustomerID": "WELLI",
                                    "AverageRevenuePerOrder": "674,244434038798"
                                },
                                {
                                    "CustomerID": "WHITC",
                                    "AverageRevenuePerOrder": "1954,543217386518"
                                },
                                {
                                    "CustomerID": "WILMK",
                                    "AverageRevenuePerOrder": "451,6214294433594"
                                },
                                {
                                    "CustomerID": "WOLZA",
                                    "AverageRevenuePerOrder": "504,5642822810582"
                                }
                            ]
                        },
                        "text/html": [
                            "<table>",
                            "<tr><th>CustomerID</th><th>AverageRevenuePerOrder</th></tr>",
                            "<tr><td>ALFKI</td><td>712,1666663487753</td></tr>",
                            "<tr><td>ANATR</td><td>350,73750019073486</td></tr>",
                            "<tr><td>ANTON</td><td>1003,4253649030413</td></tr>",
                            "<tr><td>AROUT</td><td>1030,0500007042517</td></tr>",
                            "<tr><td>BERGS</td><td>1384,8654149373372</td></tr>",
                            "<tr><td>BLAUS</td><td>462,82857186453685</td></tr>",
                            "<tr><td>BLONP</td><td>1684,9163617220793</td></tr>",
                            "<tr><td>BOLID</td><td>1410,9500325520833</td></tr>",
                            "<tr><td>BONAP</td><td>1291,9560250674976</td></tr>",
                            "<tr><td>BOTTM</td><td>1485,8285729544502</td></tr>",
                            "<tr><td>BSBEV</td><td>608,9899990081788</td></tr>",
                            "<tr><td>CACTU</td><td>302,46666463216144</td></tr>",
                            "<tr><td>CENTC</td><td>100,79999923706055</td></tr>",
                            "<tr><td>CHOPS</td><td>1543,6100015640259</td></tr>",
                            "<tr><td>COMMI</td><td>762,15</td></tr>",
                            "<tr><td>CONSH</td><td>573,0333344141642</td></tr>",
                            "<tr><td>DRACD</td><td>627,2016690572103</td></tr>",
                            "<tr><td>DUMON</td><td>403,97500228881836</td></tr>",
                            "<tr><td>EASTC</td><td>1845,1293754577637</td></tr>",
                            "<tr><td>ERNSH</td><td>3495,832623799642</td></tr>",
                            "<tr><td>FAMIA</td><td>586,7928616659982</td></tr>",
                            "<tr><td>FOLIG</td><td>2333,3800003051756</td></tr>",
                            "<tr><td>FOLKO</td><td>1556,1875040154707</td></tr>",
                            "<tr><td>FRANK</td><td>1777,1039591471354</td></tr>",
                            "<tr><td>FRANR</td><td>1057,3866882324219</td></tr>",
                            "<tr><td>FRANS</td><td>257,6166664759318</td></tr>",
                            "<tr><td>FURIB</td><td>803,4278240203857</td></tr>",
                            "<tr><td>GALED</td><td>167,33999938964843</td></tr>",
                            "<tr><td>GODOS</td><td>1144,636001586914</td></tr>",
                            "<tr><td>GOURL</td><td>934,9038891262478</td></tr>",
                            "<tr><td>GREAL</td><td>1682,4954514936967</td></tr>",
                            "<tr><td>GROSR</td><td>744,3499984741211</td></tr>",
                            "<tr><td>HANAR</td><td>2345,812138693673</td></tr>",
                            "<tr><td>HILAA</td><td>1264,9313326941597</td></tr>",
                            "<tr><td>HUNGC</td><td>612,6400001525878</td></tr>",
                            "<tr><td>HUNGO</td><td>2630,521315825613</td></tr>",
                            "<tr><td>ISLAT</td><td>614,6299995422363</td></tr>",
                            "<tr><td>KOENE</td><td>2207,7417131151474</td></tr>",
                            "<tr><td>LACOR</td><td>498,0124988555908</td></tr>",
                            "<tr><td>LAMAI</td><td>666,3000002588544</td></tr>",
                            "<tr><td>LAUGB</td><td>174,16666666666666</td></tr>",
                            "<tr><td>LAZYK</td><td>178,5</td></tr>",
                            "<tr><td>LEHMS</td><td>1284,094000752767</td></tr>",
                            "<tr><td>LETSS</td><td>769,11811876297</td></tr>",
                            "<tr><td>LILAS</td><td>1148,3285707746234</td></tr>",
                            "<tr><td>LINOD</td><td>1373,0470854441326</td></tr>",
                            "<tr><td>LONEP</td><td>532,3250017166138</td></tr>",
                            "<tr><td>MAGAA</td><td>717,6215002059937</td></tr>",
                            "<tr><td>MAISD</td><td>1390,8678577968053</td></tr>",
                            "<tr><td>MEREP</td><td>2220,9377153836763</td></tr>",
                            "<tr><td>MORGK</td><td>1008,4399963378906</td></tr>",
                            "<tr><td>NORTS</td><td>216,33333333333334</td></tr>",
                            "<tr><td>OCEAN</td><td>692,0399993896484</td></tr>",
                            "<tr><td>OLDWO</td><td>1517,7462493896485</td></tr>",
                            "<tr><td>OTTIK</td><td>1249,6199989318848</td></tr>",
                            "<tr><td>PERIC</td><td>707,0333379109701</td></tr>",
                            "<tr><td>PICCO</td><td>2312,886003112793</td></tr>",
                            "<tr><td>PRINI</td><td>1008,9880126953125</td></tr>",
                            "<tr><td>QUEDE</td><td>740,5344414181179</td></tr>",
                            "<tr><td>QUEEN</td><td>1978,2690397409292</td></tr>",
                            "<tr><td>QUICK</td><td>3938,4751777648926</td></tr>",
                            "<tr><td>RANCH</td><td>568,8199981689453</td></tr>",
                            "<tr><td>RATTC</td><td>2838,7666851679483</td></tr>",
                            "<tr><td>REGGC</td><td>587,3533253669739</td></tr>",
                            "<tr><td>RICAR</td><td>1131,8909107555044</td></tr>",
                            "<tr><td>RICSU</td><td>1934,3778890609742</td></tr>",
                            "<tr><td>ROMEY</td><td>293,45799922943115</td></tr>",
                            "<tr><td>SANTG</td><td>955,858333269755</td></tr>",
                            "<tr><td>SAVEA</td><td>3366,5145135694934</td></tr>",
                            "<tr><td>SEVES</td><td>1801,702784644233</td></tr>",
                            "<tr><td>SIMOB</td><td>2402,44250365666</td></tr>",
                            "<tr><td>SPECD</td><td>605,8374996185303</td></tr>",
                            "<tr><td>SPLIR</td><td>1271,2922219170464</td></tr>",
                            "<tr><td>SUPRD</td><td>2007,3983313242595</td></tr>",
                            "<tr><td>THEBI</td><td>840,25</td></tr>",
                            "<tr><td>THECR</td><td>649,0799967447916</td></tr>",
                            "<tr><td>TOMSP</td><td>796,3566640218099</td></tr>",
                            "<tr><td>TORTU</td><td>1081,215004348755</td></tr>",
                            "<tr><td>TRADH</td><td>1141,777328491211</td></tr>",
                            "<tr><td>TRAIH</td><td>523,733331044515</td></tr>",
                            "<tr><td>VAFFE</td><td>1440,356801813299</td></tr>",
                            "<tr><td>VICTE</td><td>918,2429990768433</td></tr>",
                            "<tr><td>VINET</td><td>296,00000152587893</td></tr>",
                            "<tr><td>WANDK</td><td>958,8425003051758</td></tr>",
                            "<tr><td>WARTH</td><td>1043,2468376159668</td></tr>",
                            "<tr><td>WELLI</td><td>674,244434038798</td></tr>",
                            "<tr><td>WHITC</td><td>1954,543217386518</td></tr>",
                            "<tr><td>WILMK</td><td>451,6214294433594</td></tr>",
                            "<tr><td>WOLZA</td><td>504,5642822810582</td></tr>",
                            "</table>"
                        ]
                    }
                }
            ],
            "execution_count": 1
        }
    ]
}