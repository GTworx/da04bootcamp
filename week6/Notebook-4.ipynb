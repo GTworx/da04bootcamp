{
    "metadata": {
        "kernelspec": {
            "name": "SQL",
            "display_name": "SQL",
            "language": "sql"
        },
        "language_info": {
            "name": "sql",
            "version": ""
        }
    },
    "nbformat_minor": 2,
    "nbformat": 4,
    "cells": [
        {
            "cell_type": "markdown",
            "source": [
                "4\\. Alışveriş başına ortalama ciroyu getirecek sorguyu yazınız."
            ],
            "metadata": {
                "azdata_cell_guid": "11bb1069-03d9-4a8c-872f-b538501857c4"
            },
            "attachments": {}
        },
        {
            "cell_type": "code",
            "source": [
                "select  OrderID, round(AVG(UnitPrice*Quantity*(1-Discount)),2) AS ortalama_alışveriş from [dbo].[Order Details] group by OrderID\r\n",
                "order by 2,1"
            ],
            "metadata": {
                "azdata_cell_guid": "aaf49ac2-d825-44cd-a106-a08304dab3d5",
                "language": "sql"
            },
            "outputs": [
                {
                    "output_type": "display_data",
                    "data": {
                        "text/html": "(830 rows affected)"
                    },
                    "metadata": {}
                },
                {
                    "output_type": "display_data",
                    "data": {
                        "text/html": "Total execution time: 00:00:00.067"
                    },
                    "metadata": {}
                },
                {
                    "output_type": "execute_result",
                    "metadata": {},
                    "execution_count": 1,
                    "data": {
                        "application/vnd.dataresource+json": {
                            "schema": {
                                "fields": [
                                    {
                                        "name": "OrderID"
                                    },
                                    {
                                        "name": "ortalama_alışveriş"
                                    }
                                ]
                            },
                            "data": [
                                {
                                    "OrderID": "10782",
                                    "ortalama_alışveriş": "12,5"
                                },
                                {
                                    "OrderID": "10807",
                                    "ortalama_alışveriş": "18,4"
                                },
                                {
                                    "OrderID": "10586",
                                    "ortalama_alışveriş": "23,8"
                                },
                                {
                                    "OrderID": "10767",
                                    "ortalama_alışveriş": "28"
                                },
                                {
                                    "OrderID": "10620",
                                    "ortalama_alışveriş": "28,75"
                                },
                                {
                                    "OrderID": "10281",
                                    "ortalama_alışveriş": "28,83"
                                },
                                {
                                    "OrderID": "10898",
                                    "ortalama_alışveriş": "30"
                                },
                                {
                                    "OrderID": "10900",
                                    "ortalama_alışveriş": "33,75"
                                },
                                {
                                    "OrderID": "10883",
                                    "ortalama_alışveriş": "36"
                                },
                                {
                                    "OrderID": "11051",
                                    "ortalama_alışveriş": "36"
                                },
                                {
                                    "OrderID": "11019",
                                    "ortalama_alışveriş": "38"
                                },
                                {
                                    "OrderID": "10815",
                                    "ortalama_alışveriş": "40"
                                },
                                {
                                    "OrderID": "10288",
                                    "ortalama_alışveriş": "40,05"
                                },
                                {
                                    "OrderID": "10753",
                                    "ortalama_alışveriş": "44"
                                },
                                {
                                    "OrderID": "10308",
                                    "ortalama_alışveriş": "44,4"
                                },
                                {
                                    "OrderID": "10674",
                                    "ortalama_alışveriş": "45"
                                },
                                {
                                    "OrderID": "11057",
                                    "ortalama_alışveriş": "45"
                                },
                                {
                                    "OrderID": "10710",
                                    "ortalama_alışveriş": "46,75"
                                },
                                {
                                    "OrderID": "10271",
                                    "ortalama_alışveriş": "48"
                                },
                                {
                                    "OrderID": "10602",
                                    "ortalama_alışveriş": "48,75"
                                },
                                {
                                    "OrderID": "10422",
                                    "ortalama_alışveriş": "49,8"
                                },
                                {
                                    "OrderID": "11077",
                                    "ortalama_alışveriş": "50,23"
                                },
                                {
                                    "OrderID": "10259",
                                    "ortalama_alışveriş": "50,4"
                                },
                                {
                                    "OrderID": "10415",
                                    "ortalama_alışveriş": "51,2"
                                },
                                {
                                    "OrderID": "10738",
                                    "ortalama_alışveriş": "52,35"
                                },
                                {
                                    "OrderID": "10323",
                                    "ortalama_alışveriş": "54,8"
                                },
                                {
                                    "OrderID": "10754",
                                    "ortalama_alışveriş": "55,2"
                                },
                                {
                                    "OrderID": "10631",
                                    "ortalama_alışveriş": "55,8"
                                },
                                {
                                    "OrderID": "10963",
                                    "ortalama_alışveriş": "57,8"
                                },
                                {
                                    "OrderID": "11037",
                                    "ortalama_alışveriş": "60"
                                },
                                {
                                    "OrderID": "10446",
                                    "ortalama_alışveriş": "61,56"
                                },
                                {
                                    "OrderID": "10810",
                                    "ortalama_alışveriş": "62,33"
                                },
                                {
                                    "OrderID": "10683",
                                    "ortalama_alışveriş": "63"
                                },
                                {
                                    "OrderID": "10366",
                                    "ortalama_alışveriş": "68"
                                },
                                {
                                    "OrderID": "10352",
                                    "ortalama_alışveriş": "68,15"
                                },
                                {
                                    "OrderID": "10928",
                                    "ortalama_alışveriş": "68,75"
                                },
                                {
                                    "OrderID": "10992",
                                    "ortalama_alışveriş": "69,6"
                                },
                                {
                                    "OrderID": "10538",
                                    "ortalama_alışveriş": "69,9"
                                },
                                {
                                    "OrderID": "10737",
                                    "ortalama_alışveriş": "69,9"
                                },
                                {
                                    "OrderID": "10887",
                                    "ortalama_alışveriş": "70"
                                },
                                {
                                    "OrderID": "10589",
                                    "ortalama_alışveriş": "72"
                                },
                                {
                                    "OrderID": "10334",
                                    "ortalama_alışveriş": "72,4"
                                },
                                {
                                    "OrderID": "10371",
                                    "ortalama_alışveriş": "72,96"
                                },
                                {
                                    "OrderID": "10955",
                                    "ortalama_alışveriş": "74,4"
                                },
                                {
                                    "OrderID": "10521",
                                    "ortalama_alışveriş": "75,17"
                                },
                                {
                                    "OrderID": "10282",
                                    "ortalama_alışveriş": "77,7"
                                },
                                {
                                    "OrderID": "10462",
                                    "ortalama_alışveriş": "78"
                                },
                                {
                                    "OrderID": "10870",
                                    "ortalama_alışveriş": "80"
                                },
                                {
                                    "OrderID": "10386",
                                    "ortalama_alışveriş": "83"
                                },
                                {
                                    "OrderID": "10391",
                                    "ortalama_alışveriş": "86,4"
                                },
                                {
                                    "OrderID": "11067",
                                    "ortalama_alışveriş": "86,85"
                                },
                                {
                                    "OrderID": "10445",
                                    "ortalama_alışveriş": "87,45"
                                },
                                {
                                    "OrderID": "10460",
                                    "ortalama_alışveriş": "88,05"
                                },
                                {
                                    "OrderID": "10331",
                                    "ortalama_alışveriş": "88,5"
                                },
                                {
                                    "OrderID": "10539",
                                    "ortalama_alışveriş": "88,88"
                                },
                                {
                                    "OrderID": "10708",
                                    "ortalama_alışveriş": "90,2"
                                },
                                {
                                    "OrderID": "10476",
                                    "ortalama_alışveriş": "90,24"
                                },
                                {
                                    "OrderID": "11013",
                                    "ortalama_alışveriş": "90,25"
                                },
                                {
                                    "OrderID": "10495",
                                    "ortalama_alışveriş": "92,67"
                                },
                                {
                                    "OrderID": "11065",
                                    "ortalama_alışveriş": "94,71"
                                },
                                {
                                    "OrderID": "10793",
                                    "ortalama_alışveriş": "95,55"
                                },
                                {
                                    "OrderID": "10725",
                                    "ortalama_alışveriş": "95,93"
                                },
                                {
                                    "OrderID": "10778",
                                    "ortalama_alışveriş": "96,5"
                                },
                                {
                                    "OrderID": "10973",
                                    "ortalama_alışveriş": "97,18"
                                },
                                {
                                    "OrderID": "10867",
                                    "ortalama_alışveriş": "98,4"
                                },
                                {
                                    "OrderID": "10520",
                                    "ortalama_alışveriş": "100"
                                },
                                {
                                    "OrderID": "10378",
                                    "ortalama_alışveriş": "103,2"
                                },
                                {
                                    "OrderID": "10840",
                                    "ortalama_alışveriş": "105,6"
                                },
                                {
                                    "OrderID": "10466",
                                    "ortalama_alışveriş": "108"
                                },
                                {
                                    "OrderID": "10969",
                                    "ortalama_alışveriş": "108"
                                },
                                {
                                    "OrderID": "10907",
                                    "ortalama_alışveriş": "108,5"
                                },
                                {
                                    "OrderID": "11003",
                                    "ortalama_alışveriş": "108,67"
                                },
                                {
                                    "OrderID": "10531",
                                    "ortalama_alışveriş": "110"
                                },
                                {
                                    "OrderID": "10950",
                                    "ortalama_alışveriş": "110"
                                },
                                {
                                    "OrderID": "10454",
                                    "ortalama_alışveriş": "110,4"
                                },
                                {
                                    "OrderID": "10322",
                                    "ortalama_alışveriş": "112"
                                },
                                {
                                    "OrderID": "10381",
                                    "ortalama_alışveriş": "112"
                                },
                                {
                                    "OrderID": "10414",
                                    "ortalama_alışveriş": "112,41"
                                },
                                {
                                    "OrderID": "10699",
                                    "ortalama_alışveriş": "114"
                                },
                                {
                                    "OrderID": "10775",
                                    "ortalama_alışveriş": "114"
                                },
                                {
                                    "OrderID": "10473",
                                    "ortalama_alışveriş": "115,2"
                                },
                                {
                                    "OrderID": "10604",
                                    "ortalama_alışveriş": "115,42"
                                },
                                {
                                    "OrderID": "10517",
                                    "ortalama_alışveriş": "117,33"
                                },
                                {
                                    "OrderID": "10467",
                                    "ortalama_alışveriş": "117,6"
                                },
                                {
                                    "OrderID": "10832",
                                    "ortalama_alışveriş": "118,78"
                                },
                                {
                                    "OrderID": "10822",
                                    "ortalama_alışveriş": "118,95"
                                },
                                {
                                    "OrderID": "10508",
                                    "ortalama_alışveriş": "120"
                                },
                                {
                                    "OrderID": "10615",
                                    "ortalama_alışveriş": "120"
                                },
                                {
                                    "OrderID": "10739",
                                    "ortalama_alışveriş": "120"
                                },
                                {
                                    "OrderID": "10548",
                                    "ortalama_alışveriş": "120,05"
                                },
                                {
                                    "OrderID": "10318",
                                    "ortalama_alışveriş": "120,2"
                                },
                                {
                                    "OrderID": "10295",
                                    "ortalama_alışveriş": "121,6"
                                },
                                {
                                    "OrderID": "10899",
                                    "ortalama_alışveriş": "122,4"
                                },
                                {
                                    "OrderID": "10945",
                                    "ortalama_alışveriş": "122,5"
                                },
                                {
                                    "OrderID": "10662",
                                    "ortalama_alışveriş": "125"
                                },
                                {
                                    "OrderID": "10682",
                                    "ortalama_alışveriş": "125,17"
                                },
                                {
                                    "OrderID": "10824",
                                    "ortalama_alışveriş": "125,4"
                                },
                                {
                                    "OrderID": "10972",
                                    "ortalama_alışveriş": "125,75"
                                },
                                {
                                    "OrderID": "10752",
                                    "ortalama_alışveriş": "126"
                                },
                                {
                                    "OrderID": "10926",
                                    "ortalama_alışveriş": "128,6"
                                },
                                {
                                    "OrderID": "10484",
                                    "ortalama_alışveriş": "128,73"
                                },
                                {
                                    "OrderID": "10491",
                                    "ortalama_alışveriş": "129,75"
                                },
                                {
                                    "OrderID": "10528",
                                    "ortalama_alışveriş": "130,73"
                                },
                                {
                                    "OrderID": "10512",
                                    "ortalama_alışveriş": "131,33"
                                },
                                {
                                    "OrderID": "10959",
                                    "ortalama_alışveriş": "131,75"
                                },
                                {
                                    "OrderID": "10960",
                                    "ortalama_alışveriş": "132,68"
                                },
                                {
                                    "OrderID": "11060",
                                    "ortalama_alışveriş": "133"
                                },
                                {
                                    "OrderID": "10792",
                                    "ortalama_alışveriş": "133,28"
                                },
                                {
                                    "OrderID": "10311",
                                    "ortalama_alışveriş": "134,4"
                                },
                                {
                                    "OrderID": "11025",
                                    "ortalama_alışveriş": "135"
                                },
                                {
                                    "OrderID": "10509",
                                    "ortalama_alışveriş": "136,8"
                                },
                                {
                                    "OrderID": "11049",
                                    "ortalama_alışveriş": "136,8"
                                },
                                {
                                    "OrderID": "10673",
                                    "ortalama_alışveriş": "137,45"
                                },
                                {
                                    "OrderID": "10809",
                                    "ortalama_alışveriş": "140"
                                },
                                {
                                    "OrderID": "10864",
                                    "ortalama_alışveriş": "141"
                                },
                                {
                                    "OrderID": "10609",
                                    "ortalama_alışveriş": "141,33"
                                },
                                {
                                    "OrderID": "10349",
                                    "ortalama_alışveriş": "141,6"
                                },
                                {
                                    "OrderID": "10585",
                                    "ortalama_alışveriş": "142,5"
                                },
                                {
                                    "OrderID": "10358",
                                    "ortalama_alışveriş": "143,13"
                                },
                                {
                                    "OrderID": "10321",
                                    "ortalama_alışveriş": "144"
                                },
                                {
                                    "OrderID": "10275",
                                    "ortalama_alışveriş": "145,92"
                                },
                                {
                                    "OrderID": "10806",
                                    "ortalama_alışveriş": "146,53"
                                },
                                {
                                    "OrderID": "10248",
                                    "ortalama_alışveriş": "146,67"
                                },
                                {
                                    "OrderID": "10482",
                                    "ortalama_alışveriş": "147"
                                },
                                {
                                    "OrderID": "11004",
                                    "ortalama_alışveriş": "147,69"
                                },
                                {
                                    "OrderID": "10505",
                                    "ortalama_alışveriş": "147,9"
                                },
                                {
                                    "OrderID": "10501",
                                    "ortalama_alışveriş": "149"
                                },
                                {
                                    "OrderID": "10363",
                                    "ortalama_alışveriş": "149,07"
                                },
                                {
                                    "OrderID": "10881",
                                    "ortalama_alışveriş": "150"
                                },
                                {
                                    "OrderID": "11073",
                                    "ortalama_alışveriş": "150"
                                },
                                {
                                    "OrderID": "10910",
                                    "ortalama_alışveriş": "150,97"
                                },
                                {
                                    "OrderID": "10438",
                                    "ortalama_alışveriş": "151,33"
                                },
                                {
                                    "OrderID": "11054",
                                    "ortalama_alışveriş": "152,5"
                                },
                                {
                                    "OrderID": "10951",
                                    "ortalama_alışveriş": "152,92"
                                },
                                {
                                    "OrderID": "10655",
                                    "ortalama_alışveriş": "154,4"
                                },
                                {
                                    "OrderID": "10614",
                                    "ortalama_alışveriş": "154,67"
                                },
                                {
                                    "OrderID": "10568",
                                    "ortalama_alışveriş": "155"
                                },
                                {
                                    "OrderID": "10534",
                                    "ortalama_alışveriş": "155,23"
                                },
                                {
                                    "OrderID": "10794",
                                    "ortalama_alışveriş": "157,38"
                                },
                                {
                                    "OrderID": "10579",
                                    "ortalama_alışveriş": "158,88"
                                },
                                {
                                    "OrderID": "10843",
                                    "ortalama_alışveriş": "159"
                                },
                                {
                                    "OrderID": "10652",
                                    "ortalama_alışveriş": "159,42"
                                },
                                {
                                    "OrderID": "10409",
                                    "ortalama_alışveriş": "159,6"
                                },
                                {
                                    "OrderID": "10625",
                                    "ortalama_alışveriş": "159,92"
                                },
                                {
                                    "OrderID": "10434",
                                    "ortalama_alışveriş": "160,56"
                                },
                                {
                                    "OrderID": "10730",
                                    "ortalama_alışveriş": "161,42"
                                },
                                {
                                    "OrderID": "11006",
                                    "ortalama_alışveriş": "164,84"
                                },
                                {
                                    "OrderID": "10582",
                                    "ortalama_alışveriş": "165"
                                },
                                {
                                    "OrderID": "10702",
                                    "ortalama_alışveriş": "165"
                                },
                                {
                                    "OrderID": "10291",
                                    "ortalama_alışveriş": "165,84"
                                },
                                {
                                    "OrderID": "11075",
                                    "ortalama_alışveriş": "166,03"
                                },
                                {
                                    "OrderID": "10306",
                                    "ortalama_alışveriş": "166,17"
                                },
                                {
                                    "OrderID": "10310",
                                    "ortalama_alışveriş": "168"
                                },
                                {
                                    "OrderID": "10873",
                                    "ortalama_alışveriş": "168,4"
                                },
                                {
                                    "OrderID": "10375",
                                    "ortalama_alışveriş": "169"
                                },
                                {
                                    "OrderID": "10426",
                                    "ortalama_alışveriş": "169,1"
                                },
                                {
                                    "OrderID": "10550",
                                    "ortalama_alışveriş": "170,82"
                                },
                                {
                                    "OrderID": "10998",
                                    "ortalama_alışveriş": "171,5"
                                },
                                {
                                    "OrderID": "10299",
                                    "ortalama_alışveriş": "174,75"
                                },
                                {
                                    "OrderID": "10341",
                                    "ortalama_alışveriş": "176,3"
                                },
                                {
                                    "OrderID": "10613",
                                    "ortalama_alışveriş": "176,6"
                                },
                                {
                                    "OrderID": "10676",
                                    "ortalama_alışveriş": "178,28"
                                },
                                {
                                    "OrderID": "11034",
                                    "ortalama_alışveriş": "179,8"
                                },
                                {
                                    "OrderID": "10915",
                                    "ortalama_alışveriş": "179,83"
                                },
                                {
                                    "OrderID": "10425",
                                    "ortalama_alışveriş": "180"
                                },
                                {
                                    "OrderID": "10940",
                                    "ortalama_alışveriş": "180"
                                },
                                {
                                    "OrderID": "10348",
                                    "ortalama_alışveriş": "181,8"
                                },
                                {
                                    "OrderID": "10313",
                                    "ortalama_alışveriş": "182,4"
                                },
                                {
                                    "OrderID": "10917",
                                    "ortalama_alışveriş": "182,94"
                                },
                                {
                                    "OrderID": "10254",
                                    "ortalama_alışveriş": "185,54"
                                },
                                {
                                    "OrderID": "10477",
                                    "ortalama_alışveriş": "186"
                                },
                                {
                                    "OrderID": "10648",
                                    "ortalama_alışveriş": "186,19"
                                },
                                {
                                    "OrderID": "10705",
                                    "ortalama_alışveriş": "189"
                                },
                                {
                                    "OrderID": "10621",
                                    "ortalama_alışveriş": "189,63"
                                },
                                {
                                    "OrderID": "10577",
                                    "ortalama_alışveriş": "189,67"
                                },
                                {
                                    "OrderID": "10496",
                                    "ortalama_alışveriş": "190"
                                },
                                {
                                    "OrderID": "10574",
                                    "ortalama_alışveriş": "191,07"
                                },
                                {
                                    "OrderID": "10498",
                                    "ortalama_alışveriş": "191,67"
                                },
                                {
                                    "OrderID": "10428",
                                    "ortalama_alışveriş": "192"
                                },
                                {
                                    "OrderID": "10785",
                                    "ortalama_alışveriş": "193,75"
                                },
                                {
                                    "OrderID": "10262",
                                    "ortalama_alışveriş": "194,67"
                                },
                                {
                                    "OrderID": "10704",
                                    "ortalama_alışveriş": "198,5"
                                },
                                {
                                    "OrderID": "10651",
                                    "ortalama_alışveriş": "198,9"
                                },
                                {
                                    "OrderID": "11040",
                                    "ortalama_alışveriş": "200"
                                },
                                {
                                    "OrderID": "10654",
                                    "ortalama_alışveriş": "200,61"
                                },
                                {
                                    "OrderID": "10697",
                                    "ortalama_alışveriş": "201,36"
                                },
                                {
                                    "OrderID": "10656",
                                    "ortalama_alışveriş": "201,4"
                                },
                                {
                                    "OrderID": "10493",
                                    "ortalama_alışveriş": "202,8"
                                },
                                {
                                    "OrderID": "11042",
                                    "ortalama_alışveriş": "202,88"
                                },
                                {
                                    "OrderID": "11062",
                                    "ortalama_alışveriş": "203,2"
                                },
                                {
                                    "OrderID": "10347",
                                    "ortalama_alışveriş": "203,61"
                                },
                                {
                                    "OrderID": "10879",
                                    "ortalama_alışveriş": "203,77"
                                },
                                {
                                    "OrderID": "10453",
                                    "ortalama_alışveriş": "203,85"
                                },
                                {
                                    "OrderID": "10280",
                                    "ortalama_alışveriş": "204,4"
                                },
                                {
                                    "OrderID": "10763",
                                    "ortalama_alışveriş": "205,33"
                                },
                                {
                                    "OrderID": "11009",
                                    "ortalama_alışveriş": "205,5"
                                },
                                {
                                    "OrderID": "10935",
                                    "ortalama_alışveriş": "206,5"
                                },
                                {
                                    "OrderID": "10506",
                                    "ortalama_alışveriş": "207,9"
                                },
                                {
                                    "OrderID": "10668",
                                    "ortalama_alışveriş": "208,42"
                                },
                                {
                                    "OrderID": "10367",
                                    "ortalama_alışveriş": "208,55"
                                },
                                {
                                    "OrderID": "10544",
                                    "ortalama_alışveriş": "208,6"
                                },
                                {
                                    "OrderID": "10850",
                                    "ortalama_alışveriş": "209,67"
                                },
                                {
                                    "OrderID": "10276",
                                    "ortalama_alışveriş": "210"
                                },
                                {
                                    "OrderID": "10545",
                                    "ortalama_alışveriş": "210"
                                },
                                {
                                    "OrderID": "11043",
                                    "ortalama_alışveriş": "210"
                                },
                                {
                                    "OrderID": "10435",
                                    "ortalama_alışveriş": "210,53"
                                },
                                {
                                    "OrderID": "10307",
                                    "ortalama_alışveriş": "212"
                                },
                                {
                                    "OrderID": "10293",
                                    "ortalama_alışveriş": "212,18"
                                },
                                {
                                    "OrderID": "10450",
                                    "ortalama_alışveriş": "212,56"
                                },
                                {
                                    "OrderID": "10695",
                                    "ortalama_alışveriş": "214"
                                },
                                {
                                    "OrderID": "10858",
                                    "ortalama_alışveriş": "216,33"
                                },
                                {
                                    "OrderID": "10251",
                                    "ortalama_alışveriş": "218,02"
                                },
                                {
                                    "OrderID": "10489",
                                    "ortalama_alışveriş": "219,6"
                                },
                                {
                                    "OrderID": "10947",
                                    "ortalama_alışveriş": "220"
                                },
                                {
                                    "OrderID": "10863",
                                    "ortalama_alışveriş": "220,58"
                                },
                                {
                                    "OrderID": "10394",
                                    "ortalama_alışveriş": "221"
                                },
                                {
                                    "OrderID": "10448",
                                    "ortalama_alışveriş": "221,7"
                                },
                                {
                                    "OrderID": "10798",
                                    "ortalama_alışveriş": "223,3"
                                },
                                {
                                    "OrderID": "10909",
                                    "ortalama_alışveriş": "223,33"
                                },
                                {
                                    "OrderID": "10261",
                                    "ortalama_alışveriş": "224"
                                },
                                {
                                    "OrderID": "10777",
                                    "ortalama_alışveriş": "224"
                                },
                                {
                                    "OrderID": "10970",
                                    "ortalama_alışveriş": "224"
                                },
                                {
                                    "OrderID": "10956",
                                    "ortalama_alışveriş": "225,67"
                                },
                                {
                                    "OrderID": "10741",
                                    "ortalama_alışveriş": "228"
                                },
                                {
                                    "OrderID": "10916",
                                    "ortalama_alışveriş": "228,9"
                                },
                                {
                                    "OrderID": "10374",
                                    "ortalama_alışveriş": "229,5"
                                },
                                {
                                    "OrderID": "10385",
                                    "ortalama_alışveriş": "230,4"
                                },
                                {
                                    "OrderID": "11074",
                                    "ortalama_alışveriş": "232,09"
                                },
                                {
                                    "OrderID": "10542",
                                    "ortalama_alışveriş": "234,56"
                                },
                                {
                                    "OrderID": "10716",
                                    "ortalama_alışveriş": "235,33"
                                },
                                {
                                    "OrderID": "10952",
                                    "ortalama_alışveriş": "235,6"
                                },
                                {
                                    "OrderID": "10770",
                                    "ortalama_alışveriş": "236,25"
                                },
                                {
                                    "OrderID": "10875",
                                    "ortalama_alışveriş": "236,52"
                                },
                                {
                                    "OrderID": "10943",
                                    "ortalama_alışveriş": "237"
                                },
                                {
                                    "OrderID": "10925",
                                    "ortalama_alışveriş": "237,58"
                                },
                                {
                                    "OrderID": "10578",
                                    "ortalama_alışveriş": "238,5"
                                },
                                {
                                    "OrderID": "10819",
                                    "ortalama_alışveriş": "238,5"
                                },
                                {
                                    "OrderID": "10597",
                                    "ortalama_alışveriş": "239,36"
                                },
                                {
                                    "OrderID": "10289",
                                    "ortalama_alışveriş": "239,7"
                                },
                                {
                                    "OrderID": "10600",
                                    "ortalama_alışveriş": "239,9"
                                },
                                {
                                    "OrderID": "10355",
                                    "ortalama_alışveriş": "240"
                                },
                                {
                                    "OrderID": "10416",
                                    "ortalama_alışveriş": "240"
                                },
                                {
                                    "OrderID": "11071",
                                    "ortalama_alışveriş": "242,25"
                                },
                                {
                                    "OrderID": "10432",
                                    "ortalama_alışveriş": "242,5"
                                },
                                {
                                    "OrderID": "11014",
                                    "ortalama_alışveriş": "243,18"
                                },
                                {
                                    "OrderID": "10842",
                                    "ortalama_alışveriş": "243,75"
                                },
                                {
                                    "OrderID": "11038",
                                    "ortalama_alışveriş": "244,2"
                                },
                                {
                                    "OrderID": "10562",
                                    "ortalama_alışveriş": "244,35"
                                },
                                {
                                    "OrderID": "11016",
                                    "ortalama_alışveriş": "245,75"
                                },
                                {
                                    "OrderID": "10980",
                                    "ortalama_alışveriş": "248"
                                },
                                {
                                    "OrderID": "10923",
                                    "ortalama_alışveriş": "249,6"
                                },
                                {
                                    "OrderID": "10761",
                                    "ortalama_alışveriş": "253,5"
                                },
                                {
                                    "OrderID": "10913",
                                    "ortalama_alışveriş": "256,25"
                                },
                                {
                                    "OrderID": "10444",
                                    "ortalama_alışveriş": "257,92"
                                },
                                {
                                    "OrderID": "10592",
                                    "ortalama_alışveriş": "258,23"
                                },
                                {
                                    "OrderID": "10315",
                                    "ortalama_alışveriş": "258,4"
                                },
                                {
                                    "OrderID": "10443",
                                    "ortalama_alışveriş": "258,72"
                                },
                                {
                                    "OrderID": "10256",
                                    "ortalama_alışveriş": "258,9"
                                },
                                {
                                    "OrderID": "10860",
                                    "ortalama_alışveriş": "259,5"
                                },
                                {
                                    "OrderID": "10559",
                                    "ortalama_alışveriş": "260,2"
                                },
                                {
                                    "OrderID": "10958",
                                    "ortalama_alışveriş": "260,33"
                                },
                                {
                                    "OrderID": "10500",
                                    "ortalama_alışveriş": "261,63"
                                },
                                {
                                    "OrderID": "11076",
                                    "ortalama_alışveriş": "264,25"
                                },
                                {
                                    "OrderID": "10387",
                                    "ortalama_alışveriş": "264,6"
                                },
                                {
                                    "OrderID": "10837",
                                    "ortalama_alışveriş": "266,13"
                                },
                                {
                                    "OrderID": "10927",
                                    "ortalama_alışveriş": "266,67"
                                },
                                {
                                    "OrderID": "10685",
                                    "ortalama_alışveriş": "267,03"
                                },
                                {
                                    "OrderID": "10623",
                                    "ortalama_alışveriş": "267,39"
                                },
                                {
                                    "OrderID": "10735",
                                    "ortalama_alışveriş": "268,2"
                                },
                                {
                                    "OrderID": "10587",
                                    "ortalama_alışveriş": "269,13"
                                },
                                {
                                    "OrderID": "10274",
                                    "ortalama_alışveriş": "269,3"
                                },
                                {
                                    "OrderID": "10611",
                                    "ortalama_alışveriş": "269,33"
                                },
                                {
                                    "OrderID": "10439",
                                    "ortalama_alışveriş": "269,5"
                                },
                                {
                                    "OrderID": "10591",
                                    "ortalama_alışveriş": "270,83"
                                },
                                {
                                    "OrderID": "10643",
                                    "ortalama_alışveriş": "271,5"
                                },
                                {
                                    "OrderID": "10502",
                                    "ortalama_alışveriş": "272,1"
                                },
                                {
                                    "OrderID": "10287",
                                    "ortalama_alışveriş": "273"
                                },
                                {
                                    "OrderID": "10720",
                                    "ortalama_alışveriş": "275"
                                },
                                {
                                    "OrderID": "10571",
                                    "ortalama_alışveriş": "275,29"
                                },
                                {
                                    "OrderID": "10456",
                                    "ortalama_alışveriş": "278,8"
                                },
                                {
                                    "OrderID": "10576",
                                    "ortalama_alışveriş": "279,48"
                                },
                                {
                                    "OrderID": "10622",
                                    "ortalama_alışveriş": "280"
                                },
                                {
                                    "OrderID": "10661",
                                    "ortalama_alışveriş": "281,3"
                                },
                                {
                                    "OrderID": "10719",
                                    "ortalama_alışveriş": "281,42"
                                },
                                {
                                    "OrderID": "10594",
                                    "ortalama_alışveriş": "282,75"
                                },
                                {
                                    "OrderID": "10811",
                                    "ortalama_alışveriş": "284"
                                },
                                {
                                    "OrderID": "10354",
                                    "ortalama_alışveriş": "284,4"
                                },
                                {
                                    "OrderID": "10336",
                                    "ortalama_alışveriş": "285,12"
                                },
                                {
                                    "OrderID": "10911",
                                    "ortalama_alışveriş": "286"
                                },
                                {
                                    "OrderID": "11058",
                                    "ortalama_alışveriş": "286"
                                },
                                {
                                    "OrderID": "10890",
                                    "ortalama_alışveriş": "286,7"
                                },
                                {
                                    "OrderID": "10379",
                                    "ortalama_alışveriş": "287,76"
                                },
                                {
                                    "OrderID": "10317",
                                    "ortalama_alışveriş": "288"
                                },
                                {
                                    "OrderID": "10862",
                                    "ortalama_alışveriş": "290,5"
                                },
                                {
                                    "OrderID": "10333",
                                    "ortalama_alışveriş": "292,4"
                                },
                                {
                                    "OrderID": "10284",
                                    "ortalama_alışveriş": "292,59"
                                },
                                {
                                    "OrderID": "11005",
                                    "ortalama_alışveriş": "293"
                                },
                                {
                                    "OrderID": "10632",
                                    "ortalama_alışveriş": "294,5"
                                },
                                {
                                    "OrderID": "10487",
                                    "ortalama_alışveriş": "296,57"
                                },
                                {
                                    "OrderID": "10882",
                                    "ortalama_alışveriş": "297,55"
                                },
                                {
                                    "OrderID": "10421",
                                    "ortalama_alışveriş": "298,57"
                                },
                                {
                                    "OrderID": "10610",
                                    "ortalama_alışveriş": "299,25"
                                },
                                {
                                    "OrderID": "10325",
                                    "ortalama_alışveriş": "299,4"
                                },
                                {
                                    "OrderID": "10383",
                                    "ortalama_alışveriş": "299,67"
                                },
                                {
                                    "OrderID": "10813",
                                    "ortalama_alışveriş": "301,2"
                                },
                                {
                                    "OrderID": "11000",
                                    "ortalama_alışveriş": "301,25"
                                },
                                {
                                    "OrderID": "10885",
                                    "ortalama_alışveriş": "302,25"
                                },
                                {
                                    "OrderID": "10833",
                                    "ortalama_alışveriş": "302,31"
                                },
                                {
                                    "OrderID": "10888",
                                    "ortalama_alışveriş": "302,5"
                                },
                                {
                                    "OrderID": "10300",
                                    "ortalama_alışveriş": "304"
                                },
                                {
                                    "OrderID": "10447",
                                    "ortalama_alışveriş": "304,8"
                                },
                                {
                                    "OrderID": "10671",
                                    "ortalama_alışveriş": "306,7"
                                },
                                {
                                    "OrderID": "10553",
                                    "ortalama_alışveriş": "309,26"
                                },
                                {
                                    "OrderID": "11066",
                                    "ortalama_alışveriş": "309,58"
                                },
                                {
                                    "OrderID": "10581",
                                    "ortalama_alışveriş": "310"
                                },
                                {
                                    "OrderID": "10874",
                                    "ortalama_alışveriş": "310"
                                },
                                {
                                    "OrderID": "10903",
                                    "ortalama_alışveriş": "310,68"
                                },
                                {
                                    "OrderID": "11015",
                                    "ortalama_alışveriş": "311,18"
                                },
                                {
                                    "OrderID": "10474",
                                    "ortalama_alışveriş": "312,28"
                                },
                                {
                                    "OrderID": "10636",
                                    "ortalama_alışveriş": "314,75"
                                },
                                {
                                    "OrderID": "10529",
                                    "ortalama_alışveriş": "315,33"
                                },
                                {
                                    "OrderID": "10647",
                                    "ortalama_alışveriş": "318"
                                },
                                {
                                    "OrderID": "10304",
                                    "ortalama_alışveriş": "318,13"
                                },
                                {
                                    "OrderID": "10939",
                                    "ortalama_alışveriş": "318,75"
                                },
                                {
                                    "OrderID": "10469",
                                    "ortalama_alışveriş": "318,89"
                                },
                                {
                                    "OrderID": "10743",
                                    "ortalama_alışveriş": "319,2"
                                },
                                {
                                    "OrderID": "10724",
                                    "ortalama_alışveriş": "319,25"
                                },
                                {
                                    "OrderID": "10565",
                                    "ortalama_alışveriş": "319,95"
                                },
                                {
                                    "OrderID": "10759",
                                    "ortalama_alışveriş": "320"
                                },
                                {
                                    "OrderID": "10350",
                                    "ortalama_alışveriş": "321,03"
                                },
                                {
                                    "OrderID": "10269",
                                    "ortalama_alışveriş": "321,1"
                                },
                                {
                                    "OrderID": "10411",
                                    "ortalama_alışveriş": "322,27"
                                },
                                {
                                    "OrderID": "10937",
                                    "ortalama_alışveriş": "322,4"
                                },
                                {
                                    "OrderID": "11010",
                                    "ortalama_alışveriş": "322,5"
                                },
                                {
                                    "OrderID": "10728",
                                    "ortalama_alışveriş": "324,19"
                                },
                                {
                                    "OrderID": "10781",
                                    "ortalama_alışveriş": "325,29"
                                },
                                {
                                    "OrderID": "10978",
                                    "ortalama_alışveriş": "325,8"
                                },
                                {
                                    "OrderID": "10326",
                                    "ortalama_alışveriş": "327,33"
                                },
                                {
                                    "OrderID": "10726",
                                    "ortalama_alışveriş": "327,5"
                                },
                                {
                                    "OrderID": "10380",
                                    "ortalama_alışveriş": "328,45"
                                },
                                {
                                    "OrderID": "10856",
                                    "ortalama_alışveriş": "330"
                                },
                                {
                                    "OrderID": "10908",
                                    "ortalama_alışveriş": "331,55"
                                },
                                {
                                    "OrderID": "10483",
                                    "ortalama_alışveriş": "334,4"
                                },
                                {
                                    "OrderID": "10412",
                                    "ortalama_alışveriş": "334,8"
                                },
                                {
                                    "OrderID": "10580",
                                    "ortalama_alışveriş": "337,91"
                                },
                                {
                                    "OrderID": "10821",
                                    "ortalama_alışveriş": "339"
                                },
                                {
                                    "OrderID": "10944",
                                    "ortalama_alışveriş": "341,78"
                                },
                                {
                                    "OrderID": "10905",
                                    "ortalama_alışveriş": "342"
                                },
                                {
                                    "OrderID": "10771",
                                    "ortalama_alışveriş": "344"
                                },
                                {
                                    "OrderID": "10266",
                                    "ortalama_alışveriş": "346,56"
                                },
                                {
                                    "OrderID": "10504",
                                    "ortalama_alışveriş": "347,13"
                                },
                                {
                                    "OrderID": "10264",
                                    "ortalama_alışveriş": "347,81"
                                },
                                {
                                    "OrderID": "10642",
                                    "ortalama_alışveriş": "348"
                                },
                                {
                                    "OrderID": "10296",
                                    "ortalama_alışveriş": "350,2"
                                },
                                {
                                    "OrderID": "10279",
                                    "ortalama_alışveriş": "351"
                                },
                                {
                                    "OrderID": "10309",
                                    "ortalama_alışveriş": "352,4"
                                },
                                {
                                    "OrderID": "10283",
                                    "ortalama_alışveriş": "353,7"
                                },
                                {
                                    "OrderID": "10740",
                                    "ortalama_alışveriş": "354"
                                },
                                {
                                    "OrderID": "10640",
                                    "ortalama_alışveriş": "354,38"
                                },
                                {
                                    "OrderID": "10463",
                                    "ortalama_alışveriş": "356,65"
                                },
                                {
                                    "OrderID": "10397",
                                    "ortalama_alışveriş": "358,36"
                                },
                                {
                                    "OrderID": "10975",
                                    "ortalama_alışveriş": "358,75"
                                },
                                {
                                    "OrderID": "10468",
                                    "ortalama_alışveriş": "358,8"
                                },
                                {
                                    "OrderID": "10859",
                                    "ortalama_alışveriş": "359,56"
                                },
                                {
                                    "OrderID": "10732",
                                    "ortalama_alışveriş": "360"
                                },
                                {
                                    "OrderID": "10749",
                                    "ortalama_alışveriş": "360"
                                },
                                {
                                    "OrderID": "10780",
                                    "ortalama_alışveriş": "360"
                                },
                                {
                                    "OrderID": "11069",
                                    "ortalama_alışveriş": "360"
                                },
                                {
                                    "OrderID": "10983",
                                    "ortalama_alışveriş": "360,45"
                                },
                                {
                                    "OrderID": "10790",
                                    "ortalama_alışveriş": "361,25"
                                },
                                {
                                    "OrderID": "10646",
                                    "ortalama_alışveriş": "361,5"
                                },
                                {
                                    "OrderID": "10537",
                                    "ortalama_alışveriş": "364,76"
                                },
                                {
                                    "OrderID": "10826",
                                    "ortalama_alışveriş": "365"
                                },
                                {
                                    "OrderID": "10866",
                                    "ortalama_alışveriş": "365,4"
                                },
                                {
                                    "OrderID": "10788",
                                    "ortalama_alışveriş": "365,75"
                                },
                                {
                                    "OrderID": "10966",
                                    "ortalama_alışveriş": "366,15"
                                },
                                {
                                    "OrderID": "10406",
                                    "ortalama_alışveriş": "366,16"
                                },
                                {
                                    "OrderID": "10356",
                                    "ortalama_alışveriş": "368,8"
                                },
                                {
                                    "OrderID": "10891",
                                    "ortalama_alışveriş": "368,93"
                                },
                                {
                                    "OrderID": "10768",
                                    "ortalama_alışveriş": "369,25"
                                },
                                {
                                    "OrderID": "10846",
                                    "ortalama_alışveriş": "370,67"
                                },
                                {
                                    "OrderID": "10922",
                                    "ortalama_alışveriş": "371,25"
                                },
                                {
                                    "OrderID": "10278",
                                    "ortalama_alışveriş": "372,2"
                                },
                                {
                                    "OrderID": "10370",
                                    "ortalama_alışveriş": "372,53"
                                },
                                {
                                    "OrderID": "10303",
                                    "ortalama_alışveriş": "372,6"
                                },
                                {
                                    "OrderID": "10257",
                                    "ortalama_alışveriş": "373,3"
                                },
                                {
                                    "OrderID": "10919",
                                    "ortalama_alışveriş": "374,27"
                                },
                                {
                                    "OrderID": "10507",
                                    "ortalama_alışveriş": "374,53"
                                },
                                {
                                    "OrderID": "10896",
                                    "ortalama_alışveriş": "375,25"
                                },
                                {
                                    "OrderID": "10572",
                                    "ortalama_alışveriş": "375,27"
                                },
                                {
                                    "OrderID": "10260",
                                    "ortalama_alışveriş": "376,16"
                                },
                                {
                                    "OrderID": "10606",
                                    "ortalama_alışveriş": "376,8"
                                },
                                {
                                    "OrderID": "10301",
                                    "ortalama_alışveriş": "377,5"
                                },
                                {
                                    "OrderID": "10294",
                                    "ortalama_alışveriş": "377,52"
                                },
                                {
                                    "OrderID": "10480",
                                    "ortalama_alışveriş": "378"
                                },
                                {
                                    "OrderID": "10526",
                                    "ortalama_alışveriş": "383,8"
                                },
                                {
                                    "OrderID": "10357",
                                    "ortalama_alışveriş": "389,23"
                                },
                                {
                                    "OrderID": "10328",
                                    "ortalama_alışveriş": "389,33"
                                },
                                {
                                    "OrderID": "10920",
                                    "ortalama_alışveriş": "390"
                                },
                                {
                                    "OrderID": "10929",
                                    "ortalama_alışveriş": "391,58"
                                },
                                {
                                    "OrderID": "10722",
                                    "ortalama_alışveriş": "392,5"
                                },
                                {
                                    "OrderID": "10437",
                                    "ortalama_alışveriş": "393"
                                },
                                {
                                    "OrderID": "10596",
                                    "ortalama_alışveriş": "393,63"
                                },
                                {
                                    "OrderID": "10485",
                                    "ortalama_alışveriş": "396"
                                },
                                {
                                    "OrderID": "10319",
                                    "ortalama_alışveriş": "397,07"
                                },
                                {
                                    "OrderID": "10803",
                                    "ortalama_alışveriş": "397,67"
                                },
                                {
                                    "OrderID": "10407",
                                    "ortalama_alışveriş": "398"
                                },
                                {
                                    "OrderID": "10532",
                                    "ortalama_alışveriş": "398,18"
                                },
                                {
                                    "OrderID": "10376",
                                    "ortalama_alışveriş": "399"
                                },
                                {
                                    "OrderID": "10999",
                                    "ortalama_alışveriş": "399,32"
                                },
                                {
                                    "OrderID": "10931",
                                    "ortalama_alışveriş": "399,6"
                                },
                                {
                                    "OrderID": "10405",
                                    "ortalama_alışveriş": "400"
                                },
                                {
                                    "OrderID": "10410",
                                    "ortalama_alışveriş": "401"
                                },
                                {
                                    "OrderID": "10464",
                                    "ortalama_alışveriş": "402,32"
                                },
                                {
                                    "OrderID": "10365",
                                    "ortalama_alışveriş": "403,2"
                                },
                                {
                                    "OrderID": "10312",
                                    "ortalama_alışveriş": "403,7"
                                },
                                {
                                    "OrderID": "10677",
                                    "ortalama_alışveriş": "406,68"
                                },
                                {
                                    "OrderID": "10273",
                                    "ortalama_alışveriş": "407,46"
                                },
                                {
                                    "OrderID": "11070",
                                    "ortalama_alışveriş": "407,49"
                                },
                                {
                                    "OrderID": "10869",
                                    "ortalama_alışveriş": "407,5"
                                },
                                {
                                    "OrderID": "10751",
                                    "ortalama_alışveriş": "407,87"
                                },
                                {
                                    "OrderID": "11047",
                                    "ortalama_alışveriş": "408,94"
                                },
                                {
                                    "OrderID": "10659",
                                    "ortalama_alışveriş": "409,01"
                                },
                                {
                                    "OrderID": "10525",
                                    "ortalama_alışveriş": "409,2"
                                },
                                {
                                    "OrderID": "10388",
                                    "ortalama_alışveriş": "409,6"
                                },
                                {
                                    "OrderID": "10700",
                                    "ortalama_alışveriş": "409,6"
                                },
                                {
                                    "OrderID": "10536",
                                    "ortalama_alışveriş": "411,25"
                                },
                                {
                                    "OrderID": "10564",
                                    "ortalama_alışveriş": "411,35"
                                },
                                {
                                    "OrderID": "10839",
                                    "ortalama_alışveriş": "413,77"
                                },
                                {
                                    "OrderID": "10954",
                                    "ortalama_alışveriş": "414,88"
                                },
                                {
                                    "OrderID": "10818",
                                    "ortalama_alışveriş": "416,5"
                                },
                                {
                                    "OrderID": "10797",
                                    "ortalama_alışveriş": "420"
                                },
                                {
                                    "OrderID": "10680",
                                    "ortalama_alışveriş": "420,63"
                                },
                                {
                                    "OrderID": "10769",
                                    "ortalama_alışveriş": "421,07"
                                },
                                {
                                    "OrderID": "10827",
                                    "ortalama_alışveriş": "421,5"
                                },
                                {
                                    "OrderID": "10368",
                                    "ortalama_alışveriş": "422,44"
                                },
                                {
                                    "OrderID": "10835",
                                    "ortalama_alışveriş": "422,9"
                                },
                                {
                                    "OrderID": "10717",
                                    "ortalama_alışveriş": "423,58"
                                },
                                {
                                    "OrderID": "10486",
                                    "ortalama_alışveriş": "424"
                                },
                                {
                                    "OrderID": "10492",
                                    "ortalama_alışveriş": "425,6"
                                },
                                {
                                    "OrderID": "10420",
                                    "ortalama_alışveriş": "426,96"
                                },
                                {
                                    "OrderID": "10906",
                                    "ortalama_alışveriş": "427,5"
                                },
                                {
                                    "OrderID": "10403",
                                    "ortalama_alışveriş": "427,51"
                                },
                                {
                                    "OrderID": "10558",
                                    "ortalama_alışveriş": "428,58"
                                },
                                {
                                    "OrderID": "10681",
                                    "ortalama_alışveriş": "429,13"
                                },
                                {
                                    "OrderID": "10664",
                                    "ortalama_alışveriş": "429,46"
                                },
                                {
                                    "OrderID": "10690",
                                    "ortalama_alışveriş": "431,25"
                                },
                                {
                                    "OrderID": "10665",
                                    "ortalama_alışveriş": "431,67"
                                },
                                {
                                    "OrderID": "10902",
                                    "ortalama_alışveriş": "431,71"
                                },
                                {
                                    "OrderID": "10377",
                                    "ortalama_alışveriş": "431,8"
                                },
                                {
                                    "OrderID": "11055",
                                    "ortalama_alışveriş": "431,88"
                                },
                                {
                                    "OrderID": "10554",
                                    "ortalama_alışveriş": "432,13"
                                },
                                {
                                    "OrderID": "10774",
                                    "ortalama_alışveriş": "434,38"
                                },
                                {
                                    "OrderID": "11035",
                                    "ortalama_alışveriş": "438,63"
                                },
                                {
                                    "OrderID": "11027",
                                    "ortalama_alışveriş": "438,86"
                                },
                                {
                                    "OrderID": "10974",
                                    "ortalama_alışveriş": "439"
                                },
                                {
                                    "OrderID": "10552",
                                    "ortalama_alışveriş": "440,25"
                                },
                                {
                                    "OrderID": "10829",
                                    "ortalama_alışveriş": "441"
                                },
                                {
                                    "OrderID": "10714",
                                    "ortalama_alışveriş": "441,15"
                                },
                                {
                                    "OrderID": "10399",
                                    "ortalama_alışveriş": "441,4"
                                },
                                {
                                    "OrderID": "10635",
                                    "ortalama_alışveriş": "442,08"
                                },
                                {
                                    "OrderID": "10569",
                                    "ortalama_alışveriş": "445"
                                },
                                {
                                    "OrderID": "10814",
                                    "ortalama_alışveriş": "447,11"
                                },
                                {
                                    "OrderID": "10932",
                                    "ortalama_alışveriş": "447,16"
                                },
                                {
                                    "OrderID": "11063",
                                    "ortalama_alışveriş": "447,65"
                                },
                                {
                                    "OrderID": "10628",
                                    "ortalama_alışveriş": "450"
                                },
                                {
                                    "OrderID": "10989",
                                    "ortalama_alışveriş": "451,2"
                                },
                                {
                                    "OrderID": "10630",
                                    "ortalama_alışveriş": "451,8"
                                },
                                {
                                    "OrderID": "10327",
                                    "ortalama_alışveriş": "452,5"
                                },
                                {
                                    "OrderID": "11002",
                                    "ortalama_alışveriş": "452,78"
                                },
                                {
                                    "OrderID": "10418",
                                    "ortalama_alışveriş": "453,7"
                                },
                                {
                                    "OrderID": "10967",
                                    "ortalama_alışveriş": "455,2"
                                },
                                {
                                    "OrderID": "10936",
                                    "ortalama_alışveriş": "456"
                                },
                                {
                                    "OrderID": "10644",
                                    "ortalama_alışveriş": "457,27"
                                },
                                {
                                    "OrderID": "10389",
                                    "ortalama_alışveriş": "458,2"
                                },
                                {
                                    "OrderID": "10876",
                                    "ortalama_alışveriş": "458,5"
                                },
                                {
                                    "OrderID": "10884",
                                    "ortalama_alışveriş": "459,36"
                                },
                                {
                                    "OrderID": "10342",
                                    "ortalama_alışveriş": "460,16"
                                },
                                {
                                    "OrderID": "10497",
                                    "ortalama_alışveriş": "460,2"
                                },
                                {
                                    "OrderID": "10933",
                                    "ortalama_alışveriş": "460,3"
                                },
                                {
                                    "OrderID": "10670",
                                    "ortalama_alışveriş": "460,35"
                                },
                                {
                                    "OrderID": "10624",
                                    "ortalama_alışveriş": "464,41"
                                },
                                {
                                    "OrderID": "10848",
                                    "ortalama_alışveriş": "465,75"
                                },
                                {
                                    "OrderID": "10828",
                                    "ortalama_alışveriş": "466"
                                },
                                {
                                    "OrderID": "11011",
                                    "ortalama_alışveriş": "466,75"
                                },
                                {
                                    "OrderID": "10338",
                                    "ortalama_alışveriş": "467,25"
                                },
                                {
                                    "OrderID": "10901",
                                    "ortalama_alışveriş": "467,25"
                                },
                                {
                                    "OrderID": "10263",
                                    "ortalama_alışveriş": "468,45"
                                },
                                {
                                    "OrderID": "10723",
                                    "ortalama_alışveriş": "468,45"
                                },
                                {
                                    "OrderID": "10946",
                                    "ortalama_alışveriş": "469,17"
                                },
                                {
                                    "OrderID": "10968",
                                    "ortalama_alışveriş": "469,33"
                                },
                                {
                                    "OrderID": "10478",
                                    "ortalama_alışveriş": "471,2"
                                },
                                {
                                    "OrderID": "10689",
                                    "ortalama_alışveriş": "472,5"
                                },
                                {
                                    "OrderID": "10675",
                                    "ortalama_alışveriş": "474,33"
                                },
                                {
                                    "OrderID": "10364",
                                    "ortalama_alışveriş": "475"
                                },
                                {
                                    "OrderID": "10747",
                                    "ortalama_alışveriş": "478,21"
                                },
                                {
                                    "OrderID": "11031",
                                    "ortalama_alışveriş": "478,7"
                                },
                                {
                                    "OrderID": "10253",
                                    "ortalama_alışveriş": "481,6"
                                },
                                {
                                    "OrderID": "10563",
                                    "ortalama_alışveriş": "482,5"
                                },
                                {
                                    "OrderID": "10849",
                                    "ortalama_alışveriş": "483,91"
                                },
                                {
                                    "OrderID": "10535",
                                    "ortalama_alışveriş": "485,21"
                                },
                                {
                                    "OrderID": "10272",
                                    "ortalama_alışveriş": "485,33"
                                },
                                {
                                    "OrderID": "10733",
                                    "ortalama_alışveriş": "486,33"
                                },
                                {
                                    "OrderID": "10541",
                                    "ortalama_alışveriş": "486,63"
                                },
                                {
                                    "OrderID": "10755",
                                    "ortalama_alışveriş": "487,13"
                                },
                                {
                                    "OrderID": "10800",
                                    "ortalama_alışveriş": "489,65"
                                },
                                {
                                    "OrderID": "11024",
                                    "ortalama_alışveriş": "491,7"
                                },
                                {
                                    "OrderID": "10599",
                                    "ortalama_alışveriş": "493"
                                },
                                {
                                    "OrderID": "10337",
                                    "ortalama_alışveriş": "493,4"
                                },
                                {
                                    "OrderID": "10830",
                                    "ortalama_alışveriş": "493,5"
                                },
                                {
                                    "OrderID": "11046",
                                    "ortalama_alışveriş": "495,27"
                                },
                                {
                                    "OrderID": "10784",
                                    "ortalama_alışveriş": "496"
                                },
                                {
                                    "OrderID": "10756",
                                    "ortalama_alışveriş": "497,5"
                                },
                                {
                                    "OrderID": "10696",
                                    "ortalama_alışveriş": "498"
                                },
                                {
                                    "OrderID": "10736",
                                    "ortalama_alışveriş": "498,5"
                                },
                                {
                                    "OrderID": "10436",
                                    "ortalama_alışveriş": "498,63"
                                },
                                {
                                    "OrderID": "10734",
                                    "ortalama_alışveriş": "499,45"
                                },
                                {
                                    "OrderID": "10639",
                                    "ortalama_alışveriş": "500"
                                },
                                {
                                    "OrderID": "10880",
                                    "ortalama_alışveriş": "500"
                                },
                                {
                                    "OrderID": "10934",
                                    "ortalama_alışveriş": "500"
                                },
                                {
                                    "OrderID": "10626",
                                    "ortalama_alışveriş": "501,2"
                                },
                                {
                                    "OrderID": "10475",
                                    "ortalama_alışveriş": "501,73"
                                },
                                {
                                    "OrderID": "10465",
                                    "ortalama_alışveriş": "503,6"
                                },
                                {
                                    "OrderID": "10982",
                                    "ortalama_alışveriş": "507"
                                },
                                {
                                    "OrderID": "10335",
                                    "ortalama_alışveriş": "509,04"
                                },
                                {
                                    "OrderID": "10423",
                                    "ortalama_alışveriş": "510"
                                },
                                {
                                    "OrderID": "11061",
                                    "ortalama_alışveriş": "510"
                                },
                                {
                                    "OrderID": "10786",
                                    "ortalama_alışveriş": "510,36"
                                },
                                {
                                    "OrderID": "10393",
                                    "ortalama_alışveriş": "511,39"
                                },
                                {
                                    "OrderID": "10461",
                                    "ortalama_alışveriş": "512,9"
                                },
                                {
                                    "OrderID": "10872",
                                    "ortalama_alışveriş": "514,61"
                                },
                                {
                                    "OrderID": "11026",
                                    "ortalama_alışveriş": "515"
                                },
                                {
                                    "OrderID": "10825",
                                    "ortalama_alışveriş": "515,38"
                                },
                                {
                                    "OrderID": "10320",
                                    "ortalama_alışveriş": "516"
                                },
                                {
                                    "OrderID": "10362",
                                    "ortalama_alışveriş": "516,53"
                                },
                                {
                                    "OrderID": "10250",
                                    "ortalama_alışveriş": "517,53"
                                },
                                {
                                    "OrderID": "10693",
                                    "ortalama_alışveriş": "517,8"
                                },
                                {
                                    "OrderID": "10799",
                                    "ortalama_alışveriş": "517,83"
                                },
                                {
                                    "OrderID": "10472",
                                    "ortalama_alışveriş": "518,4"
                                },
                                {
                                    "OrderID": "10390",
                                    "ortalama_alışveriş": "522,72"
                                },
                                {
                                    "OrderID": "11018",
                                    "ortalama_alışveriş": "525"
                                },
                                {
                                    "OrderID": "11048",
                                    "ortalama_alışveriş": "525"
                                },
                                {
                                    "OrderID": "10343",
                                    "ortalama_alışveriş": "528"
                                },
                                {
                                    "OrderID": "10750",
                                    "ortalama_alışveriş": "530,19"
                                },
                                {
                                    "OrderID": "10404",
                                    "ortalama_alışveriş": "530,42"
                                },
                                {
                                    "OrderID": "10560",
                                    "ortalama_alışveriş": "536,21"
                                },
                                {
                                    "OrderID": "10575",
                                    "ortalama_alışveriş": "536,85"
                                },
                                {
                                    "OrderID": "10914",
                                    "ortalama_alışveriş": "537,5"
                                },
                                {
                                    "OrderID": "10258",
                                    "ortalama_alışveriş": "538,29"
                                },
                                {
                                    "OrderID": "10408",
                                    "ortalama_alışveriş": "540,8"
                                },
                                {
                                    "OrderID": "10727",
                                    "ortalama_alışveriş": "541,5"
                                },
                                {
                                    "OrderID": "10653",
                                    "ortalama_alışveriş": "541,57"
                                },
                                {
                                    "OrderID": "10290",
                                    "ortalama_alışveriş": "542,25"
                                },
                                {
                                    "OrderID": "10707",
                                    "ortalama_alışveriş": "547"
                                },
                                {
                                    "OrderID": "10758",
                                    "ortalama_alışveriş": "548,2"
                                },
                                {
                                    "OrderID": "10590",
                                    "ortalama_alışveriş": "550,5"
                                },
                                {
                                    "OrderID": "10268",
                                    "ortalama_alışveriş": "550,6"
                                },
                                {
                                    "OrderID": "10459",
                                    "ortalama_alışveriş": "553,07"
                                },
                                {
                                    "OrderID": "10986",
                                    "ortalama_alışveriş": "555"
                                },
                                {
                                    "OrderID": "10855",
                                    "ortalama_alışveriş": "556,97"
                                },
                                {
                                    "OrderID": "10977",
                                    "ortalama_alışveriş": "558,25"
                                },
                                {
                                    "OrderID": "10551",
                                    "ortalama_alışveriş": "559,1"
                                },
                                {
                                    "OrderID": "10961",
                                    "ortalama_alışveriş": "559,95"
                                },
                                {
                                    "OrderID": "10942",
                                    "ortalama_alışveriş": "560"
                                },
                                {
                                    "OrderID": "10996",
                                    "ortalama_alışveriş": "560"
                                },
                                {
                                    "OrderID": "10930",
                                    "ortalama_alışveriş": "563,88"
                                },
                                {
                                    "OrderID": "10812",
                                    "ortalama_alışveriş": "564,27"
                                },
                                {
                                    "OrderID": "10669",
                                    "ortalama_alışveriş": "570"
                                },
                                {
                                    "OrderID": "10557",
                                    "ortalama_alışveriş": "576,25"
                                },
                                {
                                    "OrderID": "10746",
                                    "ortalama_alışveriş": "577,93"
                                },
                                {
                                    "OrderID": "10522",
                                    "ortalama_alışveriş": "579,56"
                                },
                                {
                                    "OrderID": "10382",
                                    "ortalama_alışveriş": "580"
                                },
                                {
                                    "OrderID": "10285",
                                    "ortalama_alışveriş": "581,12"
                                },
                                {
                                    "OrderID": "10796",
                                    "ortalama_alışveriş": "585,34"
                                },
                                {
                                    "OrderID": "10566",
                                    "ortalama_alışveriş": "587"
                                },
                                {
                                    "OrderID": "10957",
                                    "ortalama_alışveriş": "587,57"
                                },
                                {
                                    "OrderID": "10265",
                                    "ortalama_alışveriş": "588"
                                },
                                {
                                    "OrderID": "10555",
                                    "ortalama_alışveriş": "588,88"
                                },
                                {
                                    "OrderID": "10684",
                                    "ortalama_alışveriş": "589,33"
                                },
                                {
                                    "OrderID": "11044",
                                    "ortalama_alışveriş": "591,6"
                                },
                                {
                                    "OrderID": "10627",
                                    "ortalama_alışveriş": "592,88"
                                },
                                {
                                    "OrderID": "10650",
                                    "ortalama_alışveriş": "593,07"
                                },
                                {
                                    "OrderID": "10584",
                                    "ortalama_alışveriş": "593,75"
                                },
                                {
                                    "OrderID": "10332",
                                    "ortalama_alışveriş": "595,63"
                                },
                                {
                                    "OrderID": "10442",
                                    "ortalama_alışveriş": "597,33"
                                },
                                {
                                    "OrderID": "10995",
                                    "ortalama_alışveriş": "598"
                                },
                                {
                                    "OrderID": "10277",
                                    "ortalama_alışveriş": "600,4"
                                },
                                {
                                    "OrderID": "10984",
                                    "ortalama_alışveriş": "603,25"
                                },
                                {
                                    "OrderID": "10470",
                                    "ortalama_alışveriş": "606,93"
                                },
                                {
                                    "OrderID": "10523",
                                    "ortalama_alışveriş": "611,08"
                                },
                                {
                                    "OrderID": "10924",
                                    "ortalama_alışveriş": "611,9"
                                },
                                {
                                    "OrderID": "11059",
                                    "ortalama_alışveriş": "612,67"
                                },
                                {
                                    "OrderID": "10449",
                                    "ortalama_alışveriş": "612,73"
                                },
                                {
                                    "OrderID": "10729",
                                    "ortalama_alışveriş": "616,67"
                                },
                                {
                                    "OrderID": "10712",
                                    "ortalama_alışveriş": "616,74"
                                },
                                {
                                    "OrderID": "10255",
                                    "ortalama_alışveriş": "622,63"
                                },
                                {
                                    "OrderID": "10853",
                                    "ortalama_alışveriş": "625"
                                },
                                {
                                    "OrderID": "10997",
                                    "ortalama_alışveriş": "628,33"
                                },
                                {
                                    "OrderID": "10619",
                                    "ortalama_alışveriş": "630"
                                },
                                {
                                    "OrderID": "10431",
                                    "ortalama_alışveriş": "630,75"
                                },
                                {
                                    "OrderID": "10706",
                                    "ortalama_alışveriş": "631"
                                },
                                {
                                    "OrderID": "11020",
                                    "ortalama_alışveriş": "632,4"
                                },
                                {
                                    "OrderID": "10396",
                                    "ortalama_alışveriş": "634,6"
                                },
                                {
                                    "OrderID": "10868",
                                    "ortalama_alışveriş": "640,2"
                                },
                                {
                                    "OrderID": "11029",
                                    "ortalama_alışveriş": "643,4"
                                },
                                {
                                    "OrderID": "10663",
                                    "ortalama_alışveriş": "643,47"
                                },
                                {
                                    "OrderID": "10838",
                                    "ortalama_alışveriş": "646,13"
                                },
                                {
                                    "OrderID": "10513",
                                    "ortalama_alışveriş": "647,33"
                                },
                                {
                                    "OrderID": "10715",
                                    "ortalama_alışveriş": "648"
                                },
                                {
                                    "OrderID": "10851",
                                    "ortalama_alışveriş": "650,75"
                                },
                                {
                                    "OrderID": "10427",
                                    "ortalama_alışveriş": "651"
                                },
                                {
                                    "OrderID": "11045",
                                    "ortalama_alışveriş": "654,75"
                                },
                                {
                                    "OrderID": "10871",
                                    "ortalama_alışveriş": "659,74"
                                },
                                {
                                    "OrderID": "10679",
                                    "ortalama_alışveriş": "660"
                                },
                                {
                                    "OrderID": "10298",
                                    "ortalama_alışveriş": "661,25"
                                },
                                {
                                    "OrderID": "10471",
                                    "ortalama_alışveriş": "664"
                                },
                                {
                                    "OrderID": "10593",
                                    "ortalama_alışveriş": "664,8"
                                },
                                {
                                    "OrderID": "11052",
                                    "ortalama_alışveriş": "666"
                                },
                                {
                                    "OrderID": "10779",
                                    "ortalama_alışveriş": "667,5"
                                },
                                {
                                    "OrderID": "10455",
                                    "ortalama_alışveriş": "671"
                                },
                                {
                                    "OrderID": "10831",
                                    "ortalama_alışveriş": "671,1"
                                },
                                {
                                    "OrderID": "10985",
                                    "ortalama_alışveriş": "674,46"
                                },
                                {
                                    "OrderID": "11068",
                                    "ortalama_alışveriş": "675,69"
                                },
                                {
                                    "OrderID": "10773",
                                    "ortalama_alışveriş": "676,8"
                                },
                                {
                                    "OrderID": "10857",
                                    "ortalama_alışveriş": "682,74"
                                },
                                {
                                    "OrderID": "10938",
                                    "ortalama_alışveriş": "682,97"
                                },
                                {
                                    "OrderID": "10373",
                                    "ortalama_alışveriş": "683,2"
                                },
                                {
                                    "OrderID": "10964",
                                    "ortalama_alışveriş": "684,17"
                                },
                                {
                                    "OrderID": "10698",
                                    "ortalama_alışveriş": "687,29"
                                },
                                {
                                    "OrderID": "10270",
                                    "ortalama_alışveriş": "688"
                                },
                                {
                                    "OrderID": "11001",
                                    "ortalama_alışveriş": "692,25"
                                },
                                {
                                    "OrderID": "10573",
                                    "ortalama_alışveriş": "694"
                                },
                                {
                                    "OrderID": "10314",
                                    "ortalama_alışveriş": "698,1"
                                },
                                {
                                    "OrderID": "11022",
                                    "ortalama_alışveriş": "701"
                                },
                                {
                                    "OrderID": "10686",
                                    "ortalama_alışveriş": "702,23"
                                },
                                {
                                    "OrderID": "10861",
                                    "ortalama_alışveriş": "704,68"
                                },
                                {
                                    "OrderID": "10808",
                                    "ortalama_alışveriş": "705,5"
                                },
                                {
                                    "OrderID": "10499",
                                    "ortalama_alışveriş": "706"
                                },
                                {
                                    "OrderID": "10823",
                                    "ortalama_alışveriş": "706,5"
                                },
                                {
                                    "OrderID": "10713",
                                    "ortalama_alışveriş": "706,98"
                                },
                                {
                                    "OrderID": "10395",
                                    "ortalama_alışveriş": "707,64"
                                },
                                {
                                    "OrderID": "10413",
                                    "ortalama_alışveriş": "707,73"
                                },
                                {
                                    "OrderID": "10297",
                                    "ortalama_alışveriş": "710"
                                },
                                {
                                    "OrderID": "10834",
                                    "ortalama_alışveriş": "716,36"
                                },
                                {
                                    "OrderID": "10962",
                                    "ortalama_alışveriş": "716,8"
                                },
                                {
                                    "OrderID": "10649",
                                    "ortalama_alışveriş": "717"
                                },
                                {
                                    "OrderID": "10429",
                                    "ortalama_alışveriş": "720,69"
                                },
                                {
                                    "OrderID": "10783",
                                    "ortalama_alışveriş": "721,25"
                                },
                                {
                                    "OrderID": "10918",
                                    "ortalama_alışveriş": "723,75"
                                },
                                {
                                    "OrderID": "10657",
                                    "ortalama_alışveriş": "728,6"
                                },
                                {
                                    "OrderID": "10748",
                                    "ortalama_alışveriş": "732"
                                },
                                {
                                    "OrderID": "10844",
                                    "ortalama_alışveriş": "735"
                                },
                                {
                                    "OrderID": "10802",
                                    "ortalama_alışveriş": "735,7"
                                },
                                {
                                    "OrderID": "10481",
                                    "ortalama_alışveriş": "736"
                                },
                                {
                                    "OrderID": "10744",
                                    "ortalama_alışveriş": "736"
                                },
                                {
                                    "OrderID": "10533",
                                    "ortalama_alışveriş": "740,73"
                                },
                                {
                                    "OrderID": "10603",
                                    "ortalama_alışveriş": "741,5"
                                },
                                {
                                    "OrderID": "10583",
                                    "ortalama_alışveriş": "745,83"
                                },
                                {
                                    "OrderID": "11023",
                                    "ortalama_alışveriş": "750"
                                },
                                {
                                    "OrderID": "10527",
                                    "ortalama_alışveriş": "751,5"
                                },
                                {
                                    "OrderID": "10543",
                                    "ortalama_alışveriş": "752,25"
                                },
                                {
                                    "OrderID": "10488",
                                    "ortalama_alışveriş": "756"
                                },
                                {
                                    "OrderID": "10804",
                                    "ortalama_alışveriş": "759,47"
                                },
                                {
                                    "OrderID": "10845",
                                    "ortalama_alışveriş": "762,54"
                                },
                                {
                                    "OrderID": "10991",
                                    "ortalama_alışveriş": "765,33"
                                },
                                {
                                    "OrderID": "10645",
                                    "ortalama_alışveriş": "767,5"
                                },
                                {
                                    "OrderID": "10667",
                                    "ortalama_alışveriş": "768,4"
                                },
                                {
                                    "OrderID": "10766",
                                    "ortalama_alışveriş": "770"
                                },
                                {
                                    "OrderID": "10757",
                                    "ortalama_alışveriş": "770,5"
                                },
                                {
                                    "OrderID": "10519",
                                    "ortalama_alışveriş": "771,4"
                                },
                                {
                                    "OrderID": "11039",
                                    "ortalama_alışveriş": "772,5"
                                },
                                {
                                    "OrderID": "10458",
                                    "ortalama_alışveriş": "778,2"
                                },
                                {
                                    "OrderID": "10948",
                                    "ortalama_alışveriş": "787,42"
                                },
                                {
                                    "OrderID": "10516",
                                    "ortalama_alışveriş": "793,68"
                                },
                                {
                                    "OrderID": "10524",
                                    "ortalama_alışveriş": "798,16"
                                },
                                {
                                    "OrderID": "10979",
                                    "ortalama_alışveriş": "802,25"
                                },
                                {
                                    "OrderID": "10346",
                                    "ortalama_alışveriş": "809,44"
                                },
                                {
                                    "OrderID": "11050",
                                    "ortalama_alışveriş": "810"
                                },
                                {
                                    "OrderID": "10340",
                                    "ortalama_alışveriş": "812,06"
                                },
                                {
                                    "OrderID": "10847",
                                    "ortalama_alışveriş": "821,99"
                                },
                                {
                                    "OrderID": "10330",
                                    "ortalama_alışveriş": "824,5"
                                },
                                {
                                    "OrderID": "10556",
                                    "ortalama_alışveriş": "835,2"
                                },
                                {
                                    "OrderID": "10567",
                                    "ortalama_alışveriş": "839,67"
                                },
                                {
                                    "OrderID": "11036",
                                    "ortalama_alışveriş": "846"
                                },
                                {
                                    "OrderID": "10965",
                                    "ortalama_alışveriş": "848"
                                },
                                {
                                    "OrderID": "10703",
                                    "ortalama_alışveriş": "848,33"
                                },
                                {
                                    "OrderID": "10511",
                                    "ortalama_alışveriş": "850"
                                },
                                {
                                    "OrderID": "10433",
                                    "ortalama_alışveriş": "851,2"
                                },
                                {
                                    "OrderID": "10718",
                                    "ortalama_alışveriş": "865,75"
                                },
                                {
                                    "OrderID": "11064",
                                    "ortalama_alışveriş": "866,08"
                                },
                                {
                                    "OrderID": "11007",
                                    "ortalama_alışveriş": "877,97"
                                },
                                {
                                    "OrderID": "10692",
                                    "ortalama_alışveriş": "878"
                                },
                                {
                                    "OrderID": "11041",
                                    "ortalama_alışveriş": "886,5"
                                },
                                {
                                    "OrderID": "10547",
                                    "ortalama_alışveriş": "896,4"
                                },
                                {
                                    "OrderID": "10618",
                                    "ortalama_alışveriş": "899,17"
                                },
                                {
                                    "OrderID": "10302",
                                    "ortalama_alışveriş": "902,93"
                                },
                                {
                                    "OrderID": "10638",
                                    "ortalama_alışveriş": "906,68"
                                },
                                {
                                    "OrderID": "10494",
                                    "ortalama_alışveriş": "912"
                                },
                                {
                                    "OrderID": "10976",
                                    "ortalama_alışveriş": "912"
                                },
                                {
                                    "OrderID": "10791",
                                    "ortalama_alışveriş": "914,88"
                                },
                                {
                                    "OrderID": "10894",
                                    "ortalama_alışveriş": "917,7"
                                },
                                {
                                    "OrderID": "10637",
                                    "ortalama_alışveriş": "920,65"
                                },
                                {
                                    "OrderID": "10789",
                                    "ortalama_alışveriş": "921,75"
                                },
                                {
                                    "OrderID": "10721",
                                    "ortalama_alışveriş": "923,88"
                                },
                                {
                                    "OrderID": "10987",
                                    "ortalama_alışveriş": "924"
                                },
                                {
                                    "OrderID": "10249",
                                    "ortalama_alışveriş": "931,7"
                                },
                                {
                                    "OrderID": "10546",
                                    "ortalama_alışveriş": "937,33"
                                },
                                {
                                    "OrderID": "10994",
                                    "ortalama_alışveriş": "940,5"
                                },
                                {
                                    "OrderID": "10836",
                                    "ortalama_alışveriş": "941,1"
                                },
                                {
                                    "OrderID": "11012",
                                    "ortalama_alışveriş": "941,77"
                                },
                                {
                                    "OrderID": "10731",
                                    "ortalama_alışveriş": "945,25"
                                },
                                {
                                    "OrderID": "10701",
                                    "ortalama_alışveriş": "954,83"
                                },
                                {
                                    "OrderID": "10904",
                                    "ortalama_alışveriş": "962,13"
                                },
                                {
                                    "OrderID": "10451",
                                    "ortalama_alışveriş": "962,41"
                                },
                                {
                                    "OrderID": "10401",
                                    "ortalama_alışveriş": "967,15"
                                },
                                {
                                    "OrderID": "10921",
                                    "ortalama_alışveriş": "968"
                                },
                                {
                                    "OrderID": "10760",
                                    "ortalama_alışveriş": "972,33"
                                },
                                {
                                    "OrderID": "10345",
                                    "ortalama_alışveriş": "974,93"
                                },
                                {
                                    "OrderID": "10877",
                                    "ortalama_alışveriş": "977,56"
                                },
                                {
                                    "OrderID": "10852",
                                    "ortalama_alışveriş": "994,67"
                                },
                                {
                                    "OrderID": "10941",
                                    "ortalama_alışveriş": "1002,94"
                                },
                                {
                                    "OrderID": "10452",
                                    "ortalama_alışveriş": "1009,25"
                                },
                                {
                                    "OrderID": "11053",
                                    "ortalama_alışveriş": "1018,33"
                                },
                                {
                                    "OrderID": "10400",
                                    "ortalama_alışveriş": "1021"
                                },
                                {
                                    "OrderID": "10361",
                                    "ortalama_alışveriş": "1023,12"
                                },
                                {
                                    "OrderID": "10503",
                                    "ortalama_alışveriş": "1024,25"
                                },
                                {
                                    "OrderID": "10641",
                                    "ortalama_alışveriş": "1027"
                                },
                                {
                                    "OrderID": "10605",
                                    "ortalama_alışveriş": "1027,42"
                                },
                                {
                                    "OrderID": "10742",
                                    "ortalama_alışveriş": "1039,33"
                                },
                                {
                                    "OrderID": "10886",
                                    "ortalama_alışveriş": "1042,5"
                                },
                                {
                                    "OrderID": "10530",
                                    "ortalama_alışveriş": "1045"
                                },
                                {
                                    "OrderID": "10419",
                                    "ortalama_alışveriş": "1048,8"
                                },
                                {
                                    "OrderID": "10688",
                                    "ortalama_alışveriş": "1053,53"
                                },
                                {
                                    "OrderID": "10490",
                                    "ortalama_alışveriş": "1054,4"
                                },
                                {
                                    "OrderID": "10324",
                                    "ortalama_alışveriş": "1055,14"
                                },
                                {
                                    "OrderID": "10608",
                                    "ortalama_alışveriş": "1064"
                                },
                                {
                                    "OrderID": "10990",
                                    "ortalama_alışveriş": "1072,21"
                                },
                                {
                                    "OrderID": "10795",
                                    "ortalama_alışveriş": "1079"
                                },
                                {
                                    "OrderID": "11028",
                                    "ortalama_alışveriş": "1080"
                                },
                                {
                                    "OrderID": "10762",
                                    "ortalama_alışveriş": "1084,25"
                                },
                                {
                                    "OrderID": "10893",
                                    "ortalama_alışveriş": "1100,42"
                                },
                                {
                                    "OrderID": "10949",
                                    "ortalama_alışveriş": "1105,5"
                                },
                                {
                                    "OrderID": "10384",
                                    "ortalama_alışveriş": "1111,2"
                                },
                                {
                                    "OrderID": "10658",
                                    "ortalama_alışveriş": "1116,15"
                                },
                                {
                                    "OrderID": "10339",
                                    "ortalama_alışveriş": "1118"
                                },
                                {
                                    "OrderID": "10745",
                                    "ortalama_alışveriş": "1132,45"
                                },
                                {
                                    "OrderID": "10820",
                                    "ortalama_alışveriş": "1140"
                                },
                                {
                                    "OrderID": "10709",
                                    "ortalama_alışveriş": "1141,33"
                                },
                                {
                                    "OrderID": "10601",
                                    "ortalama_alışveriş": "1142,5"
                                },
                                {
                                    "OrderID": "10764",
                                    "ortalama_alışveriş": "1143"
                                },
                                {
                                    "OrderID": "10329",
                                    "ortalama_alışveriş": "1144,61"
                                },
                                {
                                    "OrderID": "10841",
                                    "ortalama_alışveriş": "1145,25"
                                },
                                {
                                    "OrderID": "10344",
                                    "ortalama_alışveriş": "1148"
                                },
                                {
                                    "OrderID": "10359",
                                    "ortalama_alışveriş": "1157,23"
                                },
                                {
                                    "OrderID": "10267",
                                    "ortalama_alışveriş": "1178,87"
                                },
                                {
                                    "OrderID": "10549",
                                    "ortalama_alışveriş": "1184,76"
                                },
                                {
                                    "OrderID": "10598",
                                    "ortalama_alışveriş": "1194,25"
                                },
                                {
                                    "OrderID": "10369",
                                    "ortalama_alışveriş": "1195,2"
                                },
                                {
                                    "OrderID": "10252",
                                    "ortalama_alışveriş": "1199,3"
                                },
                                {
                                    "OrderID": "10616",
                                    "ortalama_alışveriş": "1201,75"
                                },
                                {
                                    "OrderID": "10430",
                                    "ortalama_alışveriş": "1224,8"
                                },
                                {
                                    "OrderID": "10440",
                                    "ortalama_alışveriş": "1231,03"
                                },
                                {
                                    "OrderID": "10570",
                                    "ortalama_alışveriş": "1232,63"
                                },
                                {
                                    "OrderID": "10634",
                                    "ortalama_alışveriş": "1246,38"
                                },
                                {
                                    "OrderID": "11056",
                                    "ortalama_alışveriş": "1246,67"
                                },
                                {
                                    "OrderID": "10305",
                                    "ortalama_alışveriş": "1247,1"
                                },
                                {
                                    "OrderID": "10398",
                                    "ortalama_alışveriş": "1252,8"
                                },
                                {
                                    "OrderID": "11021",
                                    "ortalama_alışveriş": "1261,25"
                                },
                                {
                                    "OrderID": "10612",
                                    "ortalama_alışveriş": "1275"
                                },
                                {
                                    "OrderID": "10607",
                                    "ortalama_alışveriş": "1295,08"
                                },
                                {
                                    "OrderID": "10292",
                                    "ortalama_alışveriş": "1296"
                                },
                                {
                                    "OrderID": "11072",
                                    "ortalama_alışveriş": "1304,5"
                                },
                                {
                                    "OrderID": "10787",
                                    "ortalama_alışveriş": "1311,38"
                                },
                                {
                                    "OrderID": "10678",
                                    "ortalama_alışveriş": "1314,13"
                                },
                                {
                                    "OrderID": "10351",
                                    "ortalama_alışveriş": "1349,68"
                                },
                                {
                                    "OrderID": "10402",
                                    "ortalama_alışveriş": "1356,75"
                                },
                                {
                                    "OrderID": "10633",
                                    "ortalama_alışveriş": "1377,65"
                                },
                                {
                                    "OrderID": "10518",
                                    "ortalama_alışveriş": "1383,35"
                                },
                                {
                                    "OrderID": "10805",
                                    "ortalama_alışveriş": "1387,5"
                                },
                                {
                                    "OrderID": "10629",
                                    "ortalama_alışveriş": "1387,53"
                                },
                                {
                                    "OrderID": "10617",
                                    "ortalama_alışveriş": "1402,5"
                                },
                                {
                                    "OrderID": "10316",
                                    "ortalama_alışveriş": "1417,5"
                                },
                                {
                                    "OrderID": "10561",
                                    "ortalama_alışveriş": "1422,25"
                                },
                                {
                                    "OrderID": "10392",
                                    "ortalama_alışveriş": "1440"
                                },
                                {
                                    "OrderID": "10360",
                                    "ortalama_alışveriş": "1478,04"
                                },
                                {
                                    "OrderID": "10854",
                                    "ortalama_alışveriş": "1483,25"
                                },
                                {
                                    "OrderID": "10711",
                                    "ortalama_alışveriş": "1483,9"
                                },
                                {
                                    "OrderID": "10286",
                                    "ortalama_alışveriş": "1508"
                                },
                                {
                                    "OrderID": "10801",
                                    "ortalama_alışveriş": "1513,43"
                                },
                                {
                                    "OrderID": "10765",
                                    "ortalama_alışveriş": "1515,6"
                                },
                                {
                                    "OrderID": "10878",
                                    "ortalama_alışveriş": "1539"
                                },
                                {
                                    "OrderID": "10588",
                                    "ortalama_alışveriş": "1560"
                                },
                                {
                                    "OrderID": "11008",
                                    "ortalama_alışveriş": "1560,3"
                                },
                                {
                                    "OrderID": "10595",
                                    "ortalama_alışveriş": "1575"
                                },
                                {
                                    "OrderID": "10457",
                                    "ortalama_alışveriş": "1584"
                                },
                                {
                                    "OrderID": "10895",
                                    "ortalama_alışveriş": "1594,85"
                                },
                                {
                                    "OrderID": "10694",
                                    "ortalama_alışveriş": "1608,33"
                                },
                                {
                                    "OrderID": "11033",
                                    "ortalama_alışveriş": "1616,4"
                                },
                                {
                                    "OrderID": "10687",
                                    "ortalama_alışveriş": "1653,63"
                                },
                                {
                                    "OrderID": "10776",
                                    "ortalama_alışveriş": "1658,82"
                                },
                                {
                                    "OrderID": "10660",
                                    "ortalama_alışveriş": "1701"
                                },
                                {
                                    "OrderID": "10514",
                                    "ortalama_alışveriş": "1724,69"
                                },
                                {
                                    "OrderID": "10971",
                                    "ortalama_alışveriş": "1733,06"
                                },
                                {
                                    "OrderID": "10441",
                                    "ortalama_alışveriş": "1755"
                                },
                                {
                                    "OrderID": "10988",
                                    "ortalama_alışveriş": "1787,4"
                                },
                                {
                                    "OrderID": "10772",
                                    "ortalama_alışveriş": "1801,61"
                                },
                                {
                                    "OrderID": "10672",
                                    "ortalama_alışveriş": "1907,63"
                                },
                                {
                                    "OrderID": "10515",
                                    "ortalama_alışveriş": "1984,26"
                                },
                                {
                                    "OrderID": "10691",
                                    "ortalama_alışveriş": "2032,96"
                                },
                                {
                                    "OrderID": "10892",
                                    "ortalama_alışveriş": "2090"
                                },
                                {
                                    "OrderID": "10953",
                                    "ortalama_alışveriş": "2220,63"
                                },
                                {
                                    "OrderID": "11017",
                                    "ortalama_alışveriş": "2250"
                                },
                                {
                                    "OrderID": "10372",
                                    "ortalama_alışveriş": "2302,72"
                                },
                                {
                                    "OrderID": "10666",
                                    "ortalama_alışveriş": "2333,47"
                                },
                                {
                                    "OrderID": "10510",
                                    "ortalama_alışveriş": "2353,77"
                                },
                                {
                                    "OrderID": "10993",
                                    "ortalama_alışveriş": "2447,72"
                                },
                                {
                                    "OrderID": "10540",
                                    "ortalama_alışveriş": "2547,92"
                                },
                                {
                                    "OrderID": "10479",
                                    "ortalama_alışveriş": "2623,9"
                                },
                                {
                                    "OrderID": "10817",
                                    "ortalama_alışveriş": "2738,21"
                                },
                                {
                                    "OrderID": "10417",
                                    "ortalama_alışveriş": "2797,1"
                                },
                                {
                                    "OrderID": "11032",
                                    "ortalama_alışveriş": "2967,5"
                                },
                                {
                                    "OrderID": "10424",
                                    "ortalama_alışveriş": "3064,85"
                                },
                                {
                                    "OrderID": "10912",
                                    "ortalama_alışveriş": "3100,27"
                                },
                                {
                                    "OrderID": "11030",
                                    "ortalama_alışveriş": "3153,76"
                                },
                                {
                                    "OrderID": "10816",
                                    "ortalama_alışveriş": "4223,23"
                                },
                                {
                                    "OrderID": "10353",
                                    "ortalama_alışveriş": "4296,64"
                                },
                                {
                                    "OrderID": "10897",
                                    "ortalama_alışveriş": "5417,62"
                                },
                                {
                                    "OrderID": "10889",
                                    "ortalama_alışveriş": "5690"
                                },
                                {
                                    "OrderID": "10865",
                                    "ortalama_alışveriş": "8193,75"
                                },
                                {
                                    "OrderID": "10981",
                                    "ortalama_alışveriş": "15810"
                                }
                            ]
                        },
                        "text/html": [
                            "<table>",
                            "<tr><th>OrderID</th><th>ortalama_alışveriş</th></tr>",
                            "<tr><td>10782</td><td>12,5</td></tr>",
                            "<tr><td>10807</td><td>18,4</td></tr>",
                            "<tr><td>10586</td><td>23,8</td></tr>",
                            "<tr><td>10767</td><td>28</td></tr>",
                            "<tr><td>10620</td><td>28,75</td></tr>",
                            "<tr><td>10281</td><td>28,83</td></tr>",
                            "<tr><td>10898</td><td>30</td></tr>",
                            "<tr><td>10900</td><td>33,75</td></tr>",
                            "<tr><td>10883</td><td>36</td></tr>",
                            "<tr><td>11051</td><td>36</td></tr>",
                            "<tr><td>11019</td><td>38</td></tr>",
                            "<tr><td>10815</td><td>40</td></tr>",
                            "<tr><td>10288</td><td>40,05</td></tr>",
                            "<tr><td>10753</td><td>44</td></tr>",
                            "<tr><td>10308</td><td>44,4</td></tr>",
                            "<tr><td>10674</td><td>45</td></tr>",
                            "<tr><td>11057</td><td>45</td></tr>",
                            "<tr><td>10710</td><td>46,75</td></tr>",
                            "<tr><td>10271</td><td>48</td></tr>",
                            "<tr><td>10602</td><td>48,75</td></tr>",
                            "<tr><td>10422</td><td>49,8</td></tr>",
                            "<tr><td>11077</td><td>50,23</td></tr>",
                            "<tr><td>10259</td><td>50,4</td></tr>",
                            "<tr><td>10415</td><td>51,2</td></tr>",
                            "<tr><td>10738</td><td>52,35</td></tr>",
                            "<tr><td>10323</td><td>54,8</td></tr>",
                            "<tr><td>10754</td><td>55,2</td></tr>",
                            "<tr><td>10631</td><td>55,8</td></tr>",
                            "<tr><td>10963</td><td>57,8</td></tr>",
                            "<tr><td>11037</td><td>60</td></tr>",
                            "<tr><td>10446</td><td>61,56</td></tr>",
                            "<tr><td>10810</td><td>62,33</td></tr>",
                            "<tr><td>10683</td><td>63</td></tr>",
                            "<tr><td>10366</td><td>68</td></tr>",
                            "<tr><td>10352</td><td>68,15</td></tr>",
                            "<tr><td>10928</td><td>68,75</td></tr>",
                            "<tr><td>10992</td><td>69,6</td></tr>",
                            "<tr><td>10538</td><td>69,9</td></tr>",
                            "<tr><td>10737</td><td>69,9</td></tr>",
                            "<tr><td>10887</td><td>70</td></tr>",
                            "<tr><td>10589</td><td>72</td></tr>",
                            "<tr><td>10334</td><td>72,4</td></tr>",
                            "<tr><td>10371</td><td>72,96</td></tr>",
                            "<tr><td>10955</td><td>74,4</td></tr>",
                            "<tr><td>10521</td><td>75,17</td></tr>",
                            "<tr><td>10282</td><td>77,7</td></tr>",
                            "<tr><td>10462</td><td>78</td></tr>",
                            "<tr><td>10870</td><td>80</td></tr>",
                            "<tr><td>10386</td><td>83</td></tr>",
                            "<tr><td>10391</td><td>86,4</td></tr>",
                            "<tr><td>11067</td><td>86,85</td></tr>",
                            "<tr><td>10445</td><td>87,45</td></tr>",
                            "<tr><td>10460</td><td>88,05</td></tr>",
                            "<tr><td>10331</td><td>88,5</td></tr>",
                            "<tr><td>10539</td><td>88,88</td></tr>",
                            "<tr><td>10708</td><td>90,2</td></tr>",
                            "<tr><td>10476</td><td>90,24</td></tr>",
                            "<tr><td>11013</td><td>90,25</td></tr>",
                            "<tr><td>10495</td><td>92,67</td></tr>",
                            "<tr><td>11065</td><td>94,71</td></tr>",
                            "<tr><td>10793</td><td>95,55</td></tr>",
                            "<tr><td>10725</td><td>95,93</td></tr>",
                            "<tr><td>10778</td><td>96,5</td></tr>",
                            "<tr><td>10973</td><td>97,18</td></tr>",
                            "<tr><td>10867</td><td>98,4</td></tr>",
                            "<tr><td>10520</td><td>100</td></tr>",
                            "<tr><td>10378</td><td>103,2</td></tr>",
                            "<tr><td>10840</td><td>105,6</td></tr>",
                            "<tr><td>10466</td><td>108</td></tr>",
                            "<tr><td>10969</td><td>108</td></tr>",
                            "<tr><td>10907</td><td>108,5</td></tr>",
                            "<tr><td>11003</td><td>108,67</td></tr>",
                            "<tr><td>10531</td><td>110</td></tr>",
                            "<tr><td>10950</td><td>110</td></tr>",
                            "<tr><td>10454</td><td>110,4</td></tr>",
                            "<tr><td>10322</td><td>112</td></tr>",
                            "<tr><td>10381</td><td>112</td></tr>",
                            "<tr><td>10414</td><td>112,41</td></tr>",
                            "<tr><td>10699</td><td>114</td></tr>",
                            "<tr><td>10775</td><td>114</td></tr>",
                            "<tr><td>10473</td><td>115,2</td></tr>",
                            "<tr><td>10604</td><td>115,42</td></tr>",
                            "<tr><td>10517</td><td>117,33</td></tr>",
                            "<tr><td>10467</td><td>117,6</td></tr>",
                            "<tr><td>10832</td><td>118,78</td></tr>",
                            "<tr><td>10822</td><td>118,95</td></tr>",
                            "<tr><td>10508</td><td>120</td></tr>",
                            "<tr><td>10615</td><td>120</td></tr>",
                            "<tr><td>10739</td><td>120</td></tr>",
                            "<tr><td>10548</td><td>120,05</td></tr>",
                            "<tr><td>10318</td><td>120,2</td></tr>",
                            "<tr><td>10295</td><td>121,6</td></tr>",
                            "<tr><td>10899</td><td>122,4</td></tr>",
                            "<tr><td>10945</td><td>122,5</td></tr>",
                            "<tr><td>10662</td><td>125</td></tr>",
                            "<tr><td>10682</td><td>125,17</td></tr>",
                            "<tr><td>10824</td><td>125,4</td></tr>",
                            "<tr><td>10972</td><td>125,75</td></tr>",
                            "<tr><td>10752</td><td>126</td></tr>",
                            "<tr><td>10926</td><td>128,6</td></tr>",
                            "<tr><td>10484</td><td>128,73</td></tr>",
                            "<tr><td>10491</td><td>129,75</td></tr>",
                            "<tr><td>10528</td><td>130,73</td></tr>",
                            "<tr><td>10512</td><td>131,33</td></tr>",
                            "<tr><td>10959</td><td>131,75</td></tr>",
                            "<tr><td>10960</td><td>132,68</td></tr>",
                            "<tr><td>11060</td><td>133</td></tr>",
                            "<tr><td>10792</td><td>133,28</td></tr>",
                            "<tr><td>10311</td><td>134,4</td></tr>",
                            "<tr><td>11025</td><td>135</td></tr>",
                            "<tr><td>10509</td><td>136,8</td></tr>",
                            "<tr><td>11049</td><td>136,8</td></tr>",
                            "<tr><td>10673</td><td>137,45</td></tr>",
                            "<tr><td>10809</td><td>140</td></tr>",
                            "<tr><td>10864</td><td>141</td></tr>",
                            "<tr><td>10609</td><td>141,33</td></tr>",
                            "<tr><td>10349</td><td>141,6</td></tr>",
                            "<tr><td>10585</td><td>142,5</td></tr>",
                            "<tr><td>10358</td><td>143,13</td></tr>",
                            "<tr><td>10321</td><td>144</td></tr>",
                            "<tr><td>10275</td><td>145,92</td></tr>",
                            "<tr><td>10806</td><td>146,53</td></tr>",
                            "<tr><td>10248</td><td>146,67</td></tr>",
                            "<tr><td>10482</td><td>147</td></tr>",
                            "<tr><td>11004</td><td>147,69</td></tr>",
                            "<tr><td>10505</td><td>147,9</td></tr>",
                            "<tr><td>10501</td><td>149</td></tr>",
                            "<tr><td>10363</td><td>149,07</td></tr>",
                            "<tr><td>10881</td><td>150</td></tr>",
                            "<tr><td>11073</td><td>150</td></tr>",
                            "<tr><td>10910</td><td>150,97</td></tr>",
                            "<tr><td>10438</td><td>151,33</td></tr>",
                            "<tr><td>11054</td><td>152,5</td></tr>",
                            "<tr><td>10951</td><td>152,92</td></tr>",
                            "<tr><td>10655</td><td>154,4</td></tr>",
                            "<tr><td>10614</td><td>154,67</td></tr>",
                            "<tr><td>10568</td><td>155</td></tr>",
                            "<tr><td>10534</td><td>155,23</td></tr>",
                            "<tr><td>10794</td><td>157,38</td></tr>",
                            "<tr><td>10579</td><td>158,88</td></tr>",
                            "<tr><td>10843</td><td>159</td></tr>",
                            "<tr><td>10652</td><td>159,42</td></tr>",
                            "<tr><td>10409</td><td>159,6</td></tr>",
                            "<tr><td>10625</td><td>159,92</td></tr>",
                            "<tr><td>10434</td><td>160,56</td></tr>",
                            "<tr><td>10730</td><td>161,42</td></tr>",
                            "<tr><td>11006</td><td>164,84</td></tr>",
                            "<tr><td>10582</td><td>165</td></tr>",
                            "<tr><td>10702</td><td>165</td></tr>",
                            "<tr><td>10291</td><td>165,84</td></tr>",
                            "<tr><td>11075</td><td>166,03</td></tr>",
                            "<tr><td>10306</td><td>166,17</td></tr>",
                            "<tr><td>10310</td><td>168</td></tr>",
                            "<tr><td>10873</td><td>168,4</td></tr>",
                            "<tr><td>10375</td><td>169</td></tr>",
                            "<tr><td>10426</td><td>169,1</td></tr>",
                            "<tr><td>10550</td><td>170,82</td></tr>",
                            "<tr><td>10998</td><td>171,5</td></tr>",
                            "<tr><td>10299</td><td>174,75</td></tr>",
                            "<tr><td>10341</td><td>176,3</td></tr>",
                            "<tr><td>10613</td><td>176,6</td></tr>",
                            "<tr><td>10676</td><td>178,28</td></tr>",
                            "<tr><td>11034</td><td>179,8</td></tr>",
                            "<tr><td>10915</td><td>179,83</td></tr>",
                            "<tr><td>10425</td><td>180</td></tr>",
                            "<tr><td>10940</td><td>180</td></tr>",
                            "<tr><td>10348</td><td>181,8</td></tr>",
                            "<tr><td>10313</td><td>182,4</td></tr>",
                            "<tr><td>10917</td><td>182,94</td></tr>",
                            "<tr><td>10254</td><td>185,54</td></tr>",
                            "<tr><td>10477</td><td>186</td></tr>",
                            "<tr><td>10648</td><td>186,19</td></tr>",
                            "<tr><td>10705</td><td>189</td></tr>",
                            "<tr><td>10621</td><td>189,63</td></tr>",
                            "<tr><td>10577</td><td>189,67</td></tr>",
                            "<tr><td>10496</td><td>190</td></tr>",
                            "<tr><td>10574</td><td>191,07</td></tr>",
                            "<tr><td>10498</td><td>191,67</td></tr>",
                            "<tr><td>10428</td><td>192</td></tr>",
                            "<tr><td>10785</td><td>193,75</td></tr>",
                            "<tr><td>10262</td><td>194,67</td></tr>",
                            "<tr><td>10704</td><td>198,5</td></tr>",
                            "<tr><td>10651</td><td>198,9</td></tr>",
                            "<tr><td>11040</td><td>200</td></tr>",
                            "<tr><td>10654</td><td>200,61</td></tr>",
                            "<tr><td>10697</td><td>201,36</td></tr>",
                            "<tr><td>10656</td><td>201,4</td></tr>",
                            "<tr><td>10493</td><td>202,8</td></tr>",
                            "<tr><td>11042</td><td>202,88</td></tr>",
                            "<tr><td>11062</td><td>203,2</td></tr>",
                            "<tr><td>10347</td><td>203,61</td></tr>",
                            "<tr><td>10879</td><td>203,77</td></tr>",
                            "<tr><td>10453</td><td>203,85</td></tr>",
                            "<tr><td>10280</td><td>204,4</td></tr>",
                            "<tr><td>10763</td><td>205,33</td></tr>",
                            "<tr><td>11009</td><td>205,5</td></tr>",
                            "<tr><td>10935</td><td>206,5</td></tr>",
                            "<tr><td>10506</td><td>207,9</td></tr>",
                            "<tr><td>10668</td><td>208,42</td></tr>",
                            "<tr><td>10367</td><td>208,55</td></tr>",
                            "<tr><td>10544</td><td>208,6</td></tr>",
                            "<tr><td>10850</td><td>209,67</td></tr>",
                            "<tr><td>10276</td><td>210</td></tr>",
                            "<tr><td>10545</td><td>210</td></tr>",
                            "<tr><td>11043</td><td>210</td></tr>",
                            "<tr><td>10435</td><td>210,53</td></tr>",
                            "<tr><td>10307</td><td>212</td></tr>",
                            "<tr><td>10293</td><td>212,18</td></tr>",
                            "<tr><td>10450</td><td>212,56</td></tr>",
                            "<tr><td>10695</td><td>214</td></tr>",
                            "<tr><td>10858</td><td>216,33</td></tr>",
                            "<tr><td>10251</td><td>218,02</td></tr>",
                            "<tr><td>10489</td><td>219,6</td></tr>",
                            "<tr><td>10947</td><td>220</td></tr>",
                            "<tr><td>10863</td><td>220,58</td></tr>",
                            "<tr><td>10394</td><td>221</td></tr>",
                            "<tr><td>10448</td><td>221,7</td></tr>",
                            "<tr><td>10798</td><td>223,3</td></tr>",
                            "<tr><td>10909</td><td>223,33</td></tr>",
                            "<tr><td>10261</td><td>224</td></tr>",
                            "<tr><td>10777</td><td>224</td></tr>",
                            "<tr><td>10970</td><td>224</td></tr>",
                            "<tr><td>10956</td><td>225,67</td></tr>",
                            "<tr><td>10741</td><td>228</td></tr>",
                            "<tr><td>10916</td><td>228,9</td></tr>",
                            "<tr><td>10374</td><td>229,5</td></tr>",
                            "<tr><td>10385</td><td>230,4</td></tr>",
                            "<tr><td>11074</td><td>232,09</td></tr>",
                            "<tr><td>10542</td><td>234,56</td></tr>",
                            "<tr><td>10716</td><td>235,33</td></tr>",
                            "<tr><td>10952</td><td>235,6</td></tr>",
                            "<tr><td>10770</td><td>236,25</td></tr>",
                            "<tr><td>10875</td><td>236,52</td></tr>",
                            "<tr><td>10943</td><td>237</td></tr>",
                            "<tr><td>10925</td><td>237,58</td></tr>",
                            "<tr><td>10578</td><td>238,5</td></tr>",
                            "<tr><td>10819</td><td>238,5</td></tr>",
                            "<tr><td>10597</td><td>239,36</td></tr>",
                            "<tr><td>10289</td><td>239,7</td></tr>",
                            "<tr><td>10600</td><td>239,9</td></tr>",
                            "<tr><td>10355</td><td>240</td></tr>",
                            "<tr><td>10416</td><td>240</td></tr>",
                            "<tr><td>11071</td><td>242,25</td></tr>",
                            "<tr><td>10432</td><td>242,5</td></tr>",
                            "<tr><td>11014</td><td>243,18</td></tr>",
                            "<tr><td>10842</td><td>243,75</td></tr>",
                            "<tr><td>11038</td><td>244,2</td></tr>",
                            "<tr><td>10562</td><td>244,35</td></tr>",
                            "<tr><td>11016</td><td>245,75</td></tr>",
                            "<tr><td>10980</td><td>248</td></tr>",
                            "<tr><td>10923</td><td>249,6</td></tr>",
                            "<tr><td>10761</td><td>253,5</td></tr>",
                            "<tr><td>10913</td><td>256,25</td></tr>",
                            "<tr><td>10444</td><td>257,92</td></tr>",
                            "<tr><td>10592</td><td>258,23</td></tr>",
                            "<tr><td>10315</td><td>258,4</td></tr>",
                            "<tr><td>10443</td><td>258,72</td></tr>",
                            "<tr><td>10256</td><td>258,9</td></tr>",
                            "<tr><td>10860</td><td>259,5</td></tr>",
                            "<tr><td>10559</td><td>260,2</td></tr>",
                            "<tr><td>10958</td><td>260,33</td></tr>",
                            "<tr><td>10500</td><td>261,63</td></tr>",
                            "<tr><td>11076</td><td>264,25</td></tr>",
                            "<tr><td>10387</td><td>264,6</td></tr>",
                            "<tr><td>10837</td><td>266,13</td></tr>",
                            "<tr><td>10927</td><td>266,67</td></tr>",
                            "<tr><td>10685</td><td>267,03</td></tr>",
                            "<tr><td>10623</td><td>267,39</td></tr>",
                            "<tr><td>10735</td><td>268,2</td></tr>",
                            "<tr><td>10587</td><td>269,13</td></tr>",
                            "<tr><td>10274</td><td>269,3</td></tr>",
                            "<tr><td>10611</td><td>269,33</td></tr>",
                            "<tr><td>10439</td><td>269,5</td></tr>",
                            "<tr><td>10591</td><td>270,83</td></tr>",
                            "<tr><td>10643</td><td>271,5</td></tr>",
                            "<tr><td>10502</td><td>272,1</td></tr>",
                            "<tr><td>10287</td><td>273</td></tr>",
                            "<tr><td>10720</td><td>275</td></tr>",
                            "<tr><td>10571</td><td>275,29</td></tr>",
                            "<tr><td>10456</td><td>278,8</td></tr>",
                            "<tr><td>10576</td><td>279,48</td></tr>",
                            "<tr><td>10622</td><td>280</td></tr>",
                            "<tr><td>10661</td><td>281,3</td></tr>",
                            "<tr><td>10719</td><td>281,42</td></tr>",
                            "<tr><td>10594</td><td>282,75</td></tr>",
                            "<tr><td>10811</td><td>284</td></tr>",
                            "<tr><td>10354</td><td>284,4</td></tr>",
                            "<tr><td>10336</td><td>285,12</td></tr>",
                            "<tr><td>10911</td><td>286</td></tr>",
                            "<tr><td>11058</td><td>286</td></tr>",
                            "<tr><td>10890</td><td>286,7</td></tr>",
                            "<tr><td>10379</td><td>287,76</td></tr>",
                            "<tr><td>10317</td><td>288</td></tr>",
                            "<tr><td>10862</td><td>290,5</td></tr>",
                            "<tr><td>10333</td><td>292,4</td></tr>",
                            "<tr><td>10284</td><td>292,59</td></tr>",
                            "<tr><td>11005</td><td>293</td></tr>",
                            "<tr><td>10632</td><td>294,5</td></tr>",
                            "<tr><td>10487</td><td>296,57</td></tr>",
                            "<tr><td>10882</td><td>297,55</td></tr>",
                            "<tr><td>10421</td><td>298,57</td></tr>",
                            "<tr><td>10610</td><td>299,25</td></tr>",
                            "<tr><td>10325</td><td>299,4</td></tr>",
                            "<tr><td>10383</td><td>299,67</td></tr>",
                            "<tr><td>10813</td><td>301,2</td></tr>",
                            "<tr><td>11000</td><td>301,25</td></tr>",
                            "<tr><td>10885</td><td>302,25</td></tr>",
                            "<tr><td>10833</td><td>302,31</td></tr>",
                            "<tr><td>10888</td><td>302,5</td></tr>",
                            "<tr><td>10300</td><td>304</td></tr>",
                            "<tr><td>10447</td><td>304,8</td></tr>",
                            "<tr><td>10671</td><td>306,7</td></tr>",
                            "<tr><td>10553</td><td>309,26</td></tr>",
                            "<tr><td>11066</td><td>309,58</td></tr>",
                            "<tr><td>10581</td><td>310</td></tr>",
                            "<tr><td>10874</td><td>310</td></tr>",
                            "<tr><td>10903</td><td>310,68</td></tr>",
                            "<tr><td>11015</td><td>311,18</td></tr>",
                            "<tr><td>10474</td><td>312,28</td></tr>",
                            "<tr><td>10636</td><td>314,75</td></tr>",
                            "<tr><td>10529</td><td>315,33</td></tr>",
                            "<tr><td>10647</td><td>318</td></tr>",
                            "<tr><td>10304</td><td>318,13</td></tr>",
                            "<tr><td>10939</td><td>318,75</td></tr>",
                            "<tr><td>10469</td><td>318,89</td></tr>",
                            "<tr><td>10743</td><td>319,2</td></tr>",
                            "<tr><td>10724</td><td>319,25</td></tr>",
                            "<tr><td>10565</td><td>319,95</td></tr>",
                            "<tr><td>10759</td><td>320</td></tr>",
                            "<tr><td>10350</td><td>321,03</td></tr>",
                            "<tr><td>10269</td><td>321,1</td></tr>",
                            "<tr><td>10411</td><td>322,27</td></tr>",
                            "<tr><td>10937</td><td>322,4</td></tr>",
                            "<tr><td>11010</td><td>322,5</td></tr>",
                            "<tr><td>10728</td><td>324,19</td></tr>",
                            "<tr><td>10781</td><td>325,29</td></tr>",
                            "<tr><td>10978</td><td>325,8</td></tr>",
                            "<tr><td>10326</td><td>327,33</td></tr>",
                            "<tr><td>10726</td><td>327,5</td></tr>",
                            "<tr><td>10380</td><td>328,45</td></tr>",
                            "<tr><td>10856</td><td>330</td></tr>",
                            "<tr><td>10908</td><td>331,55</td></tr>",
                            "<tr><td>10483</td><td>334,4</td></tr>",
                            "<tr><td>10412</td><td>334,8</td></tr>",
                            "<tr><td>10580</td><td>337,91</td></tr>",
                            "<tr><td>10821</td><td>339</td></tr>",
                            "<tr><td>10944</td><td>341,78</td></tr>",
                            "<tr><td>10905</td><td>342</td></tr>",
                            "<tr><td>10771</td><td>344</td></tr>",
                            "<tr><td>10266</td><td>346,56</td></tr>",
                            "<tr><td>10504</td><td>347,13</td></tr>",
                            "<tr><td>10264</td><td>347,81</td></tr>",
                            "<tr><td>10642</td><td>348</td></tr>",
                            "<tr><td>10296</td><td>350,2</td></tr>",
                            "<tr><td>10279</td><td>351</td></tr>",
                            "<tr><td>10309</td><td>352,4</td></tr>",
                            "<tr><td>10283</td><td>353,7</td></tr>",
                            "<tr><td>10740</td><td>354</td></tr>",
                            "<tr><td>10640</td><td>354,38</td></tr>",
                            "<tr><td>10463</td><td>356,65</td></tr>",
                            "<tr><td>10397</td><td>358,36</td></tr>",
                            "<tr><td>10975</td><td>358,75</td></tr>",
                            "<tr><td>10468</td><td>358,8</td></tr>",
                            "<tr><td>10859</td><td>359,56</td></tr>",
                            "<tr><td>10732</td><td>360</td></tr>",
                            "<tr><td>10749</td><td>360</td></tr>",
                            "<tr><td>10780</td><td>360</td></tr>",
                            "<tr><td>11069</td><td>360</td></tr>",
                            "<tr><td>10983</td><td>360,45</td></tr>",
                            "<tr><td>10790</td><td>361,25</td></tr>",
                            "<tr><td>10646</td><td>361,5</td></tr>",
                            "<tr><td>10537</td><td>364,76</td></tr>",
                            "<tr><td>10826</td><td>365</td></tr>",
                            "<tr><td>10866</td><td>365,4</td></tr>",
                            "<tr><td>10788</td><td>365,75</td></tr>",
                            "<tr><td>10966</td><td>366,15</td></tr>",
                            "<tr><td>10406</td><td>366,16</td></tr>",
                            "<tr><td>10356</td><td>368,8</td></tr>",
                            "<tr><td>10891</td><td>368,93</td></tr>",
                            "<tr><td>10768</td><td>369,25</td></tr>",
                            "<tr><td>10846</td><td>370,67</td></tr>",
                            "<tr><td>10922</td><td>371,25</td></tr>",
                            "<tr><td>10278</td><td>372,2</td></tr>",
                            "<tr><td>10370</td><td>372,53</td></tr>",
                            "<tr><td>10303</td><td>372,6</td></tr>",
                            "<tr><td>10257</td><td>373,3</td></tr>",
                            "<tr><td>10919</td><td>374,27</td></tr>",
                            "<tr><td>10507</td><td>374,53</td></tr>",
                            "<tr><td>10896</td><td>375,25</td></tr>",
                            "<tr><td>10572</td><td>375,27</td></tr>",
                            "<tr><td>10260</td><td>376,16</td></tr>",
                            "<tr><td>10606</td><td>376,8</td></tr>",
                            "<tr><td>10301</td><td>377,5</td></tr>",
                            "<tr><td>10294</td><td>377,52</td></tr>",
                            "<tr><td>10480</td><td>378</td></tr>",
                            "<tr><td>10526</td><td>383,8</td></tr>",
                            "<tr><td>10357</td><td>389,23</td></tr>",
                            "<tr><td>10328</td><td>389,33</td></tr>",
                            "<tr><td>10920</td><td>390</td></tr>",
                            "<tr><td>10929</td><td>391,58</td></tr>",
                            "<tr><td>10722</td><td>392,5</td></tr>",
                            "<tr><td>10437</td><td>393</td></tr>",
                            "<tr><td>10596</td><td>393,63</td></tr>",
                            "<tr><td>10485</td><td>396</td></tr>",
                            "<tr><td>10319</td><td>397,07</td></tr>",
                            "<tr><td>10803</td><td>397,67</td></tr>",
                            "<tr><td>10407</td><td>398</td></tr>",
                            "<tr><td>10532</td><td>398,18</td></tr>",
                            "<tr><td>10376</td><td>399</td></tr>",
                            "<tr><td>10999</td><td>399,32</td></tr>",
                            "<tr><td>10931</td><td>399,6</td></tr>",
                            "<tr><td>10405</td><td>400</td></tr>",
                            "<tr><td>10410</td><td>401</td></tr>",
                            "<tr><td>10464</td><td>402,32</td></tr>",
                            "<tr><td>10365</td><td>403,2</td></tr>",
                            "<tr><td>10312</td><td>403,7</td></tr>",
                            "<tr><td>10677</td><td>406,68</td></tr>",
                            "<tr><td>10273</td><td>407,46</td></tr>",
                            "<tr><td>11070</td><td>407,49</td></tr>",
                            "<tr><td>10869</td><td>407,5</td></tr>",
                            "<tr><td>10751</td><td>407,87</td></tr>",
                            "<tr><td>11047</td><td>408,94</td></tr>",
                            "<tr><td>10659</td><td>409,01</td></tr>",
                            "<tr><td>10525</td><td>409,2</td></tr>",
                            "<tr><td>10388</td><td>409,6</td></tr>",
                            "<tr><td>10700</td><td>409,6</td></tr>",
                            "<tr><td>10536</td><td>411,25</td></tr>",
                            "<tr><td>10564</td><td>411,35</td></tr>",
                            "<tr><td>10839</td><td>413,77</td></tr>",
                            "<tr><td>10954</td><td>414,88</td></tr>",
                            "<tr><td>10818</td><td>416,5</td></tr>",
                            "<tr><td>10797</td><td>420</td></tr>",
                            "<tr><td>10680</td><td>420,63</td></tr>",
                            "<tr><td>10769</td><td>421,07</td></tr>",
                            "<tr><td>10827</td><td>421,5</td></tr>",
                            "<tr><td>10368</td><td>422,44</td></tr>",
                            "<tr><td>10835</td><td>422,9</td></tr>",
                            "<tr><td>10717</td><td>423,58</td></tr>",
                            "<tr><td>10486</td><td>424</td></tr>",
                            "<tr><td>10492</td><td>425,6</td></tr>",
                            "<tr><td>10420</td><td>426,96</td></tr>",
                            "<tr><td>10906</td><td>427,5</td></tr>",
                            "<tr><td>10403</td><td>427,51</td></tr>",
                            "<tr><td>10558</td><td>428,58</td></tr>",
                            "<tr><td>10681</td><td>429,13</td></tr>",
                            "<tr><td>10664</td><td>429,46</td></tr>",
                            "<tr><td>10690</td><td>431,25</td></tr>",
                            "<tr><td>10665</td><td>431,67</td></tr>",
                            "<tr><td>10902</td><td>431,71</td></tr>",
                            "<tr><td>10377</td><td>431,8</td></tr>",
                            "<tr><td>11055</td><td>431,88</td></tr>",
                            "<tr><td>10554</td><td>432,13</td></tr>",
                            "<tr><td>10774</td><td>434,38</td></tr>",
                            "<tr><td>11035</td><td>438,63</td></tr>",
                            "<tr><td>11027</td><td>438,86</td></tr>",
                            "<tr><td>10974</td><td>439</td></tr>",
                            "<tr><td>10552</td><td>440,25</td></tr>",
                            "<tr><td>10829</td><td>441</td></tr>",
                            "<tr><td>10714</td><td>441,15</td></tr>",
                            "<tr><td>10399</td><td>441,4</td></tr>",
                            "<tr><td>10635</td><td>442,08</td></tr>",
                            "<tr><td>10569</td><td>445</td></tr>",
                            "<tr><td>10814</td><td>447,11</td></tr>",
                            "<tr><td>10932</td><td>447,16</td></tr>",
                            "<tr><td>11063</td><td>447,65</td></tr>",
                            "<tr><td>10628</td><td>450</td></tr>",
                            "<tr><td>10989</td><td>451,2</td></tr>",
                            "<tr><td>10630</td><td>451,8</td></tr>",
                            "<tr><td>10327</td><td>452,5</td></tr>",
                            "<tr><td>11002</td><td>452,78</td></tr>",
                            "<tr><td>10418</td><td>453,7</td></tr>",
                            "<tr><td>10967</td><td>455,2</td></tr>",
                            "<tr><td>10936</td><td>456</td></tr>",
                            "<tr><td>10644</td><td>457,27</td></tr>",
                            "<tr><td>10389</td><td>458,2</td></tr>",
                            "<tr><td>10876</td><td>458,5</td></tr>",
                            "<tr><td>10884</td><td>459,36</td></tr>",
                            "<tr><td>10342</td><td>460,16</td></tr>",
                            "<tr><td>10497</td><td>460,2</td></tr>",
                            "<tr><td>10933</td><td>460,3</td></tr>",
                            "<tr><td>10670</td><td>460,35</td></tr>",
                            "<tr><td>10624</td><td>464,41</td></tr>",
                            "<tr><td>10848</td><td>465,75</td></tr>",
                            "<tr><td>10828</td><td>466</td></tr>",
                            "<tr><td>11011</td><td>466,75</td></tr>",
                            "<tr><td>10338</td><td>467,25</td></tr>",
                            "<tr><td>10901</td><td>467,25</td></tr>",
                            "<tr><td>10263</td><td>468,45</td></tr>",
                            "<tr><td>10723</td><td>468,45</td></tr>",
                            "<tr><td>10946</td><td>469,17</td></tr>",
                            "<tr><td>10968</td><td>469,33</td></tr>",
                            "<tr><td>10478</td><td>471,2</td></tr>",
                            "<tr><td>10689</td><td>472,5</td></tr>",
                            "<tr><td>10675</td><td>474,33</td></tr>",
                            "<tr><td>10364</td><td>475</td></tr>",
                            "<tr><td>10747</td><td>478,21</td></tr>",
                            "<tr><td>11031</td><td>478,7</td></tr>",
                            "<tr><td>10253</td><td>481,6</td></tr>",
                            "<tr><td>10563</td><td>482,5</td></tr>",
                            "<tr><td>10849</td><td>483,91</td></tr>",
                            "<tr><td>10535</td><td>485,21</td></tr>",
                            "<tr><td>10272</td><td>485,33</td></tr>",
                            "<tr><td>10733</td><td>486,33</td></tr>",
                            "<tr><td>10541</td><td>486,63</td></tr>",
                            "<tr><td>10755</td><td>487,13</td></tr>",
                            "<tr><td>10800</td><td>489,65</td></tr>",
                            "<tr><td>11024</td><td>491,7</td></tr>",
                            "<tr><td>10599</td><td>493</td></tr>",
                            "<tr><td>10337</td><td>493,4</td></tr>",
                            "<tr><td>10830</td><td>493,5</td></tr>",
                            "<tr><td>11046</td><td>495,27</td></tr>",
                            "<tr><td>10784</td><td>496</td></tr>",
                            "<tr><td>10756</td><td>497,5</td></tr>",
                            "<tr><td>10696</td><td>498</td></tr>",
                            "<tr><td>10736</td><td>498,5</td></tr>",
                            "<tr><td>10436</td><td>498,63</td></tr>",
                            "<tr><td>10734</td><td>499,45</td></tr>",
                            "<tr><td>10639</td><td>500</td></tr>",
                            "<tr><td>10880</td><td>500</td></tr>",
                            "<tr><td>10934</td><td>500</td></tr>",
                            "<tr><td>10626</td><td>501,2</td></tr>",
                            "<tr><td>10475</td><td>501,73</td></tr>",
                            "<tr><td>10465</td><td>503,6</td></tr>",
                            "<tr><td>10982</td><td>507</td></tr>",
                            "<tr><td>10335</td><td>509,04</td></tr>",
                            "<tr><td>10423</td><td>510</td></tr>",
                            "<tr><td>11061</td><td>510</td></tr>",
                            "<tr><td>10786</td><td>510,36</td></tr>",
                            "<tr><td>10393</td><td>511,39</td></tr>",
                            "<tr><td>10461</td><td>512,9</td></tr>",
                            "<tr><td>10872</td><td>514,61</td></tr>",
                            "<tr><td>11026</td><td>515</td></tr>",
                            "<tr><td>10825</td><td>515,38</td></tr>",
                            "<tr><td>10320</td><td>516</td></tr>",
                            "<tr><td>10362</td><td>516,53</td></tr>",
                            "<tr><td>10250</td><td>517,53</td></tr>",
                            "<tr><td>10693</td><td>517,8</td></tr>",
                            "<tr><td>10799</td><td>517,83</td></tr>",
                            "<tr><td>10472</td><td>518,4</td></tr>",
                            "<tr><td>10390</td><td>522,72</td></tr>",
                            "<tr><td>11018</td><td>525</td></tr>",
                            "<tr><td>11048</td><td>525</td></tr>",
                            "<tr><td>10343</td><td>528</td></tr>",
                            "<tr><td>10750</td><td>530,19</td></tr>",
                            "<tr><td>10404</td><td>530,42</td></tr>",
                            "<tr><td>10560</td><td>536,21</td></tr>",
                            "<tr><td>10575</td><td>536,85</td></tr>",
                            "<tr><td>10914</td><td>537,5</td></tr>",
                            "<tr><td>10258</td><td>538,29</td></tr>",
                            "<tr><td>10408</td><td>540,8</td></tr>",
                            "<tr><td>10727</td><td>541,5</td></tr>",
                            "<tr><td>10653</td><td>541,57</td></tr>",
                            "<tr><td>10290</td><td>542,25</td></tr>",
                            "<tr><td>10707</td><td>547</td></tr>",
                            "<tr><td>10758</td><td>548,2</td></tr>",
                            "<tr><td>10590</td><td>550,5</td></tr>",
                            "<tr><td>10268</td><td>550,6</td></tr>",
                            "<tr><td>10459</td><td>553,07</td></tr>",
                            "<tr><td>10986</td><td>555</td></tr>",
                            "<tr><td>10855</td><td>556,97</td></tr>",
                            "<tr><td>10977</td><td>558,25</td></tr>",
                            "<tr><td>10551</td><td>559,1</td></tr>",
                            "<tr><td>10961</td><td>559,95</td></tr>",
                            "<tr><td>10942</td><td>560</td></tr>",
                            "<tr><td>10996</td><td>560</td></tr>",
                            "<tr><td>10930</td><td>563,88</td></tr>",
                            "<tr><td>10812</td><td>564,27</td></tr>",
                            "<tr><td>10669</td><td>570</td></tr>",
                            "<tr><td>10557</td><td>576,25</td></tr>",
                            "<tr><td>10746</td><td>577,93</td></tr>",
                            "<tr><td>10522</td><td>579,56</td></tr>",
                            "<tr><td>10382</td><td>580</td></tr>",
                            "<tr><td>10285</td><td>581,12</td></tr>",
                            "<tr><td>10796</td><td>585,34</td></tr>",
                            "<tr><td>10566</td><td>587</td></tr>",
                            "<tr><td>10957</td><td>587,57</td></tr>",
                            "<tr><td>10265</td><td>588</td></tr>",
                            "<tr><td>10555</td><td>588,88</td></tr>",
                            "<tr><td>10684</td><td>589,33</td></tr>",
                            "<tr><td>11044</td><td>591,6</td></tr>",
                            "<tr><td>10627</td><td>592,88</td></tr>",
                            "<tr><td>10650</td><td>593,07</td></tr>",
                            "<tr><td>10584</td><td>593,75</td></tr>",
                            "<tr><td>10332</td><td>595,63</td></tr>",
                            "<tr><td>10442</td><td>597,33</td></tr>",
                            "<tr><td>10995</td><td>598</td></tr>",
                            "<tr><td>10277</td><td>600,4</td></tr>",
                            "<tr><td>10984</td><td>603,25</td></tr>",
                            "<tr><td>10470</td><td>606,93</td></tr>",
                            "<tr><td>10523</td><td>611,08</td></tr>",
                            "<tr><td>10924</td><td>611,9</td></tr>",
                            "<tr><td>11059</td><td>612,67</td></tr>",
                            "<tr><td>10449</td><td>612,73</td></tr>",
                            "<tr><td>10729</td><td>616,67</td></tr>",
                            "<tr><td>10712</td><td>616,74</td></tr>",
                            "<tr><td>10255</td><td>622,63</td></tr>",
                            "<tr><td>10853</td><td>625</td></tr>",
                            "<tr><td>10997</td><td>628,33</td></tr>",
                            "<tr><td>10619</td><td>630</td></tr>",
                            "<tr><td>10431</td><td>630,75</td></tr>",
                            "<tr><td>10706</td><td>631</td></tr>",
                            "<tr><td>11020</td><td>632,4</td></tr>",
                            "<tr><td>10396</td><td>634,6</td></tr>",
                            "<tr><td>10868</td><td>640,2</td></tr>",
                            "<tr><td>11029</td><td>643,4</td></tr>",
                            "<tr><td>10663</td><td>643,47</td></tr>",
                            "<tr><td>10838</td><td>646,13</td></tr>",
                            "<tr><td>10513</td><td>647,33</td></tr>",
                            "<tr><td>10715</td><td>648</td></tr>",
                            "<tr><td>10851</td><td>650,75</td></tr>",
                            "<tr><td>10427</td><td>651</td></tr>",
                            "<tr><td>11045</td><td>654,75</td></tr>",
                            "<tr><td>10871</td><td>659,74</td></tr>",
                            "<tr><td>10679</td><td>660</td></tr>",
                            "<tr><td>10298</td><td>661,25</td></tr>",
                            "<tr><td>10471</td><td>664</td></tr>",
                            "<tr><td>10593</td><td>664,8</td></tr>",
                            "<tr><td>11052</td><td>666</td></tr>",
                            "<tr><td>10779</td><td>667,5</td></tr>",
                            "<tr><td>10455</td><td>671</td></tr>",
                            "<tr><td>10831</td><td>671,1</td></tr>",
                            "<tr><td>10985</td><td>674,46</td></tr>",
                            "<tr><td>11068</td><td>675,69</td></tr>",
                            "<tr><td>10773</td><td>676,8</td></tr>",
                            "<tr><td>10857</td><td>682,74</td></tr>",
                            "<tr><td>10938</td><td>682,97</td></tr>",
                            "<tr><td>10373</td><td>683,2</td></tr>",
                            "<tr><td>10964</td><td>684,17</td></tr>",
                            "<tr><td>10698</td><td>687,29</td></tr>",
                            "<tr><td>10270</td><td>688</td></tr>",
                            "<tr><td>11001</td><td>692,25</td></tr>",
                            "<tr><td>10573</td><td>694</td></tr>",
                            "<tr><td>10314</td><td>698,1</td></tr>",
                            "<tr><td>11022</td><td>701</td></tr>",
                            "<tr><td>10686</td><td>702,23</td></tr>",
                            "<tr><td>10861</td><td>704,68</td></tr>",
                            "<tr><td>10808</td><td>705,5</td></tr>",
                            "<tr><td>10499</td><td>706</td></tr>",
                            "<tr><td>10823</td><td>706,5</td></tr>",
                            "<tr><td>10713</td><td>706,98</td></tr>",
                            "<tr><td>10395</td><td>707,64</td></tr>",
                            "<tr><td>10413</td><td>707,73</td></tr>",
                            "<tr><td>10297</td><td>710</td></tr>",
                            "<tr><td>10834</td><td>716,36</td></tr>",
                            "<tr><td>10962</td><td>716,8</td></tr>",
                            "<tr><td>10649</td><td>717</td></tr>",
                            "<tr><td>10429</td><td>720,69</td></tr>",
                            "<tr><td>10783</td><td>721,25</td></tr>",
                            "<tr><td>10918</td><td>723,75</td></tr>",
                            "<tr><td>10657</td><td>728,6</td></tr>",
                            "<tr><td>10748</td><td>732</td></tr>",
                            "<tr><td>10844</td><td>735</td></tr>",
                            "<tr><td>10802</td><td>735,7</td></tr>",
                            "<tr><td>10481</td><td>736</td></tr>",
                            "<tr><td>10744</td><td>736</td></tr>",
                            "<tr><td>10533</td><td>740,73</td></tr>",
                            "<tr><td>10603</td><td>741,5</td></tr>",
                            "<tr><td>10583</td><td>745,83</td></tr>",
                            "<tr><td>11023</td><td>750</td></tr>",
                            "<tr><td>10527</td><td>751,5</td></tr>",
                            "<tr><td>10543</td><td>752,25</td></tr>",
                            "<tr><td>10488</td><td>756</td></tr>",
                            "<tr><td>10804</td><td>759,47</td></tr>",
                            "<tr><td>10845</td><td>762,54</td></tr>",
                            "<tr><td>10991</td><td>765,33</td></tr>",
                            "<tr><td>10645</td><td>767,5</td></tr>",
                            "<tr><td>10667</td><td>768,4</td></tr>",
                            "<tr><td>10766</td><td>770</td></tr>",
                            "<tr><td>10757</td><td>770,5</td></tr>",
                            "<tr><td>10519</td><td>771,4</td></tr>",
                            "<tr><td>11039</td><td>772,5</td></tr>",
                            "<tr><td>10458</td><td>778,2</td></tr>",
                            "<tr><td>10948</td><td>787,42</td></tr>",
                            "<tr><td>10516</td><td>793,68</td></tr>",
                            "<tr><td>10524</td><td>798,16</td></tr>",
                            "<tr><td>10979</td><td>802,25</td></tr>",
                            "<tr><td>10346</td><td>809,44</td></tr>",
                            "<tr><td>11050</td><td>810</td></tr>",
                            "<tr><td>10340</td><td>812,06</td></tr>",
                            "<tr><td>10847</td><td>821,99</td></tr>",
                            "<tr><td>10330</td><td>824,5</td></tr>",
                            "<tr><td>10556</td><td>835,2</td></tr>",
                            "<tr><td>10567</td><td>839,67</td></tr>",
                            "<tr><td>11036</td><td>846</td></tr>",
                            "<tr><td>10965</td><td>848</td></tr>",
                            "<tr><td>10703</td><td>848,33</td></tr>",
                            "<tr><td>10511</td><td>850</td></tr>",
                            "<tr><td>10433</td><td>851,2</td></tr>",
                            "<tr><td>10718</td><td>865,75</td></tr>",
                            "<tr><td>11064</td><td>866,08</td></tr>",
                            "<tr><td>11007</td><td>877,97</td></tr>",
                            "<tr><td>10692</td><td>878</td></tr>",
                            "<tr><td>11041</td><td>886,5</td></tr>",
                            "<tr><td>10547</td><td>896,4</td></tr>",
                            "<tr><td>10618</td><td>899,17</td></tr>",
                            "<tr><td>10302</td><td>902,93</td></tr>",
                            "<tr><td>10638</td><td>906,68</td></tr>",
                            "<tr><td>10494</td><td>912</td></tr>",
                            "<tr><td>10976</td><td>912</td></tr>",
                            "<tr><td>10791</td><td>914,88</td></tr>",
                            "<tr><td>10894</td><td>917,7</td></tr>",
                            "<tr><td>10637</td><td>920,65</td></tr>",
                            "<tr><td>10789</td><td>921,75</td></tr>",
                            "<tr><td>10721</td><td>923,88</td></tr>",
                            "<tr><td>10987</td><td>924</td></tr>",
                            "<tr><td>10249</td><td>931,7</td></tr>",
                            "<tr><td>10546</td><td>937,33</td></tr>",
                            "<tr><td>10994</td><td>940,5</td></tr>",
                            "<tr><td>10836</td><td>941,1</td></tr>",
                            "<tr><td>11012</td><td>941,77</td></tr>",
                            "<tr><td>10731</td><td>945,25</td></tr>",
                            "<tr><td>10701</td><td>954,83</td></tr>",
                            "<tr><td>10904</td><td>962,13</td></tr>",
                            "<tr><td>10451</td><td>962,41</td></tr>",
                            "<tr><td>10401</td><td>967,15</td></tr>",
                            "<tr><td>10921</td><td>968</td></tr>",
                            "<tr><td>10760</td><td>972,33</td></tr>",
                            "<tr><td>10345</td><td>974,93</td></tr>",
                            "<tr><td>10877</td><td>977,56</td></tr>",
                            "<tr><td>10852</td><td>994,67</td></tr>",
                            "<tr><td>10941</td><td>1002,94</td></tr>",
                            "<tr><td>10452</td><td>1009,25</td></tr>",
                            "<tr><td>11053</td><td>1018,33</td></tr>",
                            "<tr><td>10400</td><td>1021</td></tr>",
                            "<tr><td>10361</td><td>1023,12</td></tr>",
                            "<tr><td>10503</td><td>1024,25</td></tr>",
                            "<tr><td>10641</td><td>1027</td></tr>",
                            "<tr><td>10605</td><td>1027,42</td></tr>",
                            "<tr><td>10742</td><td>1039,33</td></tr>",
                            "<tr><td>10886</td><td>1042,5</td></tr>",
                            "<tr><td>10530</td><td>1045</td></tr>",
                            "<tr><td>10419</td><td>1048,8</td></tr>",
                            "<tr><td>10688</td><td>1053,53</td></tr>",
                            "<tr><td>10490</td><td>1054,4</td></tr>",
                            "<tr><td>10324</td><td>1055,14</td></tr>",
                            "<tr><td>10608</td><td>1064</td></tr>",
                            "<tr><td>10990</td><td>1072,21</td></tr>",
                            "<tr><td>10795</td><td>1079</td></tr>",
                            "<tr><td>11028</td><td>1080</td></tr>",
                            "<tr><td>10762</td><td>1084,25</td></tr>",
                            "<tr><td>10893</td><td>1100,42</td></tr>",
                            "<tr><td>10949</td><td>1105,5</td></tr>",
                            "<tr><td>10384</td><td>1111,2</td></tr>",
                            "<tr><td>10658</td><td>1116,15</td></tr>",
                            "<tr><td>10339</td><td>1118</td></tr>",
                            "<tr><td>10745</td><td>1132,45</td></tr>",
                            "<tr><td>10820</td><td>1140</td></tr>",
                            "<tr><td>10709</td><td>1141,33</td></tr>",
                            "<tr><td>10601</td><td>1142,5</td></tr>",
                            "<tr><td>10764</td><td>1143</td></tr>",
                            "<tr><td>10329</td><td>1144,61</td></tr>",
                            "<tr><td>10841</td><td>1145,25</td></tr>",
                            "<tr><td>10344</td><td>1148</td></tr>",
                            "<tr><td>10359</td><td>1157,23</td></tr>",
                            "<tr><td>10267</td><td>1178,87</td></tr>",
                            "<tr><td>10549</td><td>1184,76</td></tr>",
                            "<tr><td>10598</td><td>1194,25</td></tr>",
                            "<tr><td>10369</td><td>1195,2</td></tr>",
                            "<tr><td>10252</td><td>1199,3</td></tr>",
                            "<tr><td>10616</td><td>1201,75</td></tr>",
                            "<tr><td>10430</td><td>1224,8</td></tr>",
                            "<tr><td>10440</td><td>1231,03</td></tr>",
                            "<tr><td>10570</td><td>1232,63</td></tr>",
                            "<tr><td>10634</td><td>1246,38</td></tr>",
                            "<tr><td>11056</td><td>1246,67</td></tr>",
                            "<tr><td>10305</td><td>1247,1</td></tr>",
                            "<tr><td>10398</td><td>1252,8</td></tr>",
                            "<tr><td>11021</td><td>1261,25</td></tr>",
                            "<tr><td>10612</td><td>1275</td></tr>",
                            "<tr><td>10607</td><td>1295,08</td></tr>",
                            "<tr><td>10292</td><td>1296</td></tr>",
                            "<tr><td>11072</td><td>1304,5</td></tr>",
                            "<tr><td>10787</td><td>1311,38</td></tr>",
                            "<tr><td>10678</td><td>1314,13</td></tr>",
                            "<tr><td>10351</td><td>1349,68</td></tr>",
                            "<tr><td>10402</td><td>1356,75</td></tr>",
                            "<tr><td>10633</td><td>1377,65</td></tr>",
                            "<tr><td>10518</td><td>1383,35</td></tr>",
                            "<tr><td>10805</td><td>1387,5</td></tr>",
                            "<tr><td>10629</td><td>1387,53</td></tr>",
                            "<tr><td>10617</td><td>1402,5</td></tr>",
                            "<tr><td>10316</td><td>1417,5</td></tr>",
                            "<tr><td>10561</td><td>1422,25</td></tr>",
                            "<tr><td>10392</td><td>1440</td></tr>",
                            "<tr><td>10360</td><td>1478,04</td></tr>",
                            "<tr><td>10854</td><td>1483,25</td></tr>",
                            "<tr><td>10711</td><td>1483,9</td></tr>",
                            "<tr><td>10286</td><td>1508</td></tr>",
                            "<tr><td>10801</td><td>1513,43</td></tr>",
                            "<tr><td>10765</td><td>1515,6</td></tr>",
                            "<tr><td>10878</td><td>1539</td></tr>",
                            "<tr><td>10588</td><td>1560</td></tr>",
                            "<tr><td>11008</td><td>1560,3</td></tr>",
                            "<tr><td>10595</td><td>1575</td></tr>",
                            "<tr><td>10457</td><td>1584</td></tr>",
                            "<tr><td>10895</td><td>1594,85</td></tr>",
                            "<tr><td>10694</td><td>1608,33</td></tr>",
                            "<tr><td>11033</td><td>1616,4</td></tr>",
                            "<tr><td>10687</td><td>1653,63</td></tr>",
                            "<tr><td>10776</td><td>1658,82</td></tr>",
                            "<tr><td>10660</td><td>1701</td></tr>",
                            "<tr><td>10514</td><td>1724,69</td></tr>",
                            "<tr><td>10971</td><td>1733,06</td></tr>",
                            "<tr><td>10441</td><td>1755</td></tr>",
                            "<tr><td>10988</td><td>1787,4</td></tr>",
                            "<tr><td>10772</td><td>1801,61</td></tr>",
                            "<tr><td>10672</td><td>1907,63</td></tr>",
                            "<tr><td>10515</td><td>1984,26</td></tr>",
                            "<tr><td>10691</td><td>2032,96</td></tr>",
                            "<tr><td>10892</td><td>2090</td></tr>",
                            "<tr><td>10953</td><td>2220,63</td></tr>",
                            "<tr><td>11017</td><td>2250</td></tr>",
                            "<tr><td>10372</td><td>2302,72</td></tr>",
                            "<tr><td>10666</td><td>2333,47</td></tr>",
                            "<tr><td>10510</td><td>2353,77</td></tr>",
                            "<tr><td>10993</td><td>2447,72</td></tr>",
                            "<tr><td>10540</td><td>2547,92</td></tr>",
                            "<tr><td>10479</td><td>2623,9</td></tr>",
                            "<tr><td>10817</td><td>2738,21</td></tr>",
                            "<tr><td>10417</td><td>2797,1</td></tr>",
                            "<tr><td>11032</td><td>2967,5</td></tr>",
                            "<tr><td>10424</td><td>3064,85</td></tr>",
                            "<tr><td>10912</td><td>3100,27</td></tr>",
                            "<tr><td>11030</td><td>3153,76</td></tr>",
                            "<tr><td>10816</td><td>4223,23</td></tr>",
                            "<tr><td>10353</td><td>4296,64</td></tr>",
                            "<tr><td>10897</td><td>5417,62</td></tr>",
                            "<tr><td>10889</td><td>5690</td></tr>",
                            "<tr><td>10865</td><td>8193,75</td></tr>",
                            "<tr><td>10981</td><td>15810</td></tr>",
                            "</table>"
                        ]
                    }
                }
            ],
            "execution_count": 1
        }
    ]
}