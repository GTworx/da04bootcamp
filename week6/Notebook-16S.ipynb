{
    "metadata": {
        "kernelspec": {
            "name": "SQL",
            "display_name": "SQL",
            "language": "sql"
        },
        "language_info": {
            "name": "sql",
            "version": ""
        }
    },
    "nbformat_minor": 2,
    "nbformat": 4,
    "cells": [
        {
            "cell_type": "markdown",
            "source": [
                "16\\. En son alışveriş yapılan kanal (last\\_order\\_channel) bazında, her bir kategoriden(interested\\_in\\_categories\\_12) kaç <span style=\"color: var(--vscode-foreground);\">adet alışveriş yapıldığını getiren sorguyu yazınız ve adet sayısına göre büyükten küçüğe doğru sıralayanız.</span>"
            ],
            "metadata": {
                "language": "sql",
                "azdata_cell_guid": "2ca9ddf6-3141-472e-b903-6a619a12104e"
            },
            "attachments": {}
        },
        {
            "cell_type": "code",
            "source": [
                "WITH LastOrderChannelCategories AS (\r\n",
                "    SELECT\r\n",
                "        last_order_channel,\r\n",
                "        interested_in_categories_12,\r\n",
                "        SUM(customer_value_total_ever_online) AS total_purchase_value\r\n",
                "    FROM\r\n",
                "        FLO\r\n",
                "    WHERE\r\n",
                "        last_order_channel IS NOT NULL\r\n",
                "    GROUP BY\r\n",
                "        last_order_channel,\r\n",
                "        interested_in_categories_12\r\n",
                ")\r\n",
                "\r\n",
                "SELECT\r\n",
                "    last_order_channel,\r\n",
                "    interested_in_categories_12,\r\n",
                "    total_purchase_value\r\n",
                "FROM\r\n",
                "    (\r\n",
                "        SELECT\r\n",
                "            last_order_channel,\r\n",
                "            interested_in_categories_12,\r\n",
                "            total_purchase_value,\r\n",
                "            ROW_NUMBER() OVER (PARTITION BY last_order_channel ORDER BY total_purchase_value DESC) AS rn\r\n",
                "        FROM\r\n",
                "            LastOrderChannelCategories\r\n",
                "    ) AS ranked\r\n",
                "WHERE\r\n",
                "    rn = 1;"
            ],
            "metadata": {
                "azdata_cell_guid": "67b19eaf-1b38-4a71-aef7-a1004a7c4875",
                "language": "sql",
                "tags": []
            },
            "outputs": [
                {
                    "output_type": "display_data",
                    "data": {
                        "text/html": "(5 rows affected)"
                    },
                    "metadata": {}
                },
                {
                    "output_type": "display_data",
                    "data": {
                        "text/html": "Total execution time: 00:00:00.092"
                    },
                    "metadata": {}
                },
                {
                    "output_type": "execute_result",
                    "metadata": {},
                    "execution_count": 3,
                    "data": {
                        "application/vnd.dataresource+json": {
                            "schema": {
                                "fields": [
                                    {
                                        "name": "last_order_channel"
                                    },
                                    {
                                        "name": "interested_in_categories_12"
                                    },
                                    {
                                        "name": "total_purchase_value"
                                    }
                                ]
                            },
                            "data": [
                                {
                                    "last_order_channel": "Android App",
                                    "interested_in_categories_12": "[AKTIFSPOR]",
                                    "total_purchase_value": "50517871"
                                },
                                {
                                    "last_order_channel": "Desktop",
                                    "interested_in_categories_12": "[AKTIFSPOR]",
                                    "total_purchase_value": "14637022"
                                },
                                {
                                    "last_order_channel": "Ios App",
                                    "interested_in_categories_12": "[AKTIFSPOR]",
                                    "total_purchase_value": "16197479"
                                },
                                {
                                    "last_order_channel": "Mobile",
                                    "interested_in_categories_12": "[AKTIFSPOR]",
                                    "total_purchase_value": "21007020"
                                },
                                {
                                    "last_order_channel": "Offline",
                                    "interested_in_categories_12": "[AKTIFSPOR]",
                                    "total_purchase_value": "27787637"
                                }
                            ]
                        },
                        "text/html": [
                            "<table>",
                            "<tr><th>last_order_channel</th><th>interested_in_categories_12</th><th>total_purchase_value</th></tr>",
                            "<tr><td>Android App</td><td>[AKTIFSPOR]</td><td>50517871</td></tr>",
                            "<tr><td>Desktop</td><td>[AKTIFSPOR]</td><td>14637022</td></tr>",
                            "<tr><td>Ios App</td><td>[AKTIFSPOR]</td><td>16197479</td></tr>",
                            "<tr><td>Mobile</td><td>[AKTIFSPOR]</td><td>21007020</td></tr>",
                            "<tr><td>Offline</td><td>[AKTIFSPOR]</td><td>27787637</td></tr>",
                            "</table>"
                        ]
                    }
                }
            ],
            "execution_count": 3
        }
    ]
}