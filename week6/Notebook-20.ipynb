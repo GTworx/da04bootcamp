{
    "metadata": {
        "kernelspec": {
            "name": "SQL",
            "display_name": "SQL",
            "language": "sql"
        },
        "language_info": {
            "name": "sql",
            "version": ""
        }
    },
    "nbformat_minor": 2,
    "nbformat": 4,
    "cells": [
        {
            "cell_type": "markdown",
            "source": [
                "20\\. Sadece \\[AKTIFSPOR\\] dan alışveriş yapmış kişilerin Order Channel’larını sağ tarafa kolon olarak ekleyen sorguyu <span style=\"color: var(--vscode-foreground);\">yazınız.</span>"
            ],
            "metadata": {
                "language": "sql",
                "azdata_cell_guid": "d12c831b-8946-4f58-a60d-265dc3764a43"
            },
            "attachments": {}
        },
        {
            "cell_type": "code",
            "source": [
                "SELECT\r\n",
                "    [master_id],\r\n",
                "    MAX(CASE WHEN [order_channel] = 'Online' THEN 'Online' ELSE 'Offline' END) AS [Order_Channel]\r\n",
                "FROM\r\n",
                "    [dbo].[FLO]\r\n",
                "WHERE\r\n",
                "    [interested_in_categories_12] = 'AKTIFSPOR'\r\n",
                "GROUP BY\r\n",
                "    [master_id];\r\n",
                ""
            ],
            "metadata": {
                "azdata_cell_guid": "98365744-8888-4f41-a017-983f227b385f",
                "language": "sql"
            },
            "outputs": [
                {
                    "output_type": "display_data",
                    "data": {
                        "text/html": "(0 rows affected)"
                    },
                    "metadata": {}
                },
                {
                    "output_type": "display_data",
                    "data": {
                        "text/html": "Total execution time: 00:00:00.044"
                    },
                    "metadata": {}
                },
                {
                    "output_type": "execute_result",
                    "metadata": {},
                    "execution_count": 5,
                    "data": {
                        "application/vnd.dataresource+json": {
                            "schema": {
                                "fields": [
                                    {
                                        "name": "master_id"
                                    },
                                    {
                                        "name": "Order_Channel"
                                    }
                                ]
                            },
                            "data": []
                        },
                        "text/html": [
                            "<table>",
                            "<tr><th>master_id</th><th>Order_Channel</th></tr>",
                            "</table>"
                        ]
                    }
                }
            ],
            "execution_count": 5
        }
    ]
}