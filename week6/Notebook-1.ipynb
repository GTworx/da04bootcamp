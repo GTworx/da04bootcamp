{
    "metadata": {
        "kernelspec": {
            "name": "SQL",
            "display_name": "SQL",
            "language": "sql"
        },
        "language_info": {
            "name": "sql",
            "version": ""
        }
    },
    "nbformat_minor": 2,
    "nbformat": 4,
    "cells": [
        {
            "cell_type": "markdown",
            "source": [
                "1\\. FLO tablosunu getirecek sorguyu yazınız."
            ],
            "metadata": {
                "azdata_cell_guid": "735b0b36-17ac-45c3-9229-b229a2845027"
            },
            "attachments": {}
        },
        {
            "cell_type": "code",
            "source": [
                "select top 10 * from FLO"
            ],
            "metadata": {
                "azdata_cell_guid": "ca41791d-f3b2-4b79-9083-e28ef544cf0c",
                "language": "sql"
            },
            "outputs": [
                {
                    "output_type": "display_data",
                    "data": {
                        "text/html": "(10 rows affected)"
                    },
                    "metadata": {}
                },
                {
                    "output_type": "display_data",
                    "data": {
                        "text/html": "Total execution time: 00:00:00.040"
                    },
                    "metadata": {}
                },
                {
                    "output_type": "execute_result",
                    "metadata": {},
                    "execution_count": 1,
                    "data": {
                        "application/vnd.dataresource+json": {
                            "schema": {
                                "fields": [
                                    {
                                        "name": "master_id"
                                    },
                                    {
                                        "name": "order_channel"
                                    },
                                    {
                                        "name": "last_order_channel"
                                    },
                                    {
                                        "name": "first_order_date"
                                    },
                                    {
                                        "name": "last_order_date"
                                    },
                                    {
                                        "name": "last_order_date_online"
                                    },
                                    {
                                        "name": "last_order_date_offline"
                                    },
                                    {
                                        "name": "order_num_total_ever_online"
                                    },
                                    {
                                        "name": "order_num_total_ever_offline"
                                    },
                                    {
                                        "name": "customer_value_total_ever_offline"
                                    },
                                    {
                                        "name": "customer_value_total_ever_online"
                                    },
                                    {
                                        "name": "interested_in_categories_12"
                                    }
                                ]
                            },
                            "data": [
                                {
                                    "master_id": "cc294636-19f0-11eb-8d74-000d3a38a36f",
                                    "order_channel": "Android App",
                                    "last_order_channel": "Offline",
                                    "first_order_date": "2020-10-30",
                                    "last_order_date": "2021-02-26",
                                    "last_order_date_online": "2021-02-21",
                                    "last_order_date_offline": "2021-02-26",
                                    "order_num_total_ever_online": "40",
                                    "order_num_total_ever_offline": "10",
                                    "customer_value_total_ever_offline": "13999",
                                    "customer_value_total_ever_online": "79938",
                                    "interested_in_categories_12": "[KADIN]"
                                },
                                {
                                    "master_id": "f431bd5a-ab7b-11e9-a2fc-000d3a38a36f",
                                    "order_channel": "Android App",
                                    "last_order_channel": "Mobile",
                                    "first_order_date": "2017-02-08",
                                    "last_order_date": "2021-02-16",
                                    "last_order_date_online": "2021-02-16",
                                    "last_order_date_offline": "2020-01-10",
                                    "order_num_total_ever_online": "190",
                                    "order_num_total_ever_offline": "20",
                                    "customer_value_total_ever_offline": "15997",
                                    "customer_value_total_ever_online": "185358",
                                    "interested_in_categories_12": "[ERKEK, COCUK, KADIN, AKTIFSPOR]"
                                },
                                {
                                    "master_id": "69b69676-1a40-11ea-941b-000d3a38a36f",
                                    "order_channel": "Android App",
                                    "last_order_channel": "Android App",
                                    "first_order_date": "2019-11-27",
                                    "last_order_date": "2020-11-27",
                                    "last_order_date_online": "2020-11-27",
                                    "last_order_date_offline": "2019-12-01",
                                    "order_num_total_ever_online": "30",
                                    "order_num_total_ever_offline": "20",
                                    "customer_value_total_ever_offline": "18997",
                                    "customer_value_total_ever_online": "39535",
                                    "interested_in_categories_12": "[ERKEK, KADIN]"
                                },
                                {
                                    "master_id": "1854e56c-491f-11eb-806e-000d3a38a36f",
                                    "order_channel": "Android App",
                                    "last_order_channel": "Android App",
                                    "first_order_date": "2021-01-06",
                                    "last_order_date": "2021-01-17",
                                    "last_order_date_online": "2021-01-17",
                                    "last_order_date_offline": "2021-01-06",
                                    "order_num_total_ever_online": "10",
                                    "order_num_total_ever_offline": "10",
                                    "customer_value_total_ever_offline": "3999",
                                    "customer_value_total_ever_online": "8198",
                                    "interested_in_categories_12": "[AKTIFCOCUK, COCUK]"
                                },
                                {
                                    "master_id": "d6ea1074-f1f5-11e9-9346-000d3a38a36f",
                                    "order_channel": "Desktop",
                                    "last_order_channel": "Desktop",
                                    "first_order_date": "2019-08-03",
                                    "last_order_date": "2021-03-07",
                                    "last_order_date_online": "2021-03-07",
                                    "last_order_date_offline": "2019-08-03",
                                    "order_num_total_ever_online": "10",
                                    "order_num_total_ever_offline": "10",
                                    "customer_value_total_ever_offline": "4999",
                                    "customer_value_total_ever_online": "15999",
                                    "interested_in_categories_12": "[AKTIFSPOR]"
                                },
                                {
                                    "master_id": "e585280e-aae1-11e9-a2fc-000d3a38a36f",
                                    "order_channel": "Desktop",
                                    "last_order_channel": "Offline",
                                    "first_order_date": "2018-11-18",
                                    "last_order_date": "2021-03-13",
                                    "last_order_date_online": "2018-11-18",
                                    "last_order_date_offline": "2021-03-13",
                                    "order_num_total_ever_online": "10",
                                    "order_num_total_ever_offline": "20",
                                    "customer_value_total_ever_offline": "15087",
                                    "customer_value_total_ever_online": "4999",
                                    "interested_in_categories_12": "[KADIN]"
                                },
                                {
                                    "master_id": "c445e4ee-6242-11ea-9d1a-000d3a38a36f",
                                    "order_channel": "Android App",
                                    "last_order_channel": "Android App",
                                    "first_order_date": "2020-03-04",
                                    "last_order_date": "2020-10-18",
                                    "last_order_date_online": "2020-10-18",
                                    "last_order_date_offline": "2020-03-04",
                                    "order_num_total_ever_online": "30",
                                    "order_num_total_ever_offline": "10",
                                    "customer_value_total_ever_offline": "5999",
                                    "customer_value_total_ever_online": "31594",
                                    "interested_in_categories_12": "[AKTIFSPOR]"
                                },
                                {
                                    "master_id": "3f1b4dc8-8a7d-11ea-8ec0-000d3a38a36f",
                                    "order_channel": "Mobile",
                                    "last_order_channel": "Offline",
                                    "first_order_date": "2020-05-15",
                                    "last_order_date": "2020-08-12",
                                    "last_order_date_online": "2020-05-15",
                                    "last_order_date_offline": "2020-08-12",
                                    "order_num_total_ever_online": "10",
                                    "order_num_total_ever_offline": "10",
                                    "customer_value_total_ever_offline": "4999",
                                    "customer_value_total_ever_online": "11364",
                                    "interested_in_categories_12": "[COCUK]"
                                },
                                {
                                    "master_id": "cfbda69e-5b4f-11ea-aca7-000d3a38a36f",
                                    "order_channel": "Android App",
                                    "last_order_channel": "Android App",
                                    "first_order_date": "2020-01-23",
                                    "last_order_date": "2021-03-07",
                                    "last_order_date_online": "2021-03-07",
                                    "last_order_date_offline": "2020-01-25",
                                    "order_num_total_ever_online": "30",
                                    "order_num_total_ever_offline": "20",
                                    "customer_value_total_ever_offline": "12048",
                                    "customer_value_total_ever_online": "93421",
                                    "interested_in_categories_12": "[ERKEK, COCUK, KADIN]"
                                },
                                {
                                    "master_id": "1143f032-440d-11ea-8b43-000d3a38a36f",
                                    "order_channel": "Mobile",
                                    "last_order_channel": "Mobile",
                                    "first_order_date": "2019-07-30",
                                    "last_order_date": "2020-10-04",
                                    "last_order_date_online": "2020-10-04",
                                    "last_order_date_offline": "2019-07-30",
                                    "order_num_total_ever_online": "10",
                                    "order_num_total_ever_offline": "10",
                                    "customer_value_total_ever_offline": "6998",
                                    "customer_value_total_ever_online": "9598",
                                    "interested_in_categories_12": "[KADIN, AKTIFSPOR]"
                                }
                            ]
                        },
                        "text/html": [
                            "<table>",
                            "<tr><th>master_id</th><th>order_channel</th><th>last_order_channel</th><th>first_order_date</th><th>last_order_date</th><th>last_order_date_online</th><th>last_order_date_offline</th><th>order_num_total_ever_online</th><th>order_num_total_ever_offline</th><th>customer_value_total_ever_offline</th><th>customer_value_total_ever_online</th><th>interested_in_categories_12</th></tr>",
                            "<tr><td>cc294636-19f0-11eb-8d74-000d3a38a36f</td><td>Android App</td><td>Offline</td><td>2020-10-30</td><td>2021-02-26</td><td>2021-02-21</td><td>2021-02-26</td><td>40</td><td>10</td><td>13999</td><td>79938</td><td>[KADIN]</td></tr>",
                            "<tr><td>f431bd5a-ab7b-11e9-a2fc-000d3a38a36f</td><td>Android App</td><td>Mobile</td><td>2017-02-08</td><td>2021-02-16</td><td>2021-02-16</td><td>2020-01-10</td><td>190</td><td>20</td><td>15997</td><td>185358</td><td>[ERKEK, COCUK, KADIN, AKTIFSPOR]</td></tr>",
                            "<tr><td>69b69676-1a40-11ea-941b-000d3a38a36f</td><td>Android App</td><td>Android App</td><td>2019-11-27</td><td>2020-11-27</td><td>2020-11-27</td><td>2019-12-01</td><td>30</td><td>20</td><td>18997</td><td>39535</td><td>[ERKEK, KADIN]</td></tr>",
                            "<tr><td>1854e56c-491f-11eb-806e-000d3a38a36f</td><td>Android App</td><td>Android App</td><td>2021-01-06</td><td>2021-01-17</td><td>2021-01-17</td><td>2021-01-06</td><td>10</td><td>10</td><td>3999</td><td>8198</td><td>[AKTIFCOCUK, COCUK]</td></tr>",
                            "<tr><td>d6ea1074-f1f5-11e9-9346-000d3a38a36f</td><td>Desktop</td><td>Desktop</td><td>2019-08-03</td><td>2021-03-07</td><td>2021-03-07</td><td>2019-08-03</td><td>10</td><td>10</td><td>4999</td><td>15999</td><td>[AKTIFSPOR]</td></tr>",
                            "<tr><td>e585280e-aae1-11e9-a2fc-000d3a38a36f</td><td>Desktop</td><td>Offline</td><td>2018-11-18</td><td>2021-03-13</td><td>2018-11-18</td><td>2021-03-13</td><td>10</td><td>20</td><td>15087</td><td>4999</td><td>[KADIN]</td></tr>",
                            "<tr><td>c445e4ee-6242-11ea-9d1a-000d3a38a36f</td><td>Android App</td><td>Android App</td><td>2020-03-04</td><td>2020-10-18</td><td>2020-10-18</td><td>2020-03-04</td><td>30</td><td>10</td><td>5999</td><td>31594</td><td>[AKTIFSPOR]</td></tr>",
                            "<tr><td>3f1b4dc8-8a7d-11ea-8ec0-000d3a38a36f</td><td>Mobile</td><td>Offline</td><td>2020-05-15</td><td>2020-08-12</td><td>2020-05-15</td><td>2020-08-12</td><td>10</td><td>10</td><td>4999</td><td>11364</td><td>[COCUK]</td></tr>",
                            "<tr><td>cfbda69e-5b4f-11ea-aca7-000d3a38a36f</td><td>Android App</td><td>Android App</td><td>2020-01-23</td><td>2021-03-07</td><td>2021-03-07</td><td>2020-01-25</td><td>30</td><td>20</td><td>12048</td><td>93421</td><td>[ERKEK, COCUK, KADIN]</td></tr>",
                            "<tr><td>1143f032-440d-11ea-8b43-000d3a38a36f</td><td>Mobile</td><td>Mobile</td><td>2019-07-30</td><td>2020-10-04</td><td>2020-10-04</td><td>2019-07-30</td><td>10</td><td>10</td><td>6998</td><td>9598</td><td>[KADIN, AKTIFSPOR]</td></tr>",
                            "</table>"
                        ]
                    }
                }
            ],
            "execution_count": 1
        }
    ]
}