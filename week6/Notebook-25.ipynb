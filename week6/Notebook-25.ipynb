{
    "metadata": {
        "kernelspec": {
            "name": "SQL",
            "display_name": "SQL",
            "language": "sql"
        },
        "language_info": {
            "name": "sql",
            "version": ""
        }
    },
    "nbformat_minor": 2,
    "nbformat": 4,
    "cells": [
        {
            "cell_type": "markdown",
            "source": [
                "25\\. Onlinedaki en çok siparişin olduğu ayı ve bu aydaki toplam siparişi(ciro) getiren sorguyu yazınız."
            ],
            "metadata": {
                "azdata_cell_guid": "9bdafebc-2336-4122-8ada-aa1f27bf8ade"
            },
            "attachments": {}
        },
        {
            "cell_type": "code",
            "source": [
                "SELECT TOP 10\r\n",
                "    MONTH(last_order_date_online) AS MostOrdersMonth,\r\n",
                "    SUM(order_num_total_ever_online) AS TotalRevenue\r\n",
                "FROM\r\n",
                "    [dbo].[FLO]\r\n",
                "WHERE\r\n",
                "    last_order_date_online IS NOT NULL\r\n",
                "GROUP BY\r\n",
                "    MONTH(last_order_date_online)\r\n",
                "ORDER BY\r\n",
                "    TotalRevenue DESC;\r\n",
                ""
            ],
            "metadata": {
                "azdata_cell_guid": "a735565e-4803-4dd4-b49a-79960044a15f",
                "language": "sql"
            },
            "outputs": [
                {
                    "output_type": "display_data",
                    "data": {
                        "text/html": "(10 rows affected)"
                    },
                    "metadata": {}
                },
                {
                    "output_type": "display_data",
                    "data": {
                        "text/html": "Total execution time: 00:00:00.096"
                    },
                    "metadata": {}
                },
                {
                    "output_type": "execute_result",
                    "metadata": {},
                    "execution_count": 4,
                    "data": {
                        "application/vnd.dataresource+json": {
                            "schema": {
                                "fields": [
                                    {
                                        "name": "MostOrdersMonth"
                                    },
                                    {
                                        "name": "TotalRevenue"
                                    }
                                ]
                            },
                            "data": [
                                {
                                    "MostOrdersMonth": "5",
                                    "TotalRevenue": "151230"
                                },
                                {
                                    "MostOrdersMonth": "4",
                                    "TotalRevenue": "88400"
                                },
                                {
                                    "MostOrdersMonth": "11",
                                    "TotalRevenue": "58940"
                                },
                                {
                                    "MostOrdersMonth": "3",
                                    "TotalRevenue": "58570"
                                },
                                {
                                    "MostOrdersMonth": "2",
                                    "TotalRevenue": "51140"
                                },
                                {
                                    "MostOrdersMonth": "1",
                                    "TotalRevenue": "50670"
                                },
                                {
                                    "MostOrdersMonth": "12",
                                    "TotalRevenue": "41950"
                                },
                                {
                                    "MostOrdersMonth": "10",
                                    "TotalRevenue": "30590"
                                },
                                {
                                    "MostOrdersMonth": "6",
                                    "TotalRevenue": "29730"
                                },
                                {
                                    "MostOrdersMonth": "9",
                                    "TotalRevenue": "25900"
                                }
                            ]
                        },
                        "text/html": [
                            "<table>",
                            "<tr><th>MostOrdersMonth</th><th>TotalRevenue</th></tr>",
                            "<tr><td>5</td><td>151230</td></tr>",
                            "<tr><td>4</td><td>88400</td></tr>",
                            "<tr><td>11</td><td>58940</td></tr>",
                            "<tr><td>3</td><td>58570</td></tr>",
                            "<tr><td>2</td><td>51140</td></tr>",
                            "<tr><td>1</td><td>50670</td></tr>",
                            "<tr><td>12</td><td>41950</td></tr>",
                            "<tr><td>10</td><td>30590</td></tr>",
                            "<tr><td>6</td><td>29730</td></tr>",
                            "<tr><td>9</td><td>25900</td></tr>",
                            "</table>"
                        ]
                    }
                }
            ],
            "execution_count": 4
        }
    ]
}