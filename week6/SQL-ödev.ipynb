{
    "metadata": {
        "kernelspec": {
            "name": "SQL",
            "display_name": "SQL",
            "language": "sql"
        },
        "language_info": {
            "name": "sql",
            "version": ""
        }
    },
    "nbformat_minor": 2,
    "nbformat": 4,
    "cells": [
        {
            "cell_type": "markdown",
            "source": [
                "1\\. FLO tablosunu getirecek sorguyu yazınız."
            ],
            "metadata": {
                "azdata_cell_guid": "fee1daa1-5c70-4854-aaec-54442d031c1a"
            },
            "attachments": {}
        },
        {
            "cell_type": "code",
            "source": [
                "select top 10 * from FLO"
            ],
            "metadata": {
                "azdata_cell_guid": "1ef42284-323a-44e8-8df7-29f156c6e12d",
                "language": "sql"
            },
            "outputs": [
                {
                    "output_type": "error",
                    "evalue": "Msg 208, Level 16, State 1, Line 1\r\nInvalid object name 'FLO'.",
                    "ename": "",
                    "traceback": []
                },
                {
                    "output_type": "display_data",
                    "data": {
                        "text/html": "Total execution time: 00:00:00.045"
                    },
                    "metadata": {}
                }
            ],
            "execution_count": 1
        },
        {
            "cell_type": "markdown",
            "source": [
                "2\\. Kaç farklı müşterinin alışveriş yaptığını gösterecek sorguyu yazınız."
            ],
            "metadata": {
                "language": "sql",
                "azdata_cell_guid": "534d0a28-c9e1-4fa2-b77e-c230c9c06a17"
            },
            "attachments": {}
        },
        {
            "cell_type": "code",
            "source": [
                ""
            ],
            "metadata": {
                "language": "sql",
                "azdata_cell_guid": "1d0039e7-66bc-41f0-b16e-523e47caa791"
            },
            "outputs": [],
            "execution_count": null
        }
    ]
}