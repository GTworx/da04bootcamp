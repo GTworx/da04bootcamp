{
    "metadata": {
        "kernelspec": {
            "name": "SQL",
            "display_name": "SQL",
            "language": "sql"
        },
        "language_info": {
            "name": "sql",
            "version": ""
        }
    },
    "nbformat_minor": 2,
    "nbformat": 4,
    "cells": [
        {
            "cell_type": "markdown",
            "source": [
                "12\\. FLO tablosundan alışveriş yapılan platforma ait sipariş kanalı ‘Mobile‘ olan, online ve offline alışveriş yapan <span style=\"color: var(--vscode-foreground);\">müşterilerin toplam cirolarını getiren sorguyu yazınız.</span>"
            ],
            "metadata": {
                "language": "sql",
                "azdata_cell_guid": "c9206f11-5706-4cb2-91e5-7df7ff2a0af6"
            },
            "attachments": {}
        },
        {
            "cell_type": "code",
            "source": [
                "SELECT\r\n",
                "    SUM(customer_value_total_ever_online) AS total_revenue_mobile\r\n",
                "FROM\r\n",
                "    FLO\r\n",
                "WHERE\r\n",
                "    order_channel = 'Mobile';"
            ],
            "metadata": {
                "azdata_cell_guid": "1c7004dd-178f-47c9-8924-f042f63c0aec",
                "language": "sql"
            },
            "outputs": [
                {
                    "output_type": "display_data",
                    "data": {
                        "text/html": "(1 row affected)"
                    },
                    "metadata": {}
                },
                {
                    "output_type": "display_data",
                    "data": {
                        "text/html": "Total execution time: 00:00:00.059"
                    },
                    "metadata": {}
                },
                {
                    "output_type": "execute_result",
                    "metadata": {},
                    "execution_count": 1,
                    "data": {
                        "application/vnd.dataresource+json": {
                            "schema": {
                                "fields": [
                                    {
                                        "name": "total_revenue_mobile"
                                    }
                                ]
                            },
                            "data": [
                                {
                                    "total_revenue_mobile": "162716782"
                                }
                            ]
                        },
                        "text/html": [
                            "<table>",
                            "<tr><th>total_revenue_mobile</th></tr>",
                            "<tr><td>162716782</td></tr>",
                            "</table>"
                        ]
                    }
                }
            ],
            "execution_count": 1
        }
    ]
}