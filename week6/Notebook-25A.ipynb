{
    "metadata": {
        "kernelspec": {
            "name": "SQL",
            "display_name": "SQL",
            "language": "sql"
        },
        "language_info": {
            "name": "sql",
            "version": ""
        }
    },
    "nbformat_minor": 2,
    "nbformat": 4,
    "cells": [
        {
            "cell_type": "markdown",
            "source": [
                "25\\. Onlinedaki en çok siparişin olduğu ayı ve bu aydaki toplam siparişi(ciro) getiren sorguyu yazınız."
            ],
            "metadata": {
                "azdata_cell_guid": "e5e822fd-cb98-4a8f-9110-d299ad056d2e"
            },
            "attachments": {}
        },
        {
            "cell_type": "code",
            "source": [
                "SELECT TOP 10\r\n",
                "    YEAR(first_order_date) as YEAR,\r\n",
                "    MONTH(first_order_date) AS Month,\r\n",
                "    SUM(customer_value_total_ever_online) AS TotalRevenue\r\n",
                "FROM\r\n",
                "    [dbo].[FLO]\r\n",
                "WHERE\r\n",
                "    first_order_date IS NOT NULL\r\n",
                "GROUP BY\r\n",
                "    YEAR(first_order_date), MONTH(first_order_date)\r\n",
                "ORDER BY\r\n",
                "    TotalRevenue DESC;"
            ],
            "metadata": {
                "azdata_cell_guid": "16855fd2-f0c0-4802-b609-7a45f0bce6b4",
                "language": "sql"
            },
            "outputs": [
                {
                    "output_type": "display_data",
                    "data": {
                        "text/html": "(10 rows affected)"
                    },
                    "metadata": {}
                },
                {
                    "output_type": "display_data",
                    "data": {
                        "text/html": "Total execution time: 00:00:00.074"
                    },
                    "metadata": {}
                },
                {
                    "output_type": "execute_result",
                    "metadata": {},
                    "execution_count": 2,
                    "data": {
                        "application/vnd.dataresource+json": {
                            "schema": {
                                "fields": [
                                    {
                                        "name": "YEAR"
                                    },
                                    {
                                        "name": "Month"
                                    },
                                    {
                                        "name": "TotalRevenue"
                                    }
                                ]
                            },
                            "data": [
                                {
                                    "YEAR": "2019",
                                    "Month": "3",
                                    "TotalRevenue": "48583545"
                                },
                                {
                                    "YEAR": "2019",
                                    "Month": "9",
                                    "TotalRevenue": "48400446"
                                },
                                {
                                    "YEAR": "2019",
                                    "Month": "11",
                                    "TotalRevenue": "46206997"
                                },
                                {
                                    "YEAR": "2019",
                                    "Month": "8",
                                    "TotalRevenue": "42972266"
                                },
                                {
                                    "YEAR": "2019",
                                    "Month": "10",
                                    "TotalRevenue": "41528941"
                                },
                                {
                                    "YEAR": "2019",
                                    "Month": "7",
                                    "TotalRevenue": "39476509"
                                },
                                {
                                    "YEAR": "2019",
                                    "Month": "2",
                                    "TotalRevenue": "38077303"
                                },
                                {
                                    "YEAR": "2019",
                                    "Month": "4",
                                    "TotalRevenue": "36123088"
                                },
                                {
                                    "YEAR": "2019",
                                    "Month": "12",
                                    "TotalRevenue": "35164079"
                                },
                                {
                                    "YEAR": "2020",
                                    "Month": "1",
                                    "TotalRevenue": "25637451"
                                }
                            ]
                        },
                        "text/html": [
                            "<table>",
                            "<tr><th>YEAR</th><th>Month</th><th>TotalRevenue</th></tr>",
                            "<tr><td>2019</td><td>3</td><td>48583545</td></tr>",
                            "<tr><td>2019</td><td>9</td><td>48400446</td></tr>",
                            "<tr><td>2019</td><td>11</td><td>46206997</td></tr>",
                            "<tr><td>2019</td><td>8</td><td>42972266</td></tr>",
                            "<tr><td>2019</td><td>10</td><td>41528941</td></tr>",
                            "<tr><td>2019</td><td>7</td><td>39476509</td></tr>",
                            "<tr><td>2019</td><td>2</td><td>38077303</td></tr>",
                            "<tr><td>2019</td><td>4</td><td>36123088</td></tr>",
                            "<tr><td>2019</td><td>12</td><td>35164079</td></tr>",
                            "<tr><td>2020</td><td>1</td><td>25637451</td></tr>",
                            "</table>"
                        ]
                    }
                }
            ],
            "execution_count": 2
        }
    ]
}