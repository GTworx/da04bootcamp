{
    "metadata": {
        "kernelspec": {
            "name": "SQL",
            "display_name": "SQL",
            "language": "sql"
        },
        "language_info": {
            "name": "sql",
            "version": ""
        }
    },
    "nbformat_minor": 2,
    "nbformat": 4,
    "cells": [
        {
            "cell_type": "markdown",
            "source": [
                "22\\. 2018/2019 yılları arasında arası her ay yeni gelen müşteri sayısını yıl ve ay kolonları ile birlikte getiren sorguyu <span style=\"color: var(--vscode-foreground);\">yazınız.</span>"
            ],
            "metadata": {
                "azdata_cell_guid": "27c3a07f-3599-4c85-a7bf-60b65d3739ec"
            },
            "attachments": {}
        },
        {
            "cell_type": "code",
            "source": [
                "SELECT\r\n",
                "    YEAR(EOMONTH(first_order_date)) AS order_year,\r\n",
                "    MONTH(EOMONTH(first_order_date)) AS order_month,\r\n",
                "    COUNT(DISTINCT master_id) AS new_customer_count\r\n",
                "FROM\r\n",
                "    FLO\r\n",
                "WHERE\r\n",
                "    first_order_date BETWEEN '2018-01-01' AND '2019-12-31'\r\n",
                "GROUP BY\r\n",
                "    YEAR(EOMONTH(first_order_date)),\r\n",
                "    MONTH(EOMONTH(first_order_date))\r\n",
                "ORDER BY\r\n",
                "    order_year,\r\n",
                "    order_month;"
            ],
            "metadata": {
                "azdata_cell_guid": "5085c782-e486-477f-a460-92a26b887689",
                "language": "sql"
            },
            "outputs": [
                {
                    "output_type": "display_data",
                    "data": {
                        "text/html": "(24 rows affected)"
                    },
                    "metadata": {}
                },
                {
                    "output_type": "display_data",
                    "data": {
                        "text/html": "Total execution time: 00:00:00.096"
                    },
                    "metadata": {}
                },
                {
                    "output_type": "execute_result",
                    "metadata": {},
                    "execution_count": 2,
                    "data": {
                        "application/vnd.dataresource+json": {
                            "schema": {
                                "fields": [
                                    {
                                        "name": "order_year"
                                    },
                                    {
                                        "name": "order_month"
                                    },
                                    {
                                        "name": "new_customer_count"
                                    }
                                ]
                            },
                            "data": [
                                {
                                    "order_year": "2018",
                                    "order_month": "1",
                                    "new_customer_count": "90"
                                },
                                {
                                    "order_year": "2018",
                                    "order_month": "2",
                                    "new_customer_count": "94"
                                },
                                {
                                    "order_year": "2018",
                                    "order_month": "3",
                                    "new_customer_count": "109"
                                },
                                {
                                    "order_year": "2018",
                                    "order_month": "4",
                                    "new_customer_count": "124"
                                },
                                {
                                    "order_year": "2018",
                                    "order_month": "5",
                                    "new_customer_count": "159"
                                },
                                {
                                    "order_year": "2018",
                                    "order_month": "6",
                                    "new_customer_count": "165"
                                },
                                {
                                    "order_year": "2018",
                                    "order_month": "7",
                                    "new_customer_count": "80"
                                },
                                {
                                    "order_year": "2018",
                                    "order_month": "8",
                                    "new_customer_count": "71"
                                },
                                {
                                    "order_year": "2018",
                                    "order_month": "9",
                                    "new_customer_count": "103"
                                },
                                {
                                    "order_year": "2018",
                                    "order_month": "10",
                                    "new_customer_count": "251"
                                },
                                {
                                    "order_year": "2018",
                                    "order_month": "11",
                                    "new_customer_count": "220"
                                },
                                {
                                    "order_year": "2018",
                                    "order_month": "12",
                                    "new_customer_count": "164"
                                },
                                {
                                    "order_year": "2019",
                                    "order_month": "1",
                                    "new_customer_count": "140"
                                },
                                {
                                    "order_year": "2019",
                                    "order_month": "2",
                                    "new_customer_count": "901"
                                },
                                {
                                    "order_year": "2019",
                                    "order_month": "3",
                                    "new_customer_count": "1171"
                                },
                                {
                                    "order_year": "2019",
                                    "order_month": "4",
                                    "new_customer_count": "868"
                                },
                                {
                                    "order_year": "2019",
                                    "order_month": "5",
                                    "new_customer_count": "290"
                                },
                                {
                                    "order_year": "2019",
                                    "order_month": "6",
                                    "new_customer_count": "324"
                                },
                                {
                                    "order_year": "2019",
                                    "order_month": "7",
                                    "new_customer_count": "1059"
                                },
                                {
                                    "order_year": "2019",
                                    "order_month": "8",
                                    "new_customer_count": "1085"
                                },
                                {
                                    "order_year": "2019",
                                    "order_month": "9",
                                    "new_customer_count": "1243"
                                },
                                {
                                    "order_year": "2019",
                                    "order_month": "10",
                                    "new_customer_count": "1090"
                                },
                                {
                                    "order_year": "2019",
                                    "order_month": "11",
                                    "new_customer_count": "1224"
                                },
                                {
                                    "order_year": "2019",
                                    "order_month": "12",
                                    "new_customer_count": "957"
                                }
                            ]
                        },
                        "text/html": [
                            "<table>",
                            "<tr><th>order_year</th><th>order_month</th><th>new_customer_count</th></tr>",
                            "<tr><td>2018</td><td>1</td><td>90</td></tr>",
                            "<tr><td>2018</td><td>2</td><td>94</td></tr>",
                            "<tr><td>2018</td><td>3</td><td>109</td></tr>",
                            "<tr><td>2018</td><td>4</td><td>124</td></tr>",
                            "<tr><td>2018</td><td>5</td><td>159</td></tr>",
                            "<tr><td>2018</td><td>6</td><td>165</td></tr>",
                            "<tr><td>2018</td><td>7</td><td>80</td></tr>",
                            "<tr><td>2018</td><td>8</td><td>71</td></tr>",
                            "<tr><td>2018</td><td>9</td><td>103</td></tr>",
                            "<tr><td>2018</td><td>10</td><td>251</td></tr>",
                            "<tr><td>2018</td><td>11</td><td>220</td></tr>",
                            "<tr><td>2018</td><td>12</td><td>164</td></tr>",
                            "<tr><td>2019</td><td>1</td><td>140</td></tr>",
                            "<tr><td>2019</td><td>2</td><td>901</td></tr>",
                            "<tr><td>2019</td><td>3</td><td>1171</td></tr>",
                            "<tr><td>2019</td><td>4</td><td>868</td></tr>",
                            "<tr><td>2019</td><td>5</td><td>290</td></tr>",
                            "<tr><td>2019</td><td>6</td><td>324</td></tr>",
                            "<tr><td>2019</td><td>7</td><td>1059</td></tr>",
                            "<tr><td>2019</td><td>8</td><td>1085</td></tr>",
                            "<tr><td>2019</td><td>9</td><td>1243</td></tr>",
                            "<tr><td>2019</td><td>10</td><td>1090</td></tr>",
                            "<tr><td>2019</td><td>11</td><td>1224</td></tr>",
                            "<tr><td>2019</td><td>12</td><td>957</td></tr>",
                            "</table>"
                        ]
                    }
                }
            ],
            "execution_count": 2
        }
    ]
}