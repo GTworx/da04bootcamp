{
    "metadata": {
        "kernelspec": {
            "name": "SQL",
            "display_name": "SQL",
            "language": "sql"
        },
        "language_info": {
            "name": "sql",
            "version": ""
        }
    },
    "nbformat_minor": 2,
    "nbformat": 4,
    "cells": [
        {
            "cell_type": "markdown",
            "source": [
                "6\\. Yıl kırılımında alışveriş sayılarını getirecek sorguyu yazınız (Yıl olarak müşterinin ilk alışveriş tarihi (first\\_order\\_date)\n",
                "\n",
                "yılını baz alınız). Bu soruyu excel’de çözünüz ve görselleştiriniz."
            ],
            "metadata": {
                "azdata_cell_guid": "497e3b4b-db73-4ffb-a5d4-af92dc6140c7"
            },
            "attachments": {}
        },
        {
            "cell_type": "code",
            "source": [
                "select count(*) as YIL_BAZINDA_COUNT, year(first_order_date) as YEAR from FLO GROUP by year(first_order_date)"
            ],
            "metadata": {
                "azdata_cell_guid": "de339696-5f37-4ca1-a0c7-36bb6b185dfb",
                "language": "sql"
            },
            "outputs": [
                {
                    "output_type": "display_data",
                    "data": {
                        "text/html": "(9 rows affected)"
                    },
                    "metadata": {}
                },
                {
                    "output_type": "display_data",
                    "data": {
                        "text/html": "Total execution time: 00:00:00.059"
                    },
                    "metadata": {}
                },
                {
                    "output_type": "execute_result",
                    "metadata": {},
                    "execution_count": 2,
                    "data": {
                        "application/vnd.dataresource+json": {
                            "schema": {
                                "fields": [
                                    {
                                        "name": "YIL_BAZINDA_COUNT"
                                    },
                                    {
                                        "name": "YEAR"
                                    }
                                ]
                            },
                            "data": [
                                {
                                    "YIL_BAZINDA_COUNT": "581",
                                    "YEAR": "2021"
                                },
                                {
                                    "YIL_BAZINDA_COUNT": "129",
                                    "YEAR": "2013"
                                },
                                {
                                    "YIL_BAZINDA_COUNT": "662",
                                    "YEAR": "2016"
                                },
                                {
                                    "YIL_BAZINDA_COUNT": "10352",
                                    "YEAR": "2019"
                                },
                                {
                                    "YIL_BAZINDA_COUNT": "4412",
                                    "YEAR": "2020"
                                },
                                {
                                    "YIL_BAZINDA_COUNT": "405",
                                    "YEAR": "2014"
                                },
                                {
                                    "YIL_BAZINDA_COUNT": "1160",
                                    "YEAR": "2017"
                                },
                                {
                                    "YIL_BAZINDA_COUNT": "1630",
                                    "YEAR": "2018"
                                },
                                {
                                    "YIL_BAZINDA_COUNT": "614",
                                    "YEAR": "2015"
                                }
                            ]
                        },
                        "text/html": [
                            "<table>",
                            "<tr><th>YIL_BAZINDA_COUNT</th><th>YEAR</th></tr>",
                            "<tr><td>581</td><td>2021</td></tr>",
                            "<tr><td>129</td><td>2013</td></tr>",
                            "<tr><td>662</td><td>2016</td></tr>",
                            "<tr><td>10352</td><td>2019</td></tr>",
                            "<tr><td>4412</td><td>2020</td></tr>",
                            "<tr><td>405</td><td>2014</td></tr>",
                            "<tr><td>1160</td><td>2017</td></tr>",
                            "<tr><td>1630</td><td>2018</td></tr>",
                            "<tr><td>614</td><td>2015</td></tr>",
                            "</table>"
                        ]
                    }
                }
            ],
            "execution_count": 2
        }
    ]
}