{
    "metadata": {
        "kernelspec": {
            "name": "SQL",
            "display_name": "SQL",
            "language": "sql"
        },
        "language_info": {
            "name": "sql",
            "version": ""
        }
    },
    "nbformat_minor": 2,
    "nbformat": 4,
    "cells": [
        {
            "cell_type": "markdown",
            "source": [
                "5\\. En son alışveriş yapılan kanal (last\\_order\\_channel) üzerinden yapılan alışverişlerin toplam ciro ve alışveriş sayılarını <span style=\"color: var(--vscode-foreground);\">getirecek sorguyu yazınız.</span>"
            ],
            "metadata": {
                "azdata_cell_guid": "0754e0a6-833e-476c-8812-8648fefb7269"
            },
            "attachments": {}
        },
        {
            "cell_type": "code",
            "source": [
                "SELECT\r\n",
                "    last_order_channel AS LastOrderChannel,\r\n",
                "    SUM(UnitPrice * Quantity * (1 - Discount)) AS TotalRevenue,\r\n",
                "    COUNT(*) AS NumberOfOrders\r\n",
                "FROM\r\n",
                "    Orders o\r\n",
                "JOIN\r\n",
                "    [Order Details] od ON o.OrderID = od.OrderID\r\n",
                "WHERE\r\n",
                "    o.last_order_channel IS NOT NULL\r\n",
                "GROUP BY\r\n",
                "    last_order_channel\r\n",
                ""
            ],
            "metadata": {
                "azdata_cell_guid": "16f1842f-c4b7-4fcd-8d75-aac8f24a1c4b",
                "language": "sql"
            },
            "outputs": [],
            "execution_count": null
        }
    ]
}