{
    "metadata": {
        "kernelspec": {
            "name": "SQL",
            "display_name": "SQL",
            "language": "sql"
        },
        "language_info": {
            "name": "sql",
            "version": ""
        }
    },
    "nbformat_minor": 2,
    "nbformat": 4,
    "cells": [
        {
            "cell_type": "code",
            "source": [
                "SELECT\r\n",
                "    interested_in_categories_12,\r\n",
                "    order_channel,\r\n",
                "    SUM(CASE WHEN order_channel = 'Online' THEN 1 ELSE 0 END) AS OnlineOrderCount\r\n",
                "FROM\r\n",
                "    [dbo].[FLO]\r\n",
                "WHERE\r\n",
                "    order_channel IS NOT NULL\r\n",
                "GROUP BY\r\n",
                "    interested_in_categories_12, order_channel;\r\n",
                ""
            ],
            "metadata": {
                "azdata_cell_guid": "c865ef3a-aa31-4d1e-b805-f3d0249dfb2c",
                "language": "sql"
            },
            "outputs": [
                {
                    "output_type": "display_data",
                    "data": {
                        "text/html": "(128 rows affected)"
                    },
                    "metadata": {}
                },
                {
                    "output_type": "display_data",
                    "data": {
                        "text/html": "Total execution time: 00:00:00.086"
                    },
                    "metadata": {}
                },
                {
                    "output_type": "execute_result",
                    "metadata": {},
                    "execution_count": 1,
                    "data": {
                        "application/vnd.dataresource+json": {
                            "schema": {
                                "fields": [
                                    {
                                        "name": "interested_in_categories_12"
                                    },
                                    {
                                        "name": "order_channel"
                                    },
                                    {
                                        "name": "OnlineOrderCount"
                                    }
                                ]
                            },
                            "data": [
                                {
                                    "interested_in_categories_12": "[COCUK, KADIN]",
                                    "order_channel": "Ios App",
                                    "OnlineOrderCount": "0"
                                },
                                {
                                    "interested_in_categories_12": "[AKTIFCOCUK, ERKEK]",
                                    "order_channel": "Android App",
                                    "OnlineOrderCount": "0"
                                },
                                {
                                    "interested_in_categories_12": "[ERKEK]",
                                    "order_channel": "Desktop",
                                    "OnlineOrderCount": "0"
                                },
                                {
                                    "interested_in_categories_12": "[AKTIFCOCUK, AKTIFSPOR]",
                                    "order_channel": "Ios App",
                                    "OnlineOrderCount": "0"
                                },
                                {
                                    "interested_in_categories_12": "[ERKEK, COCUK]",
                                    "order_channel": "Desktop",
                                    "OnlineOrderCount": "0"
                                },
                                {
                                    "interested_in_categories_12": "[AKTIFCOCUK, ERKEK, COCUK, AKTIFSPOR]",
                                    "order_channel": "Desktop",
                                    "OnlineOrderCount": "0"
                                },
                                {
                                    "interested_in_categories_12": "[ERKEK, COCUK, KADIN, AKTIFSPOR]",
                                    "order_channel": "Android App",
                                    "OnlineOrderCount": "0"
                                },
                                {
                                    "interested_in_categories_12": "[AKTIFCOCUK, COCUK]",
                                    "order_channel": "Android App",
                                    "OnlineOrderCount": "0"
                                },
                                {
                                    "interested_in_categories_12": "[KADIN, AKTIFSPOR]",
                                    "order_channel": "Ios App",
                                    "OnlineOrderCount": "0"
                                },
                                {
                                    "interested_in_categories_12": "[COCUK, KADIN]",
                                    "order_channel": "Mobile",
                                    "OnlineOrderCount": "0"
                                },
                                {
                                    "interested_in_categories_12": "[ERKEK, COCUK, KADIN, AKTIFSPOR]",
                                    "order_channel": "Ios App",
                                    "OnlineOrderCount": "0"
                                },
                                {
                                    "interested_in_categories_12": "[AKTIFCOCUK, ERKEK, COCUK]",
                                    "order_channel": "Desktop",
                                    "OnlineOrderCount": "0"
                                },
                                {
                                    "interested_in_categories_12": "[AKTIFCOCUK]",
                                    "order_channel": "Ios App",
                                    "OnlineOrderCount": "0"
                                },
                                {
                                    "interested_in_categories_12": "[ERKEK, KADIN]",
                                    "order_channel": "Ios App",
                                    "OnlineOrderCount": "0"
                                },
                                {
                                    "interested_in_categories_12": "[COCUK, KADIN]",
                                    "order_channel": "Desktop",
                                    "OnlineOrderCount": "0"
                                },
                                {
                                    "interested_in_categories_12": "[COCUK]",
                                    "order_channel": "Desktop",
                                    "OnlineOrderCount": "0"
                                },
                                {
                                    "interested_in_categories_12": "[AKTIFCOCUK, ERKEK]",
                                    "order_channel": "Mobile",
                                    "OnlineOrderCount": "0"
                                },
                                {
                                    "interested_in_categories_12": "[COCUK, AKTIFSPOR]",
                                    "order_channel": "Desktop",
                                    "OnlineOrderCount": "0"
                                },
                                {
                                    "interested_in_categories_12": "[AKTIFCOCUK, ERKEK, COCUK, KADIN, AKTIFSPOR]",
                                    "order_channel": "Desktop",
                                    "OnlineOrderCount": "0"
                                },
                                {
                                    "interested_in_categories_12": "[ERKEK, AKTIFSPOR]",
                                    "order_channel": "Desktop",
                                    "OnlineOrderCount": "0"
                                },
                                {
                                    "interested_in_categories_12": "[AKTIFCOCUK, COCUK, KADIN, AKTIFSPOR]",
                                    "order_channel": "Desktop",
                                    "OnlineOrderCount": "0"
                                },
                                {
                                    "interested_in_categories_12": "[AKTIFCOCUK, COCUK]",
                                    "order_channel": "Mobile",
                                    "OnlineOrderCount": "0"
                                },
                                {
                                    "interested_in_categories_12": "[ERKEK, COCUK, KADIN, AKTIFSPOR]",
                                    "order_channel": "Mobile",
                                    "OnlineOrderCount": "0"
                                },
                                {
                                    "interested_in_categories_12": "[AKTIFCOCUK, KADIN, AKTIFSPOR]",
                                    "order_channel": "Ios App",
                                    "OnlineOrderCount": "0"
                                },
                                {
                                    "interested_in_categories_12": "[COCUK, KADIN]",
                                    "order_channel": "Android App",
                                    "OnlineOrderCount": "0"
                                },
                                {
                                    "interested_in_categories_12": "[AKTIFCOCUK, ERKEK, KADIN, AKTIFSPOR]",
                                    "order_channel": "Ios App",
                                    "OnlineOrderCount": "0"
                                },
                                {
                                    "interested_in_categories_12": "[ERKEK, COCUK, KADIN, AKTIFSPOR]",
                                    "order_channel": "Desktop",
                                    "OnlineOrderCount": "0"
                                },
                                {
                                    "interested_in_categories_12": "[KADIN]",
                                    "order_channel": "Android App",
                                    "OnlineOrderCount": "0"
                                },
                                {
                                    "interested_in_categories_12": "[ERKEK, COCUK, AKTIFSPOR]",
                                    "order_channel": "Desktop",
                                    "OnlineOrderCount": "0"
                                },
                                {
                                    "interested_in_categories_12": "[AKTIFCOCUK, KADIN]",
                                    "order_channel": "Ios App",
                                    "OnlineOrderCount": "0"
                                },
                                {
                                    "interested_in_categories_12": "[KADIN]",
                                    "order_channel": "Mobile",
                                    "OnlineOrderCount": "0"
                                },
                                {
                                    "interested_in_categories_12": "[AKTIFCOCUK, ERKEK, COCUK]",
                                    "order_channel": "Android App",
                                    "OnlineOrderCount": "0"
                                },
                                {
                                    "interested_in_categories_12": "[AKTIFCOCUK, ERKEK, COCUK]",
                                    "order_channel": "Mobile",
                                    "OnlineOrderCount": "0"
                                },
                                {
                                    "interested_in_categories_12": "[]",
                                    "order_channel": "Mobile",
                                    "OnlineOrderCount": "0"
                                },
                                {
                                    "interested_in_categories_12": "[]",
                                    "order_channel": "Android App",
                                    "OnlineOrderCount": "0"
                                },
                                {
                                    "interested_in_categories_12": "[ERKEK, KADIN, AKTIFSPOR]",
                                    "order_channel": "Mobile",
                                    "OnlineOrderCount": "0"
                                },
                                {
                                    "interested_in_categories_12": "[AKTIFCOCUK, ERKEK, COCUK, KADIN]",
                                    "order_channel": "Desktop",
                                    "OnlineOrderCount": "0"
                                },
                                {
                                    "interested_in_categories_12": "[AKTIFCOCUK, ERKEK, COCUK, KADIN, AKTIFSPOR]",
                                    "order_channel": "Ios App",
                                    "OnlineOrderCount": "0"
                                },
                                {
                                    "interested_in_categories_12": "[COCUK]",
                                    "order_channel": "Mobile",
                                    "OnlineOrderCount": "0"
                                },
                                {
                                    "interested_in_categories_12": "[AKTIFCOCUK, ERKEK, COCUK, KADIN]",
                                    "order_channel": "Android App",
                                    "OnlineOrderCount": "0"
                                },
                                {
                                    "interested_in_categories_12": "[AKTIFSPOR]",
                                    "order_channel": "Mobile",
                                    "OnlineOrderCount": "0"
                                },
                                {
                                    "interested_in_categories_12": "[AKTIFCOCUK, COCUK, KADIN]",
                                    "order_channel": "Mobile",
                                    "OnlineOrderCount": "0"
                                },
                                {
                                    "interested_in_categories_12": "[AKTIFCOCUK, ERKEK, COCUK, KADIN, AKTIFSPOR]",
                                    "order_channel": "Android App",
                                    "OnlineOrderCount": "0"
                                },
                                {
                                    "interested_in_categories_12": "[KADIN]",
                                    "order_channel": "Desktop",
                                    "OnlineOrderCount": "0"
                                },
                                {
                                    "interested_in_categories_12": "[ERKEK]",
                                    "order_channel": "Mobile",
                                    "OnlineOrderCount": "0"
                                },
                                {
                                    "interested_in_categories_12": "[ERKEK, AKTIFSPOR]",
                                    "order_channel": "Mobile",
                                    "OnlineOrderCount": "0"
                                },
                                {
                                    "interested_in_categories_12": "[ERKEK]",
                                    "order_channel": "Android App",
                                    "OnlineOrderCount": "0"
                                },
                                {
                                    "interested_in_categories_12": "[ERKEK, COCUK]",
                                    "order_channel": "Mobile",
                                    "OnlineOrderCount": "0"
                                },
                                {
                                    "interested_in_categories_12": "[ERKEK, COCUK]",
                                    "order_channel": "Android App",
                                    "OnlineOrderCount": "0"
                                },
                                {
                                    "interested_in_categories_12": "[ERKEK, COCUK, KADIN]",
                                    "order_channel": "Ios App",
                                    "OnlineOrderCount": "0"
                                },
                                {
                                    "interested_in_categories_12": "[AKTIFSPOR]",
                                    "order_channel": "Desktop",
                                    "OnlineOrderCount": "0"
                                },
                                {
                                    "interested_in_categories_12": "[ERKEK, COCUK, AKTIFSPOR]",
                                    "order_channel": "Mobile",
                                    "OnlineOrderCount": "0"
                                },
                                {
                                    "interested_in_categories_12": "[AKTIFCOCUK, COCUK, KADIN]",
                                    "order_channel": "Android App",
                                    "OnlineOrderCount": "0"
                                },
                                {
                                    "interested_in_categories_12": "[ERKEK, KADIN, AKTIFSPOR]",
                                    "order_channel": "Android App",
                                    "OnlineOrderCount": "0"
                                },
                                {
                                    "interested_in_categories_12": "[AKTIFCOCUK, COCUK]",
                                    "order_channel": "Desktop",
                                    "OnlineOrderCount": "0"
                                },
                                {
                                    "interested_in_categories_12": "[AKTIFCOCUK, ERKEK]",
                                    "order_channel": "Desktop",
                                    "OnlineOrderCount": "0"
                                },
                                {
                                    "interested_in_categories_12": "[COCUK]",
                                    "order_channel": "Android App",
                                    "OnlineOrderCount": "0"
                                },
                                {
                                    "interested_in_categories_12": "[AKTIFCOCUK, ERKEK, COCUK, KADIN, AKTIFSPOR]",
                                    "order_channel": "Mobile",
                                    "OnlineOrderCount": "0"
                                },
                                {
                                    "interested_in_categories_12": "[AKTIFSPOR]",
                                    "order_channel": "Android App",
                                    "OnlineOrderCount": "0"
                                },
                                {
                                    "interested_in_categories_12": "[ERKEK, KADIN, AKTIFSPOR]",
                                    "order_channel": "Desktop",
                                    "OnlineOrderCount": "0"
                                },
                                {
                                    "interested_in_categories_12": "[AKTIFCOCUK, ERKEK, COCUK, KADIN]",
                                    "order_channel": "Mobile",
                                    "OnlineOrderCount": "0"
                                },
                                {
                                    "interested_in_categories_12": "[AKTIFCOCUK, ERKEK, COCUK, AKTIFSPOR]",
                                    "order_channel": "Mobile",
                                    "OnlineOrderCount": "0"
                                },
                                {
                                    "interested_in_categories_12": "[]",
                                    "order_channel": "Desktop",
                                    "OnlineOrderCount": "0"
                                },
                                {
                                    "interested_in_categories_12": "[AKTIFCOCUK, COCUK, KADIN, AKTIFSPOR]",
                                    "order_channel": "Mobile",
                                    "OnlineOrderCount": "0"
                                },
                                {
                                    "interested_in_categories_12": "[COCUK, AKTIFSPOR]",
                                    "order_channel": "Android App",
                                    "OnlineOrderCount": "0"
                                },
                                {
                                    "interested_in_categories_12": "[COCUK, AKTIFSPOR]",
                                    "order_channel": "Mobile",
                                    "OnlineOrderCount": "0"
                                },
                                {
                                    "interested_in_categories_12": "[AKTIFCOCUK, ERKEK, COCUK]",
                                    "order_channel": "Ios App",
                                    "OnlineOrderCount": "0"
                                },
                                {
                                    "interested_in_categories_12": "[AKTIFCOCUK, COCUK, KADIN, AKTIFSPOR]",
                                    "order_channel": "Android App",
                                    "OnlineOrderCount": "0"
                                },
                                {
                                    "interested_in_categories_12": "[AKTIFCOCUK, ERKEK, COCUK, AKTIFSPOR]",
                                    "order_channel": "Android App",
                                    "OnlineOrderCount": "0"
                                },
                                {
                                    "interested_in_categories_12": "[AKTIFCOCUK, COCUK, KADIN]",
                                    "order_channel": "Desktop",
                                    "OnlineOrderCount": "0"
                                },
                                {
                                    "interested_in_categories_12": "[ERKEK, COCUK, KADIN]",
                                    "order_channel": "Desktop",
                                    "OnlineOrderCount": "0"
                                },
                                {
                                    "interested_in_categories_12": "[COCUK, KADIN, AKTIFSPOR]",
                                    "order_channel": "Desktop",
                                    "OnlineOrderCount": "0"
                                },
                                {
                                    "interested_in_categories_12": "[AKTIFCOCUK, ERKEK, AKTIFSPOR]",
                                    "order_channel": "Android App",
                                    "OnlineOrderCount": "0"
                                },
                                {
                                    "interested_in_categories_12": "[ERKEK, KADIN]",
                                    "order_channel": "Mobile",
                                    "OnlineOrderCount": "0"
                                },
                                {
                                    "interested_in_categories_12": "[AKTIFCOCUK, COCUK, KADIN]",
                                    "order_channel": "Ios App",
                                    "OnlineOrderCount": "0"
                                },
                                {
                                    "interested_in_categories_12": "[AKTIFCOCUK, KADIN]",
                                    "order_channel": "Desktop",
                                    "OnlineOrderCount": "0"
                                },
                                {
                                    "interested_in_categories_12": "[AKTIFCOCUK]",
                                    "order_channel": "Desktop",
                                    "OnlineOrderCount": "0"
                                },
                                {
                                    "interested_in_categories_12": "[ERKEK, COCUK, AKTIFSPOR]",
                                    "order_channel": "Android App",
                                    "OnlineOrderCount": "0"
                                },
                                {
                                    "interested_in_categories_12": "[AKTIFCOCUK, COCUK, AKTIFSPOR]",
                                    "order_channel": "Android App",
                                    "OnlineOrderCount": "0"
                                },
                                {
                                    "interested_in_categories_12": "[AKTIFCOCUK, ERKEK, KADIN]",
                                    "order_channel": "Mobile",
                                    "OnlineOrderCount": "0"
                                },
                                {
                                    "interested_in_categories_12": "[ERKEK, AKTIFSPOR]",
                                    "order_channel": "Android App",
                                    "OnlineOrderCount": "0"
                                },
                                {
                                    "interested_in_categories_12": "[AKTIFCOCUK, ERKEK, KADIN, AKTIFSPOR]",
                                    "order_channel": "Desktop",
                                    "OnlineOrderCount": "0"
                                },
                                {
                                    "interested_in_categories_12": "[ERKEK]",
                                    "order_channel": "Ios App",
                                    "OnlineOrderCount": "0"
                                },
                                {
                                    "interested_in_categories_12": "[ERKEK, COCUK]",
                                    "order_channel": "Ios App",
                                    "OnlineOrderCount": "0"
                                },
                                {
                                    "interested_in_categories_12": "[ERKEK, COCUK, KADIN]",
                                    "order_channel": "Android App",
                                    "OnlineOrderCount": "0"
                                },
                                {
                                    "interested_in_categories_12": "[ERKEK, COCUK, KADIN]",
                                    "order_channel": "Mobile",
                                    "OnlineOrderCount": "0"
                                },
                                {
                                    "interested_in_categories_12": "[AKTIFCOCUK, ERKEK, AKTIFSPOR]",
                                    "order_channel": "Desktop",
                                    "OnlineOrderCount": "0"
                                },
                                {
                                    "interested_in_categories_12": "[COCUK]",
                                    "order_channel": "Ios App",
                                    "OnlineOrderCount": "0"
                                },
                                {
                                    "interested_in_categories_12": "[AKTIFCOCUK, ERKEK, KADIN]",
                                    "order_channel": "Desktop",
                                    "OnlineOrderCount": "0"
                                },
                                {
                                    "interested_in_categories_12": "[AKTIFCOCUK, ERKEK, COCUK, KADIN]",
                                    "order_channel": "Ios App",
                                    "OnlineOrderCount": "0"
                                },
                                {
                                    "interested_in_categories_12": "[AKTIFCOCUK, ERKEK, AKTIFSPOR]",
                                    "order_channel": "Mobile",
                                    "OnlineOrderCount": "0"
                                },
                                {
                                    "interested_in_categories_12": "[AKTIFCOCUK, ERKEK, KADIN, AKTIFSPOR]",
                                    "order_channel": "Android App",
                                    "OnlineOrderCount": "0"
                                },
                                {
                                    "interested_in_categories_12": "[ERKEK, KADIN]",
                                    "order_channel": "Android App",
                                    "OnlineOrderCount": "0"
                                },
                                {
                                    "interested_in_categories_12": "[AKTIFCOCUK, COCUK, AKTIFSPOR]",
                                    "order_channel": "Mobile",
                                    "OnlineOrderCount": "0"
                                },
                                {
                                    "interested_in_categories_12": "[AKTIFCOCUK, ERKEK, KADIN]",
                                    "order_channel": "Android App",
                                    "OnlineOrderCount": "0"
                                },
                                {
                                    "interested_in_categories_12": "[AKTIFCOCUK, KADIN]",
                                    "order_channel": "Mobile",
                                    "OnlineOrderCount": "0"
                                },
                                {
                                    "interested_in_categories_12": "[ERKEK, KADIN, AKTIFSPOR]",
                                    "order_channel": "Ios App",
                                    "OnlineOrderCount": "0"
                                },
                                {
                                    "interested_in_categories_12": "[AKTIFCOCUK, KADIN]",
                                    "order_channel": "Android App",
                                    "OnlineOrderCount": "0"
                                },
                                {
                                    "interested_in_categories_12": "[KADIN, AKTIFSPOR]",
                                    "order_channel": "Desktop",
                                    "OnlineOrderCount": "0"
                                },
                                {
                                    "interested_in_categories_12": "[AKTIFCOCUK, KADIN, AKTIFSPOR]",
                                    "order_channel": "Desktop",
                                    "OnlineOrderCount": "0"
                                },
                                {
                                    "interested_in_categories_12": "[AKTIFSPOR]",
                                    "order_channel": "Ios App",
                                    "OnlineOrderCount": "0"
                                },
                                {
                                    "interested_in_categories_12": "[AKTIFCOCUK, AKTIFSPOR]",
                                    "order_channel": "Desktop",
                                    "OnlineOrderCount": "0"
                                },
                                {
                                    "interested_in_categories_12": "[AKTIFCOCUK, COCUK]",
                                    "order_channel": "Ios App",
                                    "OnlineOrderCount": "0"
                                },
                                {
                                    "interested_in_categories_12": "[COCUK, AKTIFSPOR]",
                                    "order_channel": "Ios App",
                                    "OnlineOrderCount": "0"
                                },
                                {
                                    "interested_in_categories_12": "[AKTIFCOCUK, ERKEK, KADIN, AKTIFSPOR]",
                                    "order_channel": "Mobile",
                                    "OnlineOrderCount": "0"
                                },
                                {
                                    "interested_in_categories_12": "[KADIN, AKTIFSPOR]",
                                    "order_channel": "Android App",
                                    "OnlineOrderCount": "0"
                                },
                                {
                                    "interested_in_categories_12": "[AKTIFCOCUK, COCUK, AKTIFSPOR]",
                                    "order_channel": "Ios App",
                                    "OnlineOrderCount": "0"
                                },
                                {
                                    "interested_in_categories_12": "[AKTIFCOCUK, ERKEK, AKTIFSPOR]",
                                    "order_channel": "Ios App",
                                    "OnlineOrderCount": "0"
                                },
                                {
                                    "interested_in_categories_12": "[AKTIFCOCUK, AKTIFSPOR]",
                                    "order_channel": "Mobile",
                                    "OnlineOrderCount": "0"
                                },
                                {
                                    "interested_in_categories_12": "[KADIN, AKTIFSPOR]",
                                    "order_channel": "Mobile",
                                    "OnlineOrderCount": "0"
                                },
                                {
                                    "interested_in_categories_12": "[ERKEK, AKTIFSPOR]",
                                    "order_channel": "Ios App",
                                    "OnlineOrderCount": "0"
                                },
                                {
                                    "interested_in_categories_12": "[AKTIFCOCUK]",
                                    "order_channel": "Mobile",
                                    "OnlineOrderCount": "0"
                                },
                                {
                                    "interested_in_categories_12": "[AKTIFCOCUK]",
                                    "order_channel": "Android App",
                                    "OnlineOrderCount": "0"
                                },
                                {
                                    "interested_in_categories_12": "[AKTIFCOCUK, ERKEK]",
                                    "order_channel": "Ios App",
                                    "OnlineOrderCount": "0"
                                },
                                {
                                    "interested_in_categories_12": "[AKTIFCOCUK, AKTIFSPOR]",
                                    "order_channel": "Android App",
                                    "OnlineOrderCount": "0"
                                },
                                {
                                    "interested_in_categories_12": "[COCUK, KADIN, AKTIFSPOR]",
                                    "order_channel": "Ios App",
                                    "OnlineOrderCount": "0"
                                },
                                {
                                    "interested_in_categories_12": "[AKTIFCOCUK, ERKEK, KADIN]",
                                    "order_channel": "Ios App",
                                    "OnlineOrderCount": "0"
                                },
                                {
                                    "interested_in_categories_12": "[AKTIFCOCUK, KADIN, AKTIFSPOR]",
                                    "order_channel": "Mobile",
                                    "OnlineOrderCount": "0"
                                },
                                {
                                    "interested_in_categories_12": "[]",
                                    "order_channel": "Ios App",
                                    "OnlineOrderCount": "0"
                                },
                                {
                                    "interested_in_categories_12": "[AKTIFCOCUK, KADIN, AKTIFSPOR]",
                                    "order_channel": "Android App",
                                    "OnlineOrderCount": "0"
                                },
                                {
                                    "interested_in_categories_12": "[ERKEK, COCUK, AKTIFSPOR]",
                                    "order_channel": "Ios App",
                                    "OnlineOrderCount": "0"
                                },
                                {
                                    "interested_in_categories_12": "[COCUK, KADIN, AKTIFSPOR]",
                                    "order_channel": "Mobile",
                                    "OnlineOrderCount": "0"
                                },
                                {
                                    "interested_in_categories_12": "[AKTIFCOCUK, COCUK, AKTIFSPOR]",
                                    "order_channel": "Desktop",
                                    "OnlineOrderCount": "0"
                                },
                                {
                                    "interested_in_categories_12": "[COCUK, KADIN, AKTIFSPOR]",
                                    "order_channel": "Android App",
                                    "OnlineOrderCount": "0"
                                },
                                {
                                    "interested_in_categories_12": "[AKTIFCOCUK, ERKEK, COCUK, AKTIFSPOR]",
                                    "order_channel": "Ios App",
                                    "OnlineOrderCount": "0"
                                },
                                {
                                    "interested_in_categories_12": "[KADIN]",
                                    "order_channel": "Ios App",
                                    "OnlineOrderCount": "0"
                                },
                                {
                                    "interested_in_categories_12": "[ERKEK, KADIN]",
                                    "order_channel": "Desktop",
                                    "OnlineOrderCount": "0"
                                },
                                {
                                    "interested_in_categories_12": "[AKTIFCOCUK, COCUK, KADIN, AKTIFSPOR]",
                                    "order_channel": "Ios App",
                                    "OnlineOrderCount": "0"
                                }
                            ]
                        },
                        "text/html": [
                            "<table>",
                            "<tr><th>interested_in_categories_12</th><th>order_channel</th><th>OnlineOrderCount</th></tr>",
                            "<tr><td>[COCUK, KADIN]</td><td>Ios App</td><td>0</td></tr>",
                            "<tr><td>[AKTIFCOCUK, ERKEK]</td><td>Android App</td><td>0</td></tr>",
                            "<tr><td>[ERKEK]</td><td>Desktop</td><td>0</td></tr>",
                            "<tr><td>[AKTIFCOCUK, AKTIFSPOR]</td><td>Ios App</td><td>0</td></tr>",
                            "<tr><td>[ERKEK, COCUK]</td><td>Desktop</td><td>0</td></tr>",
                            "<tr><td>[AKTIFCOCUK, ERKEK, COCUK, AKTIFSPOR]</td><td>Desktop</td><td>0</td></tr>",
                            "<tr><td>[ERKEK, COCUK, KADIN, AKTIFSPOR]</td><td>Android App</td><td>0</td></tr>",
                            "<tr><td>[AKTIFCOCUK, COCUK]</td><td>Android App</td><td>0</td></tr>",
                            "<tr><td>[KADIN, AKTIFSPOR]</td><td>Ios App</td><td>0</td></tr>",
                            "<tr><td>[COCUK, KADIN]</td><td>Mobile</td><td>0</td></tr>",
                            "<tr><td>[ERKEK, COCUK, KADIN, AKTIFSPOR]</td><td>Ios App</td><td>0</td></tr>",
                            "<tr><td>[AKTIFCOCUK, ERKEK, COCUK]</td><td>Desktop</td><td>0</td></tr>",
                            "<tr><td>[AKTIFCOCUK]</td><td>Ios App</td><td>0</td></tr>",
                            "<tr><td>[ERKEK, KADIN]</td><td>Ios App</td><td>0</td></tr>",
                            "<tr><td>[COCUK, KADIN]</td><td>Desktop</td><td>0</td></tr>",
                            "<tr><td>[COCUK]</td><td>Desktop</td><td>0</td></tr>",
                            "<tr><td>[AKTIFCOCUK, ERKEK]</td><td>Mobile</td><td>0</td></tr>",
                            "<tr><td>[COCUK, AKTIFSPOR]</td><td>Desktop</td><td>0</td></tr>",
                            "<tr><td>[AKTIFCOCUK, ERKEK, COCUK, KADIN, AKTIFSPOR]</td><td>Desktop</td><td>0</td></tr>",
                            "<tr><td>[ERKEK, AKTIFSPOR]</td><td>Desktop</td><td>0</td></tr>",
                            "<tr><td>[AKTIFCOCUK, COCUK, KADIN, AKTIFSPOR]</td><td>Desktop</td><td>0</td></tr>",
                            "<tr><td>[AKTIFCOCUK, COCUK]</td><td>Mobile</td><td>0</td></tr>",
                            "<tr><td>[ERKEK, COCUK, KADIN, AKTIFSPOR]</td><td>Mobile</td><td>0</td></tr>",
                            "<tr><td>[AKTIFCOCUK, KADIN, AKTIFSPOR]</td><td>Ios App</td><td>0</td></tr>",
                            "<tr><td>[COCUK, KADIN]</td><td>Android App</td><td>0</td></tr>",
                            "<tr><td>[AKTIFCOCUK, ERKEK, KADIN, AKTIFSPOR]</td><td>Ios App</td><td>0</td></tr>",
                            "<tr><td>[ERKEK, COCUK, KADIN, AKTIFSPOR]</td><td>Desktop</td><td>0</td></tr>",
                            "<tr><td>[KADIN]</td><td>Android App</td><td>0</td></tr>",
                            "<tr><td>[ERKEK, COCUK, AKTIFSPOR]</td><td>Desktop</td><td>0</td></tr>",
                            "<tr><td>[AKTIFCOCUK, KADIN]</td><td>Ios App</td><td>0</td></tr>",
                            "<tr><td>[KADIN]</td><td>Mobile</td><td>0</td></tr>",
                            "<tr><td>[AKTIFCOCUK, ERKEK, COCUK]</td><td>Android App</td><td>0</td></tr>",
                            "<tr><td>[AKTIFCOCUK, ERKEK, COCUK]</td><td>Mobile</td><td>0</td></tr>",
                            "<tr><td>[]</td><td>Mobile</td><td>0</td></tr>",
                            "<tr><td>[]</td><td>Android App</td><td>0</td></tr>",
                            "<tr><td>[ERKEK, KADIN, AKTIFSPOR]</td><td>Mobile</td><td>0</td></tr>",
                            "<tr><td>[AKTIFCOCUK, ERKEK, COCUK, KADIN]</td><td>Desktop</td><td>0</td></tr>",
                            "<tr><td>[AKTIFCOCUK, ERKEK, COCUK, KADIN, AKTIFSPOR]</td><td>Ios App</td><td>0</td></tr>",
                            "<tr><td>[COCUK]</td><td>Mobile</td><td>0</td></tr>",
                            "<tr><td>[AKTIFCOCUK, ERKEK, COCUK, KADIN]</td><td>Android App</td><td>0</td></tr>",
                            "<tr><td>[AKTIFSPOR]</td><td>Mobile</td><td>0</td></tr>",
                            "<tr><td>[AKTIFCOCUK, COCUK, KADIN]</td><td>Mobile</td><td>0</td></tr>",
                            "<tr><td>[AKTIFCOCUK, ERKEK, COCUK, KADIN, AKTIFSPOR]</td><td>Android App</td><td>0</td></tr>",
                            "<tr><td>[KADIN]</td><td>Desktop</td><td>0</td></tr>",
                            "<tr><td>[ERKEK]</td><td>Mobile</td><td>0</td></tr>",
                            "<tr><td>[ERKEK, AKTIFSPOR]</td><td>Mobile</td><td>0</td></tr>",
                            "<tr><td>[ERKEK]</td><td>Android App</td><td>0</td></tr>",
                            "<tr><td>[ERKEK, COCUK]</td><td>Mobile</td><td>0</td></tr>",
                            "<tr><td>[ERKEK, COCUK]</td><td>Android App</td><td>0</td></tr>",
                            "<tr><td>[ERKEK, COCUK, KADIN]</td><td>Ios App</td><td>0</td></tr>",
                            "<tr><td>[AKTIFSPOR]</td><td>Desktop</td><td>0</td></tr>",
                            "<tr><td>[ERKEK, COCUK, AKTIFSPOR]</td><td>Mobile</td><td>0</td></tr>",
                            "<tr><td>[AKTIFCOCUK, COCUK, KADIN]</td><td>Android App</td><td>0</td></tr>",
                            "<tr><td>[ERKEK, KADIN, AKTIFSPOR]</td><td>Android App</td><td>0</td></tr>",
                            "<tr><td>[AKTIFCOCUK, COCUK]</td><td>Desktop</td><td>0</td></tr>",
                            "<tr><td>[AKTIFCOCUK, ERKEK]</td><td>Desktop</td><td>0</td></tr>",
                            "<tr><td>[COCUK]</td><td>Android App</td><td>0</td></tr>",
                            "<tr><td>[AKTIFCOCUK, ERKEK, COCUK, KADIN, AKTIFSPOR]</td><td>Mobile</td><td>0</td></tr>",
                            "<tr><td>[AKTIFSPOR]</td><td>Android App</td><td>0</td></tr>",
                            "<tr><td>[ERKEK, KADIN, AKTIFSPOR]</td><td>Desktop</td><td>0</td></tr>",
                            "<tr><td>[AKTIFCOCUK, ERKEK, COCUK, KADIN]</td><td>Mobile</td><td>0</td></tr>",
                            "<tr><td>[AKTIFCOCUK, ERKEK, COCUK, AKTIFSPOR]</td><td>Mobile</td><td>0</td></tr>",
                            "<tr><td>[]</td><td>Desktop</td><td>0</td></tr>",
                            "<tr><td>[AKTIFCOCUK, COCUK, KADIN, AKTIFSPOR]</td><td>Mobile</td><td>0</td></tr>",
                            "<tr><td>[COCUK, AKTIFSPOR]</td><td>Android App</td><td>0</td></tr>",
                            "<tr><td>[COCUK, AKTIFSPOR]</td><td>Mobile</td><td>0</td></tr>",
                            "<tr><td>[AKTIFCOCUK, ERKEK, COCUK]</td><td>Ios App</td><td>0</td></tr>",
                            "<tr><td>[AKTIFCOCUK, COCUK, KADIN, AKTIFSPOR]</td><td>Android App</td><td>0</td></tr>",
                            "<tr><td>[AKTIFCOCUK, ERKEK, COCUK, AKTIFSPOR]</td><td>Android App</td><td>0</td></tr>",
                            "<tr><td>[AKTIFCOCUK, COCUK, KADIN]</td><td>Desktop</td><td>0</td></tr>",
                            "<tr><td>[ERKEK, COCUK, KADIN]</td><td>Desktop</td><td>0</td></tr>",
                            "<tr><td>[COCUK, KADIN, AKTIFSPOR]</td><td>Desktop</td><td>0</td></tr>",
                            "<tr><td>[AKTIFCOCUK, ERKEK, AKTIFSPOR]</td><td>Android App</td><td>0</td></tr>",
                            "<tr><td>[ERKEK, KADIN]</td><td>Mobile</td><td>0</td></tr>",
                            "<tr><td>[AKTIFCOCUK, COCUK, KADIN]</td><td>Ios App</td><td>0</td></tr>",
                            "<tr><td>[AKTIFCOCUK, KADIN]</td><td>Desktop</td><td>0</td></tr>",
                            "<tr><td>[AKTIFCOCUK]</td><td>Desktop</td><td>0</td></tr>",
                            "<tr><td>[ERKEK, COCUK, AKTIFSPOR]</td><td>Android App</td><td>0</td></tr>",
                            "<tr><td>[AKTIFCOCUK, COCUK, AKTIFSPOR]</td><td>Android App</td><td>0</td></tr>",
                            "<tr><td>[AKTIFCOCUK, ERKEK, KADIN]</td><td>Mobile</td><td>0</td></tr>",
                            "<tr><td>[ERKEK, AKTIFSPOR]</td><td>Android App</td><td>0</td></tr>",
                            "<tr><td>[AKTIFCOCUK, ERKEK, KADIN, AKTIFSPOR]</td><td>Desktop</td><td>0</td></tr>",
                            "<tr><td>[ERKEK]</td><td>Ios App</td><td>0</td></tr>",
                            "<tr><td>[ERKEK, COCUK]</td><td>Ios App</td><td>0</td></tr>",
                            "<tr><td>[ERKEK, COCUK, KADIN]</td><td>Android App</td><td>0</td></tr>",
                            "<tr><td>[ERKEK, COCUK, KADIN]</td><td>Mobile</td><td>0</td></tr>",
                            "<tr><td>[AKTIFCOCUK, ERKEK, AKTIFSPOR]</td><td>Desktop</td><td>0</td></tr>",
                            "<tr><td>[COCUK]</td><td>Ios App</td><td>0</td></tr>",
                            "<tr><td>[AKTIFCOCUK, ERKEK, KADIN]</td><td>Desktop</td><td>0</td></tr>",
                            "<tr><td>[AKTIFCOCUK, ERKEK, COCUK, KADIN]</td><td>Ios App</td><td>0</td></tr>",
                            "<tr><td>[AKTIFCOCUK, ERKEK, AKTIFSPOR]</td><td>Mobile</td><td>0</td></tr>",
                            "<tr><td>[AKTIFCOCUK, ERKEK, KADIN, AKTIFSPOR]</td><td>Android App</td><td>0</td></tr>",
                            "<tr><td>[ERKEK, KADIN]</td><td>Android App</td><td>0</td></tr>",
                            "<tr><td>[AKTIFCOCUK, COCUK, AKTIFSPOR]</td><td>Mobile</td><td>0</td></tr>",
                            "<tr><td>[AKTIFCOCUK, ERKEK, KADIN]</td><td>Android App</td><td>0</td></tr>",
                            "<tr><td>[AKTIFCOCUK, KADIN]</td><td>Mobile</td><td>0</td></tr>",
                            "<tr><td>[ERKEK, KADIN, AKTIFSPOR]</td><td>Ios App</td><td>0</td></tr>",
                            "<tr><td>[AKTIFCOCUK, KADIN]</td><td>Android App</td><td>0</td></tr>",
                            "<tr><td>[KADIN, AKTIFSPOR]</td><td>Desktop</td><td>0</td></tr>",
                            "<tr><td>[AKTIFCOCUK, KADIN, AKTIFSPOR]</td><td>Desktop</td><td>0</td></tr>",
                            "<tr><td>[AKTIFSPOR]</td><td>Ios App</td><td>0</td></tr>",
                            "<tr><td>[AKTIFCOCUK, AKTIFSPOR]</td><td>Desktop</td><td>0</td></tr>",
                            "<tr><td>[AKTIFCOCUK, COCUK]</td><td>Ios App</td><td>0</td></tr>",
                            "<tr><td>[COCUK, AKTIFSPOR]</td><td>Ios App</td><td>0</td></tr>",
                            "<tr><td>[AKTIFCOCUK, ERKEK, KADIN, AKTIFSPOR]</td><td>Mobile</td><td>0</td></tr>",
                            "<tr><td>[KADIN, AKTIFSPOR]</td><td>Android App</td><td>0</td></tr>",
                            "<tr><td>[AKTIFCOCUK, COCUK, AKTIFSPOR]</td><td>Ios App</td><td>0</td></tr>",
                            "<tr><td>[AKTIFCOCUK, ERKEK, AKTIFSPOR]</td><td>Ios App</td><td>0</td></tr>",
                            "<tr><td>[AKTIFCOCUK, AKTIFSPOR]</td><td>Mobile</td><td>0</td></tr>",
                            "<tr><td>[KADIN, AKTIFSPOR]</td><td>Mobile</td><td>0</td></tr>",
                            "<tr><td>[ERKEK, AKTIFSPOR]</td><td>Ios App</td><td>0</td></tr>",
                            "<tr><td>[AKTIFCOCUK]</td><td>Mobile</td><td>0</td></tr>",
                            "<tr><td>[AKTIFCOCUK]</td><td>Android App</td><td>0</td></tr>",
                            "<tr><td>[AKTIFCOCUK, ERKEK]</td><td>Ios App</td><td>0</td></tr>",
                            "<tr><td>[AKTIFCOCUK, AKTIFSPOR]</td><td>Android App</td><td>0</td></tr>",
                            "<tr><td>[COCUK, KADIN, AKTIFSPOR]</td><td>Ios App</td><td>0</td></tr>",
                            "<tr><td>[AKTIFCOCUK, ERKEK, KADIN]</td><td>Ios App</td><td>0</td></tr>",
                            "<tr><td>[AKTIFCOCUK, KADIN, AKTIFSPOR]</td><td>Mobile</td><td>0</td></tr>",
                            "<tr><td>[]</td><td>Ios App</td><td>0</td></tr>",
                            "<tr><td>[AKTIFCOCUK, KADIN, AKTIFSPOR]</td><td>Android App</td><td>0</td></tr>",
                            "<tr><td>[ERKEK, COCUK, AKTIFSPOR]</td><td>Ios App</td><td>0</td></tr>",
                            "<tr><td>[COCUK, KADIN, AKTIFSPOR]</td><td>Mobile</td><td>0</td></tr>",
                            "<tr><td>[AKTIFCOCUK, COCUK, AKTIFSPOR]</td><td>Desktop</td><td>0</td></tr>",
                            "<tr><td>[COCUK, KADIN, AKTIFSPOR]</td><td>Android App</td><td>0</td></tr>",
                            "<tr><td>[AKTIFCOCUK, ERKEK, COCUK, AKTIFSPOR]</td><td>Ios App</td><td>0</td></tr>",
                            "<tr><td>[KADIN]</td><td>Ios App</td><td>0</td></tr>",
                            "<tr><td>[ERKEK, KADIN]</td><td>Desktop</td><td>0</td></tr>",
                            "<tr><td>[AKTIFCOCUK, COCUK, KADIN, AKTIFSPOR]</td><td>Ios App</td><td>0</td></tr>",
                            "</table>"
                        ]
                    }
                }
            ],
            "execution_count": 1
        }
    ]
}