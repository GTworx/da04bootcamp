{
    "metadata": {
        "kernelspec": {
            "name": "SQL",
            "display_name": "SQL",
            "language": "sql"
        },
        "language_info": {
            "name": "sql",
            "version": ""
        }
    },
    "nbformat_minor": 2,
    "nbformat": 4,
    "cells": [
        {
            "cell_type": "markdown",
            "source": [
                "8\\. Online ve offline alışveriş yapan müşterilerin toplam cirolarını ayrı ayrı getiren sorguyu yazınız. Excel’de online ve\n",
                "\n",
                "offline platformda alışveriş yapan müşterilerin toplam harcamalarını bularak görselleştiriniz.\n",
                "\n",
                "  \n",
                "\n",
                "�İpucu: SQL Başlıkları ”customer\\_value\\_total\\_ever\\_offline” , “customer\\_value\\_total\\_ever\\_online”"
            ],
            "metadata": {
                "azdata_cell_guid": "f689244e-ea34-4a49-b78f-7185a98202b0"
            },
            "attachments": {}
        },
        {
            "cell_type": "code",
            "source": [
                "SELECT\r\n",
                "    SUM(customer_value_total_ever_online) AS customer_value_total_ever_online\r\n",
                "FROM\r\n",
                "    [dbo].[FLO]\r\n",
                "WHERE\r\n",
                "    customer_value_total_ever_online IS NOT NULL;\r\n",
                "\r\n",
                "SELECT\r\n",
                "    SUM(customer_value_total_ever_offline) AS customer_value_total_ever_offline\r\n",
                "FROM\r\n",
                "    [dbo].[FLO]\r\n",
                "WHERE\r\n",
                "    customer_value_total_ever_offline IS NOT NULL;\r\n",
                ""
            ],
            "metadata": {
                "azdata_cell_guid": "0e4f0276-a913-465d-91d6-bd8eae54ac44",
                "language": "sql"
            },
            "outputs": [
                {
                    "output_type": "display_data",
                    "data": {
                        "text/html": "(1 row affected)"
                    },
                    "metadata": {}
                },
                {
                    "output_type": "display_data",
                    "data": {
                        "text/html": "(1 row affected)"
                    },
                    "metadata": {}
                },
                {
                    "output_type": "display_data",
                    "data": {
                        "text/html": "Total execution time: 00:00:00.077"
                    },
                    "metadata": {}
                },
                {
                    "output_type": "execute_result",
                    "metadata": {},
                    "execution_count": 2,
                    "data": {
                        "application/vnd.dataresource+json": {
                            "schema": {
                                "fields": [
                                    {
                                        "name": "customer_value_total_ever_online"
                                    }
                                ]
                            },
                            "data": [
                                {
                                    "customer_value_total_ever_online": "898820796"
                                }
                            ]
                        },
                        "text/html": [
                            "<table>",
                            "<tr><th>customer_value_total_ever_online</th></tr>",
                            "<tr><td>898820796</td></tr>",
                            "</table>"
                        ]
                    }
                },
                {
                    "output_type": "execute_result",
                    "metadata": {},
                    "execution_count": 2,
                    "data": {
                        "application/vnd.dataresource+json": {
                            "schema": {
                                "fields": [
                                    {
                                        "name": "customer_value_total_ever_offline"
                                    }
                                ]
                            },
                            "data": [
                                {
                                    "customer_value_total_ever_offline": "480767192"
                                }
                            ]
                        },
                        "text/html": [
                            "<table>",
                            "<tr><th>customer_value_total_ever_offline</th></tr>",
                            "<tr><td>480767192</td></tr>",
                            "</table>"
                        ]
                    }
                }
            ],
            "execution_count": 2
        }
    ]
}