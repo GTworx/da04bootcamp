{
    "metadata": {
        "kernelspec": {
            "name": "SQL",
            "display_name": "SQL",
            "language": "sql"
        },
        "language_info": {
            "name": "sql",
            "version": ""
        }
    },
    "nbformat_minor": 2,
    "nbformat": 4,
    "cells": [
        {
            "cell_type": "markdown",
            "source": [
                "16\\. En son alışveriş yapılan kanal (last\\_order\\_channel) bazında, her bir kategoriden(interested\\_in\\_categories\\_12) kaç <span style=\"color: var(--vscode-foreground);\">adet alışveriş yapıldığını getiren sorguyu yazınız ve adet sayısına göre büyükten küçüğe doğru sıralayanız.</span>"
            ],
            "metadata": {
                "azdata_cell_guid": "530c7fcd-0fff-4053-b693-e395465ec709"
            },
            "attachments": {}
        },
        {
            "cell_type": "code",
            "source": [
                "SELECT\r\n",
                "    last_order_channel,\r\n",
                "    interested_in_categories_12,\r\n",
                "    COUNT(*) AS CategoryCount\r\n",
                "FROM\r\n",
                "    [dbo].[FLO]\r\n",
                "GROUP BY\r\n",
                "    last_order_channel, interested_in_categories_12\r\n",
                "ORDER BY\r\n",
                "    CategoryCount DESC;\r\n",
                ""
            ],
            "metadata": {
                "azdata_cell_guid": "efecf2be-08de-48b4-bded-7846f9ed1c84",
                "language": "sql"
            },
            "outputs": [
                {
                    "output_type": "display_data",
                    "data": {
                        "text/html": "(160 rows affected)"
                    },
                    "metadata": {}
                },
                {
                    "output_type": "display_data",
                    "data": {
                        "text/html": "Total execution time: 00:00:00.083"
                    },
                    "metadata": {}
                },
                {
                    "output_type": "execute_result",
                    "metadata": {},
                    "execution_count": 1,
                    "data": {
                        "application/vnd.dataresource+json": {
                            "schema": {
                                "fields": [
                                    {
                                        "name": "last_order_channel"
                                    },
                                    {
                                        "name": "interested_in_categories_12"
                                    },
                                    {
                                        "name": "CategoryCount"
                                    }
                                ]
                            },
                            "data": [
                                {
                                    "last_order_channel": "Android App",
                                    "interested_in_categories_12": "[AKTIFSPOR]",
                                    "CategoryCount": "1199"
                                },
                                {
                                    "last_order_channel": "Offline",
                                    "interested_in_categories_12": "[AKTIFSPOR]",
                                    "CategoryCount": "974"
                                },
                                {
                                    "last_order_channel": "Offline",
                                    "interested_in_categories_12": "[KADIN]",
                                    "CategoryCount": "939"
                                },
                                {
                                    "last_order_channel": "Android App",
                                    "interested_in_categories_12": "[]",
                                    "CategoryCount": "751"
                                },
                                {
                                    "last_order_channel": "Android App",
                                    "interested_in_categories_12": "[ERKEK]",
                                    "CategoryCount": "735"
                                },
                                {
                                    "last_order_channel": "Mobile",
                                    "interested_in_categories_12": "[AKTIFSPOR]",
                                    "CategoryCount": "628"
                                },
                                {
                                    "last_order_channel": "Offline",
                                    "interested_in_categories_12": "[KADIN, AKTIFSPOR]",
                                    "CategoryCount": "560"
                                },
                                {
                                    "last_order_channel": "Offline",
                                    "interested_in_categories_12": "[ERKEK]",
                                    "CategoryCount": "550"
                                },
                                {
                                    "last_order_channel": "Android App",
                                    "interested_in_categories_12": "[KADIN]",
                                    "CategoryCount": "511"
                                },
                                {
                                    "last_order_channel": "Offline",
                                    "interested_in_categories_12": "[]",
                                    "CategoryCount": "496"
                                },
                                {
                                    "last_order_channel": "Android App",
                                    "interested_in_categories_12": "[ERKEK, AKTIFSPOR]",
                                    "CategoryCount": "483"
                                },
                                {
                                    "last_order_channel": "Mobile",
                                    "interested_in_categories_12": "[]",
                                    "CategoryCount": "472"
                                },
                                {
                                    "last_order_channel": "Offline",
                                    "interested_in_categories_12": "[ERKEK, KADIN]",
                                    "CategoryCount": "396"
                                },
                                {
                                    "last_order_channel": "Android App",
                                    "interested_in_categories_12": "[KADIN, AKTIFSPOR]",
                                    "CategoryCount": "395"
                                },
                                {
                                    "last_order_channel": "Mobile",
                                    "interested_in_categories_12": "[KADIN]",
                                    "CategoryCount": "360"
                                },
                                {
                                    "last_order_channel": "Offline",
                                    "interested_in_categories_12": "[COCUK]",
                                    "CategoryCount": "359"
                                },
                                {
                                    "last_order_channel": "Ios App",
                                    "interested_in_categories_12": "[AKTIFSPOR]",
                                    "CategoryCount": "344"
                                },
                                {
                                    "last_order_channel": "Desktop",
                                    "interested_in_categories_12": "[AKTIFSPOR]",
                                    "CategoryCount": "319"
                                },
                                {
                                    "last_order_channel": "Mobile",
                                    "interested_in_categories_12": "[ERKEK]",
                                    "CategoryCount": "316"
                                },
                                {
                                    "last_order_channel": "Offline",
                                    "interested_in_categories_12": "[ERKEK, AKTIFSPOR]",
                                    "CategoryCount": "311"
                                },
                                {
                                    "last_order_channel": "Offline",
                                    "interested_in_categories_12": "[ERKEK, KADIN, AKTIFSPOR]",
                                    "CategoryCount": "288"
                                },
                                {
                                    "last_order_channel": "Android App",
                                    "interested_in_categories_12": "[ERKEK, KADIN, AKTIFSPOR]",
                                    "CategoryCount": "278"
                                },
                                {
                                    "last_order_channel": "Android App",
                                    "interested_in_categories_12": "[ERKEK, KADIN]",
                                    "CategoryCount": "243"
                                },
                                {
                                    "last_order_channel": "Desktop",
                                    "interested_in_categories_12": "[]",
                                    "CategoryCount": "224"
                                },
                                {
                                    "last_order_channel": "Offline",
                                    "interested_in_categories_12": "[AKTIFCOCUK]",
                                    "CategoryCount": "210"
                                },
                                {
                                    "last_order_channel": "Android App",
                                    "interested_in_categories_12": "[COCUK]",
                                    "CategoryCount": "209"
                                },
                                {
                                    "last_order_channel": "Android App",
                                    "interested_in_categories_12": "[AKTIFCOCUK]",
                                    "CategoryCount": "208"
                                },
                                {
                                    "last_order_channel": "Mobile",
                                    "interested_in_categories_12": "[KADIN, AKTIFSPOR]",
                                    "CategoryCount": "204"
                                },
                                {
                                    "last_order_channel": "Offline",
                                    "interested_in_categories_12": "[COCUK, KADIN]",
                                    "CategoryCount": "204"
                                },
                                {
                                    "last_order_channel": "Ios App",
                                    "interested_in_categories_12": "[ERKEK]",
                                    "CategoryCount": "192"
                                },
                                {
                                    "last_order_channel": "Ios App",
                                    "interested_in_categories_12": "[]",
                                    "CategoryCount": "192"
                                },
                                {
                                    "last_order_channel": "Desktop",
                                    "interested_in_categories_12": "[KADIN]",
                                    "CategoryCount": "184"
                                },
                                {
                                    "last_order_channel": "Desktop",
                                    "interested_in_categories_12": "[ERKEK]",
                                    "CategoryCount": "180"
                                },
                                {
                                    "last_order_channel": "Ios App",
                                    "interested_in_categories_12": "[KADIN]",
                                    "CategoryCount": "164"
                                },
                                {
                                    "last_order_channel": "Mobile",
                                    "interested_in_categories_12": "[COCUK]",
                                    "CategoryCount": "163"
                                },
                                {
                                    "last_order_channel": "Mobile",
                                    "interested_in_categories_12": "[AKTIFCOCUK]",
                                    "CategoryCount": "147"
                                },
                                {
                                    "last_order_channel": "Ios App",
                                    "interested_in_categories_12": "[ERKEK, AKTIFSPOR]",
                                    "CategoryCount": "132"
                                },
                                {
                                    "last_order_channel": "Mobile",
                                    "interested_in_categories_12": "[ERKEK, AKTIFSPOR]",
                                    "CategoryCount": "130"
                                },
                                {
                                    "last_order_channel": "Android App",
                                    "interested_in_categories_12": "[AKTIFCOCUK, COCUK]",
                                    "CategoryCount": "128"
                                },
                                {
                                    "last_order_channel": "Desktop",
                                    "interested_in_categories_12": "[ERKEK, AKTIFSPOR]",
                                    "CategoryCount": "122"
                                },
                                {
                                    "last_order_channel": "Android App",
                                    "interested_in_categories_12": "[AKTIFCOCUK, AKTIFSPOR]",
                                    "CategoryCount": "119"
                                },
                                {
                                    "last_order_channel": "Android App",
                                    "interested_in_categories_12": "[COCUK, KADIN]",
                                    "CategoryCount": "119"
                                },
                                {
                                    "last_order_channel": "Android App",
                                    "interested_in_categories_12": "[COCUK, AKTIFSPOR]",
                                    "CategoryCount": "111"
                                },
                                {
                                    "last_order_channel": "Android App",
                                    "interested_in_categories_12": "[AKTIFCOCUK, ERKEK, COCUK, KADIN, AKTIFSPOR]",
                                    "CategoryCount": "109"
                                },
                                {
                                    "last_order_channel": "Offline",
                                    "interested_in_categories_12": "[COCUK, AKTIFSPOR]",
                                    "CategoryCount": "109"
                                },
                                {
                                    "last_order_channel": "Desktop",
                                    "interested_in_categories_12": "[KADIN, AKTIFSPOR]",
                                    "CategoryCount": "107"
                                },
                                {
                                    "last_order_channel": "Android App",
                                    "interested_in_categories_12": "[AKTIFCOCUK, COCUK, AKTIFSPOR]",
                                    "CategoryCount": "106"
                                },
                                {
                                    "last_order_channel": "Offline",
                                    "interested_in_categories_12": "[AKTIFCOCUK, COCUK]",
                                    "CategoryCount": "105"
                                },
                                {
                                    "last_order_channel": "Offline",
                                    "interested_in_categories_12": "[AKTIFCOCUK, AKTIFSPOR]",
                                    "CategoryCount": "102"
                                },
                                {
                                    "last_order_channel": "Mobile",
                                    "interested_in_categories_12": "[ERKEK, KADIN]",
                                    "CategoryCount": "97"
                                },
                                {
                                    "last_order_channel": "Android App",
                                    "interested_in_categories_12": "[ERKEK, COCUK]",
                                    "CategoryCount": "96"
                                },
                                {
                                    "last_order_channel": "Android App",
                                    "interested_in_categories_12": "[ERKEK, COCUK, KADIN, AKTIFSPOR]",
                                    "CategoryCount": "95"
                                },
                                {
                                    "last_order_channel": "Offline",
                                    "interested_in_categories_12": "[AKTIFCOCUK, KADIN]",
                                    "CategoryCount": "91"
                                },
                                {
                                    "last_order_channel": "Mobile",
                                    "interested_in_categories_12": "[ERKEK, KADIN, AKTIFSPOR]",
                                    "CategoryCount": "88"
                                },
                                {
                                    "last_order_channel": "Android App",
                                    "interested_in_categories_12": "[COCUK, KADIN, AKTIFSPOR]",
                                    "CategoryCount": "87"
                                },
                                {
                                    "last_order_channel": "Ios App",
                                    "interested_in_categories_12": "[KADIN, AKTIFSPOR]",
                                    "CategoryCount": "86"
                                },
                                {
                                    "last_order_channel": "Android App",
                                    "interested_in_categories_12": "[AKTIFCOCUK, COCUK, KADIN, AKTIFSPOR]",
                                    "CategoryCount": "85"
                                },
                                {
                                    "last_order_channel": "Offline",
                                    "interested_in_categories_12": "[AKTIFCOCUK, COCUK, KADIN]",
                                    "CategoryCount": "85"
                                },
                                {
                                    "last_order_channel": "Offline",
                                    "interested_in_categories_12": "[COCUK, KADIN, AKTIFSPOR]",
                                    "CategoryCount": "84"
                                },
                                {
                                    "last_order_channel": "Offline",
                                    "interested_in_categories_12": "[ERKEK, COCUK, KADIN]",
                                    "CategoryCount": "80"
                                },
                                {
                                    "last_order_channel": "Android App",
                                    "interested_in_categories_12": "[ERKEK, COCUK, KADIN]",
                                    "CategoryCount": "74"
                                },
                                {
                                    "last_order_channel": "Android App",
                                    "interested_in_categories_12": "[AKTIFCOCUK, ERKEK, AKTIFSPOR]",
                                    "CategoryCount": "70"
                                },
                                {
                                    "last_order_channel": "Offline",
                                    "interested_in_categories_12": "[ERKEK, COCUK, KADIN, AKTIFSPOR]",
                                    "CategoryCount": "69"
                                },
                                {
                                    "last_order_channel": "Offline",
                                    "interested_in_categories_12": "[ERKEK, COCUK]",
                                    "CategoryCount": "69"
                                },
                                {
                                    "last_order_channel": "Android App",
                                    "interested_in_categories_12": "[AKTIFCOCUK, ERKEK]",
                                    "CategoryCount": "68"
                                },
                                {
                                    "last_order_channel": "Android App",
                                    "interested_in_categories_12": "[AKTIFCOCUK, KADIN, AKTIFSPOR]",
                                    "CategoryCount": "68"
                                },
                                {
                                    "last_order_channel": "Offline",
                                    "interested_in_categories_12": "[AKTIFCOCUK, ERKEK, COCUK, KADIN, AKTIFSPOR]",
                                    "CategoryCount": "67"
                                },
                                {
                                    "last_order_channel": "Android App",
                                    "interested_in_categories_12": "[ERKEK, COCUK, AKTIFSPOR]",
                                    "CategoryCount": "67"
                                },
                                {
                                    "last_order_channel": "Android App",
                                    "interested_in_categories_12": "[AKTIFCOCUK, ERKEK, KADIN, AKTIFSPOR]",
                                    "CategoryCount": "64"
                                },
                                {
                                    "last_order_channel": "Offline",
                                    "interested_in_categories_12": "[AKTIFCOCUK, COCUK, KADIN, AKTIFSPOR]",
                                    "CategoryCount": "64"
                                },
                                {
                                    "last_order_channel": "Desktop",
                                    "interested_in_categories_12": "[ERKEK, KADIN, AKTIFSPOR]",
                                    "CategoryCount": "62"
                                },
                                {
                                    "last_order_channel": "Ios App",
                                    "interested_in_categories_12": "[AKTIFCOCUK]",
                                    "CategoryCount": "62"
                                },
                                {
                                    "last_order_channel": "Android App",
                                    "interested_in_categories_12": "[AKTIFCOCUK, COCUK, KADIN]",
                                    "CategoryCount": "61"
                                },
                                {
                                    "last_order_channel": "Android App",
                                    "interested_in_categories_12": "[AKTIFCOCUK, ERKEK, COCUK, AKTIFSPOR]",
                                    "CategoryCount": "61"
                                },
                                {
                                    "last_order_channel": "Mobile",
                                    "interested_in_categories_12": "[COCUK, KADIN]",
                                    "CategoryCount": "60"
                                },
                                {
                                    "last_order_channel": "Ios App",
                                    "interested_in_categories_12": "[ERKEK, KADIN, AKTIFSPOR]",
                                    "CategoryCount": "59"
                                },
                                {
                                    "last_order_channel": "Desktop",
                                    "interested_in_categories_12": "[ERKEK, KADIN]",
                                    "CategoryCount": "59"
                                },
                                {
                                    "last_order_channel": "Offline",
                                    "interested_in_categories_12": "[AKTIFCOCUK, KADIN, AKTIFSPOR]",
                                    "CategoryCount": "59"
                                },
                                {
                                    "last_order_channel": "Desktop",
                                    "interested_in_categories_12": "[COCUK]",
                                    "CategoryCount": "58"
                                },
                                {
                                    "last_order_channel": "Ios App",
                                    "interested_in_categories_12": "[ERKEK, KADIN]",
                                    "CategoryCount": "53"
                                },
                                {
                                    "last_order_channel": "Android App",
                                    "interested_in_categories_12": "[AKTIFCOCUK, KADIN]",
                                    "CategoryCount": "53"
                                },
                                {
                                    "last_order_channel": "Android App",
                                    "interested_in_categories_12": "[AKTIFCOCUK, ERKEK, COCUK]",
                                    "CategoryCount": "52"
                                },
                                {
                                    "last_order_channel": "Offline",
                                    "interested_in_categories_12": "[AKTIFCOCUK, COCUK, AKTIFSPOR]",
                                    "CategoryCount": "52"
                                },
                                {
                                    "last_order_channel": "Desktop",
                                    "interested_in_categories_12": "[AKTIFCOCUK]",
                                    "CategoryCount": "52"
                                },
                                {
                                    "last_order_channel": "Mobile",
                                    "interested_in_categories_12": "[AKTIFCOCUK, COCUK]",
                                    "CategoryCount": "50"
                                },
                                {
                                    "last_order_channel": "Offline",
                                    "interested_in_categories_12": "[AKTIFCOCUK, ERKEK]",
                                    "CategoryCount": "49"
                                },
                                {
                                    "last_order_channel": "Mobile",
                                    "interested_in_categories_12": "[AKTIFCOCUK, AKTIFSPOR]",
                                    "CategoryCount": "49"
                                },
                                {
                                    "last_order_channel": "Mobile",
                                    "interested_in_categories_12": "[COCUK, AKTIFSPOR]",
                                    "CategoryCount": "47"
                                },
                                {
                                    "last_order_channel": "Ios App",
                                    "interested_in_categories_12": "[COCUK]",
                                    "CategoryCount": "47"
                                },
                                {
                                    "last_order_channel": "Offline",
                                    "interested_in_categories_12": "[ERKEK, COCUK, AKTIFSPOR]",
                                    "CategoryCount": "46"
                                },
                                {
                                    "last_order_channel": "Android App",
                                    "interested_in_categories_12": "[AKTIFCOCUK, ERKEK, COCUK, KADIN]",
                                    "CategoryCount": "46"
                                },
                                {
                                    "last_order_channel": "Mobile",
                                    "interested_in_categories_12": "[AKTIFCOCUK, KADIN]",
                                    "CategoryCount": "40"
                                },
                                {
                                    "last_order_channel": "Mobile",
                                    "interested_in_categories_12": "[AKTIFCOCUK, COCUK, KADIN]",
                                    "CategoryCount": "37"
                                },
                                {
                                    "last_order_channel": "Offline",
                                    "interested_in_categories_12": "[AKTIFCOCUK, ERKEK, COCUK, KADIN]",
                                    "CategoryCount": "37"
                                },
                                {
                                    "last_order_channel": "Offline",
                                    "interested_in_categories_12": "[AKTIFCOCUK, ERKEK, KADIN, AKTIFSPOR]",
                                    "CategoryCount": "36"
                                },
                                {
                                    "last_order_channel": "Offline",
                                    "interested_in_categories_12": "[AKTIFCOCUK, ERKEK, KADIN]",
                                    "CategoryCount": "34"
                                },
                                {
                                    "last_order_channel": "Desktop",
                                    "interested_in_categories_12": "[AKTIFCOCUK, COCUK]",
                                    "CategoryCount": "33"
                                },
                                {
                                    "last_order_channel": "Ios App",
                                    "interested_in_categories_12": "[AKTIFCOCUK, COCUK]",
                                    "CategoryCount": "33"
                                },
                                {
                                    "last_order_channel": "Offline",
                                    "interested_in_categories_12": "[AKTIFCOCUK, ERKEK, COCUK]",
                                    "CategoryCount": "33"
                                },
                                {
                                    "last_order_channel": "Android App",
                                    "interested_in_categories_12": "[AKTIFCOCUK, ERKEK, KADIN]",
                                    "CategoryCount": "32"
                                },
                                {
                                    "last_order_channel": "Desktop",
                                    "interested_in_categories_12": "[COCUK, KADIN]",
                                    "CategoryCount": "31"
                                },
                                {
                                    "last_order_channel": "Mobile",
                                    "interested_in_categories_12": "[AKTIFCOCUK, COCUK, KADIN, AKTIFSPOR]",
                                    "CategoryCount": "31"
                                },
                                {
                                    "last_order_channel": "Mobile",
                                    "interested_in_categories_12": "[COCUK, KADIN, AKTIFSPOR]",
                                    "CategoryCount": "29"
                                },
                                {
                                    "last_order_channel": "Ios App",
                                    "interested_in_categories_12": "[COCUK, KADIN]",
                                    "CategoryCount": "29"
                                },
                                {
                                    "last_order_channel": "Offline",
                                    "interested_in_categories_12": "[AKTIFCOCUK, ERKEK, AKTIFSPOR]",
                                    "CategoryCount": "28"
                                },
                                {
                                    "last_order_channel": "Mobile",
                                    "interested_in_categories_12": "[AKTIFCOCUK, KADIN, AKTIFSPOR]",
                                    "CategoryCount": "28"
                                },
                                {
                                    "last_order_channel": "Desktop",
                                    "interested_in_categories_12": "[COCUK, AKTIFSPOR]",
                                    "CategoryCount": "26"
                                },
                                {
                                    "last_order_channel": "Desktop",
                                    "interested_in_categories_12": "[AKTIFCOCUK, AKTIFSPOR]",
                                    "CategoryCount": "25"
                                },
                                {
                                    "last_order_channel": "Ios App",
                                    "interested_in_categories_12": "[COCUK, AKTIFSPOR]",
                                    "CategoryCount": "24"
                                },
                                {
                                    "last_order_channel": "Ios App",
                                    "interested_in_categories_12": "[COCUK, KADIN, AKTIFSPOR]",
                                    "CategoryCount": "24"
                                },
                                {
                                    "last_order_channel": "Mobile",
                                    "interested_in_categories_12": "[ERKEK, COCUK, KADIN]",
                                    "CategoryCount": "23"
                                },
                                {
                                    "last_order_channel": "Ios App",
                                    "interested_in_categories_12": "[AKTIFCOCUK, AKTIFSPOR]",
                                    "CategoryCount": "22"
                                },
                                {
                                    "last_order_channel": "Offline",
                                    "interested_in_categories_12": "[AKTIFCOCUK, ERKEK, COCUK, AKTIFSPOR]",
                                    "CategoryCount": "22"
                                },
                                {
                                    "last_order_channel": "Mobile",
                                    "interested_in_categories_12": "[AKTIFCOCUK, COCUK, AKTIFSPOR]",
                                    "CategoryCount": "21"
                                },
                                {
                                    "last_order_channel": "Mobile",
                                    "interested_in_categories_12": "[ERKEK, COCUK, KADIN, AKTIFSPOR]",
                                    "CategoryCount": "20"
                                },
                                {
                                    "last_order_channel": "Ios App",
                                    "interested_in_categories_12": "[ERKEK, COCUK]",
                                    "CategoryCount": "19"
                                },
                                {
                                    "last_order_channel": "Mobile",
                                    "interested_in_categories_12": "[ERKEK, COCUK]",
                                    "CategoryCount": "18"
                                },
                                {
                                    "last_order_channel": "Ios App",
                                    "interested_in_categories_12": "[ERKEK, COCUK, AKTIFSPOR]",
                                    "CategoryCount": "18"
                                },
                                {
                                    "last_order_channel": "Ios App",
                                    "interested_in_categories_12": "[AKTIFCOCUK, KADIN, AKTIFSPOR]",
                                    "CategoryCount": "18"
                                },
                                {
                                    "last_order_channel": "Desktop",
                                    "interested_in_categories_12": "[AKTIFCOCUK, COCUK, KADIN]",
                                    "CategoryCount": "17"
                                },
                                {
                                    "last_order_channel": "Ios App",
                                    "interested_in_categories_12": "[ERKEK, COCUK, KADIN, AKTIFSPOR]",
                                    "CategoryCount": "17"
                                },
                                {
                                    "last_order_channel": "Desktop",
                                    "interested_in_categories_12": "[COCUK, KADIN, AKTIFSPOR]",
                                    "CategoryCount": "17"
                                },
                                {
                                    "last_order_channel": "Ios App",
                                    "interested_in_categories_12": "[AKTIFCOCUK, ERKEK, COCUK, KADIN, AKTIFSPOR]",
                                    "CategoryCount": "16"
                                },
                                {
                                    "last_order_channel": "Desktop",
                                    "interested_in_categories_12": "[AKTIFCOCUK, ERKEK, AKTIFSPOR]",
                                    "CategoryCount": "16"
                                },
                                {
                                    "last_order_channel": "Desktop",
                                    "interested_in_categories_12": "[ERKEK, COCUK, KADIN]",
                                    "CategoryCount": "16"
                                },
                                {
                                    "last_order_channel": "Desktop",
                                    "interested_in_categories_12": "[AKTIFCOCUK, ERKEK, COCUK, KADIN, AKTIFSPOR]",
                                    "CategoryCount": "16"
                                },
                                {
                                    "last_order_channel": "Mobile",
                                    "interested_in_categories_12": "[AKTIFCOCUK, ERKEK, KADIN, AKTIFSPOR]",
                                    "CategoryCount": "15"
                                },
                                {
                                    "last_order_channel": "Mobile",
                                    "interested_in_categories_12": "[AKTIFCOCUK, ERKEK]",
                                    "CategoryCount": "15"
                                },
                                {
                                    "last_order_channel": "Mobile",
                                    "interested_in_categories_12": "[AKTIFCOCUK, ERKEK, COCUK, KADIN, AKTIFSPOR]",
                                    "CategoryCount": "15"
                                },
                                {
                                    "last_order_channel": "Mobile",
                                    "interested_in_categories_12": "[ERKEK, COCUK, AKTIFSPOR]",
                                    "CategoryCount": "15"
                                },
                                {
                                    "last_order_channel": "Mobile",
                                    "interested_in_categories_12": "[AKTIFCOCUK, ERKEK, AKTIFSPOR]",
                                    "CategoryCount": "14"
                                },
                                {
                                    "last_order_channel": "Ios App",
                                    "interested_in_categories_12": "[AKTIFCOCUK, KADIN]",
                                    "CategoryCount": "14"
                                },
                                {
                                    "last_order_channel": "Ios App",
                                    "interested_in_categories_12": "[AKTIFCOCUK, ERKEK, AKTIFSPOR]",
                                    "CategoryCount": "14"
                                },
                                {
                                    "last_order_channel": "Ios App",
                                    "interested_in_categories_12": "[AKTIFCOCUK, ERKEK, COCUK, KADIN]",
                                    "CategoryCount": "14"
                                },
                                {
                                    "last_order_channel": "Desktop",
                                    "interested_in_categories_12": "[ERKEK, COCUK]",
                                    "CategoryCount": "13"
                                },
                                {
                                    "last_order_channel": "Ios App",
                                    "interested_in_categories_12": "[AKTIFCOCUK, COCUK, AKTIFSPOR]",
                                    "CategoryCount": "13"
                                },
                                {
                                    "last_order_channel": "Ios App",
                                    "interested_in_categories_12": "[AKTIFCOCUK, ERKEK, COCUK]",
                                    "CategoryCount": "13"
                                },
                                {
                                    "last_order_channel": "Ios App",
                                    "interested_in_categories_12": "[AKTIFCOCUK, COCUK, KADIN]",
                                    "CategoryCount": "13"
                                },
                                {
                                    "last_order_channel": "Ios App",
                                    "interested_in_categories_12": "[AKTIFCOCUK, ERKEK, KADIN, AKTIFSPOR]",
                                    "CategoryCount": "12"
                                },
                                {
                                    "last_order_channel": "Desktop",
                                    "interested_in_categories_12": "[AKTIFCOCUK, KADIN]",
                                    "CategoryCount": "12"
                                },
                                {
                                    "last_order_channel": "Desktop",
                                    "interested_in_categories_12": "[AKTIFCOCUK, ERKEK, COCUK]",
                                    "CategoryCount": "12"
                                },
                                {
                                    "last_order_channel": "Desktop",
                                    "interested_in_categories_12": "[ERKEK, COCUK, KADIN, AKTIFSPOR]",
                                    "CategoryCount": "12"
                                },
                                {
                                    "last_order_channel": "Desktop",
                                    "interested_in_categories_12": "[AKTIFCOCUK, COCUK, KADIN, AKTIFSPOR]",
                                    "CategoryCount": "12"
                                },
                                {
                                    "last_order_channel": "Ios App",
                                    "interested_in_categories_12": "[AKTIFCOCUK, ERKEK]",
                                    "CategoryCount": "12"
                                },
                                {
                                    "last_order_channel": "Mobile",
                                    "interested_in_categories_12": "[AKTIFCOCUK, ERKEK, COCUK]",
                                    "CategoryCount": "12"
                                },
                                {
                                    "last_order_channel": "Mobile",
                                    "interested_in_categories_12": "[AKTIFCOCUK, ERKEK, COCUK, KADIN]",
                                    "CategoryCount": "12"
                                },
                                {
                                    "last_order_channel": "Desktop",
                                    "interested_in_categories_12": "[AKTIFCOCUK, KADIN, AKTIFSPOR]",
                                    "CategoryCount": "11"
                                },
                                {
                                    "last_order_channel": "Ios App",
                                    "interested_in_categories_12": "[ERKEK, COCUK, KADIN]",
                                    "CategoryCount": "11"
                                },
                                {
                                    "last_order_channel": "Ios App",
                                    "interested_in_categories_12": "[AKTIFCOCUK, COCUK, KADIN, AKTIFSPOR]",
                                    "CategoryCount": "11"
                                },
                                {
                                    "last_order_channel": "Desktop",
                                    "interested_in_categories_12": "[AKTIFCOCUK, COCUK, AKTIFSPOR]",
                                    "CategoryCount": "10"
                                },
                                {
                                    "last_order_channel": "Mobile",
                                    "interested_in_categories_12": "[AKTIFCOCUK, ERKEK, COCUK, AKTIFSPOR]",
                                    "CategoryCount": "10"
                                },
                                {
                                    "last_order_channel": "Desktop",
                                    "interested_in_categories_12": "[ERKEK, COCUK, AKTIFSPOR]",
                                    "CategoryCount": "10"
                                },
                                {
                                    "last_order_channel": "Ios App",
                                    "interested_in_categories_12": "[AKTIFCOCUK, ERKEK, KADIN]",
                                    "CategoryCount": "10"
                                },
                                {
                                    "last_order_channel": "Desktop",
                                    "interested_in_categories_12": "[AKTIFCOCUK, ERKEK]",
                                    "CategoryCount": "8"
                                },
                                {
                                    "last_order_channel": "Ios App",
                                    "interested_in_categories_12": "[AKTIFCOCUK, ERKEK, COCUK, AKTIFSPOR]",
                                    "CategoryCount": "8"
                                },
                                {
                                    "last_order_channel": "Desktop",
                                    "interested_in_categories_12": "[AKTIFCOCUK, ERKEK, KADIN]",
                                    "CategoryCount": "7"
                                },
                                {
                                    "last_order_channel": "Desktop",
                                    "interested_in_categories_12": "[AKTIFCOCUK, ERKEK, COCUK, KADIN]",
                                    "CategoryCount": "6"
                                },
                                {
                                    "last_order_channel": "Mobile",
                                    "interested_in_categories_12": "[AKTIFCOCUK, ERKEK, KADIN]",
                                    "CategoryCount": "6"
                                },
                                {
                                    "last_order_channel": "Desktop",
                                    "interested_in_categories_12": "[AKTIFCOCUK, ERKEK, KADIN, AKTIFSPOR]",
                                    "CategoryCount": "5"
                                },
                                {
                                    "last_order_channel": "Desktop",
                                    "interested_in_categories_12": "[AKTIFCOCUK, ERKEK, COCUK, AKTIFSPOR]",
                                    "CategoryCount": "4"
                                }
                            ]
                        },
                        "text/html": [
                            "<table>",
                            "<tr><th>last_order_channel</th><th>interested_in_categories_12</th><th>CategoryCount</th></tr>",
                            "<tr><td>Android App</td><td>[AKTIFSPOR]</td><td>1199</td></tr>",
                            "<tr><td>Offline</td><td>[AKTIFSPOR]</td><td>974</td></tr>",
                            "<tr><td>Offline</td><td>[KADIN]</td><td>939</td></tr>",
                            "<tr><td>Android App</td><td>[]</td><td>751</td></tr>",
                            "<tr><td>Android App</td><td>[ERKEK]</td><td>735</td></tr>",
                            "<tr><td>Mobile</td><td>[AKTIFSPOR]</td><td>628</td></tr>",
                            "<tr><td>Offline</td><td>[KADIN, AKTIFSPOR]</td><td>560</td></tr>",
                            "<tr><td>Offline</td><td>[ERKEK]</td><td>550</td></tr>",
                            "<tr><td>Android App</td><td>[KADIN]</td><td>511</td></tr>",
                            "<tr><td>Offline</td><td>[]</td><td>496</td></tr>",
                            "<tr><td>Android App</td><td>[ERKEK, AKTIFSPOR]</td><td>483</td></tr>",
                            "<tr><td>Mobile</td><td>[]</td><td>472</td></tr>",
                            "<tr><td>Offline</td><td>[ERKEK, KADIN]</td><td>396</td></tr>",
                            "<tr><td>Android App</td><td>[KADIN, AKTIFSPOR]</td><td>395</td></tr>",
                            "<tr><td>Mobile</td><td>[KADIN]</td><td>360</td></tr>",
                            "<tr><td>Offline</td><td>[COCUK]</td><td>359</td></tr>",
                            "<tr><td>Ios App</td><td>[AKTIFSPOR]</td><td>344</td></tr>",
                            "<tr><td>Desktop</td><td>[AKTIFSPOR]</td><td>319</td></tr>",
                            "<tr><td>Mobile</td><td>[ERKEK]</td><td>316</td></tr>",
                            "<tr><td>Offline</td><td>[ERKEK, AKTIFSPOR]</td><td>311</td></tr>",
                            "<tr><td>Offline</td><td>[ERKEK, KADIN, AKTIFSPOR]</td><td>288</td></tr>",
                            "<tr><td>Android App</td><td>[ERKEK, KADIN, AKTIFSPOR]</td><td>278</td></tr>",
                            "<tr><td>Android App</td><td>[ERKEK, KADIN]</td><td>243</td></tr>",
                            "<tr><td>Desktop</td><td>[]</td><td>224</td></tr>",
                            "<tr><td>Offline</td><td>[AKTIFCOCUK]</td><td>210</td></tr>",
                            "<tr><td>Android App</td><td>[COCUK]</td><td>209</td></tr>",
                            "<tr><td>Android App</td><td>[AKTIFCOCUK]</td><td>208</td></tr>",
                            "<tr><td>Mobile</td><td>[KADIN, AKTIFSPOR]</td><td>204</td></tr>",
                            "<tr><td>Offline</td><td>[COCUK, KADIN]</td><td>204</td></tr>",
                            "<tr><td>Ios App</td><td>[ERKEK]</td><td>192</td></tr>",
                            "<tr><td>Ios App</td><td>[]</td><td>192</td></tr>",
                            "<tr><td>Desktop</td><td>[KADIN]</td><td>184</td></tr>",
                            "<tr><td>Desktop</td><td>[ERKEK]</td><td>180</td></tr>",
                            "<tr><td>Ios App</td><td>[KADIN]</td><td>164</td></tr>",
                            "<tr><td>Mobile</td><td>[COCUK]</td><td>163</td></tr>",
                            "<tr><td>Mobile</td><td>[AKTIFCOCUK]</td><td>147</td></tr>",
                            "<tr><td>Ios App</td><td>[ERKEK, AKTIFSPOR]</td><td>132</td></tr>",
                            "<tr><td>Mobile</td><td>[ERKEK, AKTIFSPOR]</td><td>130</td></tr>",
                            "<tr><td>Android App</td><td>[AKTIFCOCUK, COCUK]</td><td>128</td></tr>",
                            "<tr><td>Desktop</td><td>[ERKEK, AKTIFSPOR]</td><td>122</td></tr>",
                            "<tr><td>Android App</td><td>[AKTIFCOCUK, AKTIFSPOR]</td><td>119</td></tr>",
                            "<tr><td>Android App</td><td>[COCUK, KADIN]</td><td>119</td></tr>",
                            "<tr><td>Android App</td><td>[COCUK, AKTIFSPOR]</td><td>111</td></tr>",
                            "<tr><td>Android App</td><td>[AKTIFCOCUK, ERKEK, COCUK, KADIN, AKTIFSPOR]</td><td>109</td></tr>",
                            "<tr><td>Offline</td><td>[COCUK, AKTIFSPOR]</td><td>109</td></tr>",
                            "<tr><td>Desktop</td><td>[KADIN, AKTIFSPOR]</td><td>107</td></tr>",
                            "<tr><td>Android App</td><td>[AKTIFCOCUK, COCUK, AKTIFSPOR]</td><td>106</td></tr>",
                            "<tr><td>Offline</td><td>[AKTIFCOCUK, COCUK]</td><td>105</td></tr>",
                            "<tr><td>Offline</td><td>[AKTIFCOCUK, AKTIFSPOR]</td><td>102</td></tr>",
                            "<tr><td>Mobile</td><td>[ERKEK, KADIN]</td><td>97</td></tr>",
                            "<tr><td>Android App</td><td>[ERKEK, COCUK]</td><td>96</td></tr>",
                            "<tr><td>Android App</td><td>[ERKEK, COCUK, KADIN, AKTIFSPOR]</td><td>95</td></tr>",
                            "<tr><td>Offline</td><td>[AKTIFCOCUK, KADIN]</td><td>91</td></tr>",
                            "<tr><td>Mobile</td><td>[ERKEK, KADIN, AKTIFSPOR]</td><td>88</td></tr>",
                            "<tr><td>Android App</td><td>[COCUK, KADIN, AKTIFSPOR]</td><td>87</td></tr>",
                            "<tr><td>Ios App</td><td>[KADIN, AKTIFSPOR]</td><td>86</td></tr>",
                            "<tr><td>Android App</td><td>[AKTIFCOCUK, COCUK, KADIN, AKTIFSPOR]</td><td>85</td></tr>",
                            "<tr><td>Offline</td><td>[AKTIFCOCUK, COCUK, KADIN]</td><td>85</td></tr>",
                            "<tr><td>Offline</td><td>[COCUK, KADIN, AKTIFSPOR]</td><td>84</td></tr>",
                            "<tr><td>Offline</td><td>[ERKEK, COCUK, KADIN]</td><td>80</td></tr>",
                            "<tr><td>Android App</td><td>[ERKEK, COCUK, KADIN]</td><td>74</td></tr>",
                            "<tr><td>Android App</td><td>[AKTIFCOCUK, ERKEK, AKTIFSPOR]</td><td>70</td></tr>",
                            "<tr><td>Offline</td><td>[ERKEK, COCUK, KADIN, AKTIFSPOR]</td><td>69</td></tr>",
                            "<tr><td>Offline</td><td>[ERKEK, COCUK]</td><td>69</td></tr>",
                            "<tr><td>Android App</td><td>[AKTIFCOCUK, ERKEK]</td><td>68</td></tr>",
                            "<tr><td>Android App</td><td>[AKTIFCOCUK, KADIN, AKTIFSPOR]</td><td>68</td></tr>",
                            "<tr><td>Offline</td><td>[AKTIFCOCUK, ERKEK, COCUK, KADIN, AKTIFSPOR]</td><td>67</td></tr>",
                            "<tr><td>Android App</td><td>[ERKEK, COCUK, AKTIFSPOR]</td><td>67</td></tr>",
                            "<tr><td>Android App</td><td>[AKTIFCOCUK, ERKEK, KADIN, AKTIFSPOR]</td><td>64</td></tr>",
                            "<tr><td>Offline</td><td>[AKTIFCOCUK, COCUK, KADIN, AKTIFSPOR]</td><td>64</td></tr>",
                            "<tr><td>Desktop</td><td>[ERKEK, KADIN, AKTIFSPOR]</td><td>62</td></tr>",
                            "<tr><td>Ios App</td><td>[AKTIFCOCUK]</td><td>62</td></tr>",
                            "<tr><td>Android App</td><td>[AKTIFCOCUK, COCUK, KADIN]</td><td>61</td></tr>",
                            "<tr><td>Android App</td><td>[AKTIFCOCUK, ERKEK, COCUK, AKTIFSPOR]</td><td>61</td></tr>",
                            "<tr><td>Mobile</td><td>[COCUK, KADIN]</td><td>60</td></tr>",
                            "<tr><td>Ios App</td><td>[ERKEK, KADIN, AKTIFSPOR]</td><td>59</td></tr>",
                            "<tr><td>Desktop</td><td>[ERKEK, KADIN]</td><td>59</td></tr>",
                            "<tr><td>Offline</td><td>[AKTIFCOCUK, KADIN, AKTIFSPOR]</td><td>59</td></tr>",
                            "<tr><td>Desktop</td><td>[COCUK]</td><td>58</td></tr>",
                            "<tr><td>Ios App</td><td>[ERKEK, KADIN]</td><td>53</td></tr>",
                            "<tr><td>Android App</td><td>[AKTIFCOCUK, KADIN]</td><td>53</td></tr>",
                            "<tr><td>Android App</td><td>[AKTIFCOCUK, ERKEK, COCUK]</td><td>52</td></tr>",
                            "<tr><td>Offline</td><td>[AKTIFCOCUK, COCUK, AKTIFSPOR]</td><td>52</td></tr>",
                            "<tr><td>Desktop</td><td>[AKTIFCOCUK]</td><td>52</td></tr>",
                            "<tr><td>Mobile</td><td>[AKTIFCOCUK, COCUK]</td><td>50</td></tr>",
                            "<tr><td>Offline</td><td>[AKTIFCOCUK, ERKEK]</td><td>49</td></tr>",
                            "<tr><td>Mobile</td><td>[AKTIFCOCUK, AKTIFSPOR]</td><td>49</td></tr>",
                            "<tr><td>Mobile</td><td>[COCUK, AKTIFSPOR]</td><td>47</td></tr>",
                            "<tr><td>Ios App</td><td>[COCUK]</td><td>47</td></tr>",
                            "<tr><td>Offline</td><td>[ERKEK, COCUK, AKTIFSPOR]</td><td>46</td></tr>",
                            "<tr><td>Android App</td><td>[AKTIFCOCUK, ERKEK, COCUK, KADIN]</td><td>46</td></tr>",
                            "<tr><td>Mobile</td><td>[AKTIFCOCUK, KADIN]</td><td>40</td></tr>",
                            "<tr><td>Mobile</td><td>[AKTIFCOCUK, COCUK, KADIN]</td><td>37</td></tr>",
                            "<tr><td>Offline</td><td>[AKTIFCOCUK, ERKEK, COCUK, KADIN]</td><td>37</td></tr>",
                            "<tr><td>Offline</td><td>[AKTIFCOCUK, ERKEK, KADIN, AKTIFSPOR]</td><td>36</td></tr>",
                            "<tr><td>Offline</td><td>[AKTIFCOCUK, ERKEK, KADIN]</td><td>34</td></tr>",
                            "<tr><td>Desktop</td><td>[AKTIFCOCUK, COCUK]</td><td>33</td></tr>",
                            "<tr><td>Ios App</td><td>[AKTIFCOCUK, COCUK]</td><td>33</td></tr>",
                            "<tr><td>Offline</td><td>[AKTIFCOCUK, ERKEK, COCUK]</td><td>33</td></tr>",
                            "<tr><td>Android App</td><td>[AKTIFCOCUK, ERKEK, KADIN]</td><td>32</td></tr>",
                            "<tr><td>Desktop</td><td>[COCUK, KADIN]</td><td>31</td></tr>",
                            "<tr><td>Mobile</td><td>[AKTIFCOCUK, COCUK, KADIN, AKTIFSPOR]</td><td>31</td></tr>",
                            "<tr><td>Mobile</td><td>[COCUK, KADIN, AKTIFSPOR]</td><td>29</td></tr>",
                            "<tr><td>Ios App</td><td>[COCUK, KADIN]</td><td>29</td></tr>",
                            "<tr><td>Offline</td><td>[AKTIFCOCUK, ERKEK, AKTIFSPOR]</td><td>28</td></tr>",
                            "<tr><td>Mobile</td><td>[AKTIFCOCUK, KADIN, AKTIFSPOR]</td><td>28</td></tr>",
                            "<tr><td>Desktop</td><td>[COCUK, AKTIFSPOR]</td><td>26</td></tr>",
                            "<tr><td>Desktop</td><td>[AKTIFCOCUK, AKTIFSPOR]</td><td>25</td></tr>",
                            "<tr><td>Ios App</td><td>[COCUK, AKTIFSPOR]</td><td>24</td></tr>",
                            "<tr><td>Ios App</td><td>[COCUK, KADIN, AKTIFSPOR]</td><td>24</td></tr>",
                            "<tr><td>Mobile</td><td>[ERKEK, COCUK, KADIN]</td><td>23</td></tr>",
                            "<tr><td>Ios App</td><td>[AKTIFCOCUK, AKTIFSPOR]</td><td>22</td></tr>",
                            "<tr><td>Offline</td><td>[AKTIFCOCUK, ERKEK, COCUK, AKTIFSPOR]</td><td>22</td></tr>",
                            "<tr><td>Mobile</td><td>[AKTIFCOCUK, COCUK, AKTIFSPOR]</td><td>21</td></tr>",
                            "<tr><td>Mobile</td><td>[ERKEK, COCUK, KADIN, AKTIFSPOR]</td><td>20</td></tr>",
                            "<tr><td>Ios App</td><td>[ERKEK, COCUK]</td><td>19</td></tr>",
                            "<tr><td>Mobile</td><td>[ERKEK, COCUK]</td><td>18</td></tr>",
                            "<tr><td>Ios App</td><td>[ERKEK, COCUK, AKTIFSPOR]</td><td>18</td></tr>",
                            "<tr><td>Ios App</td><td>[AKTIFCOCUK, KADIN, AKTIFSPOR]</td><td>18</td></tr>",
                            "<tr><td>Desktop</td><td>[AKTIFCOCUK, COCUK, KADIN]</td><td>17</td></tr>",
                            "<tr><td>Ios App</td><td>[ERKEK, COCUK, KADIN, AKTIFSPOR]</td><td>17</td></tr>",
                            "<tr><td>Desktop</td><td>[COCUK, KADIN, AKTIFSPOR]</td><td>17</td></tr>",
                            "<tr><td>Ios App</td><td>[AKTIFCOCUK, ERKEK, COCUK, KADIN, AKTIFSPOR]</td><td>16</td></tr>",
                            "<tr><td>Desktop</td><td>[AKTIFCOCUK, ERKEK, AKTIFSPOR]</td><td>16</td></tr>",
                            "<tr><td>Desktop</td><td>[ERKEK, COCUK, KADIN]</td><td>16</td></tr>",
                            "<tr><td>Desktop</td><td>[AKTIFCOCUK, ERKEK, COCUK, KADIN, AKTIFSPOR]</td><td>16</td></tr>",
                            "<tr><td>Mobile</td><td>[AKTIFCOCUK, ERKEK, KADIN, AKTIFSPOR]</td><td>15</td></tr>",
                            "<tr><td>Mobile</td><td>[AKTIFCOCUK, ERKEK]</td><td>15</td></tr>",
                            "<tr><td>Mobile</td><td>[AKTIFCOCUK, ERKEK, COCUK, KADIN, AKTIFSPOR]</td><td>15</td></tr>",
                            "<tr><td>Mobile</td><td>[ERKEK, COCUK, AKTIFSPOR]</td><td>15</td></tr>",
                            "<tr><td>Mobile</td><td>[AKTIFCOCUK, ERKEK, AKTIFSPOR]</td><td>14</td></tr>",
                            "<tr><td>Ios App</td><td>[AKTIFCOCUK, KADIN]</td><td>14</td></tr>",
                            "<tr><td>Ios App</td><td>[AKTIFCOCUK, ERKEK, AKTIFSPOR]</td><td>14</td></tr>",
                            "<tr><td>Ios App</td><td>[AKTIFCOCUK, ERKEK, COCUK, KADIN]</td><td>14</td></tr>",
                            "<tr><td>Desktop</td><td>[ERKEK, COCUK]</td><td>13</td></tr>",
                            "<tr><td>Ios App</td><td>[AKTIFCOCUK, COCUK, AKTIFSPOR]</td><td>13</td></tr>",
                            "<tr><td>Ios App</td><td>[AKTIFCOCUK, ERKEK, COCUK]</td><td>13</td></tr>",
                            "<tr><td>Ios App</td><td>[AKTIFCOCUK, COCUK, KADIN]</td><td>13</td></tr>",
                            "<tr><td>Ios App</td><td>[AKTIFCOCUK, ERKEK, KADIN, AKTIFSPOR]</td><td>12</td></tr>",
                            "<tr><td>Desktop</td><td>[AKTIFCOCUK, KADIN]</td><td>12</td></tr>",
                            "<tr><td>Desktop</td><td>[AKTIFCOCUK, ERKEK, COCUK]</td><td>12</td></tr>",
                            "<tr><td>Desktop</td><td>[ERKEK, COCUK, KADIN, AKTIFSPOR]</td><td>12</td></tr>",
                            "<tr><td>Desktop</td><td>[AKTIFCOCUK, COCUK, KADIN, AKTIFSPOR]</td><td>12</td></tr>",
                            "<tr><td>Ios App</td><td>[AKTIFCOCUK, ERKEK]</td><td>12</td></tr>",
                            "<tr><td>Mobile</td><td>[AKTIFCOCUK, ERKEK, COCUK]</td><td>12</td></tr>",
                            "<tr><td>Mobile</td><td>[AKTIFCOCUK, ERKEK, COCUK, KADIN]</td><td>12</td></tr>",
                            "<tr><td>Desktop</td><td>[AKTIFCOCUK, KADIN, AKTIFSPOR]</td><td>11</td></tr>",
                            "<tr><td>Ios App</td><td>[ERKEK, COCUK, KADIN]</td><td>11</td></tr>",
                            "<tr><td>Ios App</td><td>[AKTIFCOCUK, COCUK, KADIN, AKTIFSPOR]</td><td>11</td></tr>",
                            "<tr><td>Desktop</td><td>[AKTIFCOCUK, COCUK, AKTIFSPOR]</td><td>10</td></tr>",
                            "<tr><td>Mobile</td><td>[AKTIFCOCUK, ERKEK, COCUK, AKTIFSPOR]</td><td>10</td></tr>",
                            "<tr><td>Desktop</td><td>[ERKEK, COCUK, AKTIFSPOR]</td><td>10</td></tr>",
                            "<tr><td>Ios App</td><td>[AKTIFCOCUK, ERKEK, KADIN]</td><td>10</td></tr>",
                            "<tr><td>Desktop</td><td>[AKTIFCOCUK, ERKEK]</td><td>8</td></tr>",
                            "<tr><td>Ios App</td><td>[AKTIFCOCUK, ERKEK, COCUK, AKTIFSPOR]</td><td>8</td></tr>",
                            "<tr><td>Desktop</td><td>[AKTIFCOCUK, ERKEK, KADIN]</td><td>7</td></tr>",
                            "<tr><td>Desktop</td><td>[AKTIFCOCUK, ERKEK, COCUK, KADIN]</td><td>6</td></tr>",
                            "<tr><td>Mobile</td><td>[AKTIFCOCUK, ERKEK, KADIN]</td><td>6</td></tr>",
                            "<tr><td>Desktop</td><td>[AKTIFCOCUK, ERKEK, KADIN, AKTIFSPOR]</td><td>5</td></tr>",
                            "<tr><td>Desktop</td><td>[AKTIFCOCUK, ERKEK, COCUK, AKTIFSPOR]</td><td>4</td></tr>",
                            "</table>"
                        ]
                    }
                }
            ],
            "execution_count": 1
        }
    ]
}