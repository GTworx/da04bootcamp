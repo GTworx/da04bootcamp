{
    "metadata": {
        "kernelspec": {
            "name": "SQL",
            "display_name": "SQL",
            "language": "sql"
        },
        "language_info": {
            "name": "sql",
            "version": ""
        }
    },
    "nbformat_minor": 2,
    "nbformat": 4,
    "cells": [
        {
            "cell_type": "markdown",
            "source": [
                "TABLOLAR"
            ],
            "metadata": {
                "azdata_cell_guid": "721341c3-c102-4d28-ba35-d2bb9a306781"
            },
            "attachments": {}
        },
        {
            "cell_type": "code",
            "source": [
                "select top 5 * from [Order Details]\r\n",
                "select top 5 * from Orders\r\n",
                "select top 5 * from [dbo].[Customers]\r\n",
                "select top 5 * from flo_tt"
            ],
            "metadata": {
                "azdata_cell_guid": "a9da248c-eec4-4801-ae23-a97ac4a21620",
                "language": "sql"
            },
            "outputs": [
                {
                    "output_type": "display_data",
                    "data": {
                        "text/html": "(5 rows affected)"
                    },
                    "metadata": {}
                },
                {
                    "output_type": "display_data",
                    "data": {
                        "text/html": "(5 rows affected)"
                    },
                    "metadata": {}
                },
                {
                    "output_type": "display_data",
                    "data": {
                        "text/html": "(5 rows affected)"
                    },
                    "metadata": {}
                },
                {
                    "output_type": "display_data",
                    "data": {
                        "text/html": "(5 rows affected)"
                    },
                    "metadata": {}
                },
                {
                    "output_type": "display_data",
                    "data": {
                        "text/html": "Total execution time: 00:00:00.069"
                    },
                    "metadata": {}
                },
                {
                    "output_type": "execute_result",
                    "metadata": {},
                    "execution_count": 1,
                    "data": {
                        "application/vnd.dataresource+json": {
                            "schema": {
                                "fields": [
                                    {
                                        "name": "OrderID"
                                    },
                                    {
                                        "name": "ProductID"
                                    },
                                    {
                                        "name": "UnitPrice"
                                    },
                                    {
                                        "name": "Quantity"
                                    },
                                    {
                                        "name": "Discount"
                                    }
                                ]
                            },
                            "data": [
                                {
                                    "OrderID": "10248",
                                    "ProductID": "11",
                                    "UnitPrice": "14,00",
                                    "Quantity": "12",
                                    "Discount": "0"
                                },
                                {
                                    "OrderID": "10248",
                                    "ProductID": "42",
                                    "UnitPrice": "9,80",
                                    "Quantity": "10",
                                    "Discount": "0"
                                },
                                {
                                    "OrderID": "10248",
                                    "ProductID": "72",
                                    "UnitPrice": "34,80",
                                    "Quantity": "5",
                                    "Discount": "0"
                                },
                                {
                                    "OrderID": "10249",
                                    "ProductID": "14",
                                    "UnitPrice": "18,60",
                                    "Quantity": "9",
                                    "Discount": "0"
                                },
                                {
                                    "OrderID": "10249",
                                    "ProductID": "51",
                                    "UnitPrice": "42,40",
                                    "Quantity": "40",
                                    "Discount": "0"
                                }
                            ]
                        },
                        "text/html": [
                            "<table>",
                            "<tr><th>OrderID</th><th>ProductID</th><th>UnitPrice</th><th>Quantity</th><th>Discount</th></tr>",
                            "<tr><td>10248</td><td>11</td><td>14,00</td><td>12</td><td>0</td></tr>",
                            "<tr><td>10248</td><td>42</td><td>9,80</td><td>10</td><td>0</td></tr>",
                            "<tr><td>10248</td><td>72</td><td>34,80</td><td>5</td><td>0</td></tr>",
                            "<tr><td>10249</td><td>14</td><td>18,60</td><td>9</td><td>0</td></tr>",
                            "<tr><td>10249</td><td>51</td><td>42,40</td><td>40</td><td>0</td></tr>",
                            "</table>"
                        ]
                    }
                },
                {
                    "output_type": "execute_result",
                    "metadata": {},
                    "execution_count": 1,
                    "data": {
                        "application/vnd.dataresource+json": {
                            "schema": {
                                "fields": [
                                    {
                                        "name": "OrderID"
                                    },
                                    {
                                        "name": "CustomerID"
                                    },
                                    {
                                        "name": "EmployeeID"
                                    },
                                    {
                                        "name": "OrderDate"
                                    },
                                    {
                                        "name": "RequiredDate"
                                    },
                                    {
                                        "name": "ShippedDate"
                                    },
                                    {
                                        "name": "ShipVia"
                                    },
                                    {
                                        "name": "Freight"
                                    },
                                    {
                                        "name": "ShipName"
                                    },
                                    {
                                        "name": "ShipAddress"
                                    },
                                    {
                                        "name": "ShipCity"
                                    },
                                    {
                                        "name": "ShipRegion"
                                    },
                                    {
                                        "name": "ShipPostalCode"
                                    },
                                    {
                                        "name": "ShipCountry"
                                    }
                                ]
                            },
                            "data": [
                                {
                                    "OrderID": "10248",
                                    "CustomerID": "VINET",
                                    "EmployeeID": "5",
                                    "OrderDate": "1996-07-04 00:00:00.000",
                                    "RequiredDate": "1996-08-01 00:00:00.000",
                                    "ShippedDate": "1996-07-16 00:00:00.000",
                                    "ShipVia": "3",
                                    "Freight": "32,38",
                                    "ShipName": "Vins et alcools Chevalier",
                                    "ShipAddress": "59 rue de l'Abbaye",
                                    "ShipCity": "Reims",
                                    "ShipRegion": "NULL",
                                    "ShipPostalCode": "51100",
                                    "ShipCountry": "France"
                                },
                                {
                                    "OrderID": "10249",
                                    "CustomerID": "TOMSP",
                                    "EmployeeID": "6",
                                    "OrderDate": "1996-07-05 00:00:00.000",
                                    "RequiredDate": "1996-08-16 00:00:00.000",
                                    "ShippedDate": "1996-07-10 00:00:00.000",
                                    "ShipVia": "1",
                                    "Freight": "11,61",
                                    "ShipName": "Toms Spezialitäten",
                                    "ShipAddress": "Luisenstr. 48",
                                    "ShipCity": "Münster",
                                    "ShipRegion": "NULL",
                                    "ShipPostalCode": "44087",
                                    "ShipCountry": "Germany"
                                },
                                {
                                    "OrderID": "10250",
                                    "CustomerID": "HANAR",
                                    "EmployeeID": "4",
                                    "OrderDate": "1996-07-08 00:00:00.000",
                                    "RequiredDate": "1996-08-05 00:00:00.000",
                                    "ShippedDate": "1996-07-12 00:00:00.000",
                                    "ShipVia": "2",
                                    "Freight": "65,83",
                                    "ShipName": "Hanari Carnes",
                                    "ShipAddress": "Rua do Paço, 67",
                                    "ShipCity": "Rio de Janeiro",
                                    "ShipRegion": "RJ",
                                    "ShipPostalCode": "05454-876",
                                    "ShipCountry": "Brazil"
                                },
                                {
                                    "OrderID": "10251",
                                    "CustomerID": "VICTE",
                                    "EmployeeID": "3",
                                    "OrderDate": "1996-07-08 00:00:00.000",
                                    "RequiredDate": "1996-08-05 00:00:00.000",
                                    "ShippedDate": "1996-07-15 00:00:00.000",
                                    "ShipVia": "1",
                                    "Freight": "41,34",
                                    "ShipName": "Victuailles en stock",
                                    "ShipAddress": "2, rue du Commerce",
                                    "ShipCity": "Lyon",
                                    "ShipRegion": "NULL",
                                    "ShipPostalCode": "69004",
                                    "ShipCountry": "France"
                                },
                                {
                                    "OrderID": "10252",
                                    "CustomerID": "SUPRD",
                                    "EmployeeID": "4",
                                    "OrderDate": "1996-07-09 00:00:00.000",
                                    "RequiredDate": "1996-08-06 00:00:00.000",
                                    "ShippedDate": "1996-07-11 00:00:00.000",
                                    "ShipVia": "2",
                                    "Freight": "51,30",
                                    "ShipName": "Suprêmes délices",
                                    "ShipAddress": "Boulevard Tirou, 255",
                                    "ShipCity": "Charleroi",
                                    "ShipRegion": "NULL",
                                    "ShipPostalCode": "B-6000",
                                    "ShipCountry": "Belgium"
                                }
                            ]
                        },
                        "text/html": [
                            "<table>",
                            "<tr><th>OrderID</th><th>CustomerID</th><th>EmployeeID</th><th>OrderDate</th><th>RequiredDate</th><th>ShippedDate</th><th>ShipVia</th><th>Freight</th><th>ShipName</th><th>ShipAddress</th><th>ShipCity</th><th>ShipRegion</th><th>ShipPostalCode</th><th>ShipCountry</th></tr>",
                            "<tr><td>10248</td><td>VINET</td><td>5</td><td>1996-07-04 00:00:00.000</td><td>1996-08-01 00:00:00.000</td><td>1996-07-16 00:00:00.000</td><td>3</td><td>32,38</td><td>Vins et alcools Chevalier</td><td>59 rue de l&#39;Abbaye</td><td>Reims</td><td>NULL</td><td>51100</td><td>France</td></tr>",
                            "<tr><td>10249</td><td>TOMSP</td><td>6</td><td>1996-07-05 00:00:00.000</td><td>1996-08-16 00:00:00.000</td><td>1996-07-10 00:00:00.000</td><td>1</td><td>11,61</td><td>Toms Spezialitäten</td><td>Luisenstr. 48</td><td>Münster</td><td>NULL</td><td>44087</td><td>Germany</td></tr>",
                            "<tr><td>10250</td><td>HANAR</td><td>4</td><td>1996-07-08 00:00:00.000</td><td>1996-08-05 00:00:00.000</td><td>1996-07-12 00:00:00.000</td><td>2</td><td>65,83</td><td>Hanari Carnes</td><td>Rua do Paço, 67</td><td>Rio de Janeiro</td><td>RJ</td><td>05454-876</td><td>Brazil</td></tr>",
                            "<tr><td>10251</td><td>VICTE</td><td>3</td><td>1996-07-08 00:00:00.000</td><td>1996-08-05 00:00:00.000</td><td>1996-07-15 00:00:00.000</td><td>1</td><td>41,34</td><td>Victuailles en stock</td><td>2, rue du Commerce</td><td>Lyon</td><td>NULL</td><td>69004</td><td>France</td></tr>",
                            "<tr><td>10252</td><td>SUPRD</td><td>4</td><td>1996-07-09 00:00:00.000</td><td>1996-08-06 00:00:00.000</td><td>1996-07-11 00:00:00.000</td><td>2</td><td>51,30</td><td>Suprêmes délices</td><td>Boulevard Tirou, 255</td><td>Charleroi</td><td>NULL</td><td>B-6000</td><td>Belgium</td></tr>",
                            "</table>"
                        ]
                    }
                },
                {
                    "output_type": "execute_result",
                    "metadata": {},
                    "execution_count": 1,
                    "data": {
                        "application/vnd.dataresource+json": {
                            "schema": {
                                "fields": [
                                    {
                                        "name": "CustomerID"
                                    },
                                    {
                                        "name": "CompanyName"
                                    },
                                    {
                                        "name": "ContactName"
                                    },
                                    {
                                        "name": "ContactTitle"
                                    },
                                    {
                                        "name": "Address"
                                    },
                                    {
                                        "name": "City"
                                    },
                                    {
                                        "name": "Region"
                                    },
                                    {
                                        "name": "PostalCode"
                                    },
                                    {
                                        "name": "Country"
                                    },
                                    {
                                        "name": "Phone"
                                    },
                                    {
                                        "name": "Fax"
                                    }
                                ]
                            },
                            "data": [
                                {
                                    "CustomerID": "ALFKI",
                                    "CompanyName": "Alfreds Futterkiste",
                                    "ContactName": "Maria Anders",
                                    "ContactTitle": "Sales Representative",
                                    "Address": "Obere Str. 57",
                                    "City": "Berlin",
                                    "Region": "NULL",
                                    "PostalCode": "12209",
                                    "Country": "Germany",
                                    "Phone": "030-0074321",
                                    "Fax": "030-0076545"
                                },
                                {
                                    "CustomerID": "ANATR",
                                    "CompanyName": "Ana Trujillo Emparedados y helados",
                                    "ContactName": "Ana Trujillo",
                                    "ContactTitle": "Owner",
                                    "Address": "Avda. de la Constitución 2222",
                                    "City": "México D.F.",
                                    "Region": "NULL",
                                    "PostalCode": "05021",
                                    "Country": "Mexico",
                                    "Phone": "(5) 555-4729",
                                    "Fax": "(5) 555-3745"
                                },
                                {
                                    "CustomerID": "ANTON",
                                    "CompanyName": "Antonio Moreno Taquería",
                                    "ContactName": "Antonio Moreno",
                                    "ContactTitle": "Owner",
                                    "Address": "Mataderos  2312",
                                    "City": "México D.F.",
                                    "Region": "NULL",
                                    "PostalCode": "05023",
                                    "Country": "Mexico",
                                    "Phone": "(5) 555-3932",
                                    "Fax": "NULL"
                                },
                                {
                                    "CustomerID": "AROUT",
                                    "CompanyName": "Around the Horn",
                                    "ContactName": "Thomas Hardy",
                                    "ContactTitle": "Sales Representative",
                                    "Address": "120 Hanover Sq.",
                                    "City": "London",
                                    "Region": "NULL",
                                    "PostalCode": "WA1 1DP",
                                    "Country": "UK",
                                    "Phone": "(171) 555-7788",
                                    "Fax": "(171) 555-6750"
                                },
                                {
                                    "CustomerID": "BERGS",
                                    "CompanyName": "Berglunds snabbköp",
                                    "ContactName": "Christina Berglund",
                                    "ContactTitle": "Order Administrator",
                                    "Address": "Berguvsvägen  8",
                                    "City": "Luleå",
                                    "Region": "NULL",
                                    "PostalCode": "S-958 22",
                                    "Country": "Sweden",
                                    "Phone": "0921-12 34 65",
                                    "Fax": "0921-12 34 67"
                                }
                            ]
                        },
                        "text/html": [
                            "<table>",
                            "<tr><th>CustomerID</th><th>CompanyName</th><th>ContactName</th><th>ContactTitle</th><th>Address</th><th>City</th><th>Region</th><th>PostalCode</th><th>Country</th><th>Phone</th><th>Fax</th></tr>",
                            "<tr><td>ALFKI</td><td>Alfreds Futterkiste</td><td>Maria Anders</td><td>Sales Representative</td><td>Obere Str. 57</td><td>Berlin</td><td>NULL</td><td>12209</td><td>Germany</td><td>030-0074321</td><td>030-0076545</td></tr>",
                            "<tr><td>ANATR</td><td>Ana Trujillo Emparedados y helados</td><td>Ana Trujillo</td><td>Owner</td><td>Avda. de la Constitución 2222</td><td>México D.F.</td><td>NULL</td><td>05021</td><td>Mexico</td><td>(5) 555-4729</td><td>(5) 555-3745</td></tr>",
                            "<tr><td>ANTON</td><td>Antonio Moreno Taquería</td><td>Antonio Moreno</td><td>Owner</td><td>Mataderos  2312</td><td>México D.F.</td><td>NULL</td><td>05023</td><td>Mexico</td><td>(5) 555-3932</td><td>NULL</td></tr>",
                            "<tr><td>AROUT</td><td>Around the Horn</td><td>Thomas Hardy</td><td>Sales Representative</td><td>120 Hanover Sq.</td><td>London</td><td>NULL</td><td>WA1 1DP</td><td>UK</td><td>(171) 555-7788</td><td>(171) 555-6750</td></tr>",
                            "<tr><td>BERGS</td><td>Berglunds snabbköp</td><td>Christina Berglund</td><td>Order Administrator</td><td>Berguvsvägen  8</td><td>Luleå</td><td>NULL</td><td>S-958 22</td><td>Sweden</td><td>0921-12 34 65</td><td>0921-12 34 67</td></tr>",
                            "</table>"
                        ]
                    }
                },
                {
                    "output_type": "execute_result",
                    "metadata": {},
                    "execution_count": 1,
                    "data": {
                        "application/vnd.dataresource+json": {
                            "schema": {
                                "fields": [
                                    {
                                        "name": "CustomerID"
                                    },
                                    {
                                        "name": "FirstInvoiceDate"
                                    },
                                    {
                                        "name": "LastInvoiceDate"
                                    },
                                    {
                                        "name": "Recency"
                                    },
                                    {
                                        "name": "Frequency"
                                    },
                                    {
                                        "name": "Monetary"
                                    },
                                    {
                                        "name": "Tenure"
                                    },
                                    {
                                        "name": "Basket_Size"
                                    },
                                    {
                                        "name": "Recency_Score"
                                    },
                                    {
                                        "name": "Frequency_Score"
                                    },
                                    {
                                        "name": "Monetary_Score"
                                    },
                                    {
                                        "name": "Segment"
                                    }
                                ]
                            },
                            "data": [
                                {
                                    "CustomerID": "cfcc3e08-88c1-11ea-9c02-000d3a38a36f                                                                ",
                                    "FirstInvoiceDate": "2020-05-05 00:00:00.000",
                                    "LastInvoiceDate": "2021-04-26 00:00:00.000",
                                    "Recency": "36",
                                    "Frequency": "40",
                                    "Monetary": "72621",
                                    "Tenure": "392",
                                    "Basket_Size": "1815",
                                    "Recency_Score": "NULL",
                                    "Frequency_Score": "NULL",
                                    "Monetary_Score": "NULL",
                                    "Segment": "NULL"
                                },
                                {
                                    "CustomerID": "6914bd7e-2c05-11eb-b280-000d3a38a36f                                                                ",
                                    "FirstInvoiceDate": "2020-11-21 00:00:00.000",
                                    "LastInvoiceDate": "2021-05-07 00:00:00.000",
                                    "Recency": "25",
                                    "Frequency": "20",
                                    "Monetary": "28726",
                                    "Tenure": "192",
                                    "Basket_Size": "1436",
                                    "Recency_Score": "NULL",
                                    "Frequency_Score": "NULL",
                                    "Monetary_Score": "NULL",
                                    "Segment": "NULL"
                                },
                                {
                                    "CustomerID": "c99f24a2-7f50-11ea-80af-000d3a38a36f                                                                ",
                                    "FirstInvoiceDate": "2019-02-23 00:00:00.000",
                                    "LastInvoiceDate": "2021-03-19 00:00:00.000",
                                    "Recency": "74",
                                    "Frequency": "30",
                                    "Monetary": "49497",
                                    "Tenure": "829",
                                    "Basket_Size": "1649",
                                    "Recency_Score": "NULL",
                                    "Frequency_Score": "NULL",
                                    "Monetary_Score": "NULL",
                                    "Segment": "NULL"
                                },
                                {
                                    "CustomerID": "8b7c25e4-6302-11eb-add3-000d3a38a36f                                                                ",
                                    "FirstInvoiceDate": "2019-03-18 00:00:00.000",
                                    "LastInvoiceDate": "2021-02-07 00:00:00.000",
                                    "Recency": "114",
                                    "Frequency": "30",
                                    "Monetary": "128876",
                                    "Tenure": "806",
                                    "Basket_Size": "4295",
                                    "Recency_Score": "NULL",
                                    "Frequency_Score": "NULL",
                                    "Monetary_Score": "NULL",
                                    "Segment": "NULL"
                                },
                                {
                                    "CustomerID": "56bd42fa-b1e4-11e9-89fa-000d3a38a36f                                                                ",
                                    "FirstInvoiceDate": "2019-07-21 00:00:00.000",
                                    "LastInvoiceDate": "2021-05-12 00:00:00.000",
                                    "Recency": "20",
                                    "Frequency": "20",
                                    "Monetary": "36926",
                                    "Tenure": "681",
                                    "Basket_Size": "1846",
                                    "Recency_Score": "NULL",
                                    "Frequency_Score": "NULL",
                                    "Monetary_Score": "NULL",
                                    "Segment": "NULL"
                                }
                            ]
                        },
                        "text/html": [
                            "<table>",
                            "<tr><th>CustomerID</th><th>FirstInvoiceDate</th><th>LastInvoiceDate</th><th>Recency</th><th>Frequency</th><th>Monetary</th><th>Tenure</th><th>Basket_Size</th><th>Recency_Score</th><th>Frequency_Score</th><th>Monetary_Score</th><th>Segment</th></tr>",
                            "<tr><td>cfcc3e08-88c1-11ea-9c02-000d3a38a36f                                                                </td><td>2020-05-05 00:00:00.000</td><td>2021-04-26 00:00:00.000</td><td>36</td><td>40</td><td>72621</td><td>392</td><td>1815</td><td>NULL</td><td>NULL</td><td>NULL</td><td>NULL</td></tr>",
                            "<tr><td>6914bd7e-2c05-11eb-b280-000d3a38a36f                                                                </td><td>2020-11-21 00:00:00.000</td><td>2021-05-07 00:00:00.000</td><td>25</td><td>20</td><td>28726</td><td>192</td><td>1436</td><td>NULL</td><td>NULL</td><td>NULL</td><td>NULL</td></tr>",
                            "<tr><td>c99f24a2-7f50-11ea-80af-000d3a38a36f                                                                </td><td>2019-02-23 00:00:00.000</td><td>2021-03-19 00:00:00.000</td><td>74</td><td>30</td><td>49497</td><td>829</td><td>1649</td><td>NULL</td><td>NULL</td><td>NULL</td><td>NULL</td></tr>",
                            "<tr><td>8b7c25e4-6302-11eb-add3-000d3a38a36f                                                                </td><td>2019-03-18 00:00:00.000</td><td>2021-02-07 00:00:00.000</td><td>114</td><td>30</td><td>128876</td><td>806</td><td>4295</td><td>NULL</td><td>NULL</td><td>NULL</td><td>NULL</td></tr>",
                            "<tr><td>56bd42fa-b1e4-11e9-89fa-000d3a38a36f                                                                </td><td>2019-07-21 00:00:00.000</td><td>2021-05-12 00:00:00.000</td><td>20</td><td>20</td><td>36926</td><td>681</td><td>1846</td><td>NULL</td><td>NULL</td><td>NULL</td><td>NULL</td></tr>",
                            "</table>"
                        ]
                    }
                }
            ],
            "execution_count": 1
        }
    ]
}