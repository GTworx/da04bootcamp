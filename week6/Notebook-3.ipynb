{
    "metadata": {
        "kernelspec": {
            "name": "SQL",
            "display_name": "SQL",
            "language": "sql"
        },
        "language_info": {
            "name": "sql",
            "version": ""
        }
    },
    "nbformat_minor": 2,
    "nbformat": 4,
    "cells": [
        {
            "cell_type": "markdown",
            "source": [
                "3\\. Toplam yapılan alışveriş adedini ve ciroyu getirecek sorguyu yazınız."
            ],
            "metadata": {
                "azdata_cell_guid": "fece95b1-68f7-43e4-87ec-f934dc25b420"
            },
            "attachments": {}
        },
        {
            "cell_type": "code",
            "source": [
                "select round(SUM(UnitPrice*Quantity*(1-Discount)) , 2) as toplam_ciro , \r\n",
                "COUNT(OrderID) as toplam_alışveriş_sayısı from [dbo].[Order Details]"
            ],
            "metadata": {
                "azdata_cell_guid": "e4ea10bb-a98e-4301-a059-35ac78a1a9ae",
                "language": "sql"
            },
            "outputs": [
                {
                    "output_type": "display_data",
                    "data": {
                        "text/html": "(1 row affected)"
                    },
                    "metadata": {}
                },
                {
                    "output_type": "display_data",
                    "data": {
                        "text/html": "Total execution time: 00:00:00.039"
                    },
                    "metadata": {}
                },
                {
                    "output_type": "execute_result",
                    "metadata": {},
                    "execution_count": 1,
                    "data": {
                        "application/vnd.dataresource+json": {
                            "schema": {
                                "fields": [
                                    {
                                        "name": "toplam_ciro"
                                    },
                                    {
                                        "name": "toplam_alışveriş_sayısı"
                                    }
                                ]
                            },
                            "data": [
                                {
                                    "toplam_ciro": "1265793,04",
                                    "toplam_alışveriş_sayısı": "2155"
                                }
                            ]
                        },
                        "text/html": [
                            "<table>",
                            "<tr><th>toplam_ciro</th><th>toplam_alışveriş_sayısı</th></tr>",
                            "<tr><td>1265793,04</td><td>2155</td></tr>",
                            "</table>"
                        ]
                    }
                }
            ],
            "execution_count": 1
        }
    ]
}