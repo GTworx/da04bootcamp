{
    "metadata": {
        "kernelspec": {
            "name": "SQL",
            "display_name": "SQL",
            "language": "sql"
        },
        "language_info": {
            "name": "sql",
            "version": ""
        }
    },
    "nbformat_minor": 2,
    "nbformat": 4,
    "cells": [
        {
            "cell_type": "code",
            "source": [
                "SELECT\r\n",
                "    last_order_channel,\r\n",
                "    interested_in_categories_12,\r\n",
                "    COUNT(*) AS purchase_count\r\n",
                "FROM\r\n",
                "    FLO\r\n",
                "WHERE\r\n",
                "    last_order_channel IS NOT NULL\r\n",
                "GROUP BY\r\n",
                "    last_order_channel,\r\n",
                "    interested_in_categories_12\r\n",
                "ORDER BY\r\n",
                "    last_order_channel,\r\n",
                "    purchase_count DESC;"
            ],
            "metadata": {
                "azdata_cell_guid": "f54ea12f-250a-4925-bc43-ca4f5fb39d8d",
                "language": "sql"
            },
            "outputs": [
                {
                    "output_type": "display_data",
                    "data": {
                        "text/html": "(160 rows affected)"
                    },
                    "metadata": {}
                },
                {
                    "output_type": "display_data",
                    "data": {
                        "text/html": "Total execution time: 00:00:00.078"
                    },
                    "metadata": {}
                },
                {
                    "output_type": "execute_result",
                    "metadata": {},
                    "execution_count": 1,
                    "data": {
                        "application/vnd.dataresource+json": {
                            "schema": {
                                "fields": [
                                    {
                                        "name": "last_order_channel"
                                    },
                                    {
                                        "name": "interested_in_categories_12"
                                    },
                                    {
                                        "name": "purchase_count"
                                    }
                                ]
                            },
                            "data": [
                                {
                                    "last_order_channel": "Android App",
                                    "interested_in_categories_12": "[AKTIFSPOR]",
                                    "purchase_count": "1199"
                                },
                                {
                                    "last_order_channel": "Android App",
                                    "interested_in_categories_12": "[]",
                                    "purchase_count": "751"
                                },
                                {
                                    "last_order_channel": "Android App",
                                    "interested_in_categories_12": "[ERKEK]",
                                    "purchase_count": "735"
                                },
                                {
                                    "last_order_channel": "Android App",
                                    "interested_in_categories_12": "[KADIN]",
                                    "purchase_count": "511"
                                },
                                {
                                    "last_order_channel": "Android App",
                                    "interested_in_categories_12": "[ERKEK, AKTIFSPOR]",
                                    "purchase_count": "483"
                                },
                                {
                                    "last_order_channel": "Android App",
                                    "interested_in_categories_12": "[KADIN, AKTIFSPOR]",
                                    "purchase_count": "395"
                                },
                                {
                                    "last_order_channel": "Android App",
                                    "interested_in_categories_12": "[ERKEK, KADIN, AKTIFSPOR]",
                                    "purchase_count": "278"
                                },
                                {
                                    "last_order_channel": "Android App",
                                    "interested_in_categories_12": "[ERKEK, KADIN]",
                                    "purchase_count": "243"
                                },
                                {
                                    "last_order_channel": "Android App",
                                    "interested_in_categories_12": "[COCUK]",
                                    "purchase_count": "209"
                                },
                                {
                                    "last_order_channel": "Android App",
                                    "interested_in_categories_12": "[AKTIFCOCUK]",
                                    "purchase_count": "208"
                                },
                                {
                                    "last_order_channel": "Android App",
                                    "interested_in_categories_12": "[AKTIFCOCUK, COCUK]",
                                    "purchase_count": "128"
                                },
                                {
                                    "last_order_channel": "Android App",
                                    "interested_in_categories_12": "[AKTIFCOCUK, AKTIFSPOR]",
                                    "purchase_count": "119"
                                },
                                {
                                    "last_order_channel": "Android App",
                                    "interested_in_categories_12": "[COCUK, KADIN]",
                                    "purchase_count": "119"
                                },
                                {
                                    "last_order_channel": "Android App",
                                    "interested_in_categories_12": "[COCUK, AKTIFSPOR]",
                                    "purchase_count": "111"
                                },
                                {
                                    "last_order_channel": "Android App",
                                    "interested_in_categories_12": "[AKTIFCOCUK, ERKEK, COCUK, KADIN, AKTIFSPOR]",
                                    "purchase_count": "109"
                                },
                                {
                                    "last_order_channel": "Android App",
                                    "interested_in_categories_12": "[AKTIFCOCUK, COCUK, AKTIFSPOR]",
                                    "purchase_count": "106"
                                },
                                {
                                    "last_order_channel": "Android App",
                                    "interested_in_categories_12": "[ERKEK, COCUK]",
                                    "purchase_count": "96"
                                },
                                {
                                    "last_order_channel": "Android App",
                                    "interested_in_categories_12": "[ERKEK, COCUK, KADIN, AKTIFSPOR]",
                                    "purchase_count": "95"
                                },
                                {
                                    "last_order_channel": "Android App",
                                    "interested_in_categories_12": "[COCUK, KADIN, AKTIFSPOR]",
                                    "purchase_count": "87"
                                },
                                {
                                    "last_order_channel": "Android App",
                                    "interested_in_categories_12": "[AKTIFCOCUK, COCUK, KADIN, AKTIFSPOR]",
                                    "purchase_count": "85"
                                },
                                {
                                    "last_order_channel": "Android App",
                                    "interested_in_categories_12": "[ERKEK, COCUK, KADIN]",
                                    "purchase_count": "74"
                                },
                                {
                                    "last_order_channel": "Android App",
                                    "interested_in_categories_12": "[AKTIFCOCUK, ERKEK, AKTIFSPOR]",
                                    "purchase_count": "70"
                                },
                                {
                                    "last_order_channel": "Android App",
                                    "interested_in_categories_12": "[AKTIFCOCUK, ERKEK]",
                                    "purchase_count": "68"
                                },
                                {
                                    "last_order_channel": "Android App",
                                    "interested_in_categories_12": "[AKTIFCOCUK, KADIN, AKTIFSPOR]",
                                    "purchase_count": "68"
                                },
                                {
                                    "last_order_channel": "Android App",
                                    "interested_in_categories_12": "[ERKEK, COCUK, AKTIFSPOR]",
                                    "purchase_count": "67"
                                },
                                {
                                    "last_order_channel": "Android App",
                                    "interested_in_categories_12": "[AKTIFCOCUK, ERKEK, KADIN, AKTIFSPOR]",
                                    "purchase_count": "64"
                                },
                                {
                                    "last_order_channel": "Android App",
                                    "interested_in_categories_12": "[AKTIFCOCUK, ERKEK, COCUK, AKTIFSPOR]",
                                    "purchase_count": "61"
                                },
                                {
                                    "last_order_channel": "Android App",
                                    "interested_in_categories_12": "[AKTIFCOCUK, COCUK, KADIN]",
                                    "purchase_count": "61"
                                },
                                {
                                    "last_order_channel": "Android App",
                                    "interested_in_categories_12": "[AKTIFCOCUK, KADIN]",
                                    "purchase_count": "53"
                                },
                                {
                                    "last_order_channel": "Android App",
                                    "interested_in_categories_12": "[AKTIFCOCUK, ERKEK, COCUK]",
                                    "purchase_count": "52"
                                },
                                {
                                    "last_order_channel": "Android App",
                                    "interested_in_categories_12": "[AKTIFCOCUK, ERKEK, COCUK, KADIN]",
                                    "purchase_count": "46"
                                },
                                {
                                    "last_order_channel": "Android App",
                                    "interested_in_categories_12": "[AKTIFCOCUK, ERKEK, KADIN]",
                                    "purchase_count": "32"
                                },
                                {
                                    "last_order_channel": "Desktop",
                                    "interested_in_categories_12": "[AKTIFSPOR]",
                                    "purchase_count": "319"
                                },
                                {
                                    "last_order_channel": "Desktop",
                                    "interested_in_categories_12": "[]",
                                    "purchase_count": "224"
                                },
                                {
                                    "last_order_channel": "Desktop",
                                    "interested_in_categories_12": "[KADIN]",
                                    "purchase_count": "184"
                                },
                                {
                                    "last_order_channel": "Desktop",
                                    "interested_in_categories_12": "[ERKEK]",
                                    "purchase_count": "180"
                                },
                                {
                                    "last_order_channel": "Desktop",
                                    "interested_in_categories_12": "[ERKEK, AKTIFSPOR]",
                                    "purchase_count": "122"
                                },
                                {
                                    "last_order_channel": "Desktop",
                                    "interested_in_categories_12": "[KADIN, AKTIFSPOR]",
                                    "purchase_count": "107"
                                },
                                {
                                    "last_order_channel": "Desktop",
                                    "interested_in_categories_12": "[ERKEK, KADIN, AKTIFSPOR]",
                                    "purchase_count": "62"
                                },
                                {
                                    "last_order_channel": "Desktop",
                                    "interested_in_categories_12": "[ERKEK, KADIN]",
                                    "purchase_count": "59"
                                },
                                {
                                    "last_order_channel": "Desktop",
                                    "interested_in_categories_12": "[COCUK]",
                                    "purchase_count": "58"
                                },
                                {
                                    "last_order_channel": "Desktop",
                                    "interested_in_categories_12": "[AKTIFCOCUK]",
                                    "purchase_count": "52"
                                },
                                {
                                    "last_order_channel": "Desktop",
                                    "interested_in_categories_12": "[AKTIFCOCUK, COCUK]",
                                    "purchase_count": "33"
                                },
                                {
                                    "last_order_channel": "Desktop",
                                    "interested_in_categories_12": "[COCUK, KADIN]",
                                    "purchase_count": "31"
                                },
                                {
                                    "last_order_channel": "Desktop",
                                    "interested_in_categories_12": "[COCUK, AKTIFSPOR]",
                                    "purchase_count": "26"
                                },
                                {
                                    "last_order_channel": "Desktop",
                                    "interested_in_categories_12": "[AKTIFCOCUK, AKTIFSPOR]",
                                    "purchase_count": "25"
                                },
                                {
                                    "last_order_channel": "Desktop",
                                    "interested_in_categories_12": "[AKTIFCOCUK, COCUK, KADIN]",
                                    "purchase_count": "17"
                                },
                                {
                                    "last_order_channel": "Desktop",
                                    "interested_in_categories_12": "[COCUK, KADIN, AKTIFSPOR]",
                                    "purchase_count": "17"
                                },
                                {
                                    "last_order_channel": "Desktop",
                                    "interested_in_categories_12": "[ERKEK, COCUK, KADIN]",
                                    "purchase_count": "16"
                                },
                                {
                                    "last_order_channel": "Desktop",
                                    "interested_in_categories_12": "[AKTIFCOCUK, ERKEK, COCUK, KADIN, AKTIFSPOR]",
                                    "purchase_count": "16"
                                },
                                {
                                    "last_order_channel": "Desktop",
                                    "interested_in_categories_12": "[AKTIFCOCUK, ERKEK, AKTIFSPOR]",
                                    "purchase_count": "16"
                                },
                                {
                                    "last_order_channel": "Desktop",
                                    "interested_in_categories_12": "[ERKEK, COCUK]",
                                    "purchase_count": "13"
                                },
                                {
                                    "last_order_channel": "Desktop",
                                    "interested_in_categories_12": "[ERKEK, COCUK, KADIN, AKTIFSPOR]",
                                    "purchase_count": "12"
                                },
                                {
                                    "last_order_channel": "Desktop",
                                    "interested_in_categories_12": "[AKTIFCOCUK, ERKEK, COCUK]",
                                    "purchase_count": "12"
                                },
                                {
                                    "last_order_channel": "Desktop",
                                    "interested_in_categories_12": "[AKTIFCOCUK, COCUK, KADIN, AKTIFSPOR]",
                                    "purchase_count": "12"
                                },
                                {
                                    "last_order_channel": "Desktop",
                                    "interested_in_categories_12": "[AKTIFCOCUK, KADIN]",
                                    "purchase_count": "12"
                                },
                                {
                                    "last_order_channel": "Desktop",
                                    "interested_in_categories_12": "[AKTIFCOCUK, KADIN, AKTIFSPOR]",
                                    "purchase_count": "11"
                                },
                                {
                                    "last_order_channel": "Desktop",
                                    "interested_in_categories_12": "[AKTIFCOCUK, COCUK, AKTIFSPOR]",
                                    "purchase_count": "10"
                                },
                                {
                                    "last_order_channel": "Desktop",
                                    "interested_in_categories_12": "[ERKEK, COCUK, AKTIFSPOR]",
                                    "purchase_count": "10"
                                },
                                {
                                    "last_order_channel": "Desktop",
                                    "interested_in_categories_12": "[AKTIFCOCUK, ERKEK]",
                                    "purchase_count": "8"
                                },
                                {
                                    "last_order_channel": "Desktop",
                                    "interested_in_categories_12": "[AKTIFCOCUK, ERKEK, KADIN]",
                                    "purchase_count": "7"
                                },
                                {
                                    "last_order_channel": "Desktop",
                                    "interested_in_categories_12": "[AKTIFCOCUK, ERKEK, COCUK, KADIN]",
                                    "purchase_count": "6"
                                },
                                {
                                    "last_order_channel": "Desktop",
                                    "interested_in_categories_12": "[AKTIFCOCUK, ERKEK, KADIN, AKTIFSPOR]",
                                    "purchase_count": "5"
                                },
                                {
                                    "last_order_channel": "Desktop",
                                    "interested_in_categories_12": "[AKTIFCOCUK, ERKEK, COCUK, AKTIFSPOR]",
                                    "purchase_count": "4"
                                },
                                {
                                    "last_order_channel": "Ios App",
                                    "interested_in_categories_12": "[AKTIFSPOR]",
                                    "purchase_count": "344"
                                },
                                {
                                    "last_order_channel": "Ios App",
                                    "interested_in_categories_12": "[]",
                                    "purchase_count": "192"
                                },
                                {
                                    "last_order_channel": "Ios App",
                                    "interested_in_categories_12": "[ERKEK]",
                                    "purchase_count": "192"
                                },
                                {
                                    "last_order_channel": "Ios App",
                                    "interested_in_categories_12": "[KADIN]",
                                    "purchase_count": "164"
                                },
                                {
                                    "last_order_channel": "Ios App",
                                    "interested_in_categories_12": "[ERKEK, AKTIFSPOR]",
                                    "purchase_count": "132"
                                },
                                {
                                    "last_order_channel": "Ios App",
                                    "interested_in_categories_12": "[KADIN, AKTIFSPOR]",
                                    "purchase_count": "86"
                                },
                                {
                                    "last_order_channel": "Ios App",
                                    "interested_in_categories_12": "[AKTIFCOCUK]",
                                    "purchase_count": "62"
                                },
                                {
                                    "last_order_channel": "Ios App",
                                    "interested_in_categories_12": "[ERKEK, KADIN, AKTIFSPOR]",
                                    "purchase_count": "59"
                                },
                                {
                                    "last_order_channel": "Ios App",
                                    "interested_in_categories_12": "[ERKEK, KADIN]",
                                    "purchase_count": "53"
                                },
                                {
                                    "last_order_channel": "Ios App",
                                    "interested_in_categories_12": "[COCUK]",
                                    "purchase_count": "47"
                                },
                                {
                                    "last_order_channel": "Ios App",
                                    "interested_in_categories_12": "[AKTIFCOCUK, COCUK]",
                                    "purchase_count": "33"
                                },
                                {
                                    "last_order_channel": "Ios App",
                                    "interested_in_categories_12": "[COCUK, KADIN]",
                                    "purchase_count": "29"
                                },
                                {
                                    "last_order_channel": "Ios App",
                                    "interested_in_categories_12": "[COCUK, AKTIFSPOR]",
                                    "purchase_count": "24"
                                },
                                {
                                    "last_order_channel": "Ios App",
                                    "interested_in_categories_12": "[COCUK, KADIN, AKTIFSPOR]",
                                    "purchase_count": "24"
                                },
                                {
                                    "last_order_channel": "Ios App",
                                    "interested_in_categories_12": "[AKTIFCOCUK, AKTIFSPOR]",
                                    "purchase_count": "22"
                                },
                                {
                                    "last_order_channel": "Ios App",
                                    "interested_in_categories_12": "[ERKEK, COCUK]",
                                    "purchase_count": "19"
                                },
                                {
                                    "last_order_channel": "Ios App",
                                    "interested_in_categories_12": "[ERKEK, COCUK, AKTIFSPOR]",
                                    "purchase_count": "18"
                                },
                                {
                                    "last_order_channel": "Ios App",
                                    "interested_in_categories_12": "[AKTIFCOCUK, KADIN, AKTIFSPOR]",
                                    "purchase_count": "18"
                                },
                                {
                                    "last_order_channel": "Ios App",
                                    "interested_in_categories_12": "[ERKEK, COCUK, KADIN, AKTIFSPOR]",
                                    "purchase_count": "17"
                                },
                                {
                                    "last_order_channel": "Ios App",
                                    "interested_in_categories_12": "[AKTIFCOCUK, ERKEK, COCUK, KADIN, AKTIFSPOR]",
                                    "purchase_count": "16"
                                },
                                {
                                    "last_order_channel": "Ios App",
                                    "interested_in_categories_12": "[AKTIFCOCUK, ERKEK, AKTIFSPOR]",
                                    "purchase_count": "14"
                                },
                                {
                                    "last_order_channel": "Ios App",
                                    "interested_in_categories_12": "[AKTIFCOCUK, ERKEK, COCUK, KADIN]",
                                    "purchase_count": "14"
                                },
                                {
                                    "last_order_channel": "Ios App",
                                    "interested_in_categories_12": "[AKTIFCOCUK, KADIN]",
                                    "purchase_count": "14"
                                },
                                {
                                    "last_order_channel": "Ios App",
                                    "interested_in_categories_12": "[AKTIFCOCUK, ERKEK, COCUK]",
                                    "purchase_count": "13"
                                },
                                {
                                    "last_order_channel": "Ios App",
                                    "interested_in_categories_12": "[AKTIFCOCUK, COCUK, AKTIFSPOR]",
                                    "purchase_count": "13"
                                },
                                {
                                    "last_order_channel": "Ios App",
                                    "interested_in_categories_12": "[AKTIFCOCUK, COCUK, KADIN]",
                                    "purchase_count": "13"
                                },
                                {
                                    "last_order_channel": "Ios App",
                                    "interested_in_categories_12": "[AKTIFCOCUK, ERKEK, KADIN, AKTIFSPOR]",
                                    "purchase_count": "12"
                                },
                                {
                                    "last_order_channel": "Ios App",
                                    "interested_in_categories_12": "[AKTIFCOCUK, ERKEK]",
                                    "purchase_count": "12"
                                },
                                {
                                    "last_order_channel": "Ios App",
                                    "interested_in_categories_12": "[AKTIFCOCUK, COCUK, KADIN, AKTIFSPOR]",
                                    "purchase_count": "11"
                                },
                                {
                                    "last_order_channel": "Ios App",
                                    "interested_in_categories_12": "[ERKEK, COCUK, KADIN]",
                                    "purchase_count": "11"
                                },
                                {
                                    "last_order_channel": "Ios App",
                                    "interested_in_categories_12": "[AKTIFCOCUK, ERKEK, KADIN]",
                                    "purchase_count": "10"
                                },
                                {
                                    "last_order_channel": "Ios App",
                                    "interested_in_categories_12": "[AKTIFCOCUK, ERKEK, COCUK, AKTIFSPOR]",
                                    "purchase_count": "8"
                                },
                                {
                                    "last_order_channel": "Mobile",
                                    "interested_in_categories_12": "[AKTIFSPOR]",
                                    "purchase_count": "628"
                                },
                                {
                                    "last_order_channel": "Mobile",
                                    "interested_in_categories_12": "[]",
                                    "purchase_count": "472"
                                },
                                {
                                    "last_order_channel": "Mobile",
                                    "interested_in_categories_12": "[KADIN]",
                                    "purchase_count": "360"
                                },
                                {
                                    "last_order_channel": "Mobile",
                                    "interested_in_categories_12": "[ERKEK]",
                                    "purchase_count": "316"
                                },
                                {
                                    "last_order_channel": "Mobile",
                                    "interested_in_categories_12": "[KADIN, AKTIFSPOR]",
                                    "purchase_count": "204"
                                },
                                {
                                    "last_order_channel": "Mobile",
                                    "interested_in_categories_12": "[COCUK]",
                                    "purchase_count": "163"
                                },
                                {
                                    "last_order_channel": "Mobile",
                                    "interested_in_categories_12": "[AKTIFCOCUK]",
                                    "purchase_count": "147"
                                },
                                {
                                    "last_order_channel": "Mobile",
                                    "interested_in_categories_12": "[ERKEK, AKTIFSPOR]",
                                    "purchase_count": "130"
                                },
                                {
                                    "last_order_channel": "Mobile",
                                    "interested_in_categories_12": "[ERKEK, KADIN]",
                                    "purchase_count": "97"
                                },
                                {
                                    "last_order_channel": "Mobile",
                                    "interested_in_categories_12": "[ERKEK, KADIN, AKTIFSPOR]",
                                    "purchase_count": "88"
                                },
                                {
                                    "last_order_channel": "Mobile",
                                    "interested_in_categories_12": "[COCUK, KADIN]",
                                    "purchase_count": "60"
                                },
                                {
                                    "last_order_channel": "Mobile",
                                    "interested_in_categories_12": "[AKTIFCOCUK, COCUK]",
                                    "purchase_count": "50"
                                },
                                {
                                    "last_order_channel": "Mobile",
                                    "interested_in_categories_12": "[AKTIFCOCUK, AKTIFSPOR]",
                                    "purchase_count": "49"
                                },
                                {
                                    "last_order_channel": "Mobile",
                                    "interested_in_categories_12": "[COCUK, AKTIFSPOR]",
                                    "purchase_count": "47"
                                },
                                {
                                    "last_order_channel": "Mobile",
                                    "interested_in_categories_12": "[AKTIFCOCUK, KADIN]",
                                    "purchase_count": "40"
                                },
                                {
                                    "last_order_channel": "Mobile",
                                    "interested_in_categories_12": "[AKTIFCOCUK, COCUK, KADIN]",
                                    "purchase_count": "37"
                                },
                                {
                                    "last_order_channel": "Mobile",
                                    "interested_in_categories_12": "[AKTIFCOCUK, COCUK, KADIN, AKTIFSPOR]",
                                    "purchase_count": "31"
                                },
                                {
                                    "last_order_channel": "Mobile",
                                    "interested_in_categories_12": "[COCUK, KADIN, AKTIFSPOR]",
                                    "purchase_count": "29"
                                },
                                {
                                    "last_order_channel": "Mobile",
                                    "interested_in_categories_12": "[AKTIFCOCUK, KADIN, AKTIFSPOR]",
                                    "purchase_count": "28"
                                },
                                {
                                    "last_order_channel": "Mobile",
                                    "interested_in_categories_12": "[ERKEK, COCUK, KADIN]",
                                    "purchase_count": "23"
                                },
                                {
                                    "last_order_channel": "Mobile",
                                    "interested_in_categories_12": "[AKTIFCOCUK, COCUK, AKTIFSPOR]",
                                    "purchase_count": "21"
                                },
                                {
                                    "last_order_channel": "Mobile",
                                    "interested_in_categories_12": "[ERKEK, COCUK, KADIN, AKTIFSPOR]",
                                    "purchase_count": "20"
                                },
                                {
                                    "last_order_channel": "Mobile",
                                    "interested_in_categories_12": "[ERKEK, COCUK]",
                                    "purchase_count": "18"
                                },
                                {
                                    "last_order_channel": "Mobile",
                                    "interested_in_categories_12": "[AKTIFCOCUK, ERKEK, KADIN, AKTIFSPOR]",
                                    "purchase_count": "15"
                                },
                                {
                                    "last_order_channel": "Mobile",
                                    "interested_in_categories_12": "[AKTIFCOCUK, ERKEK]",
                                    "purchase_count": "15"
                                },
                                {
                                    "last_order_channel": "Mobile",
                                    "interested_in_categories_12": "[AKTIFCOCUK, ERKEK, COCUK, KADIN, AKTIFSPOR]",
                                    "purchase_count": "15"
                                },
                                {
                                    "last_order_channel": "Mobile",
                                    "interested_in_categories_12": "[ERKEK, COCUK, AKTIFSPOR]",
                                    "purchase_count": "15"
                                },
                                {
                                    "last_order_channel": "Mobile",
                                    "interested_in_categories_12": "[AKTIFCOCUK, ERKEK, AKTIFSPOR]",
                                    "purchase_count": "14"
                                },
                                {
                                    "last_order_channel": "Mobile",
                                    "interested_in_categories_12": "[AKTIFCOCUK, ERKEK, COCUK]",
                                    "purchase_count": "12"
                                },
                                {
                                    "last_order_channel": "Mobile",
                                    "interested_in_categories_12": "[AKTIFCOCUK, ERKEK, COCUK, KADIN]",
                                    "purchase_count": "12"
                                },
                                {
                                    "last_order_channel": "Mobile",
                                    "interested_in_categories_12": "[AKTIFCOCUK, ERKEK, COCUK, AKTIFSPOR]",
                                    "purchase_count": "10"
                                },
                                {
                                    "last_order_channel": "Mobile",
                                    "interested_in_categories_12": "[AKTIFCOCUK, ERKEK, KADIN]",
                                    "purchase_count": "6"
                                },
                                {
                                    "last_order_channel": "Offline",
                                    "interested_in_categories_12": "[AKTIFSPOR]",
                                    "purchase_count": "974"
                                },
                                {
                                    "last_order_channel": "Offline",
                                    "interested_in_categories_12": "[KADIN]",
                                    "purchase_count": "939"
                                },
                                {
                                    "last_order_channel": "Offline",
                                    "interested_in_categories_12": "[KADIN, AKTIFSPOR]",
                                    "purchase_count": "560"
                                },
                                {
                                    "last_order_channel": "Offline",
                                    "interested_in_categories_12": "[ERKEK]",
                                    "purchase_count": "550"
                                },
                                {
                                    "last_order_channel": "Offline",
                                    "interested_in_categories_12": "[]",
                                    "purchase_count": "496"
                                },
                                {
                                    "last_order_channel": "Offline",
                                    "interested_in_categories_12": "[ERKEK, KADIN]",
                                    "purchase_count": "396"
                                },
                                {
                                    "last_order_channel": "Offline",
                                    "interested_in_categories_12": "[COCUK]",
                                    "purchase_count": "359"
                                },
                                {
                                    "last_order_channel": "Offline",
                                    "interested_in_categories_12": "[ERKEK, AKTIFSPOR]",
                                    "purchase_count": "311"
                                },
                                {
                                    "last_order_channel": "Offline",
                                    "interested_in_categories_12": "[ERKEK, KADIN, AKTIFSPOR]",
                                    "purchase_count": "288"
                                },
                                {
                                    "last_order_channel": "Offline",
                                    "interested_in_categories_12": "[AKTIFCOCUK]",
                                    "purchase_count": "210"
                                },
                                {
                                    "last_order_channel": "Offline",
                                    "interested_in_categories_12": "[COCUK, KADIN]",
                                    "purchase_count": "204"
                                },
                                {
                                    "last_order_channel": "Offline",
                                    "interested_in_categories_12": "[COCUK, AKTIFSPOR]",
                                    "purchase_count": "109"
                                },
                                {
                                    "last_order_channel": "Offline",
                                    "interested_in_categories_12": "[AKTIFCOCUK, COCUK]",
                                    "purchase_count": "105"
                                },
                                {
                                    "last_order_channel": "Offline",
                                    "interested_in_categories_12": "[AKTIFCOCUK, AKTIFSPOR]",
                                    "purchase_count": "102"
                                },
                                {
                                    "last_order_channel": "Offline",
                                    "interested_in_categories_12": "[AKTIFCOCUK, KADIN]",
                                    "purchase_count": "91"
                                },
                                {
                                    "last_order_channel": "Offline",
                                    "interested_in_categories_12": "[AKTIFCOCUK, COCUK, KADIN]",
                                    "purchase_count": "85"
                                },
                                {
                                    "last_order_channel": "Offline",
                                    "interested_in_categories_12": "[COCUK, KADIN, AKTIFSPOR]",
                                    "purchase_count": "84"
                                },
                                {
                                    "last_order_channel": "Offline",
                                    "interested_in_categories_12": "[ERKEK, COCUK, KADIN]",
                                    "purchase_count": "80"
                                },
                                {
                                    "last_order_channel": "Offline",
                                    "interested_in_categories_12": "[ERKEK, COCUK, KADIN, AKTIFSPOR]",
                                    "purchase_count": "69"
                                },
                                {
                                    "last_order_channel": "Offline",
                                    "interested_in_categories_12": "[ERKEK, COCUK]",
                                    "purchase_count": "69"
                                },
                                {
                                    "last_order_channel": "Offline",
                                    "interested_in_categories_12": "[AKTIFCOCUK, ERKEK, COCUK, KADIN, AKTIFSPOR]",
                                    "purchase_count": "67"
                                },
                                {
                                    "last_order_channel": "Offline",
                                    "interested_in_categories_12": "[AKTIFCOCUK, COCUK, KADIN, AKTIFSPOR]",
                                    "purchase_count": "64"
                                },
                                {
                                    "last_order_channel": "Offline",
                                    "interested_in_categories_12": "[AKTIFCOCUK, KADIN, AKTIFSPOR]",
                                    "purchase_count": "59"
                                },
                                {
                                    "last_order_channel": "Offline",
                                    "interested_in_categories_12": "[AKTIFCOCUK, COCUK, AKTIFSPOR]",
                                    "purchase_count": "52"
                                },
                                {
                                    "last_order_channel": "Offline",
                                    "interested_in_categories_12": "[AKTIFCOCUK, ERKEK]",
                                    "purchase_count": "49"
                                },
                                {
                                    "last_order_channel": "Offline",
                                    "interested_in_categories_12": "[ERKEK, COCUK, AKTIFSPOR]",
                                    "purchase_count": "46"
                                },
                                {
                                    "last_order_channel": "Offline",
                                    "interested_in_categories_12": "[AKTIFCOCUK, ERKEK, COCUK, KADIN]",
                                    "purchase_count": "37"
                                },
                                {
                                    "last_order_channel": "Offline",
                                    "interested_in_categories_12": "[AKTIFCOCUK, ERKEK, KADIN, AKTIFSPOR]",
                                    "purchase_count": "36"
                                },
                                {
                                    "last_order_channel": "Offline",
                                    "interested_in_categories_12": "[AKTIFCOCUK, ERKEK, KADIN]",
                                    "purchase_count": "34"
                                },
                                {
                                    "last_order_channel": "Offline",
                                    "interested_in_categories_12": "[AKTIFCOCUK, ERKEK, COCUK]",
                                    "purchase_count": "33"
                                },
                                {
                                    "last_order_channel": "Offline",
                                    "interested_in_categories_12": "[AKTIFCOCUK, ERKEK, AKTIFSPOR]",
                                    "purchase_count": "28"
                                },
                                {
                                    "last_order_channel": "Offline",
                                    "interested_in_categories_12": "[AKTIFCOCUK, ERKEK, COCUK, AKTIFSPOR]",
                                    "purchase_count": "22"
                                }
                            ]
                        },
                        "text/html": [
                            "<table>",
                            "<tr><th>last_order_channel</th><th>interested_in_categories_12</th><th>purchase_count</th></tr>",
                            "<tr><td>Android App</td><td>[AKTIFSPOR]</td><td>1199</td></tr>",
                            "<tr><td>Android App</td><td>[]</td><td>751</td></tr>",
                            "<tr><td>Android App</td><td>[ERKEK]</td><td>735</td></tr>",
                            "<tr><td>Android App</td><td>[KADIN]</td><td>511</td></tr>",
                            "<tr><td>Android App</td><td>[ERKEK, AKTIFSPOR]</td><td>483</td></tr>",
                            "<tr><td>Android App</td><td>[KADIN, AKTIFSPOR]</td><td>395</td></tr>",
                            "<tr><td>Android App</td><td>[ERKEK, KADIN, AKTIFSPOR]</td><td>278</td></tr>",
                            "<tr><td>Android App</td><td>[ERKEK, KADIN]</td><td>243</td></tr>",
                            "<tr><td>Android App</td><td>[COCUK]</td><td>209</td></tr>",
                            "<tr><td>Android App</td><td>[AKTIFCOCUK]</td><td>208</td></tr>",
                            "<tr><td>Android App</td><td>[AKTIFCOCUK, COCUK]</td><td>128</td></tr>",
                            "<tr><td>Android App</td><td>[AKTIFCOCUK, AKTIFSPOR]</td><td>119</td></tr>",
                            "<tr><td>Android App</td><td>[COCUK, KADIN]</td><td>119</td></tr>",
                            "<tr><td>Android App</td><td>[COCUK, AKTIFSPOR]</td><td>111</td></tr>",
                            "<tr><td>Android App</td><td>[AKTIFCOCUK, ERKEK, COCUK, KADIN, AKTIFSPOR]</td><td>109</td></tr>",
                            "<tr><td>Android App</td><td>[AKTIFCOCUK, COCUK, AKTIFSPOR]</td><td>106</td></tr>",
                            "<tr><td>Android App</td><td>[ERKEK, COCUK]</td><td>96</td></tr>",
                            "<tr><td>Android App</td><td>[ERKEK, COCUK, KADIN, AKTIFSPOR]</td><td>95</td></tr>",
                            "<tr><td>Android App</td><td>[COCUK, KADIN, AKTIFSPOR]</td><td>87</td></tr>",
                            "<tr><td>Android App</td><td>[AKTIFCOCUK, COCUK, KADIN, AKTIFSPOR]</td><td>85</td></tr>",
                            "<tr><td>Android App</td><td>[ERKEK, COCUK, KADIN]</td><td>74</td></tr>",
                            "<tr><td>Android App</td><td>[AKTIFCOCUK, ERKEK, AKTIFSPOR]</td><td>70</td></tr>",
                            "<tr><td>Android App</td><td>[AKTIFCOCUK, ERKEK]</td><td>68</td></tr>",
                            "<tr><td>Android App</td><td>[AKTIFCOCUK, KADIN, AKTIFSPOR]</td><td>68</td></tr>",
                            "<tr><td>Android App</td><td>[ERKEK, COCUK, AKTIFSPOR]</td><td>67</td></tr>",
                            "<tr><td>Android App</td><td>[AKTIFCOCUK, ERKEK, KADIN, AKTIFSPOR]</td><td>64</td></tr>",
                            "<tr><td>Android App</td><td>[AKTIFCOCUK, ERKEK, COCUK, AKTIFSPOR]</td><td>61</td></tr>",
                            "<tr><td>Android App</td><td>[AKTIFCOCUK, COCUK, KADIN]</td><td>61</td></tr>",
                            "<tr><td>Android App</td><td>[AKTIFCOCUK, KADIN]</td><td>53</td></tr>",
                            "<tr><td>Android App</td><td>[AKTIFCOCUK, ERKEK, COCUK]</td><td>52</td></tr>",
                            "<tr><td>Android App</td><td>[AKTIFCOCUK, ERKEK, COCUK, KADIN]</td><td>46</td></tr>",
                            "<tr><td>Android App</td><td>[AKTIFCOCUK, ERKEK, KADIN]</td><td>32</td></tr>",
                            "<tr><td>Desktop</td><td>[AKTIFSPOR]</td><td>319</td></tr>",
                            "<tr><td>Desktop</td><td>[]</td><td>224</td></tr>",
                            "<tr><td>Desktop</td><td>[KADIN]</td><td>184</td></tr>",
                            "<tr><td>Desktop</td><td>[ERKEK]</td><td>180</td></tr>",
                            "<tr><td>Desktop</td><td>[ERKEK, AKTIFSPOR]</td><td>122</td></tr>",
                            "<tr><td>Desktop</td><td>[KADIN, AKTIFSPOR]</td><td>107</td></tr>",
                            "<tr><td>Desktop</td><td>[ERKEK, KADIN, AKTIFSPOR]</td><td>62</td></tr>",
                            "<tr><td>Desktop</td><td>[ERKEK, KADIN]</td><td>59</td></tr>",
                            "<tr><td>Desktop</td><td>[COCUK]</td><td>58</td></tr>",
                            "<tr><td>Desktop</td><td>[AKTIFCOCUK]</td><td>52</td></tr>",
                            "<tr><td>Desktop</td><td>[AKTIFCOCUK, COCUK]</td><td>33</td></tr>",
                            "<tr><td>Desktop</td><td>[COCUK, KADIN]</td><td>31</td></tr>",
                            "<tr><td>Desktop</td><td>[COCUK, AKTIFSPOR]</td><td>26</td></tr>",
                            "<tr><td>Desktop</td><td>[AKTIFCOCUK, AKTIFSPOR]</td><td>25</td></tr>",
                            "<tr><td>Desktop</td><td>[AKTIFCOCUK, COCUK, KADIN]</td><td>17</td></tr>",
                            "<tr><td>Desktop</td><td>[COCUK, KADIN, AKTIFSPOR]</td><td>17</td></tr>",
                            "<tr><td>Desktop</td><td>[ERKEK, COCUK, KADIN]</td><td>16</td></tr>",
                            "<tr><td>Desktop</td><td>[AKTIFCOCUK, ERKEK, COCUK, KADIN, AKTIFSPOR]</td><td>16</td></tr>",
                            "<tr><td>Desktop</td><td>[AKTIFCOCUK, ERKEK, AKTIFSPOR]</td><td>16</td></tr>",
                            "<tr><td>Desktop</td><td>[ERKEK, COCUK]</td><td>13</td></tr>",
                            "<tr><td>Desktop</td><td>[ERKEK, COCUK, KADIN, AKTIFSPOR]</td><td>12</td></tr>",
                            "<tr><td>Desktop</td><td>[AKTIFCOCUK, ERKEK, COCUK]</td><td>12</td></tr>",
                            "<tr><td>Desktop</td><td>[AKTIFCOCUK, COCUK, KADIN, AKTIFSPOR]</td><td>12</td></tr>",
                            "<tr><td>Desktop</td><td>[AKTIFCOCUK, KADIN]</td><td>12</td></tr>",
                            "<tr><td>Desktop</td><td>[AKTIFCOCUK, KADIN, AKTIFSPOR]</td><td>11</td></tr>",
                            "<tr><td>Desktop</td><td>[AKTIFCOCUK, COCUK, AKTIFSPOR]</td><td>10</td></tr>",
                            "<tr><td>Desktop</td><td>[ERKEK, COCUK, AKTIFSPOR]</td><td>10</td></tr>",
                            "<tr><td>Desktop</td><td>[AKTIFCOCUK, ERKEK]</td><td>8</td></tr>",
                            "<tr><td>Desktop</td><td>[AKTIFCOCUK, ERKEK, KADIN]</td><td>7</td></tr>",
                            "<tr><td>Desktop</td><td>[AKTIFCOCUK, ERKEK, COCUK, KADIN]</td><td>6</td></tr>",
                            "<tr><td>Desktop</td><td>[AKTIFCOCUK, ERKEK, KADIN, AKTIFSPOR]</td><td>5</td></tr>",
                            "<tr><td>Desktop</td><td>[AKTIFCOCUK, ERKEK, COCUK, AKTIFSPOR]</td><td>4</td></tr>",
                            "<tr><td>Ios App</td><td>[AKTIFSPOR]</td><td>344</td></tr>",
                            "<tr><td>Ios App</td><td>[]</td><td>192</td></tr>",
                            "<tr><td>Ios App</td><td>[ERKEK]</td><td>192</td></tr>",
                            "<tr><td>Ios App</td><td>[KADIN]</td><td>164</td></tr>",
                            "<tr><td>Ios App</td><td>[ERKEK, AKTIFSPOR]</td><td>132</td></tr>",
                            "<tr><td>Ios App</td><td>[KADIN, AKTIFSPOR]</td><td>86</td></tr>",
                            "<tr><td>Ios App</td><td>[AKTIFCOCUK]</td><td>62</td></tr>",
                            "<tr><td>Ios App</td><td>[ERKEK, KADIN, AKTIFSPOR]</td><td>59</td></tr>",
                            "<tr><td>Ios App</td><td>[ERKEK, KADIN]</td><td>53</td></tr>",
                            "<tr><td>Ios App</td><td>[COCUK]</td><td>47</td></tr>",
                            "<tr><td>Ios App</td><td>[AKTIFCOCUK, COCUK]</td><td>33</td></tr>",
                            "<tr><td>Ios App</td><td>[COCUK, KADIN]</td><td>29</td></tr>",
                            "<tr><td>Ios App</td><td>[COCUK, AKTIFSPOR]</td><td>24</td></tr>",
                            "<tr><td>Ios App</td><td>[COCUK, KADIN, AKTIFSPOR]</td><td>24</td></tr>",
                            "<tr><td>Ios App</td><td>[AKTIFCOCUK, AKTIFSPOR]</td><td>22</td></tr>",
                            "<tr><td>Ios App</td><td>[ERKEK, COCUK]</td><td>19</td></tr>",
                            "<tr><td>Ios App</td><td>[ERKEK, COCUK, AKTIFSPOR]</td><td>18</td></tr>",
                            "<tr><td>Ios App</td><td>[AKTIFCOCUK, KADIN, AKTIFSPOR]</td><td>18</td></tr>",
                            "<tr><td>Ios App</td><td>[ERKEK, COCUK, KADIN, AKTIFSPOR]</td><td>17</td></tr>",
                            "<tr><td>Ios App</td><td>[AKTIFCOCUK, ERKEK, COCUK, KADIN, AKTIFSPOR]</td><td>16</td></tr>",
                            "<tr><td>Ios App</td><td>[AKTIFCOCUK, ERKEK, AKTIFSPOR]</td><td>14</td></tr>",
                            "<tr><td>Ios App</td><td>[AKTIFCOCUK, ERKEK, COCUK, KADIN]</td><td>14</td></tr>",
                            "<tr><td>Ios App</td><td>[AKTIFCOCUK, KADIN]</td><td>14</td></tr>",
                            "<tr><td>Ios App</td><td>[AKTIFCOCUK, ERKEK, COCUK]</td><td>13</td></tr>",
                            "<tr><td>Ios App</td><td>[AKTIFCOCUK, COCUK, AKTIFSPOR]</td><td>13</td></tr>",
                            "<tr><td>Ios App</td><td>[AKTIFCOCUK, COCUK, KADIN]</td><td>13</td></tr>",
                            "<tr><td>Ios App</td><td>[AKTIFCOCUK, ERKEK, KADIN, AKTIFSPOR]</td><td>12</td></tr>",
                            "<tr><td>Ios App</td><td>[AKTIFCOCUK, ERKEK]</td><td>12</td></tr>",
                            "<tr><td>Ios App</td><td>[AKTIFCOCUK, COCUK, KADIN, AKTIFSPOR]</td><td>11</td></tr>",
                            "<tr><td>Ios App</td><td>[ERKEK, COCUK, KADIN]</td><td>11</td></tr>",
                            "<tr><td>Ios App</td><td>[AKTIFCOCUK, ERKEK, KADIN]</td><td>10</td></tr>",
                            "<tr><td>Ios App</td><td>[AKTIFCOCUK, ERKEK, COCUK, AKTIFSPOR]</td><td>8</td></tr>",
                            "<tr><td>Mobile</td><td>[AKTIFSPOR]</td><td>628</td></tr>",
                            "<tr><td>Mobile</td><td>[]</td><td>472</td></tr>",
                            "<tr><td>Mobile</td><td>[KADIN]</td><td>360</td></tr>",
                            "<tr><td>Mobile</td><td>[ERKEK]</td><td>316</td></tr>",
                            "<tr><td>Mobile</td><td>[KADIN, AKTIFSPOR]</td><td>204</td></tr>",
                            "<tr><td>Mobile</td><td>[COCUK]</td><td>163</td></tr>",
                            "<tr><td>Mobile</td><td>[AKTIFCOCUK]</td><td>147</td></tr>",
                            "<tr><td>Mobile</td><td>[ERKEK, AKTIFSPOR]</td><td>130</td></tr>",
                            "<tr><td>Mobile</td><td>[ERKEK, KADIN]</td><td>97</td></tr>",
                            "<tr><td>Mobile</td><td>[ERKEK, KADIN, AKTIFSPOR]</td><td>88</td></tr>",
                            "<tr><td>Mobile</td><td>[COCUK, KADIN]</td><td>60</td></tr>",
                            "<tr><td>Mobile</td><td>[AKTIFCOCUK, COCUK]</td><td>50</td></tr>",
                            "<tr><td>Mobile</td><td>[AKTIFCOCUK, AKTIFSPOR]</td><td>49</td></tr>",
                            "<tr><td>Mobile</td><td>[COCUK, AKTIFSPOR]</td><td>47</td></tr>",
                            "<tr><td>Mobile</td><td>[AKTIFCOCUK, KADIN]</td><td>40</td></tr>",
                            "<tr><td>Mobile</td><td>[AKTIFCOCUK, COCUK, KADIN]</td><td>37</td></tr>",
                            "<tr><td>Mobile</td><td>[AKTIFCOCUK, COCUK, KADIN, AKTIFSPOR]</td><td>31</td></tr>",
                            "<tr><td>Mobile</td><td>[COCUK, KADIN, AKTIFSPOR]</td><td>29</td></tr>",
                            "<tr><td>Mobile</td><td>[AKTIFCOCUK, KADIN, AKTIFSPOR]</td><td>28</td></tr>",
                            "<tr><td>Mobile</td><td>[ERKEK, COCUK, KADIN]</td><td>23</td></tr>",
                            "<tr><td>Mobile</td><td>[AKTIFCOCUK, COCUK, AKTIFSPOR]</td><td>21</td></tr>",
                            "<tr><td>Mobile</td><td>[ERKEK, COCUK, KADIN, AKTIFSPOR]</td><td>20</td></tr>",
                            "<tr><td>Mobile</td><td>[ERKEK, COCUK]</td><td>18</td></tr>",
                            "<tr><td>Mobile</td><td>[AKTIFCOCUK, ERKEK, KADIN, AKTIFSPOR]</td><td>15</td></tr>",
                            "<tr><td>Mobile</td><td>[AKTIFCOCUK, ERKEK]</td><td>15</td></tr>",
                            "<tr><td>Mobile</td><td>[AKTIFCOCUK, ERKEK, COCUK, KADIN, AKTIFSPOR]</td><td>15</td></tr>",
                            "<tr><td>Mobile</td><td>[ERKEK, COCUK, AKTIFSPOR]</td><td>15</td></tr>",
                            "<tr><td>Mobile</td><td>[AKTIFCOCUK, ERKEK, AKTIFSPOR]</td><td>14</td></tr>",
                            "<tr><td>Mobile</td><td>[AKTIFCOCUK, ERKEK, COCUK]</td><td>12</td></tr>",
                            "<tr><td>Mobile</td><td>[AKTIFCOCUK, ERKEK, COCUK, KADIN]</td><td>12</td></tr>",
                            "<tr><td>Mobile</td><td>[AKTIFCOCUK, ERKEK, COCUK, AKTIFSPOR]</td><td>10</td></tr>",
                            "<tr><td>Mobile</td><td>[AKTIFCOCUK, ERKEK, KADIN]</td><td>6</td></tr>",
                            "<tr><td>Offline</td><td>[AKTIFSPOR]</td><td>974</td></tr>",
                            "<tr><td>Offline</td><td>[KADIN]</td><td>939</td></tr>",
                            "<tr><td>Offline</td><td>[KADIN, AKTIFSPOR]</td><td>560</td></tr>",
                            "<tr><td>Offline</td><td>[ERKEK]</td><td>550</td></tr>",
                            "<tr><td>Offline</td><td>[]</td><td>496</td></tr>",
                            "<tr><td>Offline</td><td>[ERKEK, KADIN]</td><td>396</td></tr>",
                            "<tr><td>Offline</td><td>[COCUK]</td><td>359</td></tr>",
                            "<tr><td>Offline</td><td>[ERKEK, AKTIFSPOR]</td><td>311</td></tr>",
                            "<tr><td>Offline</td><td>[ERKEK, KADIN, AKTIFSPOR]</td><td>288</td></tr>",
                            "<tr><td>Offline</td><td>[AKTIFCOCUK]</td><td>210</td></tr>",
                            "<tr><td>Offline</td><td>[COCUK, KADIN]</td><td>204</td></tr>",
                            "<tr><td>Offline</td><td>[COCUK, AKTIFSPOR]</td><td>109</td></tr>",
                            "<tr><td>Offline</td><td>[AKTIFCOCUK, COCUK]</td><td>105</td></tr>",
                            "<tr><td>Offline</td><td>[AKTIFCOCUK, AKTIFSPOR]</td><td>102</td></tr>",
                            "<tr><td>Offline</td><td>[AKTIFCOCUK, KADIN]</td><td>91</td></tr>",
                            "<tr><td>Offline</td><td>[AKTIFCOCUK, COCUK, KADIN]</td><td>85</td></tr>",
                            "<tr><td>Offline</td><td>[COCUK, KADIN, AKTIFSPOR]</td><td>84</td></tr>",
                            "<tr><td>Offline</td><td>[ERKEK, COCUK, KADIN]</td><td>80</td></tr>",
                            "<tr><td>Offline</td><td>[ERKEK, COCUK, KADIN, AKTIFSPOR]</td><td>69</td></tr>",
                            "<tr><td>Offline</td><td>[ERKEK, COCUK]</td><td>69</td></tr>",
                            "<tr><td>Offline</td><td>[AKTIFCOCUK, ERKEK, COCUK, KADIN, AKTIFSPOR]</td><td>67</td></tr>",
                            "<tr><td>Offline</td><td>[AKTIFCOCUK, COCUK, KADIN, AKTIFSPOR]</td><td>64</td></tr>",
                            "<tr><td>Offline</td><td>[AKTIFCOCUK, KADIN, AKTIFSPOR]</td><td>59</td></tr>",
                            "<tr><td>Offline</td><td>[AKTIFCOCUK, COCUK, AKTIFSPOR]</td><td>52</td></tr>",
                            "<tr><td>Offline</td><td>[AKTIFCOCUK, ERKEK]</td><td>49</td></tr>",
                            "<tr><td>Offline</td><td>[ERKEK, COCUK, AKTIFSPOR]</td><td>46</td></tr>",
                            "<tr><td>Offline</td><td>[AKTIFCOCUK, ERKEK, COCUK, KADIN]</td><td>37</td></tr>",
                            "<tr><td>Offline</td><td>[AKTIFCOCUK, ERKEK, KADIN, AKTIFSPOR]</td><td>36</td></tr>",
                            "<tr><td>Offline</td><td>[AKTIFCOCUK, ERKEK, KADIN]</td><td>34</td></tr>",
                            "<tr><td>Offline</td><td>[AKTIFCOCUK, ERKEK, COCUK]</td><td>33</td></tr>",
                            "<tr><td>Offline</td><td>[AKTIFCOCUK, ERKEK, AKTIFSPOR]</td><td>28</td></tr>",
                            "<tr><td>Offline</td><td>[AKTIFCOCUK, ERKEK, COCUK, AKTIFSPOR]</td><td>22</td></tr>",
                            "</table>"
                        ]
                    }
                }
            ],
            "execution_count": 1
        }
    ]
}